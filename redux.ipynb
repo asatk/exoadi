{
 "cells": [
  {
   "cell_type": "code",
   "execution_count": 11,
   "id": "4fca549e",
   "metadata": {},
   "outputs": [],
   "source": [
    "from astropy.io import ascii\n",
    "from astropy.io import fits\n",
    "import numpy as np\n",
    "from matplotlib import pyplot as plt\n",
    "from scipy import ndimage"
   ]
  },
  {
   "cell_type": "code",
   "execution_count": 12,
   "id": "3e1fd413",
   "metadata": {},
   "outputs": [],
   "source": [
    "datadirpath = \"./data/005_center_multishift/images/\"\n",
    "datafilenum = 52\n",
    "datafilename = \"wl_channel_%05i.fits\"%(datafilenum)\n",
    "datafilepath = datadirpath + datafilename\n",
    "\n",
    "outdirname = \"out/\"\n",
    "outmedpsffilename = \"data_%05i_medpsf.fits\"%(datafilenum)\n",
    "outrotfilename = \"data_%05i_rot.fits\"%(datafilenum)\n",
    "outsumfilename = \"data_%05i_sum.fits\"%(datafilenum)\n",
    "outmeanfilename = \"data_%05i_mean.fits\"%(datafilenum)\n",
    "\n",
    "outmedpsffilepath = outdirname + outmedpsffilename\n",
    "outrotfilepath = outdirname + outrotfilename\n",
    "outsumfilepath = outdirname + outsumfilename\n",
    "outmeanfilepath = outdirname + outmeanfilename\n",
    "\n",
    "anglesfilepath = \"data/parangs_bads_removed.txt\"\n"
   ]
  },
  {
   "cell_type": "code",
   "execution_count": 13,
   "id": "a77f09c4",
   "metadata": {},
   "outputs": [],
   "source": [
    "def savedata(data, path, overwrite=True):\n",
    "    hdul = fits.HDUList()\n",
    "    hdul.append(fits.PrimaryHDU())\n",
    "    hdul.append(fits.ImageHDU(data=data))\n",
    "    hdul.writeto(path, overwrite=overwrite)"
   ]
  },
  {
   "cell_type": "code",
   "execution_count": 14,
   "id": "c4214fa8",
   "metadata": {},
   "outputs": [],
   "source": [
    "anglestable = ascii.read(anglesfilepath, format=\"no_header\", data_start=0)\n",
    "angles = anglestable['col1'].data"
   ]
  },
  {
   "cell_type": "code",
   "execution_count": 15,
   "id": "235c9cee",
   "metadata": {},
   "outputs": [],
   "source": [
    "with fits.open(datafilepath) as datahdu:\n",
    "    data = datahdu[0].data"
   ]
  },
  {
   "cell_type": "code",
   "execution_count": 16,
   "id": "5d930e09",
   "metadata": {},
   "outputs": [],
   "source": [
    "medpsf = np.median(data, axis=0)\n",
    "savedata(medpsf, outmedpsffilepath)"
   ]
  },
  {
   "cell_type": "code",
   "execution_count": 17,
   "id": "73a92873",
   "metadata": {},
   "outputs": [],
   "source": [
    "datasub = np.subtract(data, medpsf)"
   ]
  },
  {
   "cell_type": "code",
   "execution_count": 18,
   "id": "c8adf270",
   "metadata": {},
   "outputs": [],
   "source": [
    "assert len(angles) == len(datasub)\n",
    "datarot = np.empty(shape=datasub.shape)\n",
    "for i in range(len(angles)):\n",
    "    datarot[i] = ndimage.rotate(datasub[i], -1 * angles[i], reshape=False)\n",
    "\n",
    "savedata(datarot, outrotfilepath)"
   ]
  },
  {
   "cell_type": "code",
   "execution_count": null,
   "id": "8e4657d0",
   "metadata": {},
   "outputs": [],
   "source": [
    "datasum = np.sum(datarot, axis=0)\n",
    "savedata(datasum, outsumfilepath)"
   ]
  },
  {
   "cell_type": "code",
   "execution_count": null,
   "id": "4ade4047",
   "metadata": {},
   "outputs": [],
   "source": [
    "datamean = np.mean(datarot, axis=0)\n",
    "savedata(datamean, outmeanfilepath)"
   ]
  },
  {
   "cell_type": "code",
   "execution_count": null,
   "id": "ca17d3cd",
   "metadata": {},
   "outputs": [],
   "source": []
  }
 ],
 "metadata": {
  "kernelspec": {
   "display_name": "Python 3",
   "language": "python",
   "name": "python3"
  },
  "language_info": {
   "codemirror_mode": {
    "name": "ipython",
    "version": 3
   },
   "file_extension": ".py",
   "mimetype": "text/x-python",
   "name": "python",
   "nbconvert_exporter": "python",
   "pygments_lexer": "ipython3",
   "version": "3.9.6"
  }
 },
 "nbformat": 4,
 "nbformat_minor": 5
}
