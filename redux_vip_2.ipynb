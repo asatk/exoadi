{
 "cells": [
  {
   "cell_type": "code",
   "execution_count": null,
   "metadata": {},
   "outputs": [],
   "source": [
    "from datetime import datetime\n",
    "from matplotlib import pyplot as plt\n",
    "import multiprocessing as mp\n",
    "import numpy as np\n",
    "\n",
    "import vip_hci as vip\n",
    "from hciplot import plot_frames, plot_cubes\n",
    "\n",
    "from vip_hci.fm import normalize_psf\n",
    "from vip_hci.psfsub import median_sub, pca\n",
    "from vip_hci.preproc import find_scal_vector, frame_rescaling\n",
    "from vip_hci.fits import open_fits\n",
    "from vip_hci.metrics import significance, snr, snrmap\n",
    "from vip_hci.var import mask_circle\n",
    "\n",
    "import analysis\n",
    "import redux_utils"
   ]
  },
  {
   "cell_type": "code",
   "execution_count": null,
   "metadata": {},
   "outputs": [],
   "source": [
    "data_dir = \"./data/005_center_multishift/\"\n",
    "data_name = \"wl_channel_%05i.fits\"\n",
    "datapath = data_dir + data_name\n",
    "channel_min = 55\n",
    "channel_max = 64\n",
    "channel_nums = np.arange(channel_min, channel_max + 1)\n",
    "wavelengths = np.linspace(3.59, 3.99, 30, endpoint=True)[10:20]"
   ]
  },
  {
   "cell_type": "code",
   "execution_count": null,
   "metadata": {},
   "outputs": [],
   "source": [
    "cube_list = []\n",
    "for channel_num in channel_nums:\n",
    "    cube_list.append(open_fits(datapath%channel_num, verbose=False))\n",
    "\n",
    "cube = np.array(cube_list)\n",
    "print(cube.shape)\n",
    "n_channels = cube.shape[0]\n",
    "n_frames = cube.shape[1]"
   ]
  },
  {
   "cell_type": "code",
   "execution_count": null,
   "metadata": {},
   "outputs": [],
   "source": [
    "# model psf - take median along time axis - beware of companion smearing\n",
    "psf = np.median(cube[:,::redux_utils.everynthframe,:,:], axis=1)"
   ]
  },
  {
   "cell_type": "code",
   "execution_count": null,
   "metadata": {},
   "outputs": [],
   "source": [
    "# get flux and fwhm of host star in each channel\n",
    "psfn, flux_st, fwhm = normalize_psf(psf, fwhm=\"fit\", full_output=True, debug=False)"
   ]
  },
  {
   "cell_type": "code",
   "execution_count": null,
   "metadata": {},
   "outputs": [],
   "source": [
    "#pixel diameter of star\n",
    "mask_rad = 10\n",
    "mask = mask_circle(np.ones_like(cube[0,0]), mask_rad)\n",
    "\n",
    "# opt_scals = np.zeros((n_frames, n_channels))\n",
    "# opt_fluxes = np.zeros((n_frames, n_channels))\n",
    "#iterate over wavelength channels to find opt spatial- and flux-scaling factors for each\n",
    "\n",
    "# [for i in range(n_frames)]\n",
    "n_frames = 100\n",
    "time_cubes = [cube[:, i] for i in range(n_frames)]\n",
    "input_list = list(zip(time_cubes, np.repeat([wavelengths], n_frames, axis=0), \n",
    "             np.repeat([flux_st], n_frames, axis=0), np.repeat([mask], n_frames, axis=0),\n",
    "             np.repeat([2], n_frames), np.repeat([\"stddev\"], n_frames)))"
   ]
  },
  {
   "cell_type": "code",
   "execution_count": null,
   "metadata": {},
   "outputs": [],
   "source": [
    "n=100\n",
    "dt = np.zeros(shape=(n,))\n",
    "\n",
    "for i in range(n):\n",
    "    tstart = datetime.now()\n",
    "    find_scal_vector(*input_list[i])\n",
    "    tend = datetime.now()\n",
    "    dt[i] = (tend-tstart).seconds + (tend-tstart).microseconds/1e6\n",
    "\n",
    "dt /= 1e6"
   ]
  },
  {
   "cell_type": "code",
   "execution_count": null,
   "metadata": {},
   "outputs": [],
   "source": [
    "print(np.mean(dt))\n",
    "print(2202 * np.mean(dt) / 60)\n",
    "# print(np.std(dt))\n",
    "# print(np.sqrt(2202) * np.std(dt) / 60)\n"
   ]
  },
  {
   "cell_type": "code",
   "execution_count": null,
   "metadata": {},
   "outputs": [],
   "source": [
    "n=100\n",
    "tstart = datetime.now()\n",
    "with mp.Pool(redux_utils.numworkers) as pool:\n",
    "    output = np.array(pool.starmap(find_scal_vector, input_list[:n], chunksize=5))\n",
    "tend = datetime.now()\n",
    "dt_mp = (tend-tstart).seconds + (tend - tstart).microseconds / 1e6"
   ]
  },
  {
   "cell_type": "code",
   "execution_count": null,
   "metadata": {},
   "outputs": [],
   "source": [
    "print(dt_mp)\n",
    "print(2202/100 * dt_mp / 60)\n",
    "# print(np.std(dt) / np.sqrt(n))\n",
    "# print(np.sqrt(2202) * np.std(dt) / 60)"
   ]
  },
  {
   "cell_type": "code",
   "execution_count": null,
   "metadata": {},
   "outputs": [],
   "source": [
    "be_slow = False\n",
    "\n",
    "if be_slow:\n",
    "    tstart = datetime.now()\n",
    "    print(tstart)\n",
    "    with mp.Pool(redux_utils.numworkers) as pool:\n",
    "        output = np.array(pool.starmap(find_scal_vector, input_list, chunksize=redux_utils.chunksize))\n",
    "    tend = datetime.now()\n",
    "    print(tend)\n",
    "    dt = tend - tstart\n",
    "    print(dt)\n",
    "else:\n",
    "    opt_scal_mean, opt_flux_mean = find_scal_vector(np.mean(cube, axis=1), wavelengths, flux_st, mask=mask, nfp=2, fm=\"stddev\")"
   ]
  },
  {
   "cell_type": "code",
   "execution_count": null,
   "metadata": {},
   "outputs": [],
   "source": [
    "opt_scals = output[:,0]\n",
    "opt_fluxes = output[:,1]\n",
    "\n",
    "opt_scal_med = np.median(opt_scals, axis=0)\n",
    "opt_flux_med = np.median(opt_fluxes, axis=0)"
   ]
  },
  {
   "cell_type": "code",
   "execution_count": null,
   "metadata": {},
   "outputs": [],
   "source": [
    "res_scaling = np.zeros_like(cube[:,0,:,:])\n",
    "for i in range(n_channels):\n",
    "    res_scaling[i] = opt_fluxes[0, i] * frame_rescaling(cube[i, 0], scale=opt_scal_med[i]) - cube[-1, 0]"
   ]
  },
  {
   "cell_type": "code",
   "execution_count": null,
   "metadata": {},
   "outputs": [],
   "source": [
    "# Classical ASDI\n",
    "imlib = 'vip-fft'\n",
    "interpolation = 'lanczos4'\n",
    "angles = redux_utils.angles\n",
    "mask_rad = 10\n",
    "med_asdi = median_sub(cube, angles, scale_list=opt_scal_med, flux_sc_list=opt_flux_med,\n",
    "                      radius_int=mask_rad, interpolation=interpolation, nproc=redux_utils.numworkers)"
   ]
  },
  {
   "cell_type": "code",
   "execution_count": null,
   "metadata": {},
   "outputs": [],
   "source": [
    "pl_loc = (12, 41)\n",
    "st_loc = (63//2, 63//2)\n",
    "pl_rad = np.sqrt(np.sum(np.square(np.array(st_loc) - np.array(pl_loc))))\n",
    "fwhm_mean = np.mean(fwhm)\n",
    "pl_snr = snr(med_asdi, pl_loc, fwhm=fwhm_mean, exclude_negative_lobes=True)\n",
    "pl_sgn = significance(pl_snr, pl_rad, fwhm_mean, student_to_gauss=True)\n",
    "print(pl_snr, pl_sgn)"
   ]
  },
  {
   "cell_type": "code",
   "execution_count": null,
   "metadata": {},
   "outputs": [],
   "source": [
    "plt.imshow(med_asdi)\n",
    "plt.title(\"HD 1160 B Detection\\nMedian-ASDI\")\n",
    "plt.text(0.6, 0.9, \"snr: %.1f = %.1f$\\sigma$\"%(pl_snr, pl_sgn),\n",
    "         transform=plt.gca().transAxes, fontsize=12, bbox=dict(facecolor='#f5f5dc', alpha=0.5))\n",
    "plt.tight_layout()\n",
    "plt.savefig(\"med_asdi.png\")\n",
    "plt.close()"
   ]
  },
  {
   "cell_type": "code",
   "execution_count": null,
   "metadata": {},
   "outputs": [],
   "source": [
    "# Full-frame PCA-ASDI\n",
    "# Single step\n",
    "pca_asdi = pca(cube, angles, scale_list=opt_scal_med, ncomp=redux_utils.numcomps, \n",
    "               adimsdi=\"single\", crop_ifs=False, mask_center_px=mask_rad,\n",
    "               interpolation=interpolation, mask_val=0, scaling=\"temp-standard\", nproc=redux_utils.numworkers)"
   ]
  },
  {
   "cell_type": "code",
   "execution_count": null,
   "metadata": {},
   "outputs": [],
   "source": [
    "plot_frames(pca_asdi, colorbar=True)\n",
    "analysis.calc_stats(pca_asdi, fwhm_mean)"
   ]
  },
  {
   "cell_type": "code",
   "execution_count": null,
   "metadata": {},
   "outputs": [],
   "source": [
    "# Double step\n",
    "pca_asdi_dbl = pca(cube, angles, scale_list=opt_scal_med, ncomp=(redux_utils.numcomps, redux_utils.numcomps),\n",
    "                   adimsdi=\"double\", crop_ifs=False, mask_center_px=mask_rad,\n",
    "                   interpolation=interpolation, mask_val=0, scaling=\"temp-standard\", nproc=redux_utils.numworkers)"
   ]
  },
  {
   "cell_type": "code",
   "execution_count": null,
   "metadata": {},
   "outputs": [],
   "source": [
    "plot_frames(pca_asdi_dbl, colorbar=True)\n",
    "analysis.calc_stats(pca, fwhm_mean)"
   ]
  },
  {
   "cell_type": "code",
   "execution_count": null,
   "metadata": {},
   "outputs": [],
   "source": [
    "# Annular PCA-ASDI\n",
    "# Double step\n",
    "pca_asdi_dbl = pca(cube, angles, scale_list=opt_scal_med, ncomp=(redux_utils.numcomps, redux_utils.numcomps),\n",
    "                   adimsdi=\"double\", crop_ifs=False, mask_center_px=mask_rad, asize=fwhm_mean,\n",
    "                   interpolation=interpolation, mask_val=0, scaling=\"temp-standard\", nproc=redux_utils.numworkers)"
   ]
  },
  {
   "cell_type": "code",
   "execution_count": null,
   "metadata": {},
   "outputs": [],
   "source": [
    "plot_frames(pca_asdi_dbl, colorbar=True)\n",
    "analysis.calc_stats(pca, fwhm_mean)"
   ]
  }
 ],
 "metadata": {
  "kernelspec": {
   "display_name": "Python 3 (ipykernel)",
   "language": "python",
   "name": "python3"
  },
  "language_info": {
   "codemirror_mode": {
    "name": "ipython",
    "version": 3
   },
   "file_extension": ".py",
   "mimetype": "text/x-python",
   "name": "python",
   "nbconvert_exporter": "python",
   "pygments_lexer": "ipython3",
   "version": "3.9.16"
  }
 },
 "nbformat": 4,
 "nbformat_minor": 2
}
