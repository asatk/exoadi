{
 "cells": [
  {
   "cell_type": "code",
   "execution_count": 1,
   "metadata": {},
   "outputs": [
    {
     "name": "stderr",
     "output_type": "stream",
     "text": [
      "/home/asatk/PynPoint/pynpoint/util/wavelets.py:18: NumbaDeprecationWarning: \u001b[1mThe 'nopython' keyword argument was not supplied to the 'numba.jit' decorator. The implicit default value for this argument is currently False, but it will be changed to True in Numba 0.59.0. See https://numba.readthedocs.io/en/stable/reference/deprecation.html#deprecation-of-object-mode-fall-back-behaviour-when-using-jit for details.\u001b[0m\n",
      "  @jit(cache=True)\n",
      "/home/asatk/PynPoint/pynpoint/util/apply_func.py:591: NumbaDeprecationWarning: \u001b[1mThe 'nopython' keyword argument was not supplied to the 'numba.jit' decorator. The implicit default value for this argument is currently False, but it will be changed to True in Numba 0.59.0. See https://numba.readthedocs.io/en/stable/reference/deprecation.html#deprecation-of-object-mode-fall-back-behaviour-when-using-jit for details.\u001b[0m\n",
      "  @jit(cache=True)\n",
      "/home/asatk/PynPoint/pynpoint/util/apply_func.py:761: NumbaDeprecationWarning: \u001b[1mThe 'nopython' keyword argument was not supplied to the 'numba.jit' decorator. The implicit default value for this argument is currently False, but it will be changed to True in Numba 0.59.0. See https://numba.readthedocs.io/en/stable/reference/deprecation.html#deprecation-of-object-mode-fall-back-behaviour-when-using-jit for details.\u001b[0m\n",
      "  @jit(cache=True)\n"
     ]
    }
   ],
   "source": [
    "import faulthandler\n",
    "from matplotlib import pyplot as plt\n",
    "import numpy as np\n",
    "import os\n",
    "\n",
    "from pynpoint import Pypeline, FitsReadingModule, PSFpreparationModule, \\\n",
    "    PcaPsfSubtractionModule, FalsePositiveModule, SimplexMinimizationModule, \\\n",
    "    FakePlanetModule, ContrastCurveModule, FitsWritingModule\n",
    "    \n",
    "from pynpoint.readwrite.attr_reading import ParangReadingModule\n",
    "\n",
    "import redux_utils\n",
    "\n",
    "faulthandler.enable()"
   ]
  },
  {
   "cell_type": "code",
   "execution_count": 2,
   "metadata": {},
   "outputs": [],
   "source": [
    "firstchannelnum = 45\n",
    "lastchannelnum = 74\n",
    "channelnums = list(range(firstchannelnum, lastchannelnum))\n",
    "nchnls = len(channelnums)\n",
    "\n",
    "data_dir = \"data\"\n",
    "data_path = data_dir + \"/\" + \"005_center_multishift/wl_channel_%05i.fits\"\n",
    "data_paths = [data_path%(channelnum) for channelnum in channelnums]\n",
    "\n",
    "out_dir = \"out\"\n",
    "outcombined_path = \"out/pyn_PCA%03i_%05i_%05i.fits\"%(redux_utils.numcomps, firstchannelnum, lastchannelnum)\n",
    "\n",
    "working_dir = \"pyn\"\n",
    "working_path = \"pyn/PynPoint_database.hdf5\"\n",
    "\n",
    "tempanglesname = \"tempangles.txt\"\n",
    "# tempangles = np.array([redux_utils.angles] * nchnls).flatten()\n",
    "# with open(data_dir + \"/\" + tempanglesname, \"w\") as anglesfile:\n",
    "#     anglesfile.write('\\n'.join(str(i) for i in tempangles))"
   ]
  },
  {
   "cell_type": "code",
   "execution_count": 3,
   "metadata": {},
   "outputs": [],
   "source": [
    "# sep_tuple = (0., 0.8, 0.05)\n",
    "# angle_tuple = (0.0, 360.0, 72.0)\n",
    "sep_tuple = (0., 0.8, 0.4)\n",
    "angle_tuple = (0.0, 360.0, 180.0)\n",
    "\n",
    "nchnls = len(data_paths)\n",
    "# pca_nums = list(range(1, redux_utils.numcomps + 1))\n",
    "# pca_num = redux_utils.numcomps\n",
    "# pca_nums = [1, 5, 9]\n",
    "pca_nums = [5]\n",
    "pca_num = 5\n",
    "\n",
    "mask_inner = 0.2\n",
    "mask_outer = 0.35\n",
    "\n",
    "posn_planet = (12, 41)\n",
    "dmag_planet = 6.35\n",
    "\n",
    "# figure out which apt corresponds to what\n",
    "pixscale = 0.027\n",
    "apt_pl = 5 * pixscale\n",
    "apt_psf = 10 * pixscale\n",
    "apt_cc = 0.2\n",
    "\n",
    "\n",
    "tolerance = 0.1\n",
    "offset = 0.1"
   ]
  },
  {
   "cell_type": "code",
   "execution_count": 4,
   "metadata": {},
   "outputs": [
    {
     "name": "stdout",
     "output_type": "stream",
     "text": [
      "================\n",
      "PynPoint v0.10.0\n",
      "================\n",
      "\n",
      "Working place: pyn\n",
      "Input place: data\n",
      "Output place: out\n",
      "\n",
      "Database: pyn/PynPoint_database.hdf5\n",
      "Configuration: pyn/PynPoint_config.ini\n",
      "\n",
      "Number of CPUs: 1\n",
      "Number of threads: not set\n"
     ]
    }
   ],
   "source": [
    "pipeline = Pypeline(working_place_in=working_dir,\n",
    "                input_place_in=data_dir,\n",
    "                output_place_in=out_dir)\n",
    "module_simplex = SimplexMinimizationModule(name_in=\"simplex\",\n",
    "                image_in_tag=\"imgs\",\n",
    "                psf_in_tag=\"psf\",\n",
    "                res_out_tag=\"simplex_res\",\n",
    "                flux_position_tag=\"fluxpos\",\n",
    "                position=posn_planet,\n",
    "                magnitude=dmag_planet,\n",
    "                psf_scaling=-1.,\n",
    "                merit=\"gaussian\",\n",
    "                aperture=10*0.027,\n",
    "                sigma=0.,\n",
    "                tolerance=tolerance,\n",
    "                pca_number=pca_nums,\n",
    "                cent_size=mask_inner,\n",
    "                edge_size=None,\n",
    "                residuals=\"median\",\n",
    "                reference_in_tag=None,\n",
    "                offset=offset)\n",
    "\n",
    "pipeline.add_module(module_simplex)\n"
   ]
  },
  {
   "cell_type": "code",
   "execution_count": null,
   "metadata": {},
   "outputs": [
    {
     "name": "stdout",
     "output_type": "stream",
     "text": [
      "\n",
      "-------------------------\n",
      "SimplexMinimizationModule\n",
      "-------------------------\n",
      "\n",
      "Module name: simplex\n",
      "Input ports: imgs (63858, 63, 63), psf (63858, 63, 63)\n",
      "Input parameters:\n",
      "   - Number of principal components = [5]\n",
      "   - Figure of merit = gaussian\n",
      "   - Residuals type = median\n",
      "   - Absolute tolerance (pixels/mag) = 0.1\n",
      "   - Maximum offset = 0.1\n",
      "   - Guessed position (x, y) = (12.00, 41.00)\n",
      "   - Aperture position (x, y) = (12, 41)\n",
      "   - Aperture radius (pixels) = 10\n",
      "   - Inner mask radius (pixels) = 7\n",
      "Image center (y, x) = (31.0, 31.0)\n",
      "Simplex minimization... 5 PC - chi^2 = 7.33e+03"
     ]
    }
   ],
   "source": [
    "pipeline.run_module(\"simplex\")"
   ]
  },
  {
   "cell_type": "code",
   "execution_count": null,
   "metadata": {},
   "outputs": [],
   "source": [
    "module_fakeplanet = FakePlanetModule(name_in=\"fake\",\n",
    "                image_in_tag=\"masked\",\n",
    "                psf_in_tag=\"psf\",\n",
    "                image_out_tag=\"removed\",\n",
    "                position=posn_planet,\n",
    "                magnitude=dmag_planet,\n",
    "                psf_scaling=-1.0,\n",
    "                interpolation=\"spline\")\n",
    "module_ccurve = ContrastCurveModule(name_in=\"ccurve\",\n",
    "                image_in_tag=\"removed\",\n",
    "                psf_in_tag=\"psf\",\n",
    "                contrast_out_tag=\"limits\",\n",
    "                separation=sep_tuple,\n",
    "                angle=angle_tuple,\n",
    "                # threshold=(\"sigma\", 5.0),\n",
    "                threshold=('fpf', 2.87e-7),\n",
    "                psf_scaling=1.,\n",
    "                aperture=0.2,\n",
    "                pca_number=pca_num,\n",
    "                cent_size=mask_inner,\n",
    "                edge_size=None,\n",
    "                residuals=\"median\",\n",
    "                snr_inject=100.)"
   ]
  },
  {
   "cell_type": "code",
   "execution_count": null,
   "metadata": {},
   "outputs": [],
   "source": [
    "pipeline.run_module('fake')\n",
    "pipeline.run_module('ccurve')"
   ]
  },
  {
   "cell_type": "code",
   "execution_count": 5,
   "metadata": {},
   "outputs": [
    {
     "name": "stdout",
     "output_type": "stream",
     "text": [
      "\n",
      "-----------------\n",
      "FitsReadingModule\n",
      "-----------------\n",
      "\n",
      "Module name: read\n"
     ]
    },
    {
     "name": "stderr",
     "output_type": "stream",
     "text": [
      "/home/asatk/PynPoint/pynpoint/util/attributes.py:76: UserWarning: Static attribute INSTRUMENT (=INSTRUME) not found in the FITS header.\n",
      "  warnings.warn(f'Static attribute {attr} (={fitskey}) not found in the FITS '\n",
      "/home/asatk/PynPoint/pynpoint/util/attributes.py:76: UserWarning: Static attribute DIT (=ESO DET DIT) not found in the FITS header.\n",
      "  warnings.warn(f'Static attribute {attr} (={fitskey}) not found in the FITS '\n",
      "/home/asatk/PynPoint/pynpoint/util/attributes.py:76: UserWarning: Static attribute LATITUDE (=ESO TEL GEOLAT) not found in the FITS header.\n",
      "  warnings.warn(f'Static attribute {attr} (={fitskey}) not found in the FITS '\n",
      "/home/asatk/PynPoint/pynpoint/util/attributes.py:76: UserWarning: Static attribute LONGITUDE (=ESO TEL GEOLON) not found in the FITS header.\n",
      "  warnings.warn(f'Static attribute {attr} (={fitskey}) not found in the FITS '\n",
      "/home/asatk/PynPoint/pynpoint/util/attributes.py:125: UserWarning: Non-static attribute EXP_NO (=ESO DET EXP NO) not found in the FITS header.\n",
      "  warnings.warn('Non-static attribute %s (=%s) not found in the '\n",
      "/home/asatk/PynPoint/pynpoint/util/attributes.py:125: UserWarning: Non-static attribute NDIT (=ESO DET NDIT) not found in the FITS header.\n",
      "  warnings.warn('Non-static attribute %s (=%s) not found in the '\n",
      "/home/asatk/PynPoint/pynpoint/util/attributes.py:125: UserWarning: Non-static attribute PARANG_START (=ESO ADA POSANG) not found in the FITS header.\n",
      "  warnings.warn('Non-static attribute %s (=%s) not found in the '\n",
      "/home/asatk/PynPoint/pynpoint/util/attributes.py:125: UserWarning: Non-static attribute PARANG_END (=ESO ADA POSANG END) not found in the FITS header.\n",
      "  warnings.warn('Non-static attribute %s (=%s) not found in the '\n",
      "/home/asatk/PynPoint/pynpoint/util/attributes.py:125: UserWarning: Non-static attribute DITHER_X (=ESO SEQ CUMOFFSETX) not found in the FITS header.\n",
      "  warnings.warn('Non-static attribute %s (=%s) not found in the '\n",
      "/home/asatk/PynPoint/pynpoint/util/attributes.py:125: UserWarning: Non-static attribute DITHER_Y (=ESO SEQ CUMOFFSETY) not found in the FITS header.\n",
      "  warnings.warn('Non-static attribute %s (=%s) not found in the '\n",
      "/home/asatk/PynPoint/pynpoint/util/attributes.py:125: UserWarning: Non-static attribute PUPIL (=ESO ADA PUPILPOS) not found in the FITS header.\n",
      "  warnings.warn('Non-static attribute %s (=%s) not found in the '\n",
      "/home/asatk/PynPoint/pynpoint/util/attributes.py:125: UserWarning: Non-static attribute DATE (=DATE-OBS) not found in the FITS header.\n",
      "  warnings.warn('Non-static attribute %s (=%s) not found in the '\n",
      "/home/asatk/PynPoint/pynpoint/util/attributes.py:125: UserWarning: Non-static attribute RA (=RA) not found in the FITS header.\n",
      "  warnings.warn('Non-static attribute %s (=%s) not found in the '\n",
      "/home/asatk/PynPoint/pynpoint/util/attributes.py:125: UserWarning: Non-static attribute DEC (=DEC) not found in the FITS header.\n",
      "  warnings.warn('Non-static attribute %s (=%s) not found in the '\n"
     ]
    },
    {
     "name": "stdout",
     "output_type": "stream",
     "text": [
      "Reading FITS files... [DONE]                      \n",
      "Output ports: imgs (63858, 63, 63), fits_header/wl_channel_00045.fits (7,), fits_header/wl_channel_00046.fits (7,), fits_header/wl_channel_00047.fits (7,), fits_header/wl_channel_00048.fits (7,), fits_header/wl_channel_00049.fits (7,), fits_header/wl_channel_00050.fits (7,), fits_header/wl_channel_00051.fits (7,), fits_header/wl_channel_00052.fits (7,), fits_header/wl_channel_00053.fits (7,), fits_header/wl_channel_00054.fits (7,), fits_header/wl_channel_00055.fits (7,), fits_header/wl_channel_00056.fits (7,), fits_header/wl_channel_00057.fits (7,), fits_header/wl_channel_00058.fits (7,), fits_header/wl_channel_00059.fits (7,), fits_header/wl_channel_00060.fits (7,), fits_header/wl_channel_00061.fits (7,), fits_header/wl_channel_00062.fits (7,), fits_header/wl_channel_00063.fits (7,), fits_header/wl_channel_00064.fits (7,), fits_header/wl_channel_00065.fits (7,), fits_header/wl_channel_00066.fits (7,), fits_header/wl_channel_00067.fits (7,), fits_header/wl_channel_00068.fits (7,), fits_header/wl_channel_00069.fits (7,), fits_header/wl_channel_00070.fits (7,), fits_header/wl_channel_00071.fits (7,), fits_header/wl_channel_00072.fits (7,), fits_header/wl_channel_00073.fits (7,)\n"
     ]
    }
   ],
   "source": [
    "pipeline.run_module('read')"
   ]
  },
  {
   "cell_type": "code",
   "execution_count": 11,
   "metadata": {},
   "outputs": [
    {
     "data": {
      "text/plain": [
       "<matplotlib.image.AxesImage at 0x7f3704393280>"
      ]
     },
     "execution_count": 11,
     "metadata": {},
     "output_type": "execute_result"
    },
    {
     "data": {
      "image/png": "[encoded data removed]",
      "text/plain": [
       "<Figure size 640x480 with 1 Axes>"
      ]
     },
     "metadata": {},
     "output_type": "display_data"
    }
   ],
   "source": [
    "residuals = pipeline.get_data('pca_median')\n",
    "plt.imshow(residuals[0, ])"
   ]
  },
  {
   "cell_type": "code",
   "execution_count": null,
   "metadata": {},
   "outputs": [],
   "source": [
    "residuals = pipeline.get_data('pca_median')\n",
    "pixscale = pipeline.get_attribute('pca_median', 'PIXSCALE')\n",
    "size = pixscale * residuals.shape[-1]/2"
   ]
  },
  {
   "cell_type": "code",
   "execution_count": null,
   "metadata": {},
   "outputs": [],
   "source": [
    "plt.imshow(residuals[0, ], origin='lower', extent=[size, -size, -size, size])\n",
    "plt.xlabel('RA offset (arcsec)', fontsize=14)\n",
    "plt.ylabel('Dec offset (arcsec)', fontsize=14)\n",
    "cb = plt.colorbar()\n",
    "cb.set_label('Flux (ADU)', size=14.)"
   ]
  },
  {
   "cell_type": "code",
   "execution_count": null,
   "metadata": {},
   "outputs": [],
   "source": []
  }
 ],
 "metadata": {
  "kernelspec": {
   "display_name": "Python 3 (ipykernel)",
   "language": "python",
   "name": "python3"
  },
  "language_info": {
   "codemirror_mode": {
    "name": "ipython",
    "version": 3
   },
   "file_extension": ".py",
   "mimetype": "text/x-python",
   "name": "python",
   "nbconvert_exporter": "python",
   "pygments_lexer": "ipython3",
   "version": "3.9.16"
  }
 },
 "nbformat": 4,
 "nbformat_minor": 2
}
