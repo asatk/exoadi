{
 "cells": [
  {
   "cell_type": "code",
   "execution_count": 1,
   "metadata": {},
   "outputs": [],
   "source": [
    "import matplotlib as mpl\n",
    "mpl.use(\"tkagg\")\n",
    "from matplotlib import pyplot as plt\n",
    "# import multiprocessing as mp\n",
    "import numpy as np\n",
    "# import pandas as pd\n",
    "\n",
    "from mypkg.redux import redux_utils as rxu, redux_vip as rxv\n",
    "from mypkg.redux.redux_npy import ADI_npy, ASDI_npy, PCA_npy\n",
    "\n",
    "from astropy.visualization import ZScaleInterval\n",
    "from hciplot import plot_frames, plot_cubes\n",
    "# from vip_hci.var import frame_center, mask_circle\n",
    "from vip_hci.metrics import completeness_curve, contrast_curve, detection\n",
    "# from vip_hci.metrics import inverse_stim_map, significance, snr, snrmap, stim_map, throughput\n",
    "from vip_hci.fm import cube_planet_free\n",
    "# from vip_hci.fm import firstguess, normalize_psf\n",
    "# from vip_hci.preproc import find_scal_vector, frame_rescaling\n",
    "from vip_hci.psfsub import frame_diff, median_sub, pca, pca_annular, xloci"
   ]
  },
  {
   "cell_type": "code",
   "execution_count": 2,
   "metadata": {},
   "outputs": [],
   "source": [
    "lib = \"vip\"\n",
    "algo = \"ASDI\"\n",
    "sub_type = \"ADI\"\n",
    "\n",
    "ncomp = 4\n",
    "first_chnl = 45\n",
    "last_chnl = 74\n",
    "nframes = 2202\n",
    "nskip_frames = 10\n",
    "channels = list(range(first_chnl, last_chnl + 1))\n",
    "frames = range(0, nframes, nskip_frames)"
   ]
  },
  {
   "cell_type": "code",
   "execution_count": 3,
   "metadata": {},
   "outputs": [],
   "source": [
    "name_kwargs = {\"lib\": lib, \"algo\": algo, \"sub_type\": sub_type,\n",
    "                \"first_chnl\": first_chnl, \"last_chnl\": last_chnl,\n",
    "                \"ncomp\": ncomp, \"nskip_frames\": nskip_frames}\n",
    "\n",
    "data_path = \"./data/005_center_multishift/wl_channel_%05i.fits\"\n",
    "data_paths = [data_path%i for i in channels]\n",
    "name = rxu.make_name(**name_kwargs)\n",
    "pp_path = \"out/%s.fits\"%name\n",
    "pf_path = \"out/PF_%s.fits\"%name\n",
    "wavelengths_path = \"data/channel_wavelengths.txt\"\n",
    "angles_path = \"data/parangs_bads_removed.txt\"\n",
    "\n",
    "\n",
    "mask_rad = 8\n",
    "opt_scal_path = f\"out/opt_scal_{first_chnl}-{last_chnl}_{nskip_frames}.npy\"\n",
    "opt_flux_path = f\"out/opt_flux_{first_chnl}-{last_chnl}_{nskip_frames}.npy\"\n",
    "do_opt = True\n",
    "load_opt = False\n",
    "correct_outliers = True"
   ]
  },
  {
   "cell_type": "code",
   "execution_count": null,
   "metadata": {},
   "outputs": [],
   "source": [
    "cubes, wavelengths, angles = rxu.init(data_paths, wavelengths_path,\n",
    "    angles_path, channels=channels, frames=frames)\n",
    "fwhm, psfn, opt_scal, opt_flux = rxv.prep(cubes=cubes, wavelengths=wavelengths,\n",
    "    mask_rad=mask_rad, do_opt=do_opt, correct_outliers=correct_outliers)\n",
    "if do_opt:  # takes ~7min\n",
    "    np.save(opt_scal_path, opt_scal)\n",
    "    np.save(opt_flux_path, opt_flux)\n",
    "elif load_opt:\n",
    "    opt_scal = np.load(opt_scal_path)\n",
    "    opt_flux = np.load(opt_flux_path)"
   ]
  },
  {
   "cell_type": "code",
   "execution_count": null,
   "metadata": {},
   "outputs": [],
   "source": [
    "nchnls = len(wavelengths)\n",
    "combine_fn = np.median\n",
    "\n",
    "scaling = \"temp-standard\"\n",
    "nproc = rxu.numworkers\n",
    "pxscale = 0.035\n",
    "simplex_data = ([21.403], [154.730], [45.632])\n",
    "planet_parameter = np.transpose(simplex_data)\n",
    "pl_loc = (11.65, 40.14)\n",
    "\n",
    "starphot = simplex_data[2]\n",
    "nbranch = 1\n",
    "theta = 0\n",
    "# inner_rad = int(max(1., mask_rad / fwhm))\n",
    "inner_rad = 1\n",
    "fc_rad_sep = 3\n",
    "noise_sep = 1\n",
    "student = True\n",
    "smooth = True\n",
    "interp_order = 2\n",
    "debug = True\n",
    "verbose = True\n",
    "plot = True\n",
    "full_output = False\n",
    "imlib = \"vip-fft\"\n",
    "interpolation = \"lancsoz4\"\n",
    "metric = \"l2\"\n",
    "\n",
    "asize = fwhm\n",
    "delta_rot = (0.2, 1.0)\n",
    "delta_rot_scalar = 0.5\n",
    "delta_sep = (0.2, 1.0)\n",
    "nframes = \"auto\"\n",
    "collapse = \"median\"\n",
    "collapse_all = \"median\""
   ]
  },
  {
   "cell_type": "code",
   "execution_count": null,
   "metadata": {},
   "outputs": [],
   "source": [
    "r_lo, theta_lo, f_lo = firstguess(cubes, angles, psfn, ncomp=ncom, planets_xy_coord=[pl_loc],\n",
    "                                  fwhm=fwhm, f_range=None, annulus_width=4*fwhm_naco,\n",
    "                                  aperture_radius=2, simplex=True, imlib=imlib_rot,\n",
    "                                  interpolation=interpolation, plot=True, verbose=True)"
   ]
  },
  {
   "cell_type": "code",
   "execution_count": null,
   "metadata": {},
   "outputs": [],
   "source": [
    "planet_parameters = np.repeat([np.array(simplex_data)], nchnls, axis=2)\n",
    "cubes_pf = cube_planet_free(planet_parameter=planet_parameters, cube=cubes, angs=angles,\n",
    "    psfn=psfn, imlib=imlib, interpolation=interpolation, transmission=None)"
   ]
  },
  {
   "cell_type": "code",
   "execution_count": 11,
   "metadata": {},
   "outputs": [],
   "source": [
    "plt.close()\n",
    "plt.clf()\n",
    "plt.cla()\n",
    "vmin, vmax = ZScaleInterval().get_limits(cubes)\n",
    "# plot_cubes(cubes, vmin=float(vmin), vmax=float(vmax))\n",
    "plot_cubes(cubes_pf, vmin=float(vmin), vmax=float(vmax))"
   ]
  },
  {
   "cell_type": "code",
   "execution_count": 23,
   "metadata": {},
   "outputs": [],
   "source": [
    "# cubes_used = cubes  # for redux\n",
    "cubes_used = cubes_pf # for ccurve\n",
    "\n",
    "kwargs = {\"collapse\": collapse, \"nproc\": nproc}\n",
    "pca_kwargs = {\"collapse_ifs\": \"mean\"}\n",
    "ann_kwargs = {\"asize\": asize, \"delta_rot\": delta_rot, \"delta_sep\": delta_sep}\n",
    "rot_options = {\"imlib\": imlib, \"interpolation\": interpolation,\n",
    "                \"interp_zeros\": True, \"mask_val\": 0}\n",
    "args_req = {\"cube\": cubes_used, \"angle_list\": angles, \"fwhm\": fwhm,\n",
    "            \"full_output\": full_output, \"verbose\": verbose}\n",
    "\n",
    "# - NPY\n",
    "args_npy_adi = {\"radius_int\": mask_rad, **kwargs}\n",
    "args_npy_asdi = {\"collapse_all\": \"median\", \"use_mp\": False, \"scale_list\": opt_scal}\n",
    "args_npy_pca = {}\n",
    "\n",
    "# - MISC\n",
    "args_fd = {\"metric\": metric, \"dist_threshold\": 90, \"delta_rot\": delta_rot_scalar,\n",
    "           \"radius_int\": mask_rad, \"asize\": asize, **kwargs, **rot_options}\n",
    "args_loci = {\"metric\": metric, **kwargs, **rot_options}\n",
    "\n",
    "# - ASDI\n",
    "args_asdi = {\"scale_list\": opt_scal, \"flux_sc_list\": opt_flux,\n",
    "             \"radius_int\": mask_rad, **kwargs}\n",
    "args_adi = {\"radius_int\": mask_rad, **kwargs}\n",
    "args_sdi = {\"scale_list\": opt_scal, \"flux_sc_list\": opt_flux, \"sdi_only\": True,\n",
    "            \"radius_int\": mask_rad, **rot_options}\n",
    "args_adi_ann = {\"mode\": \"annular\", \"radius_int\": mask_rad, \"asize\": int(fwhm), \"delta_rot\": delta_rot_scalar, **kwargs}\n",
    "# args_asdi_ann = {\"scale_list\": opt_scal, \"flux_sc_list\": opt_flux,\n",
    "#             \"mode\": \"annular\", \"radius_int\": mask_rad, **kwargs, **ann_kwargs}\n",
    "\n",
    "# - PCA\n",
    "args_sng = {\"scale_list\": opt_scal, \"ncomp\": ncomp, \"adimsdi\": \"single\",\n",
    "            \"crop_ifs\": False, \"mask_center_px\": mask_rad, \"scaling\": scaling,\n",
    "            \"delta_rot\": delta_rot_scalar, \"source_xy\": pl_loc, **kwargs, **pca_kwargs}\n",
    "args_dbl = {\"scale_list\": opt_scal, \"ncomp\": (ncomp, ncomp), \"adimsdi\": \"double\",\n",
    "            \"crop_ifs\": False, \"mask_center_px\": mask_rad, \"scaling\": scaling,\n",
    "            \"delta_rot\": delta_rot_scalar, \"source_xy\": pl_loc, **kwargs, **pca_kwargs}\n",
    "args_dbl_sdi = {\"scale_list\": opt_scal, \"ncomp\": (ncomp, None), \"adimsdi\": \"double\",\n",
    "            \"crop_ifs\": False, \"mask_center_px\": mask_rad, \"scaling\": scaling,\n",
    "            \"delta_rot\": delta_rot_scalar, \"source_xy\": pl_loc, **kwargs, **pca_kwargs}\n",
    "args_ann = {\"scale_list\": opt_scal, \"ncomp\": (ncomp, ncomp),\"radius_int\": mask_rad,\n",
    "            **kwargs, **pca_kwargs, **ann_kwargs}\n",
    "\n",
    "\n",
    "algo_d = {\"asdi\": median_sub, \"adi\": ASDI_npy, \"adi_ann\": ASDI_npy, \"sdi\": median_sub,\n",
    "          \"sng\": pca, \"dbl\": pca, \"dbl_sdi\": pca, \"ann\": pca_annular,\n",
    "          \"npy_asdi\": ASDI_npy, \"npy_adi\": ASDI_npy, \"npy_pca\": PCA_npy,\n",
    "          \"fd\": ASDI_npy, \"loci\": ASDI_npy}\n",
    "args_d = {\"asdi\": args_asdi,\n",
    "          \"adi\": {\"redux_fn\": median_sub, **args_npy_asdi, **args_adi},\n",
    "          \"adi_ann\": {\"redux_fn\": median_sub, **args_npy_asdi, **args_adi_ann},\n",
    "          \"sdi\": args_sdi,\n",
    "          \"sng\": args_sng, \"dbl\": args_dbl, \"dbl_sdi\": args_dbl_sdi, \"ann\": args_ann,\n",
    "          \"npy_asdi\": args_npy_asdi, \n",
    "          \"npy_adi\": {\"redux_fn\": ADI_npy, **args_npy_asdi, **args_npy_adi},\n",
    "          \"npy_pca\": args_npy_pca,\n",
    "          \"fd\": {\"redux_fn\": frame_diff, **args_npy_asdi, **args_fd},\n",
    "          \"loci\": {\"redux_fn\": xloci, **args_npy_asdi, **args_loci}}"
   ]
  },
  {
   "cell_type": "code",
   "execution_count": 43,
   "metadata": {},
   "outputs": [],
   "source": [
    "algo_name = \"sng\"\n",
    "algo = algo_d[algo_name]\n",
    "algo_dict = args_d[algo_name]\n",
    "# algo_dict.update({\"ncomp\": (3, None)})"
   ]
  },
  {
   "cell_type": "code",
   "execution_count": 44,
   "metadata": {},
   "outputs": [
    {
     "name": "stdout",
     "output_type": "stream",
     "text": [
      "――――――――――――――――――――――――――――――――――――――――――――――――――――――――――――――――――――――――――――――――\n",
      "Starting time: 2023-07-28 01:51:46\n",
      "――――――――――――――――――――――――――――――――――――――――――――――――――――――――――――――――――――――――――――――――\n",
      "System total memory = 33.257 GB\n",
      "System available memory = 20.946 GB\n",
      "Rescaling the spectral channels to align the speckles\n",
      "0% [##############################] 100% | ETA: 00:00:00\n",
      "Total time elapsed: 00:00:12\n",
      "Running time:  0:00:12.682537\n",
      "――――――――――――――――――――――――――――――――――――――――――――――――――――――――――――――――――――――――――――――――\n",
      "3330 total frames\n",
      "Performing single-pass PCA\n",
      "Done vectorizing the frames. Matrix shape: (3330, 14161)\n",
      "Done SVD/PCA with numpy SVD (LAPACK)\n",
      "Running time:  0:00:46.727751\n",
      "――――――――――――――――――――――――――――――――――――――――――――――――――――――――――――――――――――――――――――――――\n",
      "Descaling the spectral channels\n",
      "0% [##############################] 100% | ETA: 00:00:00\n",
      "Total time elapsed: 00:00:06\n",
      "De-rotating and combining residuals\n",
      "Running time:  0:00:53.562986\n",
      "――――――――――――――――――――――――――――――――――――――――――――――――――――――――――――――――――――――――――――――――\n"
     ]
    }
   ],
   "source": [
    "plt.close()\n",
    "res = algo(**args_req, **algo_dict)\n",
    "plt.show()"
   ]
  },
  {
   "cell_type": "code",
   "execution_count": 45,
   "metadata": {},
   "outputs": [],
   "source": [
    "plt.close()\n",
    "zsc_pf = ZScaleInterval().get_limits(res)\n",
    "vmin = float(zsc_pf[0])\n",
    "vmax = float(zsc_pf[1])\n",
    "plot_frames(res, vmin=vmin, vmax=vmax)\n",
    "plt.show()"
   ]
  },
  {
   "cell_type": "code",
   "execution_count": 10,
   "metadata": {},
   "outputs": [],
   "source": [
    "# fd - t=5:27, max=6\n",
    "# loci - t=11:11, max=4\n",
    "# dbl - t=0:18, max=0.4\n",
    "# dbl_sdi - t=0:10, max=0.1\n",
    "# sng - t=1:30, max=0.5\n",
    "# ann - t=0:26, max=5\n",
    "# asdi - t=0:06, max=2\n",
    "# adi - t=0:27, max=6\n",
    "# adi_ann - t=0:39, max=6\n",
    "# sdi - t=0:19, max=3\n",
    "# npy_adi - t=0:02.9, max=6\n",
    "# npy_adi - t=0:02.9, max=6\n",
    "# res = algo(**args_req, **algo_dict)\n",
    "# plot_frames(res)"
   ]
  },
  {
   "cell_type": "code",
   "execution_count": 24,
   "metadata": {},
   "outputs": [],
   "source": [
    "cc_kwargs = {\"psf_template\": psfn, \"algo\": algo, \"pxscale\": pxscale, \"starphot\": starphot,\n",
    "             \"sigma\": 5, \"nbranch\": nbranch, \"theta\": theta, \"inner_rad\": inner_rad,\n",
    "             \"fc_rad_sep\": fc_rad_sep, \"noise_sep\": noise_sep, \"student\": student,\n",
    "             \"smooth\": smooth, \"interp_order\": interp_order, \"debug\": debug,\n",
    "             \"plot\": plot, **rot_options, **algo_dict, **args_req, \"full_output\" :True}"
   ]
  },
  {
   "cell_type": "code",
   "execution_count": 41,
   "metadata": {},
   "outputs": [
    {
     "name": "stdout",
     "output_type": "stream",
     "text": [
      "――――――――――――――――――――――――――――――――――――――――――――――――――――――――――――――――――――――――――――――――\n",
      "Starting time: 2023-07-28 01:43:06\n",
      "――――――――――――――――――――――――――――――――――――――――――――――――――――――――――――――――――――――――――――――――\n",
      "ALGO : median_sub, FWHM = 3.244678651217861, # BRANCHES = 4, SIGMA = 5\n",
      "Finished the throughput calculation\n",
      "Running time:  0:02:21.913314\n",
      "――――――――――――――――――――――――――――――――――――――――――――――――――――――――――――――――――――――――――――――――\n"
     ]
    }
   ],
   "source": [
    "plt.close()\n",
    "cc_res = contrast_curve(**{**cc_kwargs, \"nbranch\": 4})\n",
    "plt.show()"
   ]
  },
  {
   "cell_type": "code",
   "execution_count": 40,
   "metadata": {},
   "outputs": [],
   "source": [
    "df = cc_res[0]\n",
    "x = np.array(df[\"distance_arcsec\"])\n",
    "y = np.array(df[\"sensitivity_student\"])\n",
    "plt.plot(x, y)\n",
    "plt.show()"
   ]
  },
  {
   "cell_type": "code",
   "execution_count": null,
   "metadata": {},
   "outputs": [],
   "source": []
  }
 ],
 "metadata": {
  "kernelspec": {
   "display_name": "Python 3 (ipykernel)",
   "language": "python",
   "name": "python3"
  },
  "language_info": {
   "codemirror_mode": {
    "name": "ipython",
    "version": 3
   },
   "file_extension": ".py",
   "mimetype": "text/x-python",
   "name": "python",
   "nbconvert_exporter": "python",
   "pygments_lexer": "ipython3",
   "version": "3.9.16"
  }
 },
 "nbformat": 4,
 "nbformat_minor": 2
}
