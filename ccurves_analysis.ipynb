{
 "cells": [
  {
   "cell_type": "code",
   "execution_count": 1,
   "metadata": {},
   "outputs": [],
   "source": [
    "import matplotlib as mpl\n",
    "mpl.use(\"tkagg\")\n",
    "from matplotlib import pyplot as plt\n",
    "import numpy as np\n",
    "import os\n",
    "import pandas as pd\n",
    "# pd.set_option(\"display.max_rows\", 1000)\n",
    "import re"
   ]
  },
  {
   "cell_type": "code",
   "execution_count": 2,
   "metadata": {},
   "outputs": [],
   "source": [
    "p = re.compile(r\"df_(.+)_(\\d{2}-\\d{2}_\\d{2}).csv\")"
   ]
  },
  {
   "cell_type": "code",
   "execution_count": 98,
   "metadata": {},
   "outputs": [],
   "source": [
    "df_master = pd.DataFrame()\n",
    "csv_dir = \"./out/\"\n",
    "first_col_name = \"Unnamed: 0\"\n",
    "xvar = \"distance\"\n",
    "yvar = \"sensitivity_student\"\n",
    "pxscale = 0.035\n",
    "grp_num = 0\n",
    "slice_after = 4\n",
    "for d in os.listdir(csv_dir):\n",
    "    m = p.match(d)\n",
    "    if m is not None:\n",
    "        df_temp = pd.read_csv(csv_dir + d)\n",
    "        df_temp_mod = pd.DataFrame({\"t\": np.array(df_temp[first_col_name])[slice_after:], \"x\": np.array(df_temp[xvar])[slice_after:], \"y\": np.array(df_temp[yvar])[slice_after:],\n",
    "            \"algo\": m.group(1), \"run\": m.group(2), \"grp_num\": grp_num})\n",
    "        df_master = pd.concat((df_master, df_temp_mod))\n",
    "        grp_num += 1"
   ]
  },
  {
   "cell_type": "code",
   "execution_count": 99,
   "metadata": {},
   "outputs": [],
   "source": [
    "\n",
    "xvals = np.array(pd.read_csv(csv_dir + d)[xvar])[slice_after:]\n",
    "run_vals = df_master[\"run\"].unique()"
   ]
  },
  {
   "cell_type": "code",
   "execution_count": 109,
   "metadata": {},
   "outputs": [
    {
     "name": "stdout",
     "output_type": "stream",
     "text": [
      "(16,)\n",
      "(16,)\n",
      "(16,)\n"
     ]
    },
    {
     "name": "stdout",
     "output_type": "stream",
     "text": [
      "(16,)\n",
      "(16,)\n",
      "(16,)\n",
      "(16,)\n",
      "(16,)\n",
      "(16,)\n"
     ]
    }
   ],
   "source": [
    "df_run = df_master[[\"t\", \"y\", \"run\"]]\n",
    "# df_run_grp = df_run.groupby(by=[\"run\", \"t\"])\n",
    "df_run_means = df_run.groupby(by=[\"run\", \"t\"]).mean()\n",
    "df_run_stds = df_run.groupby(by=[\"run\", \"t\"]).std()\n",
    "# print(df_run_means)\n",
    "# for g in df_run_means.itertuples():\n",
    "#     print(g)\n",
    "#     print(\"a\")\n",
    "plt.close()\n",
    "for run_name in run_vals:\n",
    "    ymeans = np.array(df_run_means.loc[run_name]).reshape(-1)\n",
    "    ystds = np.array(df_run_means.loc[run_name]).reshape(-1)\n",
    "    # print(xvals.shape)\n",
    "    # print(ymeans.shape)\n",
    "    print(ystds)\n",
    "    plt.plot(xvals, ymeans)\n",
    "    # plt.fill_between(xvals, ymeans+ystds, ymeans-ystds)\n",
    "plt.show()\n",
    "# df_run_means.set_index(\"run\")"
   ]
  },
  {
   "cell_type": "code",
   "execution_count": null,
   "metadata": {},
   "outputs": [],
   "source": []
  }
 ],
 "metadata": {
  "kernelspec": {
   "display_name": "astro",
   "language": "python",
   "name": "python3"
  },
  "language_info": {
   "codemirror_mode": {
    "name": "ipython",
    "version": 3
   },
   "file_extension": ".py",
   "mimetype": "text/x-python",
   "name": "python",
   "nbconvert_exporter": "python",
   "pygments_lexer": "ipython3",
   "version": "3.9.16"
  },
  "orig_nbformat": 4
 },
 "nbformat": 4,
 "nbformat_minor": 2
}
