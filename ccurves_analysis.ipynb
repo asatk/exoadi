{
 "cells": [
  {
   "cell_type": "code",
   "execution_count": 66,
   "metadata": {},
   "outputs": [],
   "source": [
    "import matplotlib as mpl\n",
    "mpl.use(\"tkagg\")\n",
    "from matplotlib import pyplot as plt\n",
    "import numpy as np\n",
    "import os\n",
    "import pandas as pd\n",
    "import re"
   ]
  },
  {
   "cell_type": "code",
   "execution_count": 67,
   "metadata": {},
   "outputs": [],
   "source": [
    "p = re.compile(r\"df_(([a-zA-Z_]+)(\\d{3})?)_(\\d{2}-\\d{2}_\\d{2}).csv\")"
   ]
  },
  {
   "cell_type": "code",
   "execution_count": 134,
   "metadata": {},
   "outputs": [],
   "source": [
    "df_master = pd.DataFrame()\n",
    "csv_dir = \"./out/\"\n",
    "first_col_name = \"Unnamed: 0\"\n",
    "xvar = \"distance\"\n",
    "yvar = \"sensitivity_student\"\n",
    "pxscale = 0.035\n",
    "grp_num = 0\n",
    "slice_after = 3\n",
    "for d in os.listdir(csv_dir):\n",
    "    m = p.match(d)\n",
    "    if m is not None:\n",
    "        df_temp = pd.read_csv(csv_dir + d)\n",
    "        t = np.array(df_temp[first_col_name])[slice_after:]\n",
    "        x = np.array(df_temp[xvar])[slice_after:]\n",
    "        xas = pxscale * x\n",
    "        y = np.array(df_temp[yvar])[slice_after:]\n",
    "        ymag = -2.5*np.log10(y)\n",
    "        algo = m.group(2)\n",
    "        if m.group(3) is not None:\n",
    "            algo += \"_pca\"\n",
    "\n",
    "        df_temp_mod = pd.DataFrame({\"t\": t, \"x\": x, \"xas\": xas, \"y\": y, \"ymag\": ymag,\n",
    "            \"algo\": algo, \"run\": m.group(4), \"grp_num\": grp_num})\n",
    "        df_master = pd.concat((df_master, df_temp_mod))\n",
    "        grp_num += 1"
   ]
  },
  {
   "cell_type": "code",
   "execution_count": 135,
   "metadata": {},
   "outputs": [
    {
     "data": {
      "text/plain": [
       "array(['npy_adi', 'adi_ann', 'sdi', 'dbl_pca', 'fd', 'sng_pca', 'ann_pca',\n",
       "       'adi', 'asdi'], dtype=object)"
      ]
     },
     "execution_count": 135,
     "metadata": {},
     "output_type": "execute_result"
    }
   ],
   "source": [
    "df_master[\"algo\"].unique()"
   ]
  },
  {
   "cell_type": "code",
   "execution_count": 136,
   "metadata": {},
   "outputs": [],
   "source": [
    "# in future xvals need to correspond to each individual series - minor difference though\n",
    "xvals = pxscale * np.array(pd.read_csv(csv_dir + d)[xvar])[slice_after:]\n",
    "run_vals = df_master[\"run\"].unique()\n",
    "algo_vals = df_master[\"algo\"].unique()"
   ]
  },
  {
   "cell_type": "code",
   "execution_count": 71,
   "metadata": {},
   "outputs": [],
   "source": [
    "use_mag = True\n",
    "if use_mag:\n",
    "    df_run = df_master[[\"ymag\", \"t\", \"run\"]]\n",
    "else:\n",
    "    df_run = df_master[[\"y\", \"t\", \"run\"]]\n",
    "# df_run_grp = df_run.groupby(by=[\"run\", \"t\"])\n",
    "df_run_means = df_run.groupby(by=[\"run\", \"t\"]).mean(numeric_only=True)\n",
    "df_run_stds = df_run.groupby(by=[\"run\", \"t\"]).std(numeric_only=True)"
   ]
  },
  {
   "cell_type": "code",
   "execution_count": 72,
   "metadata": {},
   "outputs": [],
   "source": [
    "run_name_map = {\"45-74_20\": \"30ch 111fr\", \"45-74_10\": \"30ch 222fr\", \"40-79_20\": \"40ch 111fr\"}"
   ]
  },
  {
   "cell_type": "code",
   "execution_count": 73,
   "metadata": {},
   "outputs": [],
   "source": [
    "plot_pl = True\n",
    "ylims = (0, 15) if use_mag else (1e-4, 2e-1)\n",
    "xpl = 21.403 * pxscale\n",
    "ypl = 45.6 / 16231.\n",
    "figsize=(10,10)\n",
    "\n",
    "plt.close()\n",
    "fig, ax = plt.subplots(figsize=figsize)\n",
    "\n",
    "if not use_mag:\n",
    "    ax.set_yscale(\"log\")\n",
    "else:\n",
    "    ax.invert_yaxis()\n",
    "    ypl = -2.5*np.log10(ypl)\n",
    "\n",
    "for run_name in run_vals:\n",
    "    ymeans = np.array(df_run_means.loc[run_name]).reshape(-1)\n",
    "    ystds = np.array(df_run_stds.loc[run_name]).reshape(-1)\n",
    "\n",
    "    ybottom = ymeans-ystds\n",
    "    ytop = ymeans+ystds\n",
    "\n",
    "    ax.plot(xvals, ymeans, label=run_name_map[run_name])\n",
    "    ax.fill_between(xvals, ybottom, ytop, alpha=0.15)\n",
    "\n",
    "if plot_pl:\n",
    "    ax.plot(xpl, ypl, \"gs\", label=\"HD 1160 B\", markersize=16)\n",
    "\n",
    "\n",
    "# ax.set_ylim(ylims)\n",
    "ax.set_title(\"Contrast Curves grouped by Dataset\", fontsize=24)\n",
    "ax.set_xlabel(\"Distance (arcsec)\", fontsize=20)\n",
    "ax.set_ylabel(\"$\\Delta$mag\" if use_mag else \"5$\\sigma$ Contrast\", fontsize=20)\n",
    "ax.tick_params(labelsize=14)\n",
    "ax.legend(fontsize=16)\n",
    "fig.tight_layout()\n",
    "plt.show()"
   ]
  },
  {
   "cell_type": "code",
   "execution_count": 74,
   "metadata": {},
   "outputs": [],
   "source": [
    "use_mag = True\n",
    "if use_mag:\n",
    "    df_algo = df_master[[\"ymag\", \"t\", \"algo\"]]\n",
    "else:\n",
    "    df_algo = df_master[[\"y\", \"t\", \"algo\"]]\n",
    "# df_run_grp = df_run.groupby(by=[\"run\", \"t\"])\n",
    "df_algo_means = df_algo.groupby(by=[\"algo\", \"t\"]).mean(numeric_only=True)\n",
    "df_algo_stds = df_algo.groupby(by=[\"algo\", \"t\"]).std(numeric_only=True)"
   ]
  },
  {
   "cell_type": "code",
   "execution_count": 75,
   "metadata": {},
   "outputs": [],
   "source": [
    "plot_pl = True\n",
    "ylims = (0, 15) if use_mag else (1e-4, 2e-1)\n",
    "xpl = 21.403 * pxscale\n",
    "ypl = 45.6 / 16231.\n",
    "figsize = (10, 10)\n",
    "\n",
    "plt.close()\n",
    "fig, ax = plt.subplots(figsize=figsize)\n",
    "\n",
    "if not use_mag:\n",
    "    ax.set_yscale(\"log\")\n",
    "else:\n",
    "    ax.invert_yaxis()\n",
    "    ypl = -2.5*np.log10(ypl)\n",
    "\n",
    "for algo_name in algo_vals:\n",
    "    ymeans = np.array(df_algo_means.loc[algo_name]).reshape(-1)\n",
    "    ystds = np.array(df_algo_stds.loc[algo_name]).reshape(-1)\n",
    "\n",
    "    ybottom = ymeans-ystds\n",
    "    ytop = ymeans+ystds\n",
    "\n",
    "    ax.plot(xvals, ymeans, label=algo_name)\n",
    "    ax.fill_between(xvals, ybottom, ytop, alpha=0.15)\n",
    "\n",
    "if plot_pl:\n",
    "    ax.plot(xpl, ypl, \"gs\", label=\"HD 1160 B\", markersize=14)\n",
    "\n",
    "txt = \"fd\"\n",
    "ax.annotate(txt, (xvals[-1], np.array(df_algo_means.loc[txt])[-1,0]), color=\"C4\", fontsize=16)\n",
    "txt = \"sng_pca\"\n",
    "ax.annotate(txt, (xvals[-1], np.array(df_algo_means.loc[txt])[-1,0]), color=\"C5\", fontsize=16)\n",
    "\n",
    "# ax.set_ylim(ylims)\n",
    "ax.set_title(\"Contrast Curves grouped by Algorithm\", fontsize=24)\n",
    "ax.set_xlabel(\"Distance (arcsec)\", fontsize=20)\n",
    "ax.set_ylabel(\"$\\Delta$mag\" if use_mag else \"5$\\sigma$ Contrast\", fontsize=20)\n",
    "ax.tick_params(labelsize=14)\n",
    "ax.legend(fontsize=16)\n",
    "fig.tight_layout()\n",
    "plt.show()"
   ]
  },
  {
   "cell_type": "code",
   "execution_count": 89,
   "metadata": {},
   "outputs": [],
   "source": []
  },
  {
   "cell_type": "code",
   "execution_count": 137,
   "metadata": {},
   "outputs": [],
   "source": [
    "df_adi = df_master[[\"y\", \"t\", \"algo\", \"run\"]].set_index(\"algo\")\n",
    "df_adi_grp = df_adi.loc[\"adi\"].groupby(\"run\")\n",
    "\n",
    "s1 = np.array(df_adi_grp.apply(lambda r: r[\"y\"]).loc[\"40-79_20\"])\n",
    "s2 = np.array(df_adi_grp.apply(lambda r: r[\"y\"]).loc[\"45-74_20\"])\n",
    "s3 = np.array(df_adi_grp.apply(lambda r: r[\"y\"]).loc[\"45-74_10\"])"
   ]
  },
  {
   "cell_type": "code",
   "execution_count": 138,
   "metadata": {},
   "outputs": [],
   "source": [
    "use_mag = False\n",
    "plot_pl = True\n",
    "# ylims = (0, 15) if use_mag else (1e-4, 2e-1)\n",
    "# ylims = (1e-4, 1.0)\n",
    "xpl = 21.403 * pxscale\n",
    "ypl = 45.6 / 16231.\n",
    "figsize = (10, 10)\n",
    "\n",
    "plt.close()\n",
    "fig, ax = plt.subplots(figsize=figsize)\n",
    "\n",
    "if not use_mag:\n",
    "    ax.set_yscale(\"log\")\n",
    "\n",
    "\n",
    "ax.plot(xvals, s1, label=run_name_map[\"40-79_20\"])\n",
    "ax.plot(xvals, s2, label=run_name_map[\"45-74_20\"])\n",
    "ax.plot(xvals, s3, label=run_name_map[\"45-74_10\"])\n",
    "\n",
    "if plot_pl:\n",
    "    ax.plot(xpl, ypl, \"gs\", label=\"HD 1160 B\", markersize=14)\n",
    "\n",
    "ax.set_ylim(top=1.0)\n",
    "ax.set_title(\"Contrast Curves for ADI grouped by Dataset\", fontsize=24)\n",
    "ax.set_xlabel(\"Distance (arcsec)\", fontsize=20)\n",
    "ax.set_ylabel(\"5$\\sigma$ Contrast\", fontsize=20)\n",
    "ax.tick_params(labelsize=14)\n",
    "ax.legend(fontsize=16)\n",
    "fig.tight_layout()\n",
    "plt.show()"
   ]
  },
  {
   "cell_type": "code",
   "execution_count": 139,
   "metadata": {},
   "outputs": [],
   "source": [
    "df_samp = df_master[[\"y\", \"t\", \"algo\", \"run\"]].set_index(\"run\")\n",
    "df_samp_grp = df_samp.loc[\"45-74_20\"].groupby(\"algo\")\n",
    "\n",
    "s1 = np.array(df_samp_grp.apply(lambda r: r[\"y\"]).loc[\"adi\"])\n",
    "s2 = np.array(df_samp_grp.apply(lambda r: r[\"y\"]).loc[\"adi_ann\"])\n",
    "s3 = np.array(df_samp_grp.apply(lambda r: r[\"y\"]).loc[\"asdi\"])\n",
    "s4 = np.array(df_samp_grp.apply(lambda r: r[\"y\"]).loc[\"sdi\"])\n",
    "s5 = np.array(df_samp_grp.apply(lambda r: r[\"y\"]).loc[\"npy_adi\"])\n",
    "s6 = np.array(df_samp_grp.apply(lambda r: r[\"y\"]).loc[\"sng_pca\"])\n",
    "s7 = np.array(df_samp_grp.apply(lambda r: r[\"y\"]).loc[\"dbl_pca\"])\n",
    "s8 = np.array(df_samp_grp.apply(lambda r: r[\"y\"]).loc[\"ann_pca\"])\n",
    "s9 = np.array(df_samp_grp.apply(lambda r: r[\"y\"]).loc[\"fd\"])"
   ]
  },
  {
   "cell_type": "code",
   "execution_count": 140,
   "metadata": {},
   "outputs": [],
   "source": [
    "use_mag = False\n",
    "plot_pl = True\n",
    "# ylims = (0, 15) if use_mag else (1e-4, 2e-1)\n",
    "# ylims = (1e-4, 1.0)\n",
    "xpl = 21.403 * pxscale\n",
    "ypl = 45.6 / 16231.\n",
    "figsize = (10, 10)\n",
    "\n",
    "plt.close()\n",
    "fig, ax = plt.subplots(figsize=figsize)\n",
    "\n",
    "if not use_mag:\n",
    "    ax.set_yscale(\"log\")\n",
    "\n",
    "\n",
    "ax.plot(xvals, s1, label=\"adi\")\n",
    "ax.plot(xvals, s2, label=\"adi_ann\")\n",
    "ax.plot(xvals, s3, label=\"asdi\")\n",
    "ax.plot(xvals, s4, label=\"sdi\")\n",
    "ax.plot(xvals, s5, label=\"npy_adi\")\n",
    "ax.plot(xvals, s6, label=\"sng_pca\")\n",
    "ax.plot(xvals, s7, label=\"dbl_pca\")\n",
    "ax.plot(xvals, s8, label=\"ann_pca\")\n",
    "ax.plot(xvals, s9, label=\"fd\")\n",
    "\n",
    "if plot_pl:\n",
    "    ax.plot(xpl, ypl, \"gs\", label=\"HD 1160 B\", markersize=14)\n",
    "\n",
    "ax.set_ylim(top=1.0)\n",
    "ax.set_title(\"Contrast Curves for 30ch 111fr grouped by Algorithm\", fontsize=24)\n",
    "ax.set_xlabel(\"Distance (arcsec)\", fontsize=20)\n",
    "ax.set_ylabel(\"5$\\sigma$ Contrast\", fontsize=20)\n",
    "ax.tick_params(labelsize=14)\n",
    "ax.legend(fontsize=16)\n",
    "fig.tight_layout()\n",
    "plt.show()"
   ]
  },
  {
   "cell_type": "code",
   "execution_count": null,
   "metadata": {},
   "outputs": [],
   "source": []
  }
 ],
 "metadata": {
  "kernelspec": {
   "display_name": "astro",
   "language": "python",
   "name": "python3"
  },
  "language_info": {
   "codemirror_mode": {
    "name": "ipython",
    "version": 3
   },
   "file_extension": ".py",
   "mimetype": "text/x-python",
   "name": "python",
   "nbconvert_exporter": "python",
   "pygments_lexer": "ipython3",
   "version": "3.9.16"
  },
  "orig_nbformat": 4
 },
 "nbformat": 4,
 "nbformat_minor": 2
}
