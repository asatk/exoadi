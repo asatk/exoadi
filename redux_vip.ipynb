{
 "cells": [
  {
   "cell_type": "code",
   "execution_count": 1,
   "metadata": {},
   "outputs": [],
   "source": [
    "from astropy.io import ascii\n",
    "from matplotlib import pyplot as plt\n",
    "import numpy as np\n",
    "\n",
    "import vip_hci as vip\n",
    "from hciplot import plot_frames, plot_cubes\n",
    "\n",
    "from vip_hci.config import VLT_NACO\n",
    "from vip_hci.fm import normalize_psf\n",
    "from vip_hci.psfsub import median_sub, pca\n",
    "from vip_hci.fits import open_fits, write_fits, info_fits\n",
    "from vip_hci.metrics import significance, snr, snrmap\n",
    "from vip_hci.var import fit_2dgaussian, frame_center"
   ]
  },
  {
   "cell_type": "code",
   "execution_count": 2,
   "metadata": {},
   "outputs": [],
   "source": [
    "# get list of angles for de-rotation\n",
    "anglesfilepath = \"data/parangs_bads_removed.txt\"\n",
    "anglestable = ascii.read(anglesfilepath, format=\"no_header\", data_start=0)\n",
    "angles = anglestable['col1'].data"
   ]
  },
  {
   "cell_type": "code",
   "execution_count": 3,
   "metadata": {},
   "outputs": [
    {
     "name": "stdout",
     "output_type": "stream",
     "text": [
      "Fits HDU-0 data successfully loaded. Data shape: (2202, 63, 63)\n"
     ]
    }
   ],
   "source": [
    "datadirpath = \"./data/005_center_multishift/\"\n",
    "datafilename = \"wl_channel_%05i.fits\"\n",
    "datapath = datadirpath + datafilename\n",
    "datanum = 52\n",
    "\n",
    "data = open_fits(datapath%(datanum))"
   ]
  },
  {
   "cell_type": "code",
   "execution_count": 4,
   "metadata": {},
   "outputs": [
    {
     "data": {
      "application/javascript": "(function(root) {\n  function now() {\n    return new Date();\n  }\n\n  var force = true;\n\n  if (typeof root._bokeh_onload_callbacks === \"undefined\" || force === true) {\n    root._bokeh_onload_callbacks = [];\n    root._bokeh_is_loading = undefined;\n  }\n\n  if (typeof (root._bokeh_timeout) === \"undefined\" || force === true) {\n    root._bokeh_timeout = Date.now() + 5000;\n    root._bokeh_failed_load = false;\n  }\n\n  function run_callbacks() {\n    try {\n      root._bokeh_onload_callbacks.forEach(function(callback) {\n        if (callback != null)\n          callback();\n      });\n    } finally {\n      delete root._bokeh_onload_callbacks\n    }\n    console.debug(\"Bokeh: all callbacks have finished\");\n  }\n\n  function load_libs(css_urls, js_urls, js_modules, callback) {\n    if (css_urls == null) css_urls = [];\n    if (js_urls == null) js_urls = [];\n    if (js_modules == null) js_modules = [];\n\n    root._bokeh_onload_callbacks.push(callback);\n    if (root._bokeh_is_loading > 0) {\n      console.debug(\"Bokeh: BokehJS is being loaded, scheduling callback at\", now());\n      return null;\n    }\n    if (js_urls.length === 0 && js_modules.length === 0) {\n      run_callbacks();\n      return null;\n    }\n    console.debug(\"Bokeh: BokehJS not loaded, scheduling load and callback at\", now());\n\n    function on_load() {\n      root._bokeh_is_loading--;\n      if (root._bokeh_is_loading === 0) {\n        console.debug(\"Bokeh: all BokehJS libraries/stylesheets loaded\");\n        run_callbacks()\n      }\n    }\n\n    function on_error() {\n      console.error(\"failed to load \" + url);\n    }\n\n    for (var i = 0; i < css_urls.length; i++) {\n      var url = css_urls[i];\n      const element = document.createElement(\"link\");\n      element.onload = on_load;\n      element.onerror = on_error;\n      element.rel = \"stylesheet\";\n      element.type = \"text/css\";\n      element.href = url;\n      console.debug(\"Bokeh: injecting link tag for BokehJS stylesheet: \", url);\n      document.body.appendChild(element);\n    }\n\n    var skip = [];\n    if (window.requirejs) {\n      window.requirejs.config({'packages': {}, 'paths': {'gridstack': 'https://cdn.jsdelivr.net/npm/gridstack@4.2.5/dist/gridstack-h5', 'notyf': 'https://cdn.jsdelivr.net/npm/notyf@3/notyf.min'}, 'shim': {'gridstack': {'exports': 'GridStack'}}});\n      require([\"gridstack\"], function(GridStack) {\n\twindow.GridStack = GridStack\n\ton_load()\n      })\n      require([\"notyf\"], function() {\n\ton_load()\n      })\n      root._bokeh_is_loading = css_urls.length + 2;\n    } else {\n      root._bokeh_is_loading = css_urls.length + js_urls.length + js_modules.length;\n    }    if (((window['GridStack'] !== undefined) && (!(window['GridStack'] instanceof HTMLElement))) || window.requirejs) {\n      var urls = ['https://cdn.holoviz.org/panel/0.14.4/dist/bundled/gridstack/gridstack@4.2.5/dist/gridstack-h5.js'];\n      for (var i = 0; i < urls.length; i++) {\n        skip.push(urls[i])\n      }\n    }    if (((window['Notyf'] !== undefined) && (!(window['Notyf'] instanceof HTMLElement))) || window.requirejs) {\n      var urls = ['https://cdn.holoviz.org/panel/0.14.4/dist/bundled/notificationarea/notyf@3/notyf.min.js'];\n      for (var i = 0; i < urls.length; i++) {\n        skip.push(urls[i])\n      }\n    }    for (var i = 0; i < js_urls.length; i++) {\n      var url = js_urls[i];\n      if (skip.indexOf(url) >= 0) {\n\tif (!window.requirejs) {\n\t  on_load();\n\t}\n\tcontinue;\n      }\n      var element = document.createElement('script');\n      element.onload = on_load;\n      element.onerror = on_error;\n      element.async = false;\n      element.src = url;\n      console.debug(\"Bokeh: injecting script tag for BokehJS library: \", url);\n      document.head.appendChild(element);\n    }\n    for (var i = 0; i < js_modules.length; i++) {\n      var url = js_modules[i];\n      if (skip.indexOf(url) >= 0) {\n\tif (!window.requirejs) {\n\t  on_load();\n\t}\n\tcontinue;\n      }\n      var element = document.createElement('script');\n      element.onload = on_load;\n      element.onerror = on_error;\n      element.async = false;\n      element.src = url;\n      element.type = \"module\";\n      console.debug(\"Bokeh: injecting script tag for BokehJS library: \", url);\n      document.head.appendChild(element);\n    }\n    if (!js_urls.length && !js_modules.length) {\n      on_load()\n    }\n  };\n\n  function inject_raw_css(css) {\n    const element = document.createElement(\"style\");\n    element.appendChild(document.createTextNode(css));\n    document.body.appendChild(element);\n  }\n\n  var js_urls = [\"https://cdn.bokeh.org/bokeh/release/bokeh-2.4.0.min.js\", \"https://cdn.bokeh.org/bokeh/release/bokeh-gl-2.4.0.min.js\", \"https://cdn.bokeh.org/bokeh/release/bokeh-widgets-2.4.0.min.js\", \"https://cdn.bokeh.org/bokeh/release/bokeh-tables-2.4.0.min.js\", \"https://cdn.bokeh.org/bokeh/release/bokeh-mathjax-2.4.0.min.js\", \"https://unpkg.com/@holoviz/panel@0.14.4/dist/panel.min.js\"];\n  var js_modules = [];\n  var css_urls = [\"https://cdn.holoviz.org/panel/0.14.4/dist/css/alerts.css\", \"https://cdn.holoviz.org/panel/0.14.4/dist/css/debugger.css\", \"https://cdn.holoviz.org/panel/0.14.4/dist/css/markdown.css\", \"https://cdn.holoviz.org/panel/0.14.4/dist/css/json.css\", \"https://cdn.holoviz.org/panel/0.14.4/dist/css/card.css\", \"https://cdn.holoviz.org/panel/0.14.4/dist/css/widgets.css\", \"https://cdn.holoviz.org/panel/0.14.4/dist/css/dataframe.css\", \"https://cdn.holoviz.org/panel/0.14.4/dist/css/loading.css\"];\n  var inline_js = [    function(Bokeh) {\n      inject_raw_css(\"\\n    .bk.pn-loading.arc:before {\\n      background-image: url(\\\"data:image/svg+xml;base64,PHN2ZyB4bWxucz0iaHR0cDovL3d3dy53My5vcmcvMjAwMC9zdmciIHN0eWxlPSJtYXJnaW46IGF1dG87IGJhY2tncm91bmQ6IG5vbmU7IGRpc3BsYXk6IGJsb2NrOyBzaGFwZS1yZW5kZXJpbmc6IGF1dG87IiB2aWV3Qm94PSIwIDAgMTAwIDEwMCIgcHJlc2VydmVBc3BlY3RSYXRpbz0ieE1pZFlNaWQiPiAgPGNpcmNsZSBjeD0iNTAiIGN5PSI1MCIgZmlsbD0ibm9uZSIgc3Ryb2tlPSIjYzNjM2MzIiBzdHJva2Utd2lkdGg9IjEwIiByPSIzNSIgc3Ryb2tlLWRhc2hhcnJheT0iMTY0LjkzMzYxNDMxMzQ2NDE1IDU2Ljk3Nzg3MTQzNzgyMTM4Ij4gICAgPGFuaW1hdGVUcmFuc2Zvcm0gYXR0cmlidXRlTmFtZT0idHJhbnNmb3JtIiB0eXBlPSJyb3RhdGUiIHJlcGVhdENvdW50PSJpbmRlZmluaXRlIiBkdXI9IjFzIiB2YWx1ZXM9IjAgNTAgNTA7MzYwIDUwIDUwIiBrZXlUaW1lcz0iMDsxIj48L2FuaW1hdGVUcmFuc2Zvcm0+ICA8L2NpcmNsZT48L3N2Zz4=\\\");\\n      background-size: auto calc(min(50%, 400px));\\n    }\\n    \");\n    },    function(Bokeh) {\n      Bokeh.set_log_level(\"info\");\n    },\nfunction(Bokeh) {} // ensure no trailing comma for IE\n  ];\n\n  function run_inline_js() {\n    if ((root.Bokeh !== undefined) || (force === true)) {\n      for (var i = 0; i < inline_js.length; i++) {\n        inline_js[i].call(root, root.Bokeh);\n      }} else if (Date.now() < root._bokeh_timeout) {\n      setTimeout(run_inline_js, 100);\n    } else if (!root._bokeh_failed_load) {\n      console.log(\"Bokeh: BokehJS failed to load within specified timeout.\");\n      root._bokeh_failed_load = true;\n    }\n  }\n\n  if (root._bokeh_is_loading === 0) {\n    console.debug(\"Bokeh: BokehJS loaded, going straight to plotting\");\n    run_inline_js();\n  } else {\n    load_libs(css_urls, js_urls, js_modules, function() {\n      console.debug(\"Bokeh: BokehJS plotting callback run at\", now());\n      run_inline_js();\n    });\n  }\n}(window));",
      "application/vnd.holoviews_load.v0+json": ""
     },
     "metadata": {},
     "output_type": "display_data"
    },
    {
     "data": {
      "application/javascript": "\nif ((window.PyViz === undefined) || (window.PyViz instanceof HTMLElement)) {\n  window.PyViz = {comms: {}, comm_status:{}, kernels:{}, receivers: {}, plot_index: []}\n}\n\n\n    function JupyterCommManager() {\n    }\n\n    JupyterCommManager.prototype.register_target = function(plot_id, comm_id, msg_handler) {\n      if (window.comm_manager || ((window.Jupyter !== undefined) && (Jupyter.notebook.kernel != null))) {\n        var comm_manager = window.comm_manager || Jupyter.notebook.kernel.comm_manager;\n        comm_manager.register_target(comm_id, function(comm) {\n          comm.on_msg(msg_handler);\n        });\n      } else if ((plot_id in window.PyViz.kernels) && (window.PyViz.kernels[plot_id])) {\n        window.PyViz.kernels[plot_id].registerCommTarget(comm_id, function(comm) {\n          comm.onMsg = msg_handler;\n        });\n      } else if (typeof google != 'undefined' && google.colab.kernel != null) {\n        google.colab.kernel.comms.registerTarget(comm_id, (comm) => {\n          var messages = comm.messages[Symbol.asyncIterator]();\n          function processIteratorResult(result) {\n            var message = result.value;\n            console.log(message)\n            var content = {data: message.data, comm_id};\n            var buffers = []\n            for (var buffer of message.buffers || []) {\n              buffers.push(new DataView(buffer))\n            }\n            var metadata = message.metadata || {};\n            var msg = {content, buffers, metadata}\n            msg_handler(msg);\n            return messages.next().then(processIteratorResult);\n          }\n          return messages.next().then(processIteratorResult);\n        })\n      }\n    }\n\n    JupyterCommManager.prototype.get_client_comm = function(plot_id, comm_id, msg_handler) {\n      if (comm_id in window.PyViz.comms) {\n        return window.PyViz.comms[comm_id];\n      } else if (window.comm_manager || ((window.Jupyter !== undefined) && (Jupyter.notebook.kernel != null))) {\n        var comm_manager = window.comm_manager || Jupyter.notebook.kernel.comm_manager;\n        var comm = comm_manager.new_comm(comm_id, {}, {}, {}, comm_id);\n        if (msg_handler) {\n          comm.on_msg(msg_handler);\n        }\n      } else if ((plot_id in window.PyViz.kernels) && (window.PyViz.kernels[plot_id])) {\n        var comm = window.PyViz.kernels[plot_id].connectToComm(comm_id);\n        comm.open();\n        if (msg_handler) {\n          comm.onMsg = msg_handler;\n        }\n      } else if (typeof google != 'undefined' && google.colab.kernel != null) {\n        var comm_promise = google.colab.kernel.comms.open(comm_id)\n        comm_promise.then((comm) => {\n          window.PyViz.comms[comm_id] = comm;\n          if (msg_handler) {\n            var messages = comm.messages[Symbol.asyncIterator]();\n            function processIteratorResult(result) {\n              var message = result.value;\n              var content = {data: message.data};\n              var metadata = message.metadata || {comm_id};\n              var msg = {content, metadata}\n              msg_handler(msg);\n              return messages.next().then(processIteratorResult);\n            }\n            return messages.next().then(processIteratorResult);\n          }\n        }) \n        var sendClosure = (data, metadata, buffers, disposeOnDone) => {\n          return comm_promise.then((comm) => {\n            comm.send(data, metadata, buffers, disposeOnDone);\n          });\n        };\n        var comm = {\n          send: sendClosure\n        };\n      }\n      window.PyViz.comms[comm_id] = comm;\n      return comm;\n    }\n    window.PyViz.comm_manager = new JupyterCommManager();\n    \n\n\nvar JS_MIME_TYPE = 'application/javascript';\nvar HTML_MIME_TYPE = 'text/html';\nvar EXEC_MIME_TYPE = 'application/vnd.holoviews_exec.v0+json';\nvar CLASS_NAME = 'output';\n\n/**\n * Render data to the DOM node\n */\nfunction render(props, node) {\n  var div = document.createElement(\"div\");\n  var script = document.createElement(\"script\");\n  node.appendChild(div);\n  node.appendChild(script);\n}\n\n/**\n * Handle when a new output is added\n */\nfunction handle_add_output(event, handle) {\n  var output_area = handle.output_area;\n  var output = handle.output;\n  if ((output.data == undefined) || (!output.data.hasOwnProperty(EXEC_MIME_TYPE))) {\n    return\n  }\n  var id = output.metadata[EXEC_MIME_TYPE][\"id\"];\n  var toinsert = output_area.element.find(\".\" + CLASS_NAME.split(' ')[0]);\n  if (id !== undefined) {\n    var nchildren = toinsert.length;\n    var html_node = toinsert[nchildren-1].children[0];\n    html_node.innerHTML = output.data[HTML_MIME_TYPE];\n    var scripts = [];\n    var nodelist = html_node.querySelectorAll(\"script\");\n    for (var i in nodelist) {\n      if (nodelist.hasOwnProperty(i)) {\n        scripts.push(nodelist[i])\n      }\n    }\n\n    scripts.forEach( function (oldScript) {\n      var newScript = document.createElement(\"script\");\n      var attrs = [];\n      var nodemap = oldScript.attributes;\n      for (var j in nodemap) {\n        if (nodemap.hasOwnProperty(j)) {\n          attrs.push(nodemap[j])\n        }\n      }\n      attrs.forEach(function(attr) { newScript.setAttribute(attr.name, attr.value) });\n      newScript.appendChild(document.createTextNode(oldScript.innerHTML));\n      oldScript.parentNode.replaceChild(newScript, oldScript);\n    });\n    if (JS_MIME_TYPE in output.data) {\n      toinsert[nchildren-1].children[1].textContent = output.data[JS_MIME_TYPE];\n    }\n    output_area._hv_plot_id = id;\n    if ((window.Bokeh !== undefined) && (id in Bokeh.index)) {\n      window.PyViz.plot_index[id] = Bokeh.index[id];\n    } else {\n      window.PyViz.plot_index[id] = null;\n    }\n  } else if (output.metadata[EXEC_MIME_TYPE][\"server_id\"] !== undefined) {\n    var bk_div = document.createElement(\"div\");\n    bk_div.innerHTML = output.data[HTML_MIME_TYPE];\n    var script_attrs = bk_div.children[0].attributes;\n    for (var i = 0; i < script_attrs.length; i++) {\n      toinsert[toinsert.length - 1].childNodes[1].setAttribute(script_attrs[i].name, script_attrs[i].value);\n    }\n    // store reference to server id on output_area\n    output_area._bokeh_server_id = output.metadata[EXEC_MIME_TYPE][\"server_id\"];\n  }\n}\n\n/**\n * Handle when an output is cleared or removed\n */\nfunction handle_clear_output(event, handle) {\n  var id = handle.cell.output_area._hv_plot_id;\n  var server_id = handle.cell.output_area._bokeh_server_id;\n  if (((id === undefined) || !(id in PyViz.plot_index)) && (server_id !== undefined)) { return; }\n  var comm = window.PyViz.comm_manager.get_client_comm(\"hv-extension-comm\", \"hv-extension-comm\", function () {});\n  if (server_id !== null) {\n    comm.send({event_type: 'server_delete', 'id': server_id});\n    return;\n  } else if (comm !== null) {\n    comm.send({event_type: 'delete', 'id': id});\n  }\n  delete PyViz.plot_index[id];\n  if ((window.Bokeh !== undefined) & (id in window.Bokeh.index)) {\n    var doc = window.Bokeh.index[id].model.document\n    doc.clear();\n    const i = window.Bokeh.documents.indexOf(doc);\n    if (i > -1) {\n      window.Bokeh.documents.splice(i, 1);\n    }\n  }\n}\n\n/**\n * Handle kernel restart event\n */\nfunction handle_kernel_cleanup(event, handle) {\n  delete PyViz.comms[\"hv-extension-comm\"];\n  window.PyViz.plot_index = {}\n}\n\n/**\n * Handle update_display_data messages\n */\nfunction handle_update_output(event, handle) {\n  handle_clear_output(event, {cell: {output_area: handle.output_area}})\n  handle_add_output(event, handle)\n}\n\nfunction register_renderer(events, OutputArea) {\n  function append_mime(data, metadata, element) {\n    // create a DOM node to render to\n    var toinsert = this.create_output_subarea(\n    metadata,\n    CLASS_NAME,\n    EXEC_MIME_TYPE\n    );\n    this.keyboard_manager.register_events(toinsert);\n    // Render to node\n    var props = {data: data, metadata: metadata[EXEC_MIME_TYPE]};\n    render(props, toinsert[0]);\n    element.append(toinsert);\n    return toinsert\n  }\n\n  events.on('output_added.OutputArea', handle_add_output);\n  events.on('output_updated.OutputArea', handle_update_output);\n  events.on('clear_output.CodeCell', handle_clear_output);\n  events.on('delete.Cell', handle_clear_output);\n  events.on('kernel_ready.Kernel', handle_kernel_cleanup);\n\n  OutputArea.prototype.register_mime_type(EXEC_MIME_TYPE, append_mime, {\n    safe: true,\n    index: 0\n  });\n}\n\nif (window.Jupyter !== undefined) {\n  try {\n    var events = require('base/js/events');\n    var OutputArea = require('notebook/js/outputarea').OutputArea;\n    if (OutputArea.prototype.mime_types().indexOf(EXEC_MIME_TYPE) == -1) {\n      register_renderer(events, OutputArea);\n    }\n  } catch(err) {\n  }\n}\n",
      "application/vnd.holoviews_load.v0+json": ""
     },
     "metadata": {},
     "output_type": "display_data"
    },
    {
     "data": {
      "text/html": [
       "<style>.bk-root, .bk-root .bk:before, .bk-root .bk:after {\n",
       "  font-family: var(--jp-ui-font-size1);\n",
       "  font-size: var(--jp-ui-font-size1);\n",
       "  color: var(--jp-ui-font-color1);\n",
       "}\n",
       "</style>"
      ]
     },
     "metadata": {},
     "output_type": "display_data"
    },
    {
     "data": {
      "text/html": [
       "\n",
       "<div class=\"logo-block\">\n",
       "<img src='data:image/png;base64,iVBORw0KGgoAAAANSUhEUgAAAEAAAABACAYAAACqaXHeAAAABHNCSVQICAgIfAhkiAAAAAlwSFlz\n",
       "AAAB+wAAAfsBxc2miwAAABl0RVh0U29mdHdhcmUAd3d3Lmlua3NjYXBlLm9yZ5vuPBoAAA6zSURB\n",
       "VHic7ZtpeFRVmsf/5966taWqUlUJ2UioBBJiIBAwCZtog9IOgjqACsogKtqirT2ttt069nQ/zDzt\n",
       "tI4+CrJIREFaFgWhBXpUNhHZQoKBkIUASchWla1S+3ar7r1nPkDaCAnZKoQP/D7mnPOe9/xy76n3\n",
       "nFSAW9ziFoPFNED2LLK5wcyBDObkb8ZkxuaoSYlI6ZcOKq1eWFdedqNzGHQBk9RMEwFAASkk0Xw3\n",
       "ETacDNi2vtvc7L0ROdw0AjoSotQVkKSvHQz/wRO1lScGModBFbDMaNRN1A4tUBCS3lk7BWhQkgpD\n",
       "lG4852/+7DWr1R3uHAZVQDsbh6ZPN7CyxUrCzJMRouusj0ipRwD2uKm0Zn5d2dFwzX1TCGhnmdGo\n",
       "G62Nna+isiUqhkzuKrkQaJlPEv5mFl2fvGg2t/VnzkEV8F5ioioOEWkLG86fvbpthynjdhXYZziQ\n",
       "x1hC9J2NFyi8vCTt91Fh04KGip0AaG9zuCk2wQCVyoNU3Hjezee9bq92duzzTmxsRJoy+jEZZZYo\n",
       "GTKJ6SJngdJqAfRzpze0+jHreUtPc7gpBLQnIYK6BYp/uGhw9YK688eu7v95ysgshcg9qSLMo3JC\n",
       "4jqLKQFBgdKDPoQ+Pltb8dUyQLpeDjeVgI6EgLIQFT5tEl3rn2losHVsexbZ3EyT9wE1uGdkIPcy\n",
       "BGxn8QUq1QrA5nqW5i2tLqvrrM9NK6AdkVIvL9E9bZL/oyfMVd/jqvc8LylzRBKDJSzIExwhQzuL\n",
       "QYGQj4rHfFTc8mUdu3E7yoLtbTe9gI4EqVgVkug2i5+uXGo919ixbRog+3fTbQ8qJe4ZOYNfMoTI\n",
       "OoshUNosgO60AisX15aeI2PSIp5KiFLI9ubb1vV3Qb2ltwLakUCDAkWX7/nHKRmmGIl9VgYsUhJm\n",
       "2NXjKYADtM1ygne9QQDIXlk49FBstMKx66D1v4+XuQr7vqTe0VcBHQlRWiOCbmmSYe2SqtL6q5rJ\n",
       "zsTb7lKx3FKOYC4DoqyS/B5bvLPxvD9Qtf6saxYLQGJErmDOdOMr/zo96km1nElr8bmPOBwI9COv\n",
       "HnFPRIwmkSOv9kcAS4heRsidOkpeWBgZM+UBrTFAXNYL5Vf2ii9c1trNzpYdaoVil3WIc+wdk+gQ\n",
       "noie3ecCcxt9ITcLAPWt/laGEO/9U6PmzZkenTtsSMQ8uYywJVW+grCstAvCIaAdArAsIWkRDDs/\n",
       "KzLm2YcjY1Lv0UdW73HabE9n6V66cxSzfEmuJssTpKGVp+0vHq73FwL46eOjpMpbRAnNmJFrGJNu\n",
       "Ukf9Yrz+3rghiumCKNXXWPhLYcjxGsIpoCMsIRoFITkW8AuyM8jC1+/QLx4bozCEJIq38+1rtpR6\n",
       "V/yzb8eBlRb3fo5l783N0CWolAzJHaVNzkrTzlEp2bQ2q3TC5gn6wpnoQAmwSiGh2GitnTmVMc5O\n",
       "UyfKWUKCIsU7+fZDKwqdT6DDpvkzAX4/+AMFjk0tDp5GRXLpQ2MUmhgDp5gxQT8+Y7hyPsMi8uxF\n",
       "71H0oebujHALECjFKaW9Lm68n18wXp2kVzIcABytD5iXFzg+WVXkegpAsOOYziqo0OkK76GyquC3\n",
       "ltZAzMhhqlSNmmWTE5T6e3IN05ITFLM4GdN0vtZ3ob8Jh1NAKXFbm5PtLU/eqTSlGjkNAJjdgn/N\n",
       "aedXa0tdi7+t9G0FIF49rtMSEgAs1kDLkTPO7ebm4IUWeyh1bKomXqlgMG6kJmHcSM0clYLJ8XtR\n",
       "1GTnbV3F6I5wCGikAb402npp1h1s7LQUZZSMIfALFOuL3UUrfnS8+rez7v9qcold5tilgHbO1fjK\n",
       "9ubb17u9oshxzMiUBKXWqJNxd+fqb0tLVs4lILFnK71H0Ind7uiPgACVcFJlrb0tV6DzxqqTIhUM\n",
       "CwDf1/rrVhTa33/3pGPxJYdQ2l2cbgVcQSosdx8uqnDtbGjh9SlDVSMNWhlnilfqZk42Th2ZpLpf\n",
       "xrHec5e815zrr0dfBZSwzkZfqsv+1FS1KUknUwPARVvItfKUY+cn57yP7qv07UE3p8B2uhUwLk09\n",
       "e0SCOrK+hbdYHYLjRIl71wWzv9jpEoeOHhGRrJAzyEyNiJuUqX0g2sBN5kGK6y2Blp5M3lsB9Qh4\n",
       "y2Ja6x6+i0ucmKgwMATwhSjdUu49tKrQ/pvN5d53ml2CGwCmJipmKjgmyuaXzNeL2a0AkQ01Th5j\n",
       "2DktO3Jyk8f9vcOBQHV94OK+fPumJmvQHxJoWkaKWq9Vs+yUsbq0zGT1I4RgeH2b5wef7+c7bl8F\n",
       "eKgoHVVZa8ZPEORzR6sT1BzDUAD/d9F78e2Tzv99v8D+fLVTqAKAsbGamKey1Mt9Ann4eH3gTXTz\n",
       "idWtAJ8PQWOk7NzSeQn/OTHDuEikVF1R4z8BQCy+6D1aWRfY0tTGG2OM8rRoPaeIj5ZHzJxszElN\n",
       "VM8K8JS5WOfv8mzRnQAKoEhmt8gyPM4lU9SmBK1MCQBnW4KONT86v1hZ1PbwSXPw4JWussVjtH9Y\n",
       "NCoiL9UoH/6PSu8jFrfY2t36erQHXLIEakMi1SydmzB31h3GGXFDFNPaK8Rme9B79Ixrd0WN+1ij\n",
       "NRQ/doRmuFLBkHSTOm5GruG+pFjFdAmorG4IXH1Qua6ASniclfFtDYt+oUjKipPrCQB7QBQ2lrgP\n",
       "fFzm+9XWUtcqJ3/5vDLDpJ79XHZk3u8nGZ42qlj1+ydtbxysCezrydp6ugmipNJ7WBPB5tydY0jP\n",
       "HaVNzs3QzeE4ZpTbI+ZbnSFPbVOw9vsfnVvqWnirPyCNGD08IlqtYkh2hjZ5dErEQzoNm+6ykyOt\n",
       "Lt5/PQEuSRRKo22VkydK+vvS1XEKlhCJAnsqvcVvH7f/ZU2R67eXbMEGAMiIV5oWZWiWvz5Fv2xG\n",
       "sjqNJQRvn3Rs2lji/lNP19VjAQDgD7FHhujZB9OGqYxRkZxixgRDVlqS6uEOFaJUVu0rPFzctrnF\n",
       "JqijImVp8dEKVWyUXDk92zAuMZ6bFwpBU1HrOw6AdhQgUooChb0+ItMbWJitSo5Ws3IAOGEOtL53\n",
       "0vHZih9sC4vtofZ7Qu6523V/fmGcds1TY3V36pUsBwAbSlxnVh2xLfAD/IAIMDf7XYIkNmXfpp2l\n",
       "18rkAJAy9HKFaIr/qULkeQQKy9zf1JgDB2uaeFNGijo5QsUyacNUUTOnGO42xSnv4oOwpDi1zYkc\n",
       "efUc3I5Gk6PhyTuVKaOGyLUAYPGIoY9Pu/atL/L92+4q9wbflRJ2Trpm/jPjdBtfnqB/dIThcl8A\n",
       "KG7hbRuKnb8qsQsVvVlTrwQAQMUlf3kwJI24Z4JhPMtcfng5GcH49GsrxJpGvvHIaeem2ma+KSjQ\n",
       "lIwUdYyCY8j4dE1KzijNnIP2llF2wcXNnsoapw9XxsgYAl6k+KzUXbi2yP3KR2ecf6z3BFsBICdW\n",
       "nvnIaG3eHybqX7vbpEqUMT+9OL4Qpe8VON7dXuFd39v19FoAABRVePbGGuXTszO0P7tu6lghUonE\n",
       "llRdrhArLvmKdh9u29jcFiRRkfLUxBiFNiqSU9icoZQHo5mYBI1MBgBH6wMNb+U7Pnw337H4gi1Y\n",
       "ciWs+uks3Z9fztUvfzxTm9Ne8XXkvQLHNytOOZeiD4e0PgkAIAYCYknKUNUDSXEKzdWNpnil7r4p\n",
       "xqkjTarZMtk/K8TQ6Qve78qqvXurGwIJqcOUKfUWHsm8KGvxSP68YudXq4pcj39X49uOK2X142O0\n",
       "Tz5/u/7TVybqH0rSya6ZBwD21/gubbrgWdDgEOx9WUhfBaC2ibcEBYm7a7x+ukrBMNcEZggyR0TE\n",
       "T8zUPjikQ4VosQZbTpS4vqizBKvqmvjsqnpfzaZyx9JPiz1/bfGKdgD45XB1zoIMzYbfTdS/NClB\n",
       "Gct0USiY3YL/g0LHy/uq/Ef6uo5+n0R/vyhp17Klpge763f8rMu6YU/zrn2nml+2WtH+Z+5IAAFc\n",
       "2bUTdTDOSNa9+cQY7YLsOIXhevEkCvzph7a8laecz/Un/z4/Ae04XeL3UQb57IwU9ZDr9UuKVajv\n",
       "nxp1+1UVIo/LjztZkKH59fO3G/JemqCfmaCRqbqbd90ZZ8FfjtkfAyD0J/9+C2h1hDwsSxvGjNDc\n",
       "b4zk5NfrSwiQblLHzZhg+Jf4aPlUwpDqkQqa9nimbt1/TDH8OitGMaQnj+RJS6B1fbF7SY1TqO5v\n",
       "/v0WAADl1f7zokgS7s7VT2DZ7pegUjBM7mjtiDZbcN4j0YrHH0rXpCtY0qPX0cVL0rv5jv/ZXend\n",
       "0u/EESYBAFBU4T4Qa5TflZOhTe7pmKpaP8kCVUVw1+yhXfJWvn1P3hnXi33JsTN6PnP3hHZ8Z3/h\n",
       "aLHzmkNPuPj7Bc/F/Q38CwjTpSwQXgE4Vmwry9tpfq/ZFgqFMy4AVDtCvi8rvMvOmv0N4YwbVgEA\n",
       "sPM72/KVnzfspmH7HQGCRLG2yL1+z8XwvPcdCbsAANh+xPzstgMtxeGKt+6MK3/tacfvwhWvIwMi\n",
       "oKEBtm0H7W+UVfkc/Y1V0BhoPlDr/w1w/eu1vjIgAgDg22OtX6/eYfnEz/focrZTHAFR+PSs56/7\n",
       "q32nwpjazxgwAQCwcU/T62t3WL7r6/jVRa6/byp1rei+Z98ZUAEAhEPHPc8fKnTU9nbgtnOe8h0l\n",
       "9hcGIqmODLQAHCy2Xti6v/XNRivf43f4fFvIteu854+VHnR7q9tfBlwAAGz+pnndB9vM26UebAe8\n",
       "SLHujPOTPVW+rwY+sxskAAC2HrA8t2Vvc7ffP1r9o+vwR2dcr92InIAbKKC1FZ5tB1tf+/G8p8sv\n",
       "N/9Q5zd/XR34LYCwV5JdccMEAMDBk45DH243r/X4xGvqxFa/GNpS7n6rwOwNWwHVE26oAADYurf1\n",
       "zx/utOzt+DMKYM0p17YtZZ5VNzqfsB2HewG1WXE8PoZ7gOclbTIvynZf9JV+fqZtfgs/8F/Nu5rB\n",
       "EIBmJ+8QRMmpU7EzGRsf2FzuePqYRbzh/zE26EwdrT10f6r6o8HOYzCJB9Dpff8tbnGLG8L/A/WE\n",
       "roTBs2RqAAAAAElFTkSuQmCC'\n",
       "     style='height:25px; border-radius:12px; display: inline-block; float: left; vertical-align: middle'></img>\n",
       "\n",
       "\n",
       "\n",
       "\n",
       "  <img src='data:image/png;base64,iVBORw0KGgoAAAANSUhEUgAAACAAAAAgCAYAAABzenr0AAAABHNCSVQICAgIfAhkiAAAAAlwSFlz\n",
       "AAAFMAAABTABZarKtgAAABl0RVh0U29mdHdhcmUAd3d3Lmlua3NjYXBlLm9yZ5vuPBoAAArNSURB\n",
       "VFiFnVd5VFNXGv/ee0kgGyQhbFoXIKCFYEXEDVErTucMoKUOWA/VLsNSLPQgFTOdyrHPiIp1lFIQ\n",
       "OlaPShEG3EpPcQmISCuV1bQ1CLKIULeQhJA9JO+9+UMT0x5aPfOdc895373f/e7v/t537/ddBF5Q\n",
       "JBIJl81mJwCACEVRQBCEQhAEAQCgnghCURRCkmS7Wq2+WlJSYn0Rv8jzDHAcD0EQJIVGo5mFQuGF\n",
       "jIyMu39kq1KpkOrq6gU6nS6aIAiGzWY7VVBQ0P9/AcjNzWXy+fxcOp2uiY+Przm0d6+n8dblv/Fo\n",
       "kzM4SzYfPlRePvFnjnt6ehh1dXVv2mw2nlar/byoqMj8wgBwHBchCJIZEhJSeu1yHVi7vtu02t8+\n",
       "NykQ7BMWoOUMhXQsXLv5IQAwSJJEEASxcDicoeTk5DtCoZBy9XX69Gnv3t7ebJIky3EcH3guAKlU\n",
       "GoGiaOKWLVsOvhs7/9XXPMde3/IyIFbMnaPDuD5AUdQuOf2XlD0npTExMWYAgNbWVpZcLg8xGAzB\n",
       "JEnSvby82tPT052LaTQatLy8fBtJkt/s3Lnz5h8CwHFcRKPRNu/YsePAjh072KTs0IGCxRg8RgUB\n",
       "TGpSx6cmHgMAfNqN6Xa1GvJ/D35gYAAViURkcXHxUrPZHDRv3rxv4uLiDI7xPXv2bLdYLBUFBQWD\n",
       "jj7M8ZGbm8tkMpmSrKysQiaTScXGxtpqL7dManT6tcu5mgEWWJyOhicozpk+c3NsbKzNFcBbWWEf\n",
       "1Td9/upA30i3ZJv0h8bGxiSFQmFcuHDhOACAWCy+0d3dvX3lypUtzc3N9t8AiIuLk4SEhByLiooy\n",
       "AgAcO3ZsNlPgH3Cttb35JZo+bCYXIQAA9MDiUW7sWS1KN687w6Mera2twa2trfMvXboUOS28Pyb1\n",
       "U08McRtf/sXBSmt5cc35pqamVQqFwhoZGallMpnU/fv3e7RaberVq1d/AABAn1IfQqfTNRs3blQB\n",
       "AFy+fJk7Nja2XCKRnD3dNSorusPq6NfTPR+gPiEEoLRFXO1tS2+zavv27ReftjNttyr0S1/j0rUP\n",
       "PEJQwNwQYGgAACQSyXmNRhMtk8lYAAApKSlKDMP0+fn5QU4ACIKkxMfH1zjYuHnz5uspKSlOfdX7\n",
       "u68fvOePcCzKQR4YVCgATGfa/F3pnzaHWOAXSDyaMCqH2+r8VXErP3D+snXr1tV2dXW94dATExOr\n",
       "6XT6JgAAVCKRcDEMM4WHh9sAAHJyUqNu//wDymKx7AAAVVVVPiaTKXxByrYMvBsxEMSTwPXhuL+8\n",
       "e/fu9fv371+flvbemogYNz+TnsBOFEwMFO8/KzEYDKFVVVX+AAChoaGT7u7ud48ePRro0DEMs+bl\n",
       "5bFRNpud4O3tfdGBzq5uy/5wTUPM/q2zC9atmbVqeHg4Pi0t7WxGRoZFH5rw76I7LI8HqHfwPL7d\n",
       "rfVagzw1NfW81t4ePUfsP/OrnWZ6fPSuUqFQSEkkkrOjo6OvuQR5q0ajiXLoPj4+lzgcTjwKACLH\n",
       "9SqXy2kzhBO8haGo+UA2wZW+p880DxeveGt9aHx9fT09ctlq3sC0NT9e6xsbjuZblSxl7wKtVotM\n",
       "m6PnXvlmZJBtX91CEMQsxyJsNlteXl4udugIghAajQYFAEhPTx9AEGQOimGY8y4oLt63KlJkdB4t\n",
       "P282Z/c/dPrDH04ktJ9P2tfWXP3+2o1vHzunEp6Xq0lsGt08KzUrcSGTQ3n3XeefLCs5UqnT6Rap\n",
       "VCoEACA7O/snvV4f5gJooLa2NsihoygKKEVRzquTND2OCpttGXdG1tOxwOlgzdvE9v30rV+m3W5I\n",
       "2jfJNQmLH85QUUzPNTwvkAx0+vVGhq2/VV9fT+dyuZ01NTXOXQOA3fGxevXq2waDYY5r8KIoij5b\n",
       "jzB5Cz2oKdOo0erOm+1tVuVtBMZXElNMRJR1fvvjx9iPLQ/RjpuB0Xu/Vp7YmH1864YNG3oNBkPw\n",
       "VD7mzp1rJUnSzZUBmqsBggAgGFC/n6jVA+3WoN3tu1Gg39cg2tEx1Cg3CIJHsclxnl2HRorMN8Z0\n",
       "fRW+vr7GJ36Q56Z5h9BIknzGAMJWtvdQYs0EZe3/FSwqk5tpXEMb1JoYD+n8xRdQJl/fMPEgzKhS\n",
       "L40KCD7lGzg92qIyovpb3y/msT2un2psvFpWVvYyl8vtc1nDSXFXV5c7iqLOtEyS5LNBAADfWeKm\n",
       "Ly4uuvR1++sfv51/P5sfnHm2/Iy+mBmwsaHJbpt+Q0jHSS7TZ/PSNVkNJ/973OxtemD1s91CPb12\n",
       "h9MfvZsk5meo1eqo5ORkxTNWn7HR1tY2l8PhOAsUiqIolCRJcETtv/61qzNySYK5trZ2TCgUUiwW\n",
       "S1FSUhLR+bA/kAzwXcAbHa/cFhrTXrJ/v+7IkSPu3Je4Xm5eboJv2wba5QbO5fQwxhsP679Y+nFO\n",
       "jgAAoKSkJILFYjnBGI1G0YYNGwYBnqRoiqIQlKKojurq6gUAAAKBgKQoiuGYkJWVpTCZTOKmI1Xd\n",
       "HwnDcm+cOnOMw+H0FxYWbqpvqv/r9EV+bky+O+/QoUPiqJRt9JphTLFHbKBCR87tWL9EPN9oNIZn\n",
       "ZWUpXHaMCQQCEgCgsrIyEgBuoGq1+qpOp4t2GPH5/BvFxcVLHXpgYGDD8ePH/56Xl2cCAMjMzOxP\n",
       "S0s7pWfow4RCbz/fAF9RT0+P9yeffHJySSqev+9nxLD1FaAlTR8vlJ8vxxzsFhUVLRMIBB0OvwaD\n",
       "YRlFUdfQkpISK0EQ9J6eHgYAQEZGxl2z2Rw0MjJCBwBITk5+xOVyfzpw4ECSw5lQKKQIbxtJm4EN\n",
       "8eZ7jPz0oNv+dK5FG/jq54eH+IFr/S1KabBy0UerAvI+++wzD4vFEpCWljYEACCTyVh2ux3FcXwS\n",
       "BQCw2WxVdXV1bzrQRURE1FVVVTn1zMzM/pkzZ35/9OjRd0pLS19RqVQIy4/tCwDgOcPTQvFQEQBA\n",
       "aWnpK0ERK2LbyVllN341GUJ4YDu8zD5bKyur7O+85tx9Z2fnO1ar9QjA04KkpaVFs2LFir8olcq7\n",
       "YWFhJpFINNnX16drbGyMjY6Ovg0AIBaLjcuXL5d3d3d7XbhwIW704b3F479MeD1qVfJ5Og/bvb4R\n",
       "LwaDMZabm9uwflNa/z/3HOIv5NsDEK7XS7FeevXPvYNLvm5S/GglCK5KpZorlUobXE8g5ObmMqVS\n",
       "6UG1Wu1BURSHoijOiRMnwgoLC7coFAqBo+9Fm0KhEKStmvvto3TeucFN7pVJYbytarXaQyqVHsRx\n",
       "3N15TF1BuBaljr4rV66wOzo63mAymXdzcnKuwwtIUVHRMqvVGkgQxMV7NXvyJijGvcNXB/7z5Zdf\n",
       "bicI4gSO40NTAgD4bVnuODIAT2pElUq1FEEQO4fD6QsPD++fqixHEATj8/ntjoCrqKhwS0hIsJWV\n",
       "leURBHEOx3G563pT3tn5+flBDAbjg6CgoMMpKSlK17GhoSFMJpMFPk04DJIkEQzDzCwW6+5UD5Oa\n",
       "mhrfO3fufECS5GHXnf8pAAAAHMfdURTdimGYPjExsTo0NHTyj2ynEplMxurs7HyHIAiKJMlSHMct\n",
       "U9k9N2vl5+cH0en0TRiGWX18fC65vnh+LxqNBq2oqFhgMpmi7XY7arVaj+zdu/fxn/l/4bSZl5fH\n",
       "5nK5CQAQMtXznCRJePpEbwOAZhzHX4ix/wHzzC/tu64gcwAAAABJRU5ErkJggg=='\n",
       "       style='height:15px; border-radius:12px; display: inline-block; float: left'></img>\n",
       "  \n",
       "\n",
       "\n",
       "</div>\n"
      ]
     },
     "metadata": {},
     "output_type": "display_data"
    },
    {
     "name": "stdout",
     "output_type": "stream",
     "text": [
      ":Dataset   [x,y,time]   (flux)\n",
      ":Cube_shape\t[63, 63, 2202]\n"
     ]
    },
    {
     "data": {
      "application/vnd.jupyter.widget-view+json": {
       "model_id": "0241ed58437345be8ee01a98e3d14070",
       "version_major": 2,
       "version_minor": 0
      },
      "text/plain": [
       "BokehModel(combine_events=True, render_bundle={'docs_json': {'823f47a7-2290-4c71-b0fd-fb9af7486a9a': {'defs': …"
      ]
     },
     "execution_count": 4,
     "metadata": {},
     "output_type": "execute_result"
    }
   ],
   "source": [
    "plot_cubes(data)"
   ]
  },
  {
   "cell_type": "code",
   "execution_count": 5,
   "metadata": {},
   "outputs": [
    {
     "name": "stdout",
     "output_type": "stream",
     "text": [
      "――――――――――――――――――――――――――――――――――――――――――――――――――――――――――――――――――――――――――――――――\n",
      "Starting time: 2023-06-21 16:25:19\n",
      "――――――――――――――――――――――――――――――――――――――――――――――――――――――――――――――――――――――――――――――――\n",
      "Median psf reference subtracted\n",
      "Done derotating and combining\n",
      "Running time:  0:00:41.274097\n",
      "――――――――――――――――――――――――――――――――――――――――――――――――――――――――――――――――――――――――――――――――\n"
     ]
    }
   ],
   "source": [
    "imlib = 'vip-fft'\n",
    "interpolation = None\n",
    "adi1 = median_sub(data, angles, imlib=imlib, interpolation=interpolation)"
   ]
  },
  {
   "cell_type": "code",
   "execution_count": 6,
   "metadata": {},
   "outputs": [
    {
     "data": {
      "application/javascript": "(function(root) {\n  function now() {\n    return new Date();\n  }\n\n  var force = true;\n\n  if (typeof root._bokeh_onload_callbacks === \"undefined\" || force === true) {\n    root._bokeh_onload_callbacks = [];\n    root._bokeh_is_loading = undefined;\n  }\n\n  if (typeof (root._bokeh_timeout) === \"undefined\" || force === true) {\n    root._bokeh_timeout = Date.now() + 5000;\n    root._bokeh_failed_load = false;\n  }\n\n  function run_callbacks() {\n    try {\n      root._bokeh_onload_callbacks.forEach(function(callback) {\n        if (callback != null)\n          callback();\n      });\n    } finally {\n      delete root._bokeh_onload_callbacks\n    }\n    console.debug(\"Bokeh: all callbacks have finished\");\n  }\n\n  function load_libs(css_urls, js_urls, js_modules, callback) {\n    if (css_urls == null) css_urls = [];\n    if (js_urls == null) js_urls = [];\n    if (js_modules == null) js_modules = [];\n\n    root._bokeh_onload_callbacks.push(callback);\n    if (root._bokeh_is_loading > 0) {\n      console.debug(\"Bokeh: BokehJS is being loaded, scheduling callback at\", now());\n      return null;\n    }\n    if (js_urls.length === 0 && js_modules.length === 0) {\n      run_callbacks();\n      return null;\n    }\n    console.debug(\"Bokeh: BokehJS not loaded, scheduling load and callback at\", now());\n\n    function on_load() {\n      root._bokeh_is_loading--;\n      if (root._bokeh_is_loading === 0) {\n        console.debug(\"Bokeh: all BokehJS libraries/stylesheets loaded\");\n        run_callbacks()\n      }\n    }\n\n    function on_error() {\n      console.error(\"failed to load \" + url);\n    }\n\n    for (var i = 0; i < css_urls.length; i++) {\n      var url = css_urls[i];\n      const element = document.createElement(\"link\");\n      element.onload = on_load;\n      element.onerror = on_error;\n      element.rel = \"stylesheet\";\n      element.type = \"text/css\";\n      element.href = url;\n      console.debug(\"Bokeh: injecting link tag for BokehJS stylesheet: \", url);\n      document.body.appendChild(element);\n    }\n\n    var skip = [];\n    if (window.requirejs) {\n      window.requirejs.config({'packages': {}, 'paths': {'gridstack': 'https://cdn.jsdelivr.net/npm/gridstack@4.2.5/dist/gridstack-h5', 'notyf': 'https://cdn.jsdelivr.net/npm/notyf@3/notyf.min'}, 'shim': {'gridstack': {'exports': 'GridStack'}}});\n      require([\"gridstack\"], function(GridStack) {\n\twindow.GridStack = GridStack\n\ton_load()\n      })\n      require([\"notyf\"], function() {\n\ton_load()\n      })\n      root._bokeh_is_loading = css_urls.length + 2;\n    } else {\n      root._bokeh_is_loading = css_urls.length + js_urls.length + js_modules.length;\n    }    if (((window['GridStack'] !== undefined) && (!(window['GridStack'] instanceof HTMLElement))) || window.requirejs) {\n      var urls = ['https://cdn.holoviz.org/panel/0.14.4/dist/bundled/gridstack/gridstack@4.2.5/dist/gridstack-h5.js'];\n      for (var i = 0; i < urls.length; i++) {\n        skip.push(urls[i])\n      }\n    }    if (((window['Notyf'] !== undefined) && (!(window['Notyf'] instanceof HTMLElement))) || window.requirejs) {\n      var urls = ['https://cdn.holoviz.org/panel/0.14.4/dist/bundled/notificationarea/notyf@3/notyf.min.js'];\n      for (var i = 0; i < urls.length; i++) {\n        skip.push(urls[i])\n      }\n    }    for (var i = 0; i < js_urls.length; i++) {\n      var url = js_urls[i];\n      if (skip.indexOf(url) >= 0) {\n\tif (!window.requirejs) {\n\t  on_load();\n\t}\n\tcontinue;\n      }\n      var element = document.createElement('script');\n      element.onload = on_load;\n      element.onerror = on_error;\n      element.async = false;\n      element.src = url;\n      console.debug(\"Bokeh: injecting script tag for BokehJS library: \", url);\n      document.head.appendChild(element);\n    }\n    for (var i = 0; i < js_modules.length; i++) {\n      var url = js_modules[i];\n      if (skip.indexOf(url) >= 0) {\n\tif (!window.requirejs) {\n\t  on_load();\n\t}\n\tcontinue;\n      }\n      var element = document.createElement('script');\n      element.onload = on_load;\n      element.onerror = on_error;\n      element.async = false;\n      element.src = url;\n      element.type = \"module\";\n      console.debug(\"Bokeh: injecting script tag for BokehJS library: \", url);\n      document.head.appendChild(element);\n    }\n    if (!js_urls.length && !js_modules.length) {\n      on_load()\n    }\n  };\n\n  function inject_raw_css(css) {\n    const element = document.createElement(\"style\");\n    element.appendChild(document.createTextNode(css));\n    document.body.appendChild(element);\n  }\n\n  var js_urls = [\"https://cdn.bokeh.org/bokeh/release/bokeh-2.4.0.min.js\", \"https://cdn.bokeh.org/bokeh/release/bokeh-gl-2.4.0.min.js\", \"https://cdn.bokeh.org/bokeh/release/bokeh-widgets-2.4.0.min.js\", \"https://cdn.bokeh.org/bokeh/release/bokeh-tables-2.4.0.min.js\", \"https://cdn.bokeh.org/bokeh/release/bokeh-mathjax-2.4.0.min.js\", \"https://unpkg.com/@holoviz/panel@0.14.4/dist/panel.min.js\"];\n  var js_modules = [];\n  var css_urls = [\"https://cdn.holoviz.org/panel/0.14.4/dist/css/alerts.css\", \"https://cdn.holoviz.org/panel/0.14.4/dist/css/debugger.css\", \"https://cdn.holoviz.org/panel/0.14.4/dist/css/markdown.css\", \"https://cdn.holoviz.org/panel/0.14.4/dist/css/json.css\", \"https://cdn.holoviz.org/panel/0.14.4/dist/css/card.css\", \"https://cdn.holoviz.org/panel/0.14.4/dist/css/widgets.css\", \"https://cdn.holoviz.org/panel/0.14.4/dist/css/dataframe.css\", \"https://cdn.holoviz.org/panel/0.14.4/dist/css/loading.css\"];\n  var inline_js = [    function(Bokeh) {\n      inject_raw_css(\"\\n    .bk.pn-loading.arc:before {\\n      background-image: url(\\\"data:image/svg+xml;base64,PHN2ZyB4bWxucz0iaHR0cDovL3d3dy53My5vcmcvMjAwMC9zdmciIHN0eWxlPSJtYXJnaW46IGF1dG87IGJhY2tncm91bmQ6IG5vbmU7IGRpc3BsYXk6IGJsb2NrOyBzaGFwZS1yZW5kZXJpbmc6IGF1dG87IiB2aWV3Qm94PSIwIDAgMTAwIDEwMCIgcHJlc2VydmVBc3BlY3RSYXRpbz0ieE1pZFlNaWQiPiAgPGNpcmNsZSBjeD0iNTAiIGN5PSI1MCIgZmlsbD0ibm9uZSIgc3Ryb2tlPSIjYzNjM2MzIiBzdHJva2Utd2lkdGg9IjEwIiByPSIzNSIgc3Ryb2tlLWRhc2hhcnJheT0iMTY0LjkzMzYxNDMxMzQ2NDE1IDU2Ljk3Nzg3MTQzNzgyMTM4Ij4gICAgPGFuaW1hdGVUcmFuc2Zvcm0gYXR0cmlidXRlTmFtZT0idHJhbnNmb3JtIiB0eXBlPSJyb3RhdGUiIHJlcGVhdENvdW50PSJpbmRlZmluaXRlIiBkdXI9IjFzIiB2YWx1ZXM9IjAgNTAgNTA7MzYwIDUwIDUwIiBrZXlUaW1lcz0iMDsxIj48L2FuaW1hdGVUcmFuc2Zvcm0+ICA8L2NpcmNsZT48L3N2Zz4=\\\");\\n      background-size: auto calc(min(50%, 400px));\\n    }\\n    \");\n    },    function(Bokeh) {\n      Bokeh.set_log_level(\"info\");\n    },\nfunction(Bokeh) {} // ensure no trailing comma for IE\n  ];\n\n  function run_inline_js() {\n    if ((root.Bokeh !== undefined) || (force === true)) {\n      for (var i = 0; i < inline_js.length; i++) {\n        inline_js[i].call(root, root.Bokeh);\n      }} else if (Date.now() < root._bokeh_timeout) {\n      setTimeout(run_inline_js, 100);\n    } else if (!root._bokeh_failed_load) {\n      console.log(\"Bokeh: BokehJS failed to load within specified timeout.\");\n      root._bokeh_failed_load = true;\n    }\n  }\n\n  if (root._bokeh_is_loading === 0) {\n    console.debug(\"Bokeh: BokehJS loaded, going straight to plotting\");\n    run_inline_js();\n  } else {\n    load_libs(css_urls, js_urls, js_modules, function() {\n      console.debug(\"Bokeh: BokehJS plotting callback run at\", now());\n      run_inline_js();\n    });\n  }\n}(window));",
      "application/vnd.holoviews_load.v0+json": ""
     },
     "metadata": {},
     "output_type": "display_data"
    },
    {
     "data": {
      "application/javascript": "\nif ((window.PyViz === undefined) || (window.PyViz instanceof HTMLElement)) {\n  window.PyViz = {comms: {}, comm_status:{}, kernels:{}, receivers: {}, plot_index: []}\n}\n\n\n    function JupyterCommManager() {\n    }\n\n    JupyterCommManager.prototype.register_target = function(plot_id, comm_id, msg_handler) {\n      if (window.comm_manager || ((window.Jupyter !== undefined) && (Jupyter.notebook.kernel != null))) {\n        var comm_manager = window.comm_manager || Jupyter.notebook.kernel.comm_manager;\n        comm_manager.register_target(comm_id, function(comm) {\n          comm.on_msg(msg_handler);\n        });\n      } else if ((plot_id in window.PyViz.kernels) && (window.PyViz.kernels[plot_id])) {\n        window.PyViz.kernels[plot_id].registerCommTarget(comm_id, function(comm) {\n          comm.onMsg = msg_handler;\n        });\n      } else if (typeof google != 'undefined' && google.colab.kernel != null) {\n        google.colab.kernel.comms.registerTarget(comm_id, (comm) => {\n          var messages = comm.messages[Symbol.asyncIterator]();\n          function processIteratorResult(result) {\n            var message = result.value;\n            console.log(message)\n            var content = {data: message.data, comm_id};\n            var buffers = []\n            for (var buffer of message.buffers || []) {\n              buffers.push(new DataView(buffer))\n            }\n            var metadata = message.metadata || {};\n            var msg = {content, buffers, metadata}\n            msg_handler(msg);\n            return messages.next().then(processIteratorResult);\n          }\n          return messages.next().then(processIteratorResult);\n        })\n      }\n    }\n\n    JupyterCommManager.prototype.get_client_comm = function(plot_id, comm_id, msg_handler) {\n      if (comm_id in window.PyViz.comms) {\n        return window.PyViz.comms[comm_id];\n      } else if (window.comm_manager || ((window.Jupyter !== undefined) && (Jupyter.notebook.kernel != null))) {\n        var comm_manager = window.comm_manager || Jupyter.notebook.kernel.comm_manager;\n        var comm = comm_manager.new_comm(comm_id, {}, {}, {}, comm_id);\n        if (msg_handler) {\n          comm.on_msg(msg_handler);\n        }\n      } else if ((plot_id in window.PyViz.kernels) && (window.PyViz.kernels[plot_id])) {\n        var comm = window.PyViz.kernels[plot_id].connectToComm(comm_id);\n        comm.open();\n        if (msg_handler) {\n          comm.onMsg = msg_handler;\n        }\n      } else if (typeof google != 'undefined' && google.colab.kernel != null) {\n        var comm_promise = google.colab.kernel.comms.open(comm_id)\n        comm_promise.then((comm) => {\n          window.PyViz.comms[comm_id] = comm;\n          if (msg_handler) {\n            var messages = comm.messages[Symbol.asyncIterator]();\n            function processIteratorResult(result) {\n              var message = result.value;\n              var content = {data: message.data};\n              var metadata = message.metadata || {comm_id};\n              var msg = {content, metadata}\n              msg_handler(msg);\n              return messages.next().then(processIteratorResult);\n            }\n            return messages.next().then(processIteratorResult);\n          }\n        }) \n        var sendClosure = (data, metadata, buffers, disposeOnDone) => {\n          return comm_promise.then((comm) => {\n            comm.send(data, metadata, buffers, disposeOnDone);\n          });\n        };\n        var comm = {\n          send: sendClosure\n        };\n      }\n      window.PyViz.comms[comm_id] = comm;\n      return comm;\n    }\n    window.PyViz.comm_manager = new JupyterCommManager();\n    \n\n\nvar JS_MIME_TYPE = 'application/javascript';\nvar HTML_MIME_TYPE = 'text/html';\nvar EXEC_MIME_TYPE = 'application/vnd.holoviews_exec.v0+json';\nvar CLASS_NAME = 'output';\n\n/**\n * Render data to the DOM node\n */\nfunction render(props, node) {\n  var div = document.createElement(\"div\");\n  var script = document.createElement(\"script\");\n  node.appendChild(div);\n  node.appendChild(script);\n}\n\n/**\n * Handle when a new output is added\n */\nfunction handle_add_output(event, handle) {\n  var output_area = handle.output_area;\n  var output = handle.output;\n  if ((output.data == undefined) || (!output.data.hasOwnProperty(EXEC_MIME_TYPE))) {\n    return\n  }\n  var id = output.metadata[EXEC_MIME_TYPE][\"id\"];\n  var toinsert = output_area.element.find(\".\" + CLASS_NAME.split(' ')[0]);\n  if (id !== undefined) {\n    var nchildren = toinsert.length;\n    var html_node = toinsert[nchildren-1].children[0];\n    html_node.innerHTML = output.data[HTML_MIME_TYPE];\n    var scripts = [];\n    var nodelist = html_node.querySelectorAll(\"script\");\n    for (var i in nodelist) {\n      if (nodelist.hasOwnProperty(i)) {\n        scripts.push(nodelist[i])\n      }\n    }\n\n    scripts.forEach( function (oldScript) {\n      var newScript = document.createElement(\"script\");\n      var attrs = [];\n      var nodemap = oldScript.attributes;\n      for (var j in nodemap) {\n        if (nodemap.hasOwnProperty(j)) {\n          attrs.push(nodemap[j])\n        }\n      }\n      attrs.forEach(function(attr) { newScript.setAttribute(attr.name, attr.value) });\n      newScript.appendChild(document.createTextNode(oldScript.innerHTML));\n      oldScript.parentNode.replaceChild(newScript, oldScript);\n    });\n    if (JS_MIME_TYPE in output.data) {\n      toinsert[nchildren-1].children[1].textContent = output.data[JS_MIME_TYPE];\n    }\n    output_area._hv_plot_id = id;\n    if ((window.Bokeh !== undefined) && (id in Bokeh.index)) {\n      window.PyViz.plot_index[id] = Bokeh.index[id];\n    } else {\n      window.PyViz.plot_index[id] = null;\n    }\n  } else if (output.metadata[EXEC_MIME_TYPE][\"server_id\"] !== undefined) {\n    var bk_div = document.createElement(\"div\");\n    bk_div.innerHTML = output.data[HTML_MIME_TYPE];\n    var script_attrs = bk_div.children[0].attributes;\n    for (var i = 0; i < script_attrs.length; i++) {\n      toinsert[toinsert.length - 1].childNodes[1].setAttribute(script_attrs[i].name, script_attrs[i].value);\n    }\n    // store reference to server id on output_area\n    output_area._bokeh_server_id = output.metadata[EXEC_MIME_TYPE][\"server_id\"];\n  }\n}\n\n/**\n * Handle when an output is cleared or removed\n */\nfunction handle_clear_output(event, handle) {\n  var id = handle.cell.output_area._hv_plot_id;\n  var server_id = handle.cell.output_area._bokeh_server_id;\n  if (((id === undefined) || !(id in PyViz.plot_index)) && (server_id !== undefined)) { return; }\n  var comm = window.PyViz.comm_manager.get_client_comm(\"hv-extension-comm\", \"hv-extension-comm\", function () {});\n  if (server_id !== null) {\n    comm.send({event_type: 'server_delete', 'id': server_id});\n    return;\n  } else if (comm !== null) {\n    comm.send({event_type: 'delete', 'id': id});\n  }\n  delete PyViz.plot_index[id];\n  if ((window.Bokeh !== undefined) & (id in window.Bokeh.index)) {\n    var doc = window.Bokeh.index[id].model.document\n    doc.clear();\n    const i = window.Bokeh.documents.indexOf(doc);\n    if (i > -1) {\n      window.Bokeh.documents.splice(i, 1);\n    }\n  }\n}\n\n/**\n * Handle kernel restart event\n */\nfunction handle_kernel_cleanup(event, handle) {\n  delete PyViz.comms[\"hv-extension-comm\"];\n  window.PyViz.plot_index = {}\n}\n\n/**\n * Handle update_display_data messages\n */\nfunction handle_update_output(event, handle) {\n  handle_clear_output(event, {cell: {output_area: handle.output_area}})\n  handle_add_output(event, handle)\n}\n\nfunction register_renderer(events, OutputArea) {\n  function append_mime(data, metadata, element) {\n    // create a DOM node to render to\n    var toinsert = this.create_output_subarea(\n    metadata,\n    CLASS_NAME,\n    EXEC_MIME_TYPE\n    );\n    this.keyboard_manager.register_events(toinsert);\n    // Render to node\n    var props = {data: data, metadata: metadata[EXEC_MIME_TYPE]};\n    render(props, toinsert[0]);\n    element.append(toinsert);\n    return toinsert\n  }\n\n  events.on('output_added.OutputArea', handle_add_output);\n  events.on('output_updated.OutputArea', handle_update_output);\n  events.on('clear_output.CodeCell', handle_clear_output);\n  events.on('delete.Cell', handle_clear_output);\n  events.on('kernel_ready.Kernel', handle_kernel_cleanup);\n\n  OutputArea.prototype.register_mime_type(EXEC_MIME_TYPE, append_mime, {\n    safe: true,\n    index: 0\n  });\n}\n\nif (window.Jupyter !== undefined) {\n  try {\n    var events = require('base/js/events');\n    var OutputArea = require('notebook/js/outputarea').OutputArea;\n    if (OutputArea.prototype.mime_types().indexOf(EXEC_MIME_TYPE) == -1) {\n      register_renderer(events, OutputArea);\n    }\n  } catch(err) {\n  }\n}\n",
      "application/vnd.holoviews_load.v0+json": ""
     },
     "metadata": {},
     "output_type": "display_data"
    },
    {
     "data": {
      "text/html": [
       "<style>.bk-root, .bk-root .bk:before, .bk-root .bk:after {\n",
       "  font-family: var(--jp-ui-font-size1);\n",
       "  font-size: var(--jp-ui-font-size1);\n",
       "  color: var(--jp-ui-font-color1);\n",
       "}\n",
       "</style>"
      ]
     },
     "metadata": {},
     "output_type": "display_data"
    },
    {
     "data": {
      "text/html": [
       "\n",
       "<div class=\"logo-block\">\n",
       "<img src='data:image/png;base64,iVBORw0KGgoAAAANSUhEUgAAAEAAAABACAYAAACqaXHeAAAABHNCSVQICAgIfAhkiAAAAAlwSFlz\n",
       "AAAB+wAAAfsBxc2miwAAABl0RVh0U29mdHdhcmUAd3d3Lmlua3NjYXBlLm9yZ5vuPBoAAA6zSURB\n",
       "VHic7ZtpeFRVmsf/5966taWqUlUJ2UioBBJiIBAwCZtog9IOgjqACsogKtqirT2ttt069nQ/zDzt\n",
       "tI4+CrJIREFaFgWhBXpUNhHZQoKBkIUASchWla1S+3ar7r1nPkDaCAnZKoQP/D7mnPOe9/xy76n3\n",
       "nFSAW9ziFoPFNED2LLK5wcyBDObkb8ZkxuaoSYlI6ZcOKq1eWFdedqNzGHQBk9RMEwFAASkk0Xw3\n",
       "ETacDNi2vtvc7L0ROdw0AjoSotQVkKSvHQz/wRO1lScGModBFbDMaNRN1A4tUBCS3lk7BWhQkgpD\n",
       "lG4852/+7DWr1R3uHAZVQDsbh6ZPN7CyxUrCzJMRouusj0ipRwD2uKm0Zn5d2dFwzX1TCGhnmdGo\n",
       "G62Nna+isiUqhkzuKrkQaJlPEv5mFl2fvGg2t/VnzkEV8F5ioioOEWkLG86fvbpthynjdhXYZziQ\n",
       "x1hC9J2NFyi8vCTt91Fh04KGip0AaG9zuCk2wQCVyoNU3Hjezee9bq92duzzTmxsRJoy+jEZZZYo\n",
       "GTKJ6SJngdJqAfRzpze0+jHreUtPc7gpBLQnIYK6BYp/uGhw9YK688eu7v95ysgshcg9qSLMo3JC\n",
       "4jqLKQFBgdKDPoQ+Pltb8dUyQLpeDjeVgI6EgLIQFT5tEl3rn2losHVsexbZ3EyT9wE1uGdkIPcy\n",
       "BGxn8QUq1QrA5nqW5i2tLqvrrM9NK6AdkVIvL9E9bZL/oyfMVd/jqvc8LylzRBKDJSzIExwhQzuL\n",
       "QYGQj4rHfFTc8mUdu3E7yoLtbTe9gI4EqVgVkug2i5+uXGo919ixbRog+3fTbQ8qJe4ZOYNfMoTI\n",
       "OoshUNosgO60AisX15aeI2PSIp5KiFLI9ubb1vV3Qb2ltwLakUCDAkWX7/nHKRmmGIl9VgYsUhJm\n",
       "2NXjKYADtM1ygne9QQDIXlk49FBstMKx66D1v4+XuQr7vqTe0VcBHQlRWiOCbmmSYe2SqtL6q5rJ\n",
       "zsTb7lKx3FKOYC4DoqyS/B5bvLPxvD9Qtf6saxYLQGJErmDOdOMr/zo96km1nElr8bmPOBwI9COv\n",
       "HnFPRIwmkSOv9kcAS4heRsidOkpeWBgZM+UBrTFAXNYL5Vf2ii9c1trNzpYdaoVil3WIc+wdk+gQ\n",
       "noie3ecCcxt9ITcLAPWt/laGEO/9U6PmzZkenTtsSMQ8uYywJVW+grCstAvCIaAdArAsIWkRDDs/\n",
       "KzLm2YcjY1Lv0UdW73HabE9n6V66cxSzfEmuJssTpKGVp+0vHq73FwL46eOjpMpbRAnNmJFrGJNu\n",
       "Ukf9Yrz+3rghiumCKNXXWPhLYcjxGsIpoCMsIRoFITkW8AuyM8jC1+/QLx4bozCEJIq38+1rtpR6\n",
       "V/yzb8eBlRb3fo5l783N0CWolAzJHaVNzkrTzlEp2bQ2q3TC5gn6wpnoQAmwSiGh2GitnTmVMc5O\n",
       "UyfKWUKCIsU7+fZDKwqdT6DDpvkzAX4/+AMFjk0tDp5GRXLpQ2MUmhgDp5gxQT8+Y7hyPsMi8uxF\n",
       "71H0oebujHALECjFKaW9Lm68n18wXp2kVzIcABytD5iXFzg+WVXkegpAsOOYziqo0OkK76GyquC3\n",
       "ltZAzMhhqlSNmmWTE5T6e3IN05ITFLM4GdN0vtZ3ob8Jh1NAKXFbm5PtLU/eqTSlGjkNAJjdgn/N\n",
       "aedXa0tdi7+t9G0FIF49rtMSEgAs1kDLkTPO7ebm4IUWeyh1bKomXqlgMG6kJmHcSM0clYLJ8XtR\n",
       "1GTnbV3F6I5wCGikAb402npp1h1s7LQUZZSMIfALFOuL3UUrfnS8+rez7v9qcold5tilgHbO1fjK\n",
       "9ubb17u9oshxzMiUBKXWqJNxd+fqb0tLVs4lILFnK71H0Ind7uiPgACVcFJlrb0tV6DzxqqTIhUM\n",
       "CwDf1/rrVhTa33/3pGPxJYdQ2l2cbgVcQSosdx8uqnDtbGjh9SlDVSMNWhlnilfqZk42Th2ZpLpf\n",
       "xrHec5e815zrr0dfBZSwzkZfqsv+1FS1KUknUwPARVvItfKUY+cn57yP7qv07UE3p8B2uhUwLk09\n",
       "e0SCOrK+hbdYHYLjRIl71wWzv9jpEoeOHhGRrJAzyEyNiJuUqX0g2sBN5kGK6y2Blp5M3lsB9Qh4\n",
       "y2Ja6x6+i0ucmKgwMATwhSjdUu49tKrQ/pvN5d53ml2CGwCmJipmKjgmyuaXzNeL2a0AkQ01Th5j\n",
       "2DktO3Jyk8f9vcOBQHV94OK+fPumJmvQHxJoWkaKWq9Vs+yUsbq0zGT1I4RgeH2b5wef7+c7bl8F\n",
       "eKgoHVVZa8ZPEORzR6sT1BzDUAD/d9F78e2Tzv99v8D+fLVTqAKAsbGamKey1Mt9Ann4eH3gTXTz\n",
       "idWtAJ8PQWOk7NzSeQn/OTHDuEikVF1R4z8BQCy+6D1aWRfY0tTGG2OM8rRoPaeIj5ZHzJxszElN\n",
       "VM8K8JS5WOfv8mzRnQAKoEhmt8gyPM4lU9SmBK1MCQBnW4KONT86v1hZ1PbwSXPw4JWussVjtH9Y\n",
       "NCoiL9UoH/6PSu8jFrfY2t36erQHXLIEakMi1SydmzB31h3GGXFDFNPaK8Rme9B79Ixrd0WN+1ij\n",
       "NRQ/doRmuFLBkHSTOm5GruG+pFjFdAmorG4IXH1Qua6ASniclfFtDYt+oUjKipPrCQB7QBQ2lrgP\n",
       "fFzm+9XWUtcqJ3/5vDLDpJ79XHZk3u8nGZ42qlj1+ydtbxysCezrydp6ugmipNJ7WBPB5tydY0jP\n",
       "HaVNzs3QzeE4ZpTbI+ZbnSFPbVOw9vsfnVvqWnirPyCNGD08IlqtYkh2hjZ5dErEQzoNm+6ykyOt\n",
       "Lt5/PQEuSRRKo22VkydK+vvS1XEKlhCJAnsqvcVvH7f/ZU2R67eXbMEGAMiIV5oWZWiWvz5Fv2xG\n",
       "sjqNJQRvn3Rs2lji/lNP19VjAQDgD7FHhujZB9OGqYxRkZxixgRDVlqS6uEOFaJUVu0rPFzctrnF\n",
       "JqijImVp8dEKVWyUXDk92zAuMZ6bFwpBU1HrOw6AdhQgUooChb0+ItMbWJitSo5Ws3IAOGEOtL53\n",
       "0vHZih9sC4vtofZ7Qu6523V/fmGcds1TY3V36pUsBwAbSlxnVh2xLfAD/IAIMDf7XYIkNmXfpp2l\n",
       "18rkAJAy9HKFaIr/qULkeQQKy9zf1JgDB2uaeFNGijo5QsUyacNUUTOnGO42xSnv4oOwpDi1zYkc\n",
       "efUc3I5Gk6PhyTuVKaOGyLUAYPGIoY9Pu/atL/L92+4q9wbflRJ2Trpm/jPjdBtfnqB/dIThcl8A\n",
       "KG7hbRuKnb8qsQsVvVlTrwQAQMUlf3kwJI24Z4JhPMtcfng5GcH49GsrxJpGvvHIaeem2ma+KSjQ\n",
       "lIwUdYyCY8j4dE1KzijNnIP2llF2wcXNnsoapw9XxsgYAl6k+KzUXbi2yP3KR2ecf6z3BFsBICdW\n",
       "nvnIaG3eHybqX7vbpEqUMT+9OL4Qpe8VON7dXuFd39v19FoAABRVePbGGuXTszO0P7tu6lghUonE\n",
       "llRdrhArLvmKdh9u29jcFiRRkfLUxBiFNiqSU9icoZQHo5mYBI1MBgBH6wMNb+U7Pnw337H4gi1Y\n",
       "ciWs+uks3Z9fztUvfzxTm9Ne8XXkvQLHNytOOZeiD4e0PgkAIAYCYknKUNUDSXEKzdWNpnil7r4p\n",
       "xqkjTarZMtk/K8TQ6Qve78qqvXurGwIJqcOUKfUWHsm8KGvxSP68YudXq4pcj39X49uOK2X142O0\n",
       "Tz5/u/7TVybqH0rSya6ZBwD21/gubbrgWdDgEOx9WUhfBaC2ibcEBYm7a7x+ukrBMNcEZggyR0TE\n",
       "T8zUPjikQ4VosQZbTpS4vqizBKvqmvjsqnpfzaZyx9JPiz1/bfGKdgD45XB1zoIMzYbfTdS/NClB\n",
       "Gct0USiY3YL/g0LHy/uq/Ef6uo5+n0R/vyhp17Klpge763f8rMu6YU/zrn2nml+2WtH+Z+5IAAFc\n",
       "2bUTdTDOSNa9+cQY7YLsOIXhevEkCvzph7a8laecz/Un/z4/Ae04XeL3UQb57IwU9ZDr9UuKVajv\n",
       "nxp1+1UVIo/LjztZkKH59fO3G/JemqCfmaCRqbqbd90ZZ8FfjtkfAyD0J/9+C2h1hDwsSxvGjNDc\n",
       "b4zk5NfrSwiQblLHzZhg+Jf4aPlUwpDqkQqa9nimbt1/TDH8OitGMaQnj+RJS6B1fbF7SY1TqO5v\n",
       "/v0WAADl1f7zokgS7s7VT2DZ7pegUjBM7mjtiDZbcN4j0YrHH0rXpCtY0qPX0cVL0rv5jv/ZXend\n",
       "0u/EESYBAFBU4T4Qa5TflZOhTe7pmKpaP8kCVUVw1+yhXfJWvn1P3hnXi33JsTN6PnP3hHZ8Z3/h\n",
       "aLHzmkNPuPj7Bc/F/Q38CwjTpSwQXgE4Vmwry9tpfq/ZFgqFMy4AVDtCvi8rvMvOmv0N4YwbVgEA\n",
       "sPM72/KVnzfspmH7HQGCRLG2yL1+z8XwvPcdCbsAANh+xPzstgMtxeGKt+6MK3/tacfvwhWvIwMi\n",
       "oKEBtm0H7W+UVfkc/Y1V0BhoPlDr/w1w/eu1vjIgAgDg22OtX6/eYfnEz/focrZTHAFR+PSs56/7\n",
       "q32nwpjazxgwAQCwcU/T62t3WL7r6/jVRa6/byp1rei+Z98ZUAEAhEPHPc8fKnTU9nbgtnOe8h0l\n",
       "9hcGIqmODLQAHCy2Xti6v/XNRivf43f4fFvIteu854+VHnR7q9tfBlwAAGz+pnndB9vM26UebAe8\n",
       "SLHujPOTPVW+rwY+sxskAAC2HrA8t2Vvc7ffP1r9o+vwR2dcr92InIAbKKC1FZ5tB1tf+/G8p8sv\n",
       "N/9Q5zd/XR34LYCwV5JdccMEAMDBk45DH243r/X4xGvqxFa/GNpS7n6rwOwNWwHVE26oAADYurf1\n",
       "zx/utOzt+DMKYM0p17YtZZ5VNzqfsB2HewG1WXE8PoZ7gOclbTIvynZf9JV+fqZtfgs/8F/Nu5rB\n",
       "EIBmJ+8QRMmpU7EzGRsf2FzuePqYRbzh/zE26EwdrT10f6r6o8HOYzCJB9Dpff8tbnGLG8L/A/WE\n",
       "roTBs2RqAAAAAElFTkSuQmCC'\n",
       "     style='height:25px; border-radius:12px; display: inline-block; float: left; vertical-align: middle'></img>\n",
       "\n",
       "\n",
       "  <img src='data:image/png;base64,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'\n",
       "       style='height:15px; border-radius:12px; display: inline-block; float: left'></img>\n",
       "  \n",
       "\n",
       "\n",
       "\n",
       "\n",
       "</div>\n"
      ]
     },
     "metadata": {},
     "output_type": "display_data"
    },
    {
     "data": {},
     "metadata": {},
     "output_type": "display_data"
    },
    {
     "data": {
      "application/vnd.holoviews_exec.v0+json": "",
      "text/html": [
       "<div id='1022'>\n",
       "\n",
       "\n",
       "\n",
       "\n",
       "\n",
       "  <div class=\"bk-root\" id=\"e6b3b0e0-79c1-4b09-bae8-0c41c4a5f012\" data-root-id=\"1022\"></div>\n",
       "</div>\n",
       "<script type=\"application/javascript\">(function(root) {\n",
       "  function embed_document(root) {\n",
       "    var docs_json = {\"e32cbea3-7519-4e81-a503-9e8706e777ab\":{\"defs\":[{\"extends\":null,\"module\":null,\"name\":\"ReactiveHTML1\",\"overrides\":[],\"properties\":[]},{\"extends\":null,\"module\":null,\"name\":\"FlexBox1\",\"overrides\":[],\"properties\":[{\"default\":\"flex-start\",\"kind\":null,\"name\":\"align_content\"},{\"default\":\"flex-start\",\"kind\":null,\"name\":\"align_items\"},{\"default\":\"row\",\"kind\":null,\"name\":\"flex_direction\"},{\"default\":\"wrap\",\"kind\":null,\"name\":\"flex_wrap\"},{\"default\":\"flex-start\",\"kind\":null,\"name\":\"justify_content\"}]},{\"extends\":null,\"module\":null,\"name\":\"GridStack1\",\"overrides\":[],\"properties\":[{\"default\":\"warn\",\"kind\":null,\"name\":\"mode\"},{\"default\":null,\"kind\":null,\"name\":\"ncols\"},{\"default\":null,\"kind\":null,\"name\":\"nrows\"},{\"default\":true,\"kind\":null,\"name\":\"allow_resize\"},{\"default\":true,\"kind\":null,\"name\":\"allow_drag\"},{\"default\":[],\"kind\":null,\"name\":\"state\"}]},{\"extends\":null,\"module\":null,\"name\":\"click1\",\"overrides\":[],\"properties\":[{\"default\":\"\",\"kind\":null,\"name\":\"terminal_output\"},{\"default\":\"\",\"kind\":null,\"name\":\"debug_name\"},{\"default\":0,\"kind\":null,\"name\":\"clears\"}]},{\"extends\":null,\"module\":null,\"name\":\"NotificationAreaBase1\",\"overrides\":[],\"properties\":[{\"default\":\"bottom-right\",\"kind\":null,\"name\":\"position\"},{\"default\":0,\"kind\":null,\"name\":\"_clear\"}]},{\"extends\":null,\"module\":null,\"name\":\"NotificationArea1\",\"overrides\":[],\"properties\":[{\"default\":[],\"kind\":null,\"name\":\"notifications\"},{\"default\":\"bottom-right\",\"kind\":null,\"name\":\"position\"},{\"default\":0,\"kind\":null,\"name\":\"_clear\"},{\"default\":[{\"background\":\"#ffc107\",\"icon\":{\"className\":\"fas fa-exclamation-triangle\",\"color\":\"white\",\"tagName\":\"i\"},\"type\":\"warning\"},{\"background\":\"#007bff\",\"icon\":{\"className\":\"fas fa-info-circle\",\"color\":\"white\",\"tagName\":\"i\"},\"type\":\"info\"}],\"kind\":null,\"name\":\"types\"}]},{\"extends\":null,\"module\":null,\"name\":\"Notification\",\"overrides\":[],\"properties\":[{\"default\":null,\"kind\":null,\"name\":\"background\"},{\"default\":3000,\"kind\":null,\"name\":\"duration\"},{\"default\":null,\"kind\":null,\"name\":\"icon\"},{\"default\":\"\",\"kind\":null,\"name\":\"message\"},{\"default\":null,\"kind\":null,\"name\":\"notification_type\"},{\"default\":false,\"kind\":null,\"name\":\"_destroyed\"}]},{\"extends\":null,\"module\":null,\"name\":\"TemplateActions1\",\"overrides\":[],\"properties\":[{\"default\":0,\"kind\":null,\"name\":\"open_modal\"},{\"default\":0,\"kind\":null,\"name\":\"close_modal\"}]},{\"extends\":null,\"module\":null,\"name\":\"MaterialTemplateActions1\",\"overrides\":[],\"properties\":[{\"default\":0,\"kind\":null,\"name\":\"open_modal\"},{\"default\":0,\"kind\":null,\"name\":\"close_modal\"}]}],\"roots\":{\"references\":[{\"attributes\":{\"below\":[{\"id\":\"1035\"}],\"center\":[{\"id\":\"1038\"},{\"id\":\"1042\"}],\"height\":400,\"left\":[{\"id\":\"1039\"}],\"margin\":null,\"min_border_bottom\":10,\"min_border_left\":10,\"min_border_right\":10,\"min_border_top\":10,\"output_backend\":\"webgl\",\"renderers\":[{\"id\":\"1066\"}],\"right\":[{\"id\":\"1069\"}],\"sizing_mode\":\"fixed\",\"title\":{\"id\":\"1027\"},\"toolbar\":{\"id\":\"1049\"},\"toolbar_location\":null,\"width\":400,\"x_range\":{\"id\":\"1023\"},\"x_scale\":{\"id\":\"1031\"},\"y_range\":{\"id\":\"1024\"},\"y_scale\":{\"id\":\"1033\"}},\"id\":\"1026\",\"subtype\":\"Figure\",\"type\":\"Plot\"},{\"attributes\":{\"toolbar\":{\"id\":\"1096\"},\"toolbar_location\":\"above\"},\"id\":\"1097\",\"type\":\"ToolbarBox\"},{\"attributes\":{},\"id\":\"1076\",\"type\":\"BasicTickFormatter\"},{\"attributes\":{\"children\":[{\"id\":\"1098\"}],\"margin\":[0,0,0,0],\"name\":\"Row01716\",\"tags\":[\"embedded\"]},\"id\":\"1022\",\"type\":\"Row\"},{\"attributes\":{\"toolbars\":[{\"id\":\"1049\"}],\"tools\":[{\"id\":\"1025\"},{\"id\":\"1043\"},{\"id\":\"1044\"},{\"id\":\"1045\"},{\"id\":\"1046\"},{\"id\":\"1047\"}]},\"id\":\"1096\",\"type\":\"ProxyToolbar\"},{\"attributes\":{},\"id\":\"1077\",\"type\":\"AllLabels\"},{\"attributes\":{},\"id\":\"1033\",\"type\":\"LinearScale\"},{\"attributes\":{},\"id\":\"1091\",\"type\":\"UnionRenderers\"},{\"attributes\":{\"end\":62.5,\"reset_end\":62.5,\"reset_start\":-0.5,\"start\":-0.5,\"tags\":[[[\"x\",\"x\",null]]]},\"id\":\"1023\",\"type\":\"Range1d\"},{\"attributes\":{\"axis\":{\"id\":\"1035\"},\"coordinates\":null,\"grid_line_color\":null,\"group\":null,\"ticker\":null},\"id\":\"1038\",\"type\":\"Grid\"},{\"attributes\":{\"coordinates\":null,\"group\":null,\"text_color\":\"black\",\"text_font_size\":\"12pt\"},\"id\":\"1027\",\"type\":\"Title\"},{\"attributes\":{},\"id\":\"1036\",\"type\":\"BasicTicker\"},{\"attributes\":{\"bar_line_color\":\"black\",\"color_mapper\":{\"id\":\"1056\"},\"coordinates\":null,\"group\":null,\"label_standoff\":8,\"location\":[0,0],\"major_label_policy\":{\"id\":\"1087\"},\"major_tick_line_color\":\"black\",\"ticker\":{\"id\":\"1068\"},\"width\":15},\"id\":\"1069\",\"type\":\"ColorBar\"},{\"attributes\":{\"axis_label\":\"x\",\"coordinates\":null,\"formatter\":{\"id\":\"1073\"},\"group\":null,\"major_label_policy\":{\"id\":\"1074\"},\"ticker\":{\"id\":\"1036\"}},\"id\":\"1035\",\"type\":\"LinearAxis\"},{\"attributes\":{\"axis_label\":\"y\",\"coordinates\":null,\"formatter\":{\"id\":\"1076\"},\"group\":null,\"major_label_policy\":{\"id\":\"1077\"},\"ticker\":{\"id\":\"1040\"}},\"id\":\"1039\",\"type\":\"LinearAxis\"},{\"attributes\":{},\"id\":\"1073\",\"type\":\"BasicTickFormatter\"},{\"attributes\":{\"axis\":{\"id\":\"1039\"},\"coordinates\":null,\"dimension\":1,\"grid_line_color\":null,\"group\":null,\"ticker\":null},\"id\":\"1042\",\"type\":\"Grid\"},{\"attributes\":{\"color_mapper\":{\"id\":\"1056\"},\"dh\":{\"field\":\"dh\"},\"dw\":{\"field\":\"dw\"},\"global_alpha\":{\"value\":0.2},\"image\":{\"field\":\"image\"},\"tags\":[\"apply_ranges\"],\"x\":{\"field\":\"x\"},\"y\":{\"field\":\"y\"}},\"id\":\"1064\",\"type\":\"Image\"},{\"attributes\":{},\"id\":\"1040\",\"type\":\"BasicTicker\"},{\"attributes\":{\"source\":{\"id\":\"1057\"}},\"id\":\"1067\",\"type\":\"CDSView\"},{\"attributes\":{},\"id\":\"1058\",\"type\":\"Selection\"},{\"attributes\":{},\"id\":\"1043\",\"type\":\"SaveTool\"},{\"attributes\":{\"children\":[{\"id\":\"1097\"},{\"id\":\"1095\"}]},\"id\":\"1098\",\"type\":\"Column\"},{\"attributes\":{\"bottom_units\":\"screen\",\"coordinates\":null,\"fill_alpha\":0.5,\"fill_color\":\"lightgrey\",\"group\":null,\"left_units\":\"screen\",\"level\":\"overlay\",\"line_alpha\":1.0,\"line_color\":\"black\",\"line_dash\":[4,4],\"line_width\":2,\"right_units\":\"screen\",\"syncable\":false,\"top_units\":\"screen\"},\"id\":\"1048\",\"type\":\"BoxAnnotation\"},{\"attributes\":{},\"id\":\"1044\",\"type\":\"PanTool\"},{\"attributes\":{\"color_mapper\":{\"id\":\"1056\"},\"dh\":{\"field\":\"dh\"},\"dw\":{\"field\":\"dw\"},\"global_alpha\":{\"value\":0.1},\"image\":{\"field\":\"image\"},\"tags\":[\"apply_ranges\"],\"x\":{\"field\":\"x\"},\"y\":{\"field\":\"y\"}},\"id\":\"1062\",\"type\":\"Image\"},{\"attributes\":{},\"id\":\"1045\",\"type\":\"WheelZoomTool\"},{\"attributes\":{\"children\":[[{\"id\":\"1026\"},0,0]]},\"id\":\"1095\",\"type\":\"GridBox\"},{\"attributes\":{\"overlay\":{\"id\":\"1048\"}},\"id\":\"1046\",\"type\":\"BoxZoomTool\"},{\"attributes\":{},\"id\":\"1047\",\"type\":\"ResetTool\"},{\"attributes\":{\"active_drag\":{\"id\":\"1044\"},\"active_scroll\":{\"id\":\"1045\"},\"tools\":[{\"id\":\"1025\"},{\"id\":\"1043\"},{\"id\":\"1044\"},{\"id\":\"1045\"},{\"id\":\"1046\"},{\"id\":\"1047\"}]},\"id\":\"1049\",\"type\":\"Toolbar\"},{\"attributes\":{\"callback\":null,\"renderers\":[{\"id\":\"1066\"}],\"tags\":[\"hv_created\"],\"tooltips\":[[\"x\",\"$x\"],[\"y\",\"$y\"],[\"z\",\"@image\"]]},\"id\":\"1025\",\"type\":\"HoverTool\"},{\"attributes\":{},\"id\":\"1031\",\"type\":\"LinearScale\"},{\"attributes\":{\"color_mapper\":{\"id\":\"1056\"},\"dh\":{\"field\":\"dh\"},\"dw\":{\"field\":\"dw\"},\"image\":{\"field\":\"image\"},\"tags\":[\"apply_ranges\"],\"x\":{\"field\":\"x\"},\"y\":{\"field\":\"y\"}},\"id\":\"1060\",\"type\":\"Image\"},{\"attributes\":{},\"id\":\"1074\",\"type\":\"AllLabels\"},{\"attributes\":{\"color_mapper\":{\"id\":\"1056\"},\"dh\":{\"field\":\"dh\"},\"dw\":{\"field\":\"dw\"},\"global_alpha\":{\"value\":1.0},\"image\":{\"field\":\"image\"},\"tags\":[\"apply_ranges\"],\"x\":{\"field\":\"x\"},\"y\":{\"field\":\"y\"}},\"id\":\"1070\",\"type\":\"Image\"},{\"attributes\":{},\"id\":\"1068\",\"type\":\"BasicTicker\"},{\"attributes\":{},\"id\":\"1087\",\"type\":\"NoOverlap\"},{\"attributes\":{\"data\":{\"dh\":[63.0],\"dw\":[63.0],\"image\":[{\"__ndarray__\":\"LGflO4yZG70KVzS9gADKPXaEmD0UxOm7/lkAPX9LhLwyrls9Bn/+PYRNpD3wM3C9l/WVO1Ts+zwhdu49vFGKvdQbZj7ilzq75mq3PUk1XD62JN29ZKEDPuhw4z6mT4C9RFpkv8CcJL2S/iA9tfoHv5jLoL+59Q2/Ss63PhY5672MFS0/B9o7PuiT377cypy/QOkAvq6Fzr4TMFU/d2c3vnrShb4EVWy9lR1lvVCxjL3F0AW+XjAFPvxMx71MiF8+SF40vQAJiL0ymYm9z9FPPTCYfL3oEpu8Gi2tvQ0NCr1oYJa8xKpwvKb+hb17HMM84P8VPDsL8rzi1jy9FgcZvfhcmTyUN0S8gNuoPbyGPL4mwEY9iL2bvT5skDw2KD6+h2DYO1rkR74lbZI9RvGBvimbBTzqIHu+QprHPkCV/r1Mvc+9pOF4vpoX274E/Iu9eiFSPrCavL0kQpG9x9hivkhlwr18Oky/hPVkP0iO5b7Gvi09jcu9vogiZL8gOe++prKGP09CYD9CHQ8+puo/vwE2nb3ozh8+oKILP24AOj/GNSw+cIpLvlcMBr+ktii+ltC5O+aXKL0WUju+L3uEPb6Dbj0AY889/g3RvW9HkT3mRJW8kmepPbFPsTvEhfs8cFv3vLKmwD2+b2y96GCouymnZTwKleU8EsIsvbm9o7t/2rO8UE8vvZ70Jj6aarE9rozbPSDzPD040bM8KBQYPKJD8D2MlwA91l5DPojYQD3wjpA+yARvvHTj870qsTe+VO4IPo/6D7/c3jC+4oE3v0aEYz7a8vy+mUzdvmbVG79IK6C9VrAXP75kBz8q/Ym/XhaxPWiKxz4qzdo+hvKePdu0ij8qdGi+oi1yPy+TIjxeSiw/DP8svoKXDj/m2Ks/FO18PCIlmL/ExOU9lBLCvS3yb75kmEQ+NtOEvpZufDzaf169Bp9hPPS3+ryO1CM9Zo95vNsjQLsQBz+9igqJvGbATr0NF8s9bAppvTiL3ryyIIC9lhyRPS5PN719OS29lxvDPNp2lb0Z3xi+6NwBvS47QzzU03o85CJRvWokCj3ZIbW9xHKwvotJS74ltp69BhsKvsa4mj/RBsw+3lLBvppHLL4eEXU/jCjMvth7FT5EKOM+GDBXv8Ohtj6KAR8/zg08P5PSIj7qGcC/8VGtPJwROL+A6zi+VnFEv4wvXb+fqck+yu8xvjPimj34Qp6+nfWQvr6K5D4wjtc+vtyGPqAxgr/D4oQ9UkOuvXDUFL/a1UY+3h9yvWoPGj4BYwA9xHniPTY7wbwz7b49WB/0urAwFT2zp+i7FGbwPCKUpjzOfVa9LhrpPNRYQz24lc4897qcvckd3LwuqSE9PoCyvfqVFb2PQT492njDPO67CT6VXgI+tItePoF+pjypY4496izivKpMgj7Lq4Y+b2hEP3gFoT7wIzm97jCWPyh2cj9uGca+AEE+vg4Fl70HbR6/dXw5PTi7j76v/4e+H+1fPmA6sb3MFjm+soJ5v7qJNb/iSFg/nhhfvmVEgL7Cmoq+sK2Tvqjhlr5y6Qq/FsGjvoBlhL7AlkE+wN6rP/0LCj/7L3o9abASvnJEG76Mo6a+CnZgvrib0r56Mlq9SBwaPXsHmj1k0SW+tpCqPNfEejoE9GK9VhZIu7McurxRR2A98vmVvT5k3LzM8AW9Rlu0PTi+6zwEunW8dELhPEAs0zuBY4O+4kJ/vfIgjr0abNm90O8avk2Ajr6TnQe8oBOHPTxlor3yUw2+Td02P2iRgr6W3Ww/7sAjP2C3m78Gguu/EZaoPrt/Gz9uwCc/LuAfPa56Hr9eARc+4EPkvhYpuj5u+am/3kUVPzqPgT7dbeQ/bj1WP4bJ0z6uEFw/iD/OvlHbUb62CTs/7sCLPuiSCL52in+/pmGkPhy8L7+22YQ/kIzgPiTJ+L40JJc+M9WsPpbPg778SEY+nFM1vetNxbzjbY49iVOePcasJT2OoY49YOxDPWO2Tz3yzTy9yl6uPfYUzjslp3g8Qb8PvrSJvDtF8/W8YuQHvRZzXb2YE9A7ClX9PdPUnDwW3AM+YD3rvTgnOT7Wws49yNH/vbyqDj23k1O7IpbCPooiKz4SQq8/OHpVvlYBjL1cHXO/NvROv+zVlj2qUC0/PPJlP16eZr/q+Vi/Vg6tPlrhsr4aITY/8hZgPyPo4j52RSy+vgUVPmoB5L7cj82++g+9vm5POr6wbiK+wbLGPtuXCb4rG1C/192YPmqCQr94tgi+Sn6fv9eOGr1QrDU/0AW3PiTxXT7Osm4+D34APp8tBT6a6dM8FtKAvbpX3zwLDTi+LXgHvcLOxjqvoJK8fiSKvZPLkzvoUNa82PSJvehArz3FBbW8u08IPsTjxb3spAE++nnTvnLDGD5Ym2e+WArZPaRphb6tdDI+Pk6kvuIEjL52pFu/ONwYvQXlgT9cJUW+5JfZPZ752D60kZy/kZr2Pp3whb/i+98+hv0CPrRPhz6FH5m+NM/jvuYoDb7oErm9VP+wPpjimj7lok4/BBAWv4wWyb3i7s+9apLpvrL5hr+JmMi+6Rd/P6jvHz+CsZw/yDb8Pq5vlL6e65U/mI5vvoA8jD7qr0Q/utDEPjy8xL65pDY9VR7vu9LYtz60ugC+ubn1PaIl2jxwPoc+WJOmvb4P2T0YZmy9wjWRPMpuPL3YKKk9uBAbPoCZL764KI09gmzTvZq9ID1oEPe9mnlzPqNUCr64g5c9m9YvvkVUXD60uQm/0r+0vzacFr+YNLY+oPOdPRtUoj1EA8o+QLq/PvwlWT/cLYm+45YIv8l9Vr9soW8+Bixiv8Ppt75po7S/wjDnu8IRoz9h9EE/YEwKPpd/ez/1344+6DWsvRvhe76k9pm7xrxOvqNo5T7YI6y+nk5BPoraEj/7SmO/uv++vwF7I7+QSao/BFLpvWwFI77qRrs9svQLP9f0IbvXC/m+xJJIPR8ESr5CrGc+leWpvoLyprz6hlC+MiMIPCrOhb2EZdQ8GM+DvbBSkD09YOC9f4ItvmwAQj6KJcO9FpSUvHYxirz8LF67uZkDvs7lv747GT6/qB4rPYYemz7UjGU+eu8HPJXiob8cKJw/2hshP9OAvb5PS1O+FiX2vViULD/OT0O/mu6CPQAu771gUcO+HDNiv3U8ML9SQRk/1koPPo/P1L0Gpyq/cQWNP5epiD/aR/K+kPFWPso1ur+wE7M/fYiGO95D2T9uJQs/9rubP/2ttD7C4mk+PxARv67ogj06/HU+MVO+vqDclL8/ug0+WgqPP7VTHD/AMoE+IcVIv/oYvT6uQxu/wlhjPrWU1jywz0Y+pPuPvG4tAD7cToW9GpGAPZx0wr0KW5M9mvmwPJgQij0EtpW98tTPPT4sHb5gZKs9KdwpvtaxPL1aSPs+zddbPw47X78cSyk++h8svxrkJb/o6ii//CtzPmIbaD5eXsw+GHgXv2szM786rAK/vKMlP3ETAr92vQs7itaDP/xUdbvd6ye+NJdpP65kOr7MRbU9cYzlPhpga7+3Q9A7RkdAv0FKMb6oToA/tOKYPxABqz/28LQ80mJuPk9MSD7ccTI/HikpvZj/dL+wIoY/brCQvTBraD7rR6u9RugNvwyoxT5Myku/bJNxv729ML2CtwC/GQJpPsAw0b62mBC+I9Eivhi4xT2vXRu9WpPLPUgYlLtgKKY82jhjvv5Purpe9Z05gukcPqDPO70SKws+86PTvoDa475Oiti+uaHbv6xhWT8kYt4+FAyXvPDyGj5iq4U/cvztvvh6mzrOe0S+mM1bvihybz649Aa/6Jq4v1Qud74eJ9S+Z0thvjLfrD7wlD2+Uoi2vl6s1L/KgVK89vskvzTNTb4CgJU+YpW3vgxJiz9sWS+8+ACevgZAsrxoWNu+hmYNv/2+L79Ka8K/5OSKPRzqgr/09xs+AAyOvwCGNj1M23m/oP6avsuD1L1U/nW/uKItv5xzpb0Ev2M+ZiOPvRxDUz5ezke9JXvsvY463j3ycg+9vCmUPcy/OTziS5m7NCxjvJp/CTzt8Te+xahnvs1mWrt+6+o96hi/PA5uU78vH7Y+ljHzPoKxBL/cclA/rHWMvxSgmb6O9IE9loVPvo2Jjz8oAWq/ruByPlK3Ir9mLoa/FJc4v+zVqb+Uy/++QsBuvz3AYT/ERnk/og/Iv5ZqKj9fRiQ/6YspvlBDzb7Oi/u+Ac5jvuwcEj864L8/jP3PvpRxLr9wKdu+vFA+v1rr+zxmw4m/4A7qPJGoLT+6HMW+f19aP9IY476ENFs+2Pyhv3WjnD5rqwI+Vj+YPq7+g79Gtmg+/CKyPtjESb5vb4y+ooo7PrJRIr40TS698N1lvDBS5D1e2eW8LkCoPhKYjr6+WFw+UivMPRpinT2ajhc/5rplvcxGcT4OBzq/IhaGPun0er4IHH0/AkE0v6yVYb2m7O2+6vYTPdPpqz/GJV8/kCehPz7fBD/VA46/gDYMv7JK776EetK+X1V7PpK+0z8Tvba/gpddv+ogfj86c6Q+qsNHP/ifFb3sp8y/ET96PpK/vb5A1Ny+ChKEP4qPoz9iOtA/fmVwvz+Bq7+sz9G+4fv2PsQbTT+YMpC/smppP9p4sj/gKI4/vbWrPsa3bb75kBI/GcQfv631nr8DEi8/1kB3vIBxWb4XiWs+6GUIvtLh5T0KRhI+BgJAPE77Fb12mHA9U8Nhvs3zpD4k61G+qDUjvaSCTD6qxe6+oiaMP4mb9z/x6io/4JjTPvQ/Gj9UDpG+N+AKvyp/jj3TNYS+/kqoP6k5ST9hPZo/IuI5vgRGpj/zqLa/BiUov4THRr1g+/y+lYWEP0KCQT4YuIa/LjPdvnUunj4UAcA/tW2FPsZzoL9+DuW+gpgtvxY1LD9u/5G8OQZGPgL/Eb/GfFe/ypRmv8wn6D1eDBi/4jPFOyTGsb04cnO/pDw9voIK7j5m9IM/ErQNPxK1Cj5BtUY/lMpiPqYsib5YwqK/UOiMPrgqVz7eVJ0+6r5evkuUbz45RYm9cwG2PVQzfT2efsY8bNPMPUgONr3ovgy+I1VCPqbvR7/m73a+5X01P2JK+D6eFis/9/INP0rJgz5J8TnA2jH6vqLC0j5WLxE+3pW2PRherL1Q6tQ/VB3nvkJ6qD6I7t2/DMu2vWvJPj7DSgG/+N31Pky4hD/UwDw/u0sJPX7R/75A48G+4mQTP5AZhz5o/w+/qmJFv6RNAT/Gbis+hcsGPmTOeb90WwPAo7zPPcq2fT8O3e08goN/voXxh7/u24o+tOZbPngSC77q6Ne/GgABP2Rbr73aU04/TqshPoLG6L7rVLs+TMU+Po9p6D1S/yE/luUWPmSPzT1WvKG9yKHpvNvVvr2Zwze86kJAvsBV7b0mgr8+hJvBPh4KCz/ucLi+ERpnvuplZ78yQpy/FyXxvcKw/D6y6vG9PmMevxZWlD5S/Hy/cAR3P5QHGr/Y94e/ur+KvqERgL7sIn4/4aqHPLQXST+vVf8+O35CP6YzF79Mifq+SBrZPO5XWL/8gVY/ksGAvh6mwL6ypBu/sTZrPlYomL3CLJa+Gne/voieTz8XiS4+cwcKPyirhD8p9WU/Mvnavv6em7/Z5R0/6+NEP0xgrL4oyii/UldMPo5veTyIcQ4/9KobvgIMLz8f2iu/IJn3PmtM8D7Uhm2+CLryvlhiGT8imSU++DIePnApnjy8hCY9+sh3Pswei75Sgsw9/RjDvUS7Uj9nmY6/mmbvPgMLsj0BCRq/gU7OPHHKbL/wHRa/fIxkv05y+D4umXi/KXOJv66bqT0Euz4/hcyePszZW7+O2sk+O5OVvtTpwD02hHs/AGSjP0DRmL0idJ8+hw2BvxB69L5qSwE/liq5PzaOpb+ntyC+PquNP9sokz7OZ7Q+zflTv657wD7if/S+XnDfPsAQfz861Kw/mCeAv9AJHD9M/kq/NJWYvsAqiL+lORs+xQmgvolatb6mlx8/zjPPv+6RIL8kKgi/q6nIPRpLZr8fRzq9VMBtPgvTDT76g98+PFkRvqxaGbymPQu+dZrPvtK/Pz7GLHi+xfM9v6wp9r5Ysly/tC8gvwztmr8RUmK/0drxvkw9Wj6zwQ8/nL8Hv/Lxrr+rnKu+Y7eQv2cRDr6c95y+hlH/Pttulj78rIM+skmHPiQsuL4Tock/zmpQP143Rz8GcLO+YFtuPtqYcD/G/p4/bj4mPx3hsb/6FVe+dk59P/LMIr+pQvq//wqpvQGOir9wD0C/BQIDvwRMRz2GTfM/YTEaPyjrmb8WXb2+XiWCvwhCbz9N1aQ9Bkwhv7rhob92P88+cAmjPhDO2L5WGQG/jEFHP0qIFL752VQ9EVapPkTWSr3+jXC+KC1QPodPo73Owf69PsoLv/ineT7e78i/ggL6vt7Smj8sPNw/2xiDPcGxAj7u4te9epUXv2YaTj/MiUI9qzJGvxDbGr0+e6I/vvEgv6KqXj9AAZW/e6CqPmiL6L7nzci+VcHhvoaPqT4AjPi+t9epv4i5eL4QMia/NuZEP5Ym7T74fMA/rJEaP0zKHb4e/Oo/Qlg5Pxrh0T6YbJi/EsqBP4gYmz/nwBa+w0h2vyTOmL7gg429XNhDvdAEQr8UJXe+WtNovgSzizzO8nU/FKypvVthsjwEiKm+gHPHP/oJjD/4Sxe/GJEWP3VJuT3QhoS+vsLLPsfnwz1zDu8+uu4EP3S7gj4gV5y9NCESP2RHHT8sR6q89IHtPuKQ6z/yzuW9eB72vvw2lb5Kvzw+NtArP/X19L9QvFG/imHMvrnUXb8Kp5K/atm9vgJMfD16tca/XkL7PuzPO7/aeZq+SAQ2v5CQ0j+KKsm/9Fy5vzKxdT8gaFc/vg7mvvDXv7+CAQ/AzBOvviAVur2IwQ0+18TBvZqKBb6MMYC/rj9uvipQlT9S4ns/ZE4gvy4Ftz4+gdU/FMJAP3x8qD9A9Te/ZwdBv1pgrb/3HhE/HdYlvUbRDD8n4ne+WHWsPlo2qz9EOaU/g2IcvpAgBr8IG2K+rLwOP1KVFb9oKIG+DH+TvaO/dT5EBXu6mh7hPg64TL8I0oe/2LaLPztTFj/L7BZAFkffvmVwGT4Y0Eu+7BpTP+7qhT8MtHs+u7SSPtZaJ7+gBxW/Dg+cPaArNb+KMRQ9Dz8Wvnh0Hj+ERPi/+rxgP2IkHD9mw4e/rZstv8ilF7/sOJ++2cCWvo67sb/AMFi/8IsSv1/VVb/QXCS/Gg3dvgJNbz7absA/7kqEvgKhir9Y88g9pIEiP3yCzb6g6bk/QHTUPrQa4DuRWWU+obWjvqi3Ir6KSII/CGDevVhQIj+AV9E+AfYJvv6Spj6W4CA+68GIP2gIbT9eufy8lqeHP9ItmT4YXq09AkzovTmTAr6ot9W9Bw+fPuPdxb8wWTM/DDlOv9wn3D7gXSBAQls8vsulA8BqRqm/AKmpv6UEPT4lVS6/OOoGv9ZzQb+U3Is/dBZrPWqHWj06v0q/ANZWPwBteD+82zC+mKjXPk4XZz+S0gk/PkPLv+Sn1L9Rj18/wgarP4TR4r2Cus6+9SxQP+CEC0AAF5S+/bKnPqh49r4GWG2+ucxwO01RK79qH5G/ZdfxvvIlXz6eTKG+QuEsPbjTPL91M5e+kNORPgArjr1OcxU/sFaDP5TblT7QiQ2+XIAsv4KiZ7s+U6W+75ikvxbbFL8aN1W/c8quPh1dWD5mPgA/ICfvvSTE7T28fLa+pJ4IP/6fPz9jDUA9GAeiviaUAD6+4W8+MSAmP+6Pvb9CjNQ/L7+TvzCzpr52GHE/bgvYPnJRN79XhgU9Yep/P+CEqT+Sf5k9VYdzP5CwZr4xngVADO/uPum8ab7+s7m+tKL2vyypnz56JZc/ujCvPjrMHz8TX7g/iGHmP67BpT4bGcM91/yEPzwUJ7/upry+ihOOPsa0Zb9ao/e8urfOvRBrR7/aXS8/dCUiPmH7877c9i8/G5wWvwni+L5Ydwk/yOGvPjdVLMCXpEi/Zf9hPnaoRr0XcQa9OLZVv0UEvb9AiMm+Bgu8PZzGwL7/Qog+auqhPSCAyT2YVOg9ygn5vdX8Kr8AUqu9zDs/P94Tvz9Ilze+Kldsv7NyP7+K2Q4+X93rvwgic7si/R+/Ak3+PvqxIL6G9oc/6DY6v/yobT8x2KY+1Jd/vlAXLD//8ZM93v1Nv3TZ1z7t9Jw+0SHGPS1MNr/TIY++sHoEQElXGL5SKMq/GvhFwAgPor9clCTA0lr1v/ostb9ENp6/gWckP8r/Lr9rMwc/VLPYP4Yatj8qa0g/H4V2P0zTPz8zEoC/6MFCP0K0i78wJIO/JumgPuTi0j57i1G/qxzjPjm6nD0OcnW+H7cTPbxPRz+Mgg+/5JDfP9rMlz712bY+kv4jPtH1hj68brA+9s0Nv6bmT7/dbCk/YZKFP8qTOT+3EYu/PlMkPkyXqz9858++AslTvtXtmLs76Y0/IpXCvhR+2b8+4SA+aDhXPsoylbz0QEG/DKMLvzeFRb8cNe4/uCEdvstbnT0Sa/e/80sBvuowgb9QI+a+Ap2avsb6Vb/cWQLA++AmwFCcxr/TfO2/0CbLvzgiMD+jToO/UtFovwsJ6rvahxC8mFD2vjgjOT7wQYo/jwFNP/91Gj+WOsq+TmBSv9biwb60W5o+mvpaPg8p6D49fiQ/4tUIQHYJjT+Cwia/ipu3PMJ8bD8vYzK+cIoqv9vMyz8uPZy+R1pGvZ7mfLwFksa+Y/zlvxNMBT7feDw8TkuUPkNkSrxDhF+/ml6APz62pj+EHq2/jBo+vSqT/76E2LG+wB23vwRNsj7rnTE+LFVFvoK0lz8/1IC/xlpoPrWz7z4ecoY/o82wv/XEIb9AL4y/pA0cvk85HL9iAjW//liUwKKhGMDDSk6/VC3fP9DiEj+il+++OnNJwGLxf8CCIo8+lJMQPwu6mz4+QT+/MQ+pv8MoB77izYA++3WLPqEHUL8UGRq/hqxEPaRf0z2+BYO+am4vP3iurb/wisC+Mv5MvUAhSL9U14K+jvPMv8YbRr+k8tS+MkbRvStHt76SgC8+WuvaPdxDVjw4MFE+gEUtvQF8AEAlV4C+BGuNPvXSvD8ext2+OJt+vyhhWT5nAdY9NPS9vnD6vb/PT2c+BvcfP3ummT5SLBG/TK8XwO6bur2ekP8+bridvE7zNL/qY+K/pl82P7axHj+cZpG+9kGqv3o93T22El3AiKIewLCWC8CGiJFA/sCGPyiBBb/8eE/AmVwiwPWarr9OFh1AFJASQIV9jL4/KYg9Yazzv15wgL5uTXE/tiy2vztAlL+m0oU+B9CbP5elLL/Yfna/ZJyaP84I6j4ETxA/NH5hv4CdEz9IvQ6/rB1Jvnjlgj+k0T0+OVBEv2iboL4IRBu/uzx0vvVPob2sawM/bZaqP2YT7r9rHOW8LDahPuxhQT9jl7U+/oOXv7IzRr/uAi6/V6DNvhKBMD8dCGQ/lj0QP4AYbj/Scli/27HPv8AHsD+syMY/Udcgv8ZXg7+QyiI/9o0IP6RNFL+WrpU9C7RYvhbUjz6GnHbArsn8wJbnUsCw0wJAVphcwTCbm8GpvoDBEpktwWjIdcBI0bM/qOhSQMJltT8XeHk/JV5oPlAh8j6PYZc/LdGpPo4MBcALSxM/wt0rvvSmEb+8hZI8ihB5P7B3Uj/KV5G9ChwMvxKnfz5U8WY/symHPqrWFD81fvO+aE4Qv2GkET8/fAg92t8OP2gwPL3Ifyc+4OUtv6CF1742AAy/nBkPP2DiEb8ANB6/JOl8v7U6hz+gXHm/qLCFv2EL8T6glGM/eMQKvfIL8T62jk4/bhigPjqRjz8C65G/mIsfP1BBgj82x16/QoHuPOKuBT7mRmS+kmaCvzoVwD+hKgC/JymgwM6vhsBm8xLB45dNwXK82ME+sYPBGE0nwJtTxUCE3LtAzCU2QKIPiEDoo2U+MheKP+LliL+RkEA+5gXXPr5C0L8IE4u/5QoBPiuiEb/UaF2/gucbv6IJTz4Abj+/FtM4vrC1tLpptfu+XLHmPdLxYz9cHFi/U0ktvr7DhD7U6Jy+Jqb9PnoeOT7ObrQ+XGDHv/zg979Ch2e/qrE4v+43yD7AZbG/wjF5P+Wxmz5Mhv6+2gmJvk9Kib6KuLW+10Usvcxq3b706QC/gDTovhpU1j53zTG+NkN3Px9CGT7W8F8+2zaKP6Ioqr+jONg/lfCOP1J8az+S1B/AMCuMwFT8uUBSODtB7hdiQSHVlsHyOQrBpjhlQVaohUG+osxAqRQEP08dV0A+/ZA/QGhTPt/WBb43fei93IoFP8RBhj7Kesi+HhehPkDYZ7/MKoI+nuX/vVJrlD/qH5C/laC8PXomNr9V67o8Nh+4PuYJUD+gW6w/ZOUWv38thrzc79m9mAD5PfBiD7z7W7C95JMqQKNfBUDUgwBAhRy4P8hBFr+E+v0+lG+5vFDbjj/Maac/xMRDv/hDob+YpjM/tuSUvz44p77g+DA/BOMeQJuHjD7uHwK/cCDCP2du2D4Ijao+PAzFvuAHST+wlKe9grdyP18fSkBlyCc/Q4PPQKCrfkFwByRBQbDmvQAAAAC5GKpB+FtEQvk95EHEm9VA9GchQOTKjUDQ9tU/lJjFP5mJHkDFjfE/7gAnPao1kr6YdEG+0jqHPzYmzT9QPbQ9vkqmPhZsf7+WtA2/cU4Pv6X5IT9MqNm9bnLwPjzJgD/S158+KO2Uvsq/Ez8iLHI92JKZvZxkpT4S0J49ECiTP27tUr9gRVo/sXhVPuajVz+S/0q+XXyBPY9x2T4OWNU9mm8Mv75uhr68oy0/hH+RvTkJOD//cIA+HkoUv0ysCj8ui5E+JA9lv/X9FD5O2MO8S60BQO56VL/0OYu9hF0wQPFnPkCgYCDA9nGnQBj7U0GSV3BBmBzJvwr0QMCyJmJBvu9lQWLAQ0H/H3dAe/Biv6XzeD98Ul1AXL0kvyieaT/kKks/mcJNPzCvoj4O10E+Di4BQFR/hD+knKY+Oodivz8qRT4zpEK/8y8yv0igTD5kyIa/QyA+P0QcKj/+Uo6/TwOXvcz5gz66Ipw+0NZbProNkT7p0Hc+VF+IvzLf7D7WsR/ANKYDwMIi1T7gevq9WZZ4P6Byez+0FpG/hJ8Qv2fAV7/WONE+JrNvPy4Rnj+4VxvAlG4fwJ/pzL9WfTo/yLs0wAihJ76arEI+9v+TP4AO0r89jtM/QNZ1v/d5nEBCQF5AFdP/PkJHEkEi6kw/FiBhwarLIsLinBDB+FZawTb5g8DUSBjAFCO0P6miCMAebrg/XGrIv9VN/z/yBpW/xrZVPyJMC8AMETw/to9Av9Duhz7gbIG+9zpVP9p0Z7/UQ8Y9ecyGvyAFnD6MCAk+3hmcPhadg78XjK29AVlvvugPCL8mz7i+GClMP9TdaTuiSmi9RvYOQHjAMj+a+8e/tGd6vb5bAz9X9AQ/epC8P9/hir+SLCG/1axDPsrW578a+cE+1eSFPHu2xD323ik/ShZDvvbdTL+i0ZS/CSbDv6w7qL/EeYk/rNfcv7rvmj56ipe//A10PwTNfkBc3kJAni3Ev+qUQcAcLBRA6vWAwW4qnsEk7uTAmPdewEAU4L/1p6u+ycvqvNpn1L+0hva+KNUsv895Q7+lLuM/PpHkPb6JiL7Ypfm+Q9W+PwTSZj4Gx6I/YkWFP6zDOr8sAF2/P5Xrvqw2IT6qwOy+vG5Bv8CFJL/MrD4/Pisiv+QJa74OofQ9agIKPmotr76n4om+rHS0vorxyz9GT2g/gNprP82NH7/uO6M+wRi1PlgLkj5Nc5e+DNmUPiw/Sr84iQs+wulnPp65Y7+zP7C/HpFJPxAN3T0IyRY+xD+Rv6hB9T2m2fS+4akyP7jNOD6mVSs+iOv6v1Zch736YJm+LQY4v5xxDD8LqSfAw99LwBr9cMAE8rs+35PtPhhfTL/9ukPAHPqLvzSTKr9+LR4/X7J1vxbJD0BIJs2+/cCPPtqH1j17bis+Ty9xv+GWa71FU4W/5lmRPyCuFb8BYqm9aIokv76lJD4oOjI/qEyvvV7vgj3wt7W/Em65vj6L9j5i9vc+XhrnPhJQhbvSPx+8AU9fv6zv1L58sra/IA0VPv4RP7+muSE+1vxiPXiCWDy9XfQ+TFN0vvT6lb4rwXy/6p9rP1r7tj8RlgfAOfzDPYJVN7/wOi+/iLMcv7PUZj/ZX4A/YDEOQNbCAz+9fAxABv7GP85ur78kMCc/GL/VP3jdq76+rS8/G7E6QA2g9z9Bumc/6KFPQFYsJsCySuS/RiXmPt1MAD9GcCu9BoGYviScxT7A2Ju/Jm39voSTGL7qZgC/RNCBvxy5Xb0cZ56/c6utP/xD1T6Ijp4/Ng0fvzlKO76iiSS/7lsSP+CbwL4uT/09Ai+bPaQiKT88paI9zJalPvjAKT7KZq49ep6QvnCjEj8Q9Uy/vocivjKDv76iEnq8sjmJPXNhID6Sto2/jRZ8PWS9Er8wR+o/S+mYPw+7hT/cjzm+ZuJmP350U772T+A+AknJvrhbWb8b1Ai/uc/ovkzZXz9U4S6+KFzVvxY+jb+xUbm/fSFfPhIOC8C4bXa/22ayP6KOZkBpN0bAyBAOv4AfTcAsceC+hVmUP0gPEr8yoga+/VixPTzqyr0EXh+/cKnzvvAZWD9FU4o/n9DKvqJbCr8S74y/CRaTvmQWAUDGR9m+di+EvyAUaT4A2Wo+cGR/vskoHkB5EsE+XAJjv6cRIj9Joda+mmCUvsl3AL48EDO+KzlXvaxez77+Mty+N62xvmwIjz7gAYu/ALA/vnykDT/urXc/hZjjPkSOwD/aD0pAEalxQPbdYD/kmpw8cjsRPyiEHj6OKNC9itXUvzixpr/6M70/Oa6dPqTuwT70DSK+GI6RPVbjxT16EFK/oLtwv0ABfD7wwWM/gnEnQFpbvL/ryGbAxrXOP1/sNbyuzAa/qPpCvqBIU74h6AQ+unosP0wKnj+aK9A9YEurv2KYmz9RBi4+KpL7vnwfDL/x95E9X7UrP60CFrze61c/eNTQv5OtKzxKFGM+ZpJ3v6B7UD7SM0i+u2ObP76tvT/qkYE9KKcNv30UHz6QINk9YMwmvvdEdDwhWAe/HszZPtvzej+qlIk/6FDQP5B7Zj9Ijd++1s1bv4N4OEDxBfFAlODKQEQ+MUCKWBA/ojwnPiZktj+OWhc/ZssCv0BA6L56hMM/zpa3P7I92D5ESy8+Dh8XvnmaIr4Qyie+X4CyvyBswL3mG2y/Yvd6Pz8PAL+SFZO/z6muP5L5CED2/s4+CQ42PSwnPr8OeIa/qWNLvsCyrb6j7ss+b2USv9qLZD0MuX8/Brmcvz4zrL6rFyq+2dhQP7IAOL+SWyK+spClv55V9z28lzq/JojhPlvtcb8yhbO9Yhr3vn66TD/M1iS9WgNKvwwPez7dbJ69Q6fFPP0+o76cSfI+AmzYPdgX5r2irn+/IwWvvVY4jT4I9/g9pOImQABPsUDJtQVBuFDiQHjiZkD7sjQ/1WVvPEnWdj1ywrI+/AEqP1mmEz8QHY+9TuBnvmuVrL8K26W+1WAKP66wQT9Z+BU/9seNPDyxMb8uRMO+9BzYviZJjb+NgKq/FRnEvhjZBb9iQ6c+yEw1P67NBb/SwAm/N9mhvnicHjp5coC/Bhgjv8D5DD8D6wJA8QMLv8oVUT8Ckt0+3v3lPpBiIz/OTUU+aNtDvzHcZr9akYA/lqKePgSqMzzEMhC/NZ3xPYjBgz7eFho+f2sBP8JvJT469vs9qrY4vt7HUz8SXyQ/RN7TvlMeo78EORPA7DILP8W7tT7gYOA/moEePysimUC++N9A5g6yQHS+wT/+9dg9ii1JP7nVwr++Ajs+IQcVP8xdtL8hqn2+TjugOupJkT6lNBS/msU6PpL8JT5LwZy/HqwRv4JVD75HZY8+DFj9Psj+rj55eMG/DhmwvfE0Xz9W1zC/pLTqPrbBIr/rblI/VpLqvbz2nL070m4/TIwhv3xO7r1GdA6+mAWFv4L+OL614/A+qFYKP/n8i78QubM/V73APObKMz7Cp70+uJedP9ZJTD9foIk/mf2wPoIjFT5WF2+9rbunvkY8y7xWy6e8BMyrPNY7KT6mKPi9AELIPUx+/z4VJjq/quQbP4EEAr+6Ul4/5NiNPuSJ7T/FQmg/KC3PP7WGgb8V5yW/cIB2PxjPzb/iyh+/8X6yP4nq+D+LeRC/ohltvvCGNL/azJW+ZPqVPwFNQD/ki18/QyB1v6gXdj4wpJk+cVRnvzpADz62h8y/ZCeUvw6MKj9pKZk/XrU/vlzSKz+yVig9H6Ghvux2yj9OWo0/eESsPhPrzb50On4+WuuWvy2EQL+B4gG/wJaMv061iz4Sbna+A2hSP7TeKr+UOXa/BpQzvp5BO79Y6r4/eYeUPQhJGrxAU607aPT5PXJwSjxqQy8+HP8Xvrb65zzRf3q+OEMXPbADwj6o+z4+Xgwmv5booT9qZb4+XWctv7hgv7/8HZs+xdSuvwpN7796jxDA+RNAv/ehWj/N/ZG/BKRfPmx4gj8nlNu+vggKvsTca75KD3g/TSr9PY6FTb8yC1W/b0LOPkMuob9F5ya/CsCIP9oJmr6qfVW/l+fLPx03xD+DTIW/0PWEPnGl179prDnAdu0OP2RvZz5MLTq/t8cLQAaxrz7U5ue+nHjUvk4Vlj9u8i4/VIYhv2Rgu79pRvu+zE+YO+pm1z7QdX6+H9UEPrI2hb48jiC9NluHvav9DTx3ok89IFECPgwJl778DC8+lMnbPQLapD0lXYm+MJCwPh/hAL01gUE+bCbhvIHfVz5Moqc/gEj1vt7v2r/ROpg/WG6hvv8f2785H7W+ppWvv2aGg73gCFC/HOgDPdL5xr9Uke+/NF2lv5qPdj/4jW0/DaXVPzIRLj9UYdI+0mbCveJEGD9uzIY+iyIxPyjbHb6Ea0S/P0UQQDok/z+ks2Y+NKCqPfEHub8AEBe/st9KvvK7kT+2htY+1q4APS7a4j5icuY+NgfivmDxrj8zuZU/irRRvh6Tkz4aDjQ/FSbHvpUml79K0/Y+vhtjviqNDz/Gaok+35Wzu5+SUb4mRQW+rofUvQwEvb16R3c+dIDOPbh5xr4gnc09a4WlvpqgGj4+Gxo+qgxEvd3Tzb4GroK+/hDHvl3TfL81VhA/eYH/PgJksT62vTM/yA40vmQdjL6KPWi/nPYaPkssKL1wPje/BC0WQLSDlz56rtG+8fgVwA5pVL+kOaw+gWhOvQi7Rb8eI0s+8n/RP1aTgj1hoOK+pleUP+BWCz+CWiE/SxqpPoydiL6oumW//HfXvR6vIj8ms34+JomRP7SN9j6X6D++vyS6Ptomh76I/zq/1lkIPmrKnr8szqW/MjN8voiCrD40EBo/JK0VP0yPpL6QCd692qiqvZzG37s9Mze+NdbPvS77xzyqMEu97ez1vQ5nkjxzfr+7PEnYPthfpj56FBo9rHvQPMeZoD5UzBa/5SW+PlF3/72kv8Q+/YMIvjYacz8KLlS/oRukv6yzjz90cN0+C/SBPu7WgL2rp2O/+B3IvnpFOD90xp+93uFAv5CLqj8olQy/FgIFP8ZrwL1oiZE/j92VP2fLq769bk+/G/lDvxYFlL9DJBO/ZiyjP6HNqb8wyy6/IAcwPx7crT8gWIg/AeilPngZFb+qQmO/NQOEvqiB978k9mc/DCscP0iaN76U5oW/BCzfvoGUAD6yJMo+xrEZv/CXNjsw0qe9FreyPqg1hL6IcG0+QcQjPqiAZr38Fsg90kmtupY9YTyowFy+zBNXvm6QaDyCumO+/CC+PkB3zb2sMMO9aHeePe3xHD59uCo/SALjvp/oyL3UN6i/eszYPa6cjr4sZA8/ZG4hPyCk9b1kjhu/vj2jPrwvuj5KPQ0/B2zWPmKvsbz8r1C/QWkDv8xwkT+uXos+GQ0APr5PFz/AtlC+G6agPrwzrL/Wbnw/7oEPv2ZYsL+X4q4+6CWVvSDAeL6CVVY+ZyjpP9zRor5lqge/omCbvxjal74aofa+nNQNv/zfer440A6/RyhjvhaoQL5Q1MQ+5wAQv37jPL4GGpm+BGQ3vj3R6D3I6sE9e/j5vTAM+T3EL1e9dC9svYok+L2gT5Y+/HjSPdAvU7ymSSq+BJehPWDxg76Axry+Wbwev8QAbr+hFlO/djZev8aDBD/sTxe/ttGTvsRO4740bO6/Lo2/v9zg8z8Npbc/+7X9Pug8mj5wB5o/LoDvP8kvBcC+LZ+/YhKCvzTleb9GriM/apiNPlVQIr9UolS/XBeCv7DYpL9yRa6/VA62vrrYAj8+xrK9wLnjPr6Y/b6Ias0/jYBivpOMUL7M5KK9WnFPv1JrmL+3xYM+n+A8v3RPh782q3c/0t07P8xeO74P1GQ+c/LUPrgxLT3kWY69brJfvjKsDT7+H6+85u/UPoruMb5sQoc9UObGPZIQhD04VRC+EAUKPoAFvr75CeI+eEQaPfLtPj5PJgg9UL6hvb5osr5rUoG+5tRuP4oe0D6ofW2/BxPaPqZp5rwc3LG/ZCOhv8g+CsBRbwjAViRiv7NeCsAxygC/sD7Wv5zrq78XMiI+oKnhvgp8QL9Pn+I8K4RMPj7QTb5S+Qc/Rg2NPnbrEL/tGTQ9ES0UPzdYizy5OM8+R6bIv7JlGD73PTQ+3Jzpvp7ceT9KI+C9tNQov/y4DD+kLhU/iyyTPxYYHD+Z8jA/Eh3cPPR8Cr8JZqo+IoEnPgoahD6Yhw69/SqNO9Dwyr752ns+xk/ZvRIriDpHK6Y9bi0svSLUwr1s6Vo+7Sokvc45Bz7qeo6+JJniPdMsjrsHTSQ+96TlvuZVpL3kak++ID4CP1I6Xj+jGJo/8EqpP7SBZL9RC7++royAP5hulr8MRya/bqydPrgo/T5HBCA+lGZUPgh1Jz8whkg//E0MP8wglr8wsko5W2opP5wbyb4+oy8+MvLnPtryPT+bXow/KEtAvxCBiL703QC/kviUv8wbxD++krc82xxSP7T/1z4SA7++woZYP/bg3D2qUIo/6ouhPmyVgT5r+XI+LuW0PcR/Mr3wG4e9/IQEvHgumL1UtBw+J189vvLORz6XEQQ9QjOkvPbJvT3qxFa9BpZ8veS2VD3McRS+EkPcva+/QD2cKz2+4U6qPMxAv7zLvBI9Ms+1vdg+TL72hQW93DefPqrZrD5MIVM8uhtuPaqNGT3Mnh0/oOxiP35icr6rWVE8puTHPqZbAT/2RUq/hjrevhJ6/r8hHdW903ZtPkbFTz86HI8+xKyJP7APLT89kW+/btGEvhhYiT6SzAU/rm6sP+AfpL+Ya7E+dwhZP7q57z0OvsY+tNe8vp6zGz8u0U6+xbfGvq0Umb9QK6Q+taCHv8dvhT9L37i+zgXwPqRFJb7qjQK+PqiGvoDOYb7NJYS97N5fPRIBKzy8WmG9KAIsvAJUorwsJQm9EoQOPvQ7Ob4yNzM+NOKHvTTfAj4L1jg7jmO6PSP1lT1olNO93jmEPrY5Tz6zJJ48+K3+PiJKRz9fep4++zGLPc0xdT68FbY+dGXMPrwChT+aYhc//LXbvt4/rL5uPQ0/9sswv/pv9L424fY+7HPivsnkSz5AoD+/8GGLvyhFEL4SNsG/mGUpP7Dc8D2lBos+lUv+PgiaLb8AfLM+AUCDviKmXb860YE7kOOHPu6zoj7AOdY+zc/+PsoTy75EeG0+NVaePnmMHD4Eabu+2mTduwQUDL2BiKK9eDsIvhocaj6/Aie+WJApPUYocbwnctY9cU8XvV5Xkz1x/TM9TEhnPBjiKr02wrE9XL6TvMZKZD0jnKa9QAYmPRvFJL5MjZc+8JK/vbMTUD7mNE++ej/LviwqDL5QlwM/wewYv21BtL50XDK+oj9vP5GqzL7adUG/Covsv1mo2T4OzXs+OUBXP17VCkBn9IE/iD/yvU77I78qvKO/DnSQPcyRUr/eubQ+HFU8vmimXb7L2Ao/5IXGvVe+874P9eC/HgqLPyMm4z0WJs+/LFcrP14Kab52Xlw/2JnbPSmEIb7cfES+Y/gVPdripL4Wy6c+5/yIvTDwTD52DVK+TSehvKJYhr14bZK95DwHPsIUEL36VCw9DGRivRJCPT2oJ2W9YmYNPc8hg70GYJ09AEj+vepi9z090Uu9zMUtPhZyfb5aMnQ9UAExvlJWoT3fD9G+W8dovkgVvbymkq4+rafhPqiomT7A/dW+wzqevtbRnD/42mG+Ag0AP5sn3D6i9bO/IAxbv17Fob6uUA8/SZBOP6x1jj9iNAe/LtsUP24/Aj4cjSu/AT6Ov58YDr/k/do+C+7svXC8Ar/OibG/WSFRP0w+1r7ewf+9yCLvvveXNL2R2sG+SmxaPjBQMD047yU/4Dtxvu4uqj43AlC+kbpFPtzfqL3iADE+JieCu15mG70ixgC86N5JPQji77yxp/49eFTOvb10BD0tp4a99qMSPW57Er77YTw9OzMXvWSeTz2LAdm9PNeEPcLodz3gDQA+DkVDO9IJVj6+p+y+UhgiPZa8QD7KWFA+EgYYvuh3PD5GFQ6/UjZJvmCvo7+7ZGc+LgMgv8qWrT/bJri+dtARPqGtlr0YGky/VKaAvubSML7847a/sUCRP2A5hj/oUXc/xDOrPgAvOb8CRIE+kltFPxyKNj+LWdu/Dy5gP0Il0T74eC0/vjAVPxhZyj0AspE+5rHCvS68Wj3yGg6/vriiPlHnx72PXSe+DzVnPppGmL2YcbO9vKu/vWtKGD7Aljw9tTppuyjVsz0Kaga8gkWTPZc8Rru6lZ69qabMO04CBT0yS6a9SLYyvKrLdr0OZzs+Fz6BvZYAHT0Y0Za75ENGPS4LcLzjk/q82H7GvWaCbL3vOTI+Vwk6vlJqgjzMd8g+kEsJP+TK4b0RRPI+6EJ2P5jDPr7IxmU9dGgXP+4gzj+jv6C9HZhEvsZFartVhou+VB5Wv4JuyL75ACW/7DeTv4bRvj9UPXI9Qi9cPCa1rT2jeKA+fLy6vqDNuL6OsBo/7n+QvNYyAj/v6Zk9mTETPBilAj7UZLQ+nriUPfAbnr6E6B6+NFM0vUPu9jy+iHo9rLmuPdCkl7ylFV29JPxfvRpSmTwiqwW9qoWHPTB8Cb7ZXyA+T+mTvd4OCLz6KzS9MtQJPk38qr3SAeK8KOoFvTrqID4O6OW9P2s5PZ5War6KzDY9fs0ZPrjrcj6gR5W+wvuaPiZMP77WWK6+4MUXv16wxTzYBFY9DEzdvTLCwL6W3ss+/GAVv5B1Tb6MuqY/piUBv6Z6nj0PwYA/GOUwvjgpgr8IWne/qOauvhiDUzyCDMU+zlGLu1Dz+b6Gv9Y9l7z5vXCHUD++7SC9hJNxPriXfz5r7B07EWmTvl+SZz6uFrq8ua8HPoxiqr0A9Ou91ltNvOzgYD3WioG9XnUlvSLZ5DvIK3U9pL+RPXTOsr0PuyY9CI2zPI60ODwBFRe9juQAPRy3iD2BLby8OJwNvewvfz2khBo9fHPMvXBCfTrwxwg9KLKnu+qe9z0SOem8eEVfvRnZAz6Ay5A9Z8RGvYwR070a+r0+1t9QPKAB+L3epdI+EsdNPhiLDz6m9Xq+DPfKPhaOCD4FJVy+zuMwv7o6GL647pe+bwLyPvnJvj5aS/k+dkPkPm4tFz+2aTK/RH4bvpTei76aCmG+uCriPoNz3L3QG8S+X5KiPXioqr5erjM9mhUivbZoJj6Eqh+9SovWvIjobL4I4609jr+BvYujsjy4dEE9Hg3TPadWAD1EsQ2+2BtiPapS2Twipn09EjmRvfwQkTxo/ii9Kt/EvYp0BT1q4hm8KVoQPiMS1r2inzi8njjAPK+zCb35tFy9MnMjPeKU2r1g0ag9KnJ6PaZdvjyaBjG9uDOvPXRHTL2pU468KAbEvcpvlr7X1BW9VHeNPiAq5j4n2RI8RswNv457t75nBpG+5CwmvjY0FD1a5pI+TSTOvSm1gj3s0LW+eWDCvk87hb+uJ/8+HEbkPp9f3T2g//E+xvIWv4KPor7Ebbc9+n6/vOpL8ryb0iu8hBFDvBhPur7ky/W9OvBsPZfEez100Wc9tmEOPdKtsT3r+hK+lsA4veIiIL71kQQ+H0hzvTbFXTwhGqC95TXfPQNXl70sSRA9Gyd8PYZ8FruPlRO7He2gvbbuRD3Fyik7JjAhvboFxbuqulY9VBOmPUG1zTxFCFC+/P+3vBYJFD4EQE89lmCOvXs1+LycTe89bhG9PXjY7TvYyzw+9lPmPZDhX76oMq48ULp4vnRcwj3ysm28IpJbvAdSE7ygmta98/0Zvur0PL6leku9HDPtPAwJ5D6+FOS8AgZGvhTg9j1QvRO+/P1BvnYYpbz9RQe+9hbrvfxx4zvio6a5pKojvdjDQD7g3BK+Ig7XOzJKC7026jE9f66ovCJKdbo4KZw7WumTPa5TQL3axki9uBBSvfckQj2mg6S80rZ4vP5gi70urbI9FMTqvI8u/LxyJi09XuzFvFxUSb1x6Km8DeisPC3UFLxFa6C808yhvbICLLzTa8A9jhQzvXD9J74T3Ty9yk0VPlxnjb3Uv/a8+Nu7vcjJpb3MA3W8qmpzPZ23MD7uNHM8VTanPSfX2b3kuNc9SmubvczEKb58DbI+nHU6PRJRLj5Lkn2+qCwXPfxX6L41xA2++s4IP9RXJT4ZGus9CHq5PdwAMr6pzmI9HEiFPeCb0TxnSVE982FTvZaNJr0G8NO8UTtcPWcVFb0Oq2g9nFEZvRjyzjzknUm7boyZvMOXsLx7HWK8EokwO/RwH70ykm68eutNPfhzpjyev628hxZ/PYeUVjzVOtK8bpTSO2weMjwywIk8jJCKvLnH2bwKy6w9RvkPvdsMHj04ffS9xDzwPGPIaL2ef4K8Mj4LvtJSK71WEhm9vsWGPvR/pz13+jg+AOLGvSq/2r2wlB8+In8qviSx1T0QhPC8jYWyPWgCKr5qCAC9niosve5cmb0cVDO9LKiYPQBFnDw9uQO+IjnmviFLHz2qf6E9CEOvvfb+oT3X6og+7ntlvgxGGD5cgEG9mf3NPUxsqDyFnuW8fryAvDmvgTompLG9MkHTPEq0+7zQxEe87QUNu5z/Qry28xs93B8LPAondrwmTTY99vOzvaB5iDz+1UU7\",\"dtype\":\"float32\",\"order\":\"little\",\"shape\":[63,63]}],\"x\":[-0.5],\"y\":[-0.5]},\"selected\":{\"id\":\"1058\"},\"selection_policy\":{\"id\":\"1091\"}},\"id\":\"1057\",\"type\":\"ColumnDataSource\"},{\"attributes\":{\"high\":49.089813232421875,\"low\":-40.698890686035156,\"nan_color\":\"rgba(0, 0, 0, 0)\",\"palette\":[\"#440154\",\"#440255\",\"#440357\",\"#450558\",\"#45065a\",\"#45085b\",\"#46095c\",\"#460b5e\",\"#460c5f\",\"#460e61\",\"#470f62\",\"#471163\",\"#471265\",\"#471466\",\"#471567\",\"#471669\",\"#47186a\",\"#48196b\",\"#481a6c\",\"#481c6e\",\"#481d6f\",\"#481e70\",\"#482071\",\"#482172\",\"#482273\",\"#482374\",\"#472575\",\"#472676\",\"#472777\",\"#472878\",\"#472a79\",\"#472b7a\",\"#472c7b\",\"#462d7c\",\"#462f7c\",\"#46307d\",\"#46317e\",\"#45327f\",\"#45347f\",\"#453580\",\"#453681\",\"#443781\",\"#443982\",\"#433a83\",\"#433b83\",\"#433c84\",\"#423d84\",\"#423e85\",\"#424085\",\"#414186\",\"#414286\",\"#404387\",\"#404487\",\"#3f4587\",\"#3f4788\",\"#3e4888\",\"#3e4989\",\"#3d4a89\",\"#3d4b89\",\"#3d4c89\",\"#3c4d8a\",\"#3c4e8a\",\"#3b508a\",\"#3b518a\",\"#3a528b\",\"#3a538b\",\"#39548b\",\"#39558b\",\"#38568b\",\"#38578c\",\"#37588c\",\"#37598c\",\"#365a8c\",\"#365b8c\",\"#355c8c\",\"#355d8c\",\"#345e8d\",\"#345f8d\",\"#33608d\",\"#33618d\",\"#32628d\",\"#32638d\",\"#31648d\",\"#31658d\",\"#31668d\",\"#30678d\",\"#30688d\",\"#2f698d\",\"#2f6a8d\",\"#2e6b8e\",\"#2e6c8e\",\"#2e6d8e\",\"#2d6e8e\",\"#2d6f8e\",\"#2c708e\",\"#2c718e\",\"#2c728e\",\"#2b738e\",\"#2b748e\",\"#2a758e\",\"#2a768e\",\"#2a778e\",\"#29788e\",\"#29798e\",\"#287a8e\",\"#287a8e\",\"#287b8e\",\"#277c8e\",\"#277d8e\",\"#277e8e\",\"#267f8e\",\"#26808e\",\"#26818e\",\"#25828e\",\"#25838d\",\"#24848d\",\"#24858d\",\"#24868d\",\"#23878d\",\"#23888d\",\"#23898d\",\"#22898d\",\"#228a8d\",\"#228b8d\",\"#218c8d\",\"#218d8c\",\"#218e8c\",\"#208f8c\",\"#20908c\",\"#20918c\",\"#1f928c\",\"#1f938b\",\"#1f948b\",\"#1f958b\",\"#1f968b\",\"#1e978a\",\"#1e988a\",\"#1e998a\",\"#1e998a\",\"#1e9a89\",\"#1e9b89\",\"#1e9c89\",\"#1e9d88\",\"#1e9e88\",\"#1e9f88\",\"#1ea087\",\"#1fa187\",\"#1fa286\",\"#1fa386\",\"#20a485\",\"#20a585\",\"#21a685\",\"#21a784\",\"#22a784\",\"#23a883\",\"#23a982\",\"#24aa82\",\"#25ab81\",\"#26ac81\",\"#27ad80\",\"#28ae7f\",\"#29af7f\",\"#2ab07e\",\"#2bb17d\",\"#2cb17d\",\"#2eb27c\",\"#2fb37b\",\"#30b47a\",\"#32b57a\",\"#33b679\",\"#35b778\",\"#36b877\",\"#38b976\",\"#39b976\",\"#3bba75\",\"#3dbb74\",\"#3ebc73\",\"#40bd72\",\"#42be71\",\"#44be70\",\"#45bf6f\",\"#47c06e\",\"#49c16d\",\"#4bc26c\",\"#4dc26b\",\"#4fc369\",\"#51c468\",\"#53c567\",\"#55c666\",\"#57c665\",\"#59c764\",\"#5bc862\",\"#5ec961\",\"#60c960\",\"#62ca5f\",\"#64cb5d\",\"#67cc5c\",\"#69cc5b\",\"#6bcd59\",\"#6dce58\",\"#70ce56\",\"#72cf55\",\"#74d054\",\"#77d052\",\"#79d151\",\"#7cd24f\",\"#7ed24e\",\"#81d34c\",\"#83d34b\",\"#86d449\",\"#88d547\",\"#8bd546\",\"#8dd644\",\"#90d643\",\"#92d741\",\"#95d73f\",\"#97d83e\",\"#9ad83c\",\"#9dd93a\",\"#9fd938\",\"#a2da37\",\"#a5da35\",\"#a7db33\",\"#aadb32\",\"#addc30\",\"#afdc2e\",\"#b2dd2c\",\"#b5dd2b\",\"#b7dd29\",\"#bade27\",\"#bdde26\",\"#bfdf24\",\"#c2df22\",\"#c5df21\",\"#c7e01f\",\"#cae01e\",\"#cde01d\",\"#cfe11c\",\"#d2e11b\",\"#d4e11a\",\"#d7e219\",\"#dae218\",\"#dce218\",\"#dfe318\",\"#e1e318\",\"#e4e318\",\"#e7e419\",\"#e9e419\",\"#ece41a\",\"#eee51b\",\"#f1e51c\",\"#f3e51e\",\"#f6e61f\",\"#f8e621\",\"#fae622\",\"#fde724\"]},\"id\":\"1056\",\"type\":\"LinearColorMapper\"},{\"attributes\":{\"coordinates\":null,\"data_source\":{\"id\":\"1057\"},\"glyph\":{\"id\":\"1060\"},\"group\":null,\"hover_glyph\":null,\"muted_glyph\":{\"id\":\"1064\"},\"nonselection_glyph\":{\"id\":\"1062\"},\"selection_glyph\":{\"id\":\"1070\"},\"view\":{\"id\":\"1067\"}},\"id\":\"1066\",\"type\":\"GlyphRenderer\"},{\"attributes\":{\"end\":62.5,\"reset_end\":62.5,\"reset_start\":-0.5,\"start\":-0.5,\"tags\":[[[\"y\",\"y\",null]]]},\"id\":\"1024\",\"type\":\"Range1d\"}],\"root_ids\":[\"1022\"]},\"title\":\"Bokeh Application\",\"version\":\"2.4.0\"}};\n",
       "    var render_items = [{\"docid\":\"e32cbea3-7519-4e81-a503-9e8706e777ab\",\"root_ids\":[\"1022\"],\"roots\":{\"1022\":\"e6b3b0e0-79c1-4b09-bae8-0c41c4a5f012\"}}];\n",
       "    root.Bokeh.embed.embed_items_notebook(docs_json, render_items);\n",
       "    for (const render_item of render_items) {\n",
       "      for (const root_id of render_item.root_ids) {\n",
       "\tconst id_el = document.getElementById(root_id)\n",
       "\tif (id_el.children.length && (id_el.children[0].className === 'bk-root')) {\n",
       "\t  const root_el = id_el.children[0]\n",
       "\t  root_el.id = root_el.id + '-rendered'\n",
       "\t}\n",
       "      }\n",
       "    }\n",
       "  }\n",
       "  if (root.Bokeh !== undefined && root.Bokeh.Panel !== undefined) {\n",
       "    embed_document(root);\n",
       "  } else {\n",
       "    var attempts = 0;\n",
       "    var timer = setInterval(function(root) {\n",
       "      if (root.Bokeh !== undefined && root.Bokeh.Panel !== undefined) {\n",
       "        clearInterval(timer);\n",
       "        embed_document(root);\n",
       "      } else if (document.readyState == \"complete\") {\n",
       "        attempts++;\n",
       "        if (attempts > 200) {\n",
       "          clearInterval(timer);\n",
       "          console.log(\"Bokeh: ERROR: Unable to run BokehJS code because BokehJS library is missing\");\n",
       "        }\n",
       "      }\n",
       "    }, 25, root)\n",
       "  }\n",
       "})(window);</script>"
      ],
      "text/plain": [
       ":Layout\n",
       "   .Image.I :Image   [x,y]   (z)"
      ]
     },
     "execution_count": 6,
     "metadata": {
      "application/vnd.holoviews_exec.v0+json": {
       "id": "1022"
      }
     },
     "output_type": "execute_result"
    }
   ],
   "source": [
    "plot_frames((adi1), backend='bokeh')"
   ]
  },
  {
   "cell_type": "code",
   "execution_count": null,
   "metadata": {},
   "outputs": [],
   "source": []
  }
 ],
 "metadata": {
  "kernelspec": {
   "display_name": "astr3",
   "language": "python",
   "name": "python3"
  },
  "language_info": {
   "codemirror_mode": {
    "name": "ipython",
    "version": 3
   },
   "file_extension": ".py",
   "mimetype": "text/x-python",
   "name": "python",
   "nbconvert_exporter": "python",
   "pygments_lexer": "ipython3",
   "version": "3.9.16"
  },
  "orig_nbformat": 4
 },
 "nbformat": 4,
 "nbformat_minor": 2
}
