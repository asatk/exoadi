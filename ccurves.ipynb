{
 "cells": [
  {
   "cell_type": "code",
   "execution_count": 234,
   "metadata": {},
   "outputs": [],
   "source": [
    "from matplotlib import pyplot as plt\n",
    "import multiprocessing as mp\n",
    "import numpy as np\n",
    "import pandas as pd\n",
    "\n",
    "from hciplot import plot_frames, plot_cubes\n",
    "# from vip_hci.var import frame_center, mask_circle\n",
    "from vip_hci.metrics import completeness_curve, contrast_curve, detection\n",
    "# from vip_hci.metrics import inverse_stim_map, significance, snr, snrmap, stim_map, throughput\n",
    "from vip_hci.fm import cube_planet_free\n",
    "# from vip_hci.fm import firstguess, normalize_psf\n",
    "# from vip_hci.preproc import find_scal_vector, frame_rescaling\n",
    "from vip_hci.psfsub import median_sub, pca, pca_annular\n",
    "\n",
    "\n",
    "from mypkg.redux import redux_utils as rxu, redux_vip as rxv"
   ]
  },
  {
   "cell_type": "code",
   "execution_count": 235,
   "metadata": {},
   "outputs": [],
   "source": [
    "lib = \"vip\"\n",
    "algo = \"ASDI\"\n",
    "sub_type = \"ADI\"\n",
    "first_chnl = 45\n",
    "last_chnl = 74\n",
    "nframes = 2202\n",
    "nskip_frames = rxu.everynthframe\n",
    "ncomp = 10\n",
    "channels = list(range(first_chnl, last_chnl + 1))\n",
    "frames = range(0, nframes, nskip_frames)\n",
    "nbranch = 5\n",
    "scaling = \"temp-standard\"\n",
    "nproc = rxu.numworkers\n",
    "pxscale = 0.035\n",
    "simplex_data = ([21.403], [154.730], [45.632])\n",
    "planet_parameter = np.transpose(simplex_data)\n",
    "pl_loc = (11.65, 40.14)"
   ]
  },
  {
   "cell_type": "code",
   "execution_count": 236,
   "metadata": {},
   "outputs": [],
   "source": [
    "name_kwargs = {\"lib\": lib, \"algo\": algo, \"sub_type\": sub_type,\n",
    "                \"first_chnl\": first_chnl, \"last_chnl\": last_chnl,\n",
    "                \"ncomp\": ncomp, \"nskip_frames\": nskip_frames}\n",
    "\n",
    "data_path = \"./data/005_center_multishift/wl_channel_%05i.fits\"\n",
    "data_paths = [data_path%i for i in channels]\n",
    "name = rxu.make_name(**name_kwargs)\n",
    "pp_path = \"out/%s.fits\"%name\n",
    "pf_path = \"out/PF_%s.fits\"%name\n",
    "wavelengths_path = \"data/channel_wavelengths.txt\"\n",
    "angles_path = \"data/parangs_bads_removed.txt\""
   ]
  },
  {
   "cell_type": "code",
   "execution_count": 237,
   "metadata": {},
   "outputs": [],
   "source": [
    "cubes, wavelengths, angles = rxu.init(data_paths, wavelengths_path,\n",
    "    angles_path, channels=channels, frames=frames)"
   ]
  },
  {
   "cell_type": "code",
   "execution_count": 238,
   "metadata": {},
   "outputs": [],
   "source": [
    "mask_rad = 10\n",
    "do_opt = False\n",
    "fwhm, psfn, opt_scal, opt_flux = rxv.prep(cubes=cubes, wavelengths=wavelengths, mask_rad=mask_rad, do_opt=do_opt)"
   ]
  },
  {
   "cell_type": "code",
   "execution_count": 239,
   "metadata": {},
   "outputs": [],
   "source": [
    "kwargs = {}\n",
    "# asize = kwargs.get(\"asize\", fwhm)\n",
    "# delta_rot = kwargs.get(\"delta_rot\", (0.1, 1.0))\n",
    "# delta_sep = kwargs.get(\"delta_sep\", 1.0)\n",
    "# # nframes = kwargs.get(\"nframes\", \"auto\")\n",
    "# collapse = kwargs.get(\"collapse\", \"median\")"
   ]
  },
  {
   "cell_type": "code",
   "execution_count": 240,
   "metadata": {},
   "outputs": [],
   "source": [
    "rot_options = {\"imlib\": \"vip-fft\", \"interpolation\": \"lanczos4\",\n",
    "                \"interp_zeros\": True, \"mask_val\": 0}\n",
    "nchnls = len(wavelengths)\n",
    "combine_fn = np.median\n",
    "full_output = True\n",
    "args_asdi = {\"cube\": cubes, \"angle_list\": angles, \"scale_list\": opt_scal,\n",
    "            \"flux_sc_list\": opt_flux, \"radius_int\": mask_rad, \"nproc\": nproc,\n",
    "            \"full_output\": full_output, **rot_options, **kwargs}\n",
    "# args_asdi_ann = {\"cube\": cubes, \"angle_list\": angles,\n",
    "#             \"scale_list\": opt_scal, \"flux_sc_list\": opt_flux,\n",
    "#             \"asize\": asize, \"fwhm\": fwhm, \"mode\": \"annular\",\n",
    "#             \"delta_rot\": delta_rot, \"delta_sep\": delta_sep,\n",
    "#             \"collapse\": collapse, \"radius_int\": mask_rad,\n",
    "#             \"nproc\": nproc, \"full_output\": full_output, **rot_options,\n",
    "#             **kwargs}\n",
    "args_asdi_ann = {\"cube\": cubes, \"angle_list\": angles,\n",
    "            \"scale_list\": opt_scal, \"flux_sc_list\": opt_flux,\n",
    "            \"fwhm\": fwhm, \"mode\": \"annular\", \"radius_int\": mask_rad,\n",
    "            \"nproc\": nproc, \"full_output\": full_output, **rot_options,\n",
    "            **kwargs}\n",
    "# args_adi = {\"angle_list\": angles, \"collapse\": collapse, \"nproc\": nproc,\n",
    "#             \"full_output\": full_output, **rot_options, **kwargs}\n",
    "args_sdi = {\"cube\": cubes, \"angle_list\": angles, \"scale_list\": opt_scal,\n",
    "            \"sdi_only\": True, \"radius_int\": mask_rad,\n",
    "            \"full_output\": full_output, **rot_options, **kwargs}\n",
    "args_sng = {\"cube\": cubes, \"angle_list\": angles, \"scale_list\": opt_scal,\n",
    "            \"ncomp\": ncomp, \"adimsdi\":\"single\", \"crop_ifs\": False,\n",
    "            \"mask_center_px\": mask_rad, \"scaling\": scaling, \"nproc\": nproc,\n",
    "            \"full_output\": full_output, **rot_options}\n",
    "args_dbl = {\"cube\": cubes, \"angle_list\": angles, \"scale_list\": opt_scal,\n",
    "            \"ncomp\": (ncomp, ncomp), \"adimsdi\":\"double\", \"crop_ifs\": False,\n",
    "            \"mask_center_px\": mask_rad, \"scaling\": scaling, \"nproc\": nproc,\n",
    "            \"full_output\": full_output, **rot_options}\n",
    "args_ann = {\"cube\": cubes, \"angle_list\": angles, \"scale_list\": opt_scal,\n",
    "            \"ncomp\": (ncomp, ncomp), \"fwhm\": fwhm, \"nproc\": nproc,\n",
    "            \"full_output\": full_output, **rot_options}"
   ]
  },
  {
   "cell_type": "code",
   "execution_count": 241,
   "metadata": {},
   "outputs": [],
   "source": [
    "starphot = simplex_data[2]\n",
    "nbranch = 5\n",
    "theta = 0\n",
    "inner_rad = int(max(1., mask_rad / fwhm))\n",
    "fc_rad_sep = 3\n",
    "noise_sep = 1\n",
    "student = True\n",
    "smooth = True\n",
    "interp_order = 2\n",
    "debug = True\n",
    "verbose = True\n",
    "plot = True\n",
    "full_output = True\n",
    "imlib = \"vip-fft\"\n",
    "interpolation = \"lancsoz4\"\n",
    "\n",
    "\n",
    "args_cc_asdi = {\"scale_list\": opt_scal, \"flux_sc_list\": opt_flux,\n",
    "            \"radius_int\": mask_rad, \"nproc\": nproc}\n",
    "\n",
    "args_cc_asdi_ann = {\"scale_list\": opt_scal, \"flux_sc_list\": opt_flux,\n",
    "            \"radius_int\": mask_rad, \"nproc\": nproc, \"mode\": \"annular\",\n",
    "            \"nframes\": nframes, \"radius_int\": mask_rad, \"nproc\": nproc, **kwargs}\n",
    "\n",
    "args_cc_asdi_ann = {\"scale_list\": opt_scal, \"flux_sc_list\": opt_flux,\n",
    "            \"radius_int\": mask_rad, \"nproc\": nproc, \"mode\": \"annular\",\n",
    "            \"nframes\": nframes, \"radius_int\": mask_rad,\n",
    "            \"nproc\": nproc, **kwargs}\n",
    "args_cc_sdi = {\"scale_list\": opt_scal, \"sdi_only\": True, \"radius_int\": mask_rad,\n",
    "            **kwargs}\n",
    "args_cc_sng = {\"scale_list\": opt_scal, \"ncomp\": ncomp, \"adimsdi\": \"single\",\n",
    "            \"mask_center_px\": mask_rad, \"scaling\": scaling, \"nproc\": nproc}\n",
    "args_cc_dbl = {\"scale_list\": opt_scal, \"ncomp\": (ncomp, ncomp), \"adimsdi\":\"double\",\n",
    "            \"mask_center_px\": mask_rad, \"scaling\": scaling, \"nproc\": nproc}\n",
    "\n",
    "algo = pca\n",
    "algo_dict = args_cc_dbl"
   ]
  },
  {
   "cell_type": "code",
   "execution_count": 246,
   "metadata": {},
   "outputs": [
    {
     "data": {
      "text/plain": [
       "(1, 3, 30)"
      ]
     },
     "execution_count": 246,
     "metadata": {},
     "output_type": "execute_result"
    }
   ],
   "source": [
    "planet_parameters = np.repeat([np.array(simplex_data)], nchnls, axis=2)\n",
    "planet_parameters.shape"
   ]
  },
  {
   "cell_type": "code",
   "execution_count": 252,
   "metadata": {},
   "outputs": [
    {
     "name": "stdout",
     "output_type": "stream",
     "text": [
      "-45.632\n",
      "<class 'numpy.float64'>\n"
     ]
    },
    {
     "ename": "UFuncTypeError",
     "evalue": "ufunc 'multiply' did not contain a loop with signature matching types (dtype('<U29'), dtype('float64')) -> None",
     "output_type": "error",
     "traceback": [
      "\u001b[0;31m---------------------------------------------------------------------------\u001b[0m",
      "\u001b[0;31mUFuncTypeError\u001b[0m                            Traceback (most recent call last)",
      "Cell \u001b[0;32mIn[252], line 2\u001b[0m\n\u001b[1;32m      1\u001b[0m \u001b[39mfrom\u001b[39;00m \u001b[39mmypkg\u001b[39;00m\u001b[39m.\u001b[39;00m\u001b[39mmy_vip_hci\u001b[39;00m\u001b[39m.\u001b[39;00m\u001b[39mmyutils_negfc\u001b[39;00m \u001b[39mimport\u001b[39;00m cube_planet_free\n\u001b[0;32m----> 2\u001b[0m cube_planet_free(planet_parameter\u001b[39m=\u001b[39;49mplanet_parameters, cube\u001b[39m=\u001b[39;49mcubes, angs\u001b[39m=\u001b[39;49mangles_path, psfn\u001b[39m=\u001b[39;49mpsfn)\n",
      "File \u001b[0;32m~/Documents/code/exo-uoe/mypkg/my_vip_hci/myutils_negfc.py:73\u001b[0m, in \u001b[0;36mcube_planet_free\u001b[0;34m(planet_parameter, cube, angs, psfn, imlib, interpolation, transmission)\u001b[0m\n\u001b[1;32m     71\u001b[0m         \u001b[39mprint\u001b[39m(flevel)\n\u001b[1;32m     72\u001b[0m         \u001b[39mprint\u001b[39m(\u001b[39mtype\u001b[39m(flevel))\n\u001b[0;32m---> 73\u001b[0m         cpf[j] \u001b[39m=\u001b[39m cube_inject_companions(cube_temp[j], psfn[j], angs,\n\u001b[1;32m     74\u001b[0m                                         flevel\u001b[39m=\u001b[39;49mflevel,\n\u001b[1;32m     75\u001b[0m                                         rad_dists\u001b[39m=\u001b[39;49m[r],\n\u001b[1;32m     76\u001b[0m                                         n_branches\u001b[39m=\u001b[39;49m\u001b[39m1\u001b[39;49m,\n\u001b[1;32m     77\u001b[0m                                         theta\u001b[39m=\u001b[39;49mtheta,\n\u001b[1;32m     78\u001b[0m                                         imlib\u001b[39m=\u001b[39;49mimlib,\n\u001b[1;32m     79\u001b[0m                                         interpolation\u001b[39m=\u001b[39;49minterpolation,\n\u001b[1;32m     80\u001b[0m                                         verbose\u001b[39m=\u001b[39;49m\u001b[39mFalse\u001b[39;49;00m,\n\u001b[1;32m     81\u001b[0m                                         transmission\u001b[39m=\u001b[39;49mtransmission)\n\u001b[1;32m     82\u001b[0m \u001b[39melse\u001b[39;00m:\n\u001b[1;32m     83\u001b[0m     cpf \u001b[39m=\u001b[39m cube_inject_companions(cube_temp, psfn, angs, n_branches\u001b[39m=\u001b[39m\u001b[39m1\u001b[39m,\n\u001b[1;32m     84\u001b[0m                                  flevel\u001b[39m=\u001b[39m\u001b[39m-\u001b[39mplanet_parameter[i, \u001b[39m2\u001b[39m],\n\u001b[1;32m     85\u001b[0m                                  rad_dists\u001b[39m=\u001b[39m[planet_parameter[i, \u001b[39m0\u001b[39m]],\n\u001b[0;32m   (...)\u001b[0m\n\u001b[1;32m     88\u001b[0m                                  interpolation\u001b[39m=\u001b[39minterpolation,\n\u001b[1;32m     89\u001b[0m                                  transmission\u001b[39m=\u001b[39mtransmission)\n",
      "File \u001b[0;32m~/Documents/code/exo-uoe/mypkg/my_vip_hci/testfakecomp.py:277\u001b[0m, in \u001b[0;36mcube_inject_companions\u001b[0;34m(array, psf_template, angle_list, flevel, rad_dists, plsc, n_branches, theta, imlib, interpolation, transmission, radial_gradient, full_output, verbose, nproc)\u001b[0m\n\u001b[1;32m    275\u001b[0m \u001b[39m# ADI case\u001b[39;00m\n\u001b[1;32m    276\u001b[0m \u001b[39mif\u001b[39;00m array\u001b[39m.\u001b[39mndim \u001b[39m==\u001b[39m \u001b[39m3\u001b[39m:\n\u001b[0;32m--> 277\u001b[0m     res \u001b[39m=\u001b[39m _cube_inject_adi(array, psf_template, angle_list, flevel, plsc,\n\u001b[1;32m    278\u001b[0m                            rad_dists, n_branches, theta, imlib,\n\u001b[1;32m    279\u001b[0m                            interpolation, transmission, radial_gradient,\n\u001b[1;32m    280\u001b[0m                            verbose)\n\u001b[1;32m    281\u001b[0m     array_out, positions, psf_trans \u001b[39m=\u001b[39m res\n\u001b[1;32m    283\u001b[0m \u001b[39m# ADI+mSDI (IFS) case\u001b[39;00m\n\u001b[1;32m    284\u001b[0m \u001b[39melse\u001b[39;00m:\n",
      "File \u001b[0;32m~/Documents/code/exo-uoe/mypkg/my_vip_hci/testfakecomp.py:125\u001b[0m, in \u001b[0;36mcube_inject_companions.<locals>._cube_inject_adi\u001b[0;34m(array, psf_template, angle_list, flevel, plsc, rad_dists, n_branches, theta, imlib, interpolation, transmission, radial_gradient, verbose)\u001b[0m\n\u001b[1;32m    120\u001b[0m \u001b[39mdef\u001b[39;00m \u001b[39m_cube_inject_adi\u001b[39m(array, psf_template, angle_list, flevel, plsc,\n\u001b[1;32m    121\u001b[0m                      rad_dists, n_branches\u001b[39m=\u001b[39m\u001b[39m1\u001b[39m, theta\u001b[39m=\u001b[39m\u001b[39m0\u001b[39m, imlib\u001b[39m=\u001b[39m\u001b[39m'\u001b[39m\u001b[39mvip-fft\u001b[39m\u001b[39m'\u001b[39m,\n\u001b[1;32m    122\u001b[0m                      interpolation\u001b[39m=\u001b[39m\u001b[39m'\u001b[39m\u001b[39mlanczos4\u001b[39m\u001b[39m'\u001b[39m, transmission\u001b[39m=\u001b[39m\u001b[39mNone\u001b[39;00m,\n\u001b[1;32m    123\u001b[0m                      radial_gradient\u001b[39m=\u001b[39m\u001b[39mFalse\u001b[39;00m, verbose\u001b[39m=\u001b[39m\u001b[39mFalse\u001b[39;00m):\n\u001b[1;32m    124\u001b[0m     \u001b[39mif\u001b[39;00m np\u001b[39m.\u001b[39misscalar(flevel):\n\u001b[0;32m--> 125\u001b[0m         flevel \u001b[39m=\u001b[39m np\u001b[39m.\u001b[39;49mones_like(angle_list)\u001b[39m*\u001b[39;49mflevel\n\u001b[1;32m    127\u001b[0m     \u001b[39mif\u001b[39;00m transmission \u001b[39mis\u001b[39;00m \u001b[39mnot\u001b[39;00m \u001b[39mNone\u001b[39;00m:\n\u001b[1;32m    128\u001b[0m         \u001b[39m# last radial separation should be beyond the edge of frame\u001b[39;00m\n\u001b[1;32m    129\u001b[0m         interp_trans \u001b[39m=\u001b[39m interp1d(transmission[\u001b[39m0\u001b[39m], transmission[\u001b[39m1\u001b[39m])\n",
      "\u001b[0;31mUFuncTypeError\u001b[0m: ufunc 'multiply' did not contain a loop with signature matching types (dtype('<U29'), dtype('float64')) -> None"
     ]
    }
   ],
   "source": [
    "from mypkg.my_vip_hci.myutils_negfc import cube_planet_free\n",
    "cube_planet_free(planet_parameter=planet_parameters, cube=cubes, angs=angles_path, psfn=psfn)"
   ]
  },
  {
   "cell_type": "code",
   "execution_count": null,
   "metadata": {},
   "outputs": [],
   "source": [
    "cubes_emp = cube_planet_free(planet_parameter=planet_parameters, cube=cubes, angs=angles_path, psfn=psfn)"
   ]
  },
  {
   "cell_type": "code",
   "execution_count": 188,
   "metadata": {},
   "outputs": [
    {
     "name": "stdout",
     "output_type": "stream",
     "text": [
      "――――――――――――――――――――――――――――――――――――――――――――――――――――――――――――――――――――――――――――――――\n",
      "Starting time: 2023-07-27 11:01:33\n",
      "――――――――――――――――――――――――――――――――――――――――――――――――――――――――――――――――――――――――――――――――\n",
      "ALGO : pca, FWHM = 3.244678651217861, # BRANCHES = 5, SIGMA = 5\n",
      "Finished the throughput calculation\n",
      "Running time:  0:27:15.032917\n",
      "――――――――――――――――――――――――――――――――――――――――――――――――――――――――――――――――――――――――――――――――\n"
     ]
    }
   ],
   "source": [
    "cc_res = contrast_curve(cube=cubes_emp, angle_list=angles, psf_template=psfn,\n",
    "    fwhm=fwhm, algo=algo, pxscale=pxscale, starphot=starphot, sigma=5,\n",
    "    nbranch=nbranch, theta=theta, inner_rad=inner_rad, fc_rad_sep=fc_rad_sep,\n",
    "    noise_sep=noise_sep, student=student, smooth=smooth,\n",
    "    interp_order=interp_order, debug=debug, verbose=verbose, plot=plot,\n",
    "    full_output=full_output, imlib=imlib, interpolation=interpolation,\n",
    "    **algo_dict)"
   ]
  },
  {
   "cell_type": "code",
   "execution_count": 189,
   "metadata": {},
   "outputs": [],
   "source": [
    "df, frame_fc_all, frame_nofc, fc_map_all = cc_res\n",
    "df.to_csv(\"out/datafr_vipPCA010-dbl_45-74_skip20.csv\")"
   ]
  },
  {
   "cell_type": "code",
   "execution_count": 190,
   "metadata": {},
   "outputs": [
    {
     "data": {
      "application/javascript": "(function(root) {\n  function now() {\n    return new Date();\n  }\n\n  var force = true;\n  var py_version = '3.1.1'.replace('rc', '-rc.').replace('.dev', '-dev.');\n  var is_dev = py_version.indexOf(\"+\") !== -1 || py_version.indexOf(\"-\") !== -1;\n  var reloading = false;\n  var Bokeh = root.Bokeh;\n  var bokeh_loaded = Bokeh != null && (Bokeh.version === py_version || (Bokeh.versions !== undefined && Bokeh.versions.has(py_version)));\n\n  if (typeof (root._bokeh_timeout) === \"undefined\" || force) {\n    root._bokeh_timeout = Date.now() + 5000;\n    root._bokeh_failed_load = false;\n  }\n\n  function run_callbacks() {\n    try {\n      root._bokeh_onload_callbacks.forEach(function(callback) {\n        if (callback != null)\n          callback();\n      });\n    } finally {\n      delete root._bokeh_onload_callbacks;\n    }\n    console.debug(\"Bokeh: all callbacks have finished\");\n  }\n\n  function load_libs(css_urls, js_urls, js_modules, js_exports, callback) {\n    if (css_urls == null) css_urls = [];\n    if (js_urls == null) js_urls = [];\n    if (js_modules == null) js_modules = [];\n    if (js_exports == null) js_exports = {};\n\n    root._bokeh_onload_callbacks.push(callback);\n\n    if (root._bokeh_is_loading > 0) {\n      console.debug(\"Bokeh: BokehJS is being loaded, scheduling callback at\", now());\n      return null;\n    }\n    if (js_urls.length === 0 && js_modules.length === 0 && Object.keys(js_exports).length === 0) {\n      run_callbacks();\n      return null;\n    }\n    if (!reloading) {\n      console.debug(\"Bokeh: BokehJS not loaded, scheduling load and callback at\", now());\n    }\n\n    function on_load() {\n      root._bokeh_is_loading--;\n      if (root._bokeh_is_loading === 0) {\n        console.debug(\"Bokeh: all BokehJS libraries/stylesheets loaded\");\n        run_callbacks()\n      }\n    }\n    window._bokeh_on_load = on_load\n\n    function on_error() {\n      console.error(\"failed to load \" + url);\n    }\n\n    var skip = [];\n    if (window.requirejs) {\n      window.requirejs.config({'packages': {}, 'paths': {'jspanel': 'https://cdn.jsdelivr.net/npm/jspanel4@4.12.0/dist/jspanel', 'jspanel-modal': 'https://cdn.jsdelivr.net/npm/jspanel4@4.12.0/dist/extensions/modal/jspanel.modal', 'jspanel-tooltip': 'https://cdn.jsdelivr.net/npm/jspanel4@4.12.0/dist/extensions/tooltip/jspanel.tooltip', 'jspanel-hint': 'https://cdn.jsdelivr.net/npm/jspanel4@4.12.0/dist/extensions/hint/jspanel.hint', 'jspanel-layout': 'https://cdn.jsdelivr.net/npm/jspanel4@4.12.0/dist/extensions/layout/jspanel.layout', 'jspanel-contextmenu': 'https://cdn.jsdelivr.net/npm/jspanel4@4.12.0/dist/extensions/contextmenu/jspanel.contextmenu', 'jspanel-dock': 'https://cdn.jsdelivr.net/npm/jspanel4@4.12.0/dist/extensions/dock/jspanel.dock', 'gridstack': 'https://cdn.jsdelivr.net/npm/gridstack@7.2.3/dist/gridstack-all', 'notyf': 'https://cdn.jsdelivr.net/npm/notyf@3/notyf.min'}, 'shim': {'jspanel': {'exports': 'jsPanel'}, 'gridstack': {'exports': 'GridStack'}}});\n      require([\"jspanel\"], function(jsPanel) {\n\twindow.jsPanel = jsPanel\n\ton_load()\n      })\n      require([\"jspanel-modal\"], function() {\n\ton_load()\n      })\n      require([\"jspanel-tooltip\"], function() {\n\ton_load()\n      })\n      require([\"jspanel-hint\"], function() {\n\ton_load()\n      })\n      require([\"jspanel-layout\"], function() {\n\ton_load()\n      })\n      require([\"jspanel-contextmenu\"], function() {\n\ton_load()\n      })\n      require([\"jspanel-dock\"], function() {\n\ton_load()\n      })\n      require([\"gridstack\"], function(GridStack) {\n\twindow.GridStack = GridStack\n\ton_load()\n      })\n      require([\"notyf\"], function() {\n\ton_load()\n      })\n      root._bokeh_is_loading = css_urls.length + 9;\n    } else {\n      root._bokeh_is_loading = css_urls.length + js_urls.length + js_modules.length + Object.keys(js_exports).length;\n    }\n\n    var existing_stylesheets = []\n    var links = document.getElementsByTagName('link')\n    for (var i = 0; i < links.length; i++) {\n      var link = links[i]\n      if (link.href != null) {\n\texisting_stylesheets.push(link.href)\n      }\n    }\n    for (var i = 0; i < css_urls.length; i++) {\n      var url = css_urls[i];\n      if (existing_stylesheets.indexOf(url) !== -1) {\n\ton_load()\n\tcontinue;\n      }\n      const element = document.createElement(\"link\");\n      element.onload = on_load;\n      element.onerror = on_error;\n      element.rel = \"stylesheet\";\n      element.type = \"text/css\";\n      element.href = url;\n      console.debug(\"Bokeh: injecting link tag for BokehJS stylesheet: \", url);\n      document.body.appendChild(element);\n    }    if (((window['jsPanel'] !== undefined) && (!(window['jsPanel'] instanceof HTMLElement))) || window.requirejs) {\n      var urls = ['https://cdn.holoviz.org/panel/1.2.0/dist/bundled/floatpanel/jspanel4@4.12.0/dist/jspanel.js', 'https://cdn.holoviz.org/panel/1.2.0/dist/bundled/floatpanel/jspanel4@4.12.0/dist/extensions/modal/jspanel.modal.js', 'https://cdn.holoviz.org/panel/1.2.0/dist/bundled/floatpanel/jspanel4@4.12.0/dist/extensions/tooltip/jspanel.tooltip.js', 'https://cdn.holoviz.org/panel/1.2.0/dist/bundled/floatpanel/jspanel4@4.12.0/dist/extensions/hint/jspanel.hint.js', 'https://cdn.holoviz.org/panel/1.2.0/dist/bundled/floatpanel/jspanel4@4.12.0/dist/extensions/layout/jspanel.layout.js', 'https://cdn.holoviz.org/panel/1.2.0/dist/bundled/floatpanel/jspanel4@4.12.0/dist/extensions/contextmenu/jspanel.contextmenu.js', 'https://cdn.holoviz.org/panel/1.2.0/dist/bundled/floatpanel/jspanel4@4.12.0/dist/extensions/dock/jspanel.dock.js'];\n      for (var i = 0; i < urls.length; i++) {\n        skip.push(urls[i])\n      }\n    }    if (((window['GridStack'] !== undefined) && (!(window['GridStack'] instanceof HTMLElement))) || window.requirejs) {\n      var urls = ['https://cdn.holoviz.org/panel/1.2.0/dist/bundled/gridstack/gridstack@7.2.3/dist/gridstack-all.js'];\n      for (var i = 0; i < urls.length; i++) {\n        skip.push(urls[i])\n      }\n    }    if (((window['Notyf'] !== undefined) && (!(window['Notyf'] instanceof HTMLElement))) || window.requirejs) {\n      var urls = ['https://cdn.holoviz.org/panel/1.2.0/dist/bundled/notificationarea/notyf@3/notyf.min.js'];\n      for (var i = 0; i < urls.length; i++) {\n        skip.push(urls[i])\n      }\n    }    var existing_scripts = []\n    var scripts = document.getElementsByTagName('script')\n    for (var i = 0; i < scripts.length; i++) {\n      var script = scripts[i]\n      if (script.src != null) {\n\texisting_scripts.push(script.src)\n      }\n    }\n    for (var i = 0; i < js_urls.length; i++) {\n      var url = js_urls[i];\n      if (skip.indexOf(url) !== -1 || existing_scripts.indexOf(url) !== -1) {\n\tif (!window.requirejs) {\n\t  on_load();\n\t}\n\tcontinue;\n      }\n      var element = document.createElement('script');\n      element.onload = on_load;\n      element.onerror = on_error;\n      element.async = false;\n      element.src = url;\n      console.debug(\"Bokeh: injecting script tag for BokehJS library: \", url);\n      document.head.appendChild(element);\n    }\n    for (var i = 0; i < js_modules.length; i++) {\n      var url = js_modules[i];\n      if (skip.indexOf(url) !== -1 || existing_scripts.indexOf(url) !== -1) {\n\tif (!window.requirejs) {\n\t  on_load();\n\t}\n\tcontinue;\n      }\n      var element = document.createElement('script');\n      element.onload = on_load;\n      element.onerror = on_error;\n      element.async = false;\n      element.src = url;\n      element.type = \"module\";\n      console.debug(\"Bokeh: injecting script tag for BokehJS library: \", url);\n      document.head.appendChild(element);\n    }\n    for (const name in js_exports) {\n      var url = js_exports[name];\n      if (skip.indexOf(url) >= 0 || root[name] != null) {\n\tif (!window.requirejs) {\n\t  on_load();\n\t}\n\tcontinue;\n      }\n      var element = document.createElement('script');\n      element.onerror = on_error;\n      element.async = false;\n      element.type = \"module\";\n      console.debug(\"Bokeh: injecting script tag for BokehJS library: \", url);\n      element.textContent = `\n      import ${name} from \"${url}\"\n      window.${name} = ${name}\n      window._bokeh_on_load()\n      `\n      document.head.appendChild(element);\n    }\n    if (!js_urls.length && !js_modules.length) {\n      on_load()\n    }\n  };\n\n  function inject_raw_css(css) {\n    const element = document.createElement(\"style\");\n    element.appendChild(document.createTextNode(css));\n    document.body.appendChild(element);\n  }\n\n  var js_urls = [\"https://cdn.bokeh.org/bokeh/release/bokeh-3.1.1.min.js\", \"https://cdn.bokeh.org/bokeh/release/bokeh-gl-3.1.1.min.js\", \"https://cdn.bokeh.org/bokeh/release/bokeh-widgets-3.1.1.min.js\", \"https://cdn.bokeh.org/bokeh/release/bokeh-tables-3.1.1.min.js\", \"https://cdn.holoviz.org/panel/1.2.0/dist/panel.min.js\"];\n  var js_modules = [];\n  var js_exports = {};\n  var css_urls = [];\n  var inline_js = [    function(Bokeh) {\n      Bokeh.set_log_level(\"info\");\n    },\nfunction(Bokeh) {} // ensure no trailing comma for IE\n  ];\n\n  function run_inline_js() {\n    if ((root.Bokeh !== undefined) || (force === true)) {\n      for (var i = 0; i < inline_js.length; i++) {\n        inline_js[i].call(root, root.Bokeh);\n      }\n      // Cache old bokeh versions\n      if (Bokeh != undefined && !reloading) {\n\tvar NewBokeh = root.Bokeh;\n\tif (Bokeh.versions === undefined) {\n\t  Bokeh.versions = new Map();\n\t}\n\tif (NewBokeh.version !== Bokeh.version) {\n\t  Bokeh.versions.set(NewBokeh.version, NewBokeh)\n\t}\n\troot.Bokeh = Bokeh;\n      }} else if (Date.now() < root._bokeh_timeout) {\n      setTimeout(run_inline_js, 100);\n    } else if (!root._bokeh_failed_load) {\n      console.log(\"Bokeh: BokehJS failed to load within specified timeout.\");\n      root._bokeh_failed_load = true;\n    }\n    root._bokeh_is_initializing = false\n  }\n\n  function load_or_wait() {\n    // Implement a backoff loop that tries to ensure we do not load multiple\n    // versions of Bokeh and its dependencies at the same time.\n    // In recent versions we use the root._bokeh_is_initializing flag\n    // to determine whether there is an ongoing attempt to initialize\n    // bokeh, however for backward compatibility we also try to ensure\n    // that we do not start loading a newer (Panel>=1.0 and Bokeh>3) version\n    // before older versions are fully initialized.\n    if (root._bokeh_is_initializing && Date.now() > root._bokeh_timeout) {\n      root._bokeh_is_initializing = false;\n      root._bokeh_onload_callbacks = undefined;\n      console.log(\"Bokeh: BokehJS was loaded multiple times but one version failed to initialize.\");\n      load_or_wait();\n    } else if (root._bokeh_is_initializing || (typeof root._bokeh_is_initializing === \"undefined\" && root._bokeh_onload_callbacks !== undefined)) {\n      setTimeout(load_or_wait, 100);\n    } else {\n      Bokeh = root.Bokeh;\n      bokeh_loaded = Bokeh != null && (Bokeh.version === py_version || (Bokeh.versions !== undefined && Bokeh.versions.has(py_version)));\n      root._bokeh_is_initializing = true\n      root._bokeh_onload_callbacks = []\n      if (!reloading && (!bokeh_loaded || is_dev)) {\n\troot.Bokeh = undefined;\n      }\n      load_libs(css_urls, js_urls, js_modules, js_exports, function() {\n\tconsole.debug(\"Bokeh: BokehJS plotting callback run at\", now());\n\trun_inline_js();\n      });\n    }\n  }\n  // Give older versions of the autoload script a head-start to ensure\n  // they initialize before we start loading newer version.\n  setTimeout(load_or_wait, 100)\n}(window));",
      "application/vnd.holoviews_load.v0+json": ""
     },
     "metadata": {},
     "output_type": "display_data"
    },
    {
     "data": {
      "application/javascript": "\nif ((window.PyViz === undefined) || (window.PyViz instanceof HTMLElement)) {\n  window.PyViz = {comms: {}, comm_status:{}, kernels:{}, receivers: {}, plot_index: []}\n}\n\n\n    function JupyterCommManager() {\n    }\n\n    JupyterCommManager.prototype.register_target = function(plot_id, comm_id, msg_handler) {\n      if (window.comm_manager || ((window.Jupyter !== undefined) && (Jupyter.notebook.kernel != null))) {\n        var comm_manager = window.comm_manager || Jupyter.notebook.kernel.comm_manager;\n        comm_manager.register_target(comm_id, function(comm) {\n          comm.on_msg(msg_handler);\n        });\n      } else if ((plot_id in window.PyViz.kernels) && (window.PyViz.kernels[plot_id])) {\n        window.PyViz.kernels[plot_id].registerCommTarget(comm_id, function(comm) {\n          comm.onMsg = msg_handler;\n        });\n      } else if (typeof google != 'undefined' && google.colab.kernel != null) {\n        google.colab.kernel.comms.registerTarget(comm_id, (comm) => {\n          var messages = comm.messages[Symbol.asyncIterator]();\n          function processIteratorResult(result) {\n            var message = result.value;\n            console.log(message)\n            var content = {data: message.data, comm_id};\n            var buffers = []\n            for (var buffer of message.buffers || []) {\n              buffers.push(new DataView(buffer))\n            }\n            var metadata = message.metadata || {};\n            var msg = {content, buffers, metadata}\n            msg_handler(msg);\n            return messages.next().then(processIteratorResult);\n          }\n          return messages.next().then(processIteratorResult);\n        })\n      }\n    }\n\n    JupyterCommManager.prototype.get_client_comm = function(plot_id, comm_id, msg_handler) {\n      if (comm_id in window.PyViz.comms) {\n        return window.PyViz.comms[comm_id];\n      } else if (window.comm_manager || ((window.Jupyter !== undefined) && (Jupyter.notebook.kernel != null))) {\n        var comm_manager = window.comm_manager || Jupyter.notebook.kernel.comm_manager;\n        var comm = comm_manager.new_comm(comm_id, {}, {}, {}, comm_id);\n        if (msg_handler) {\n          comm.on_msg(msg_handler);\n        }\n      } else if ((plot_id in window.PyViz.kernels) && (window.PyViz.kernels[plot_id])) {\n        var comm = window.PyViz.kernels[plot_id].connectToComm(comm_id);\n        comm.open();\n        if (msg_handler) {\n          comm.onMsg = msg_handler;\n        }\n      } else if (typeof google != 'undefined' && google.colab.kernel != null) {\n        var comm_promise = google.colab.kernel.comms.open(comm_id)\n        comm_promise.then((comm) => {\n          window.PyViz.comms[comm_id] = comm;\n          if (msg_handler) {\n            var messages = comm.messages[Symbol.asyncIterator]();\n            function processIteratorResult(result) {\n              var message = result.value;\n              var content = {data: message.data};\n              var metadata = message.metadata || {comm_id};\n              var msg = {content, metadata}\n              msg_handler(msg);\n              return messages.next().then(processIteratorResult);\n            }\n            return messages.next().then(processIteratorResult);\n          }\n        }) \n        var sendClosure = (data, metadata, buffers, disposeOnDone) => {\n          return comm_promise.then((comm) => {\n            comm.send(data, metadata, buffers, disposeOnDone);\n          });\n        };\n        var comm = {\n          send: sendClosure\n        };\n      }\n      window.PyViz.comms[comm_id] = comm;\n      return comm;\n    }\n    window.PyViz.comm_manager = new JupyterCommManager();\n    \n\n\nvar JS_MIME_TYPE = 'application/javascript';\nvar HTML_MIME_TYPE = 'text/html';\nvar EXEC_MIME_TYPE = 'application/vnd.holoviews_exec.v0+json';\nvar CLASS_NAME = 'output';\n\n/**\n * Render data to the DOM node\n */\nfunction render(props, node) {\n  var div = document.createElement(\"div\");\n  var script = document.createElement(\"script\");\n  node.appendChild(div);\n  node.appendChild(script);\n}\n\n/**\n * Handle when a new output is added\n */\nfunction handle_add_output(event, handle) {\n  var output_area = handle.output_area;\n  var output = handle.output;\n  if ((output.data == undefined) || (!output.data.hasOwnProperty(EXEC_MIME_TYPE))) {\n    return\n  }\n  var id = output.metadata[EXEC_MIME_TYPE][\"id\"];\n  var toinsert = output_area.element.find(\".\" + CLASS_NAME.split(' ')[0]);\n  if (id !== undefined) {\n    var nchildren = toinsert.length;\n    var html_node = toinsert[nchildren-1].children[0];\n    html_node.innerHTML = output.data[HTML_MIME_TYPE];\n    var scripts = [];\n    var nodelist = html_node.querySelectorAll(\"script\");\n    for (var i in nodelist) {\n      if (nodelist.hasOwnProperty(i)) {\n        scripts.push(nodelist[i])\n      }\n    }\n\n    scripts.forEach( function (oldScript) {\n      var newScript = document.createElement(\"script\");\n      var attrs = [];\n      var nodemap = oldScript.attributes;\n      for (var j in nodemap) {\n        if (nodemap.hasOwnProperty(j)) {\n          attrs.push(nodemap[j])\n        }\n      }\n      attrs.forEach(function(attr) { newScript.setAttribute(attr.name, attr.value) });\n      newScript.appendChild(document.createTextNode(oldScript.innerHTML));\n      oldScript.parentNode.replaceChild(newScript, oldScript);\n    });\n    if (JS_MIME_TYPE in output.data) {\n      toinsert[nchildren-1].children[1].textContent = output.data[JS_MIME_TYPE];\n    }\n    output_area._hv_plot_id = id;\n    if ((window.Bokeh !== undefined) && (id in Bokeh.index)) {\n      window.PyViz.plot_index[id] = Bokeh.index[id];\n    } else {\n      window.PyViz.plot_index[id] = null;\n    }\n  } else if (output.metadata[EXEC_MIME_TYPE][\"server_id\"] !== undefined) {\n    var bk_div = document.createElement(\"div\");\n    bk_div.innerHTML = output.data[HTML_MIME_TYPE];\n    var script_attrs = bk_div.children[0].attributes;\n    for (var i = 0; i < script_attrs.length; i++) {\n      toinsert[toinsert.length - 1].childNodes[1].setAttribute(script_attrs[i].name, script_attrs[i].value);\n    }\n    // store reference to server id on output_area\n    output_area._bokeh_server_id = output.metadata[EXEC_MIME_TYPE][\"server_id\"];\n  }\n}\n\n/**\n * Handle when an output is cleared or removed\n */\nfunction handle_clear_output(event, handle) {\n  var id = handle.cell.output_area._hv_plot_id;\n  var server_id = handle.cell.output_area._bokeh_server_id;\n  if (((id === undefined) || !(id in PyViz.plot_index)) && (server_id !== undefined)) { return; }\n  var comm = window.PyViz.comm_manager.get_client_comm(\"hv-extension-comm\", \"hv-extension-comm\", function () {});\n  if (server_id !== null) {\n    comm.send({event_type: 'server_delete', 'id': server_id});\n    return;\n  } else if (comm !== null) {\n    comm.send({event_type: 'delete', 'id': id});\n  }\n  delete PyViz.plot_index[id];\n  if ((window.Bokeh !== undefined) & (id in window.Bokeh.index)) {\n    var doc = window.Bokeh.index[id].model.document\n    doc.clear();\n    const i = window.Bokeh.documents.indexOf(doc);\n    if (i > -1) {\n      window.Bokeh.documents.splice(i, 1);\n    }\n  }\n}\n\n/**\n * Handle kernel restart event\n */\nfunction handle_kernel_cleanup(event, handle) {\n  delete PyViz.comms[\"hv-extension-comm\"];\n  window.PyViz.plot_index = {}\n}\n\n/**\n * Handle update_display_data messages\n */\nfunction handle_update_output(event, handle) {\n  handle_clear_output(event, {cell: {output_area: handle.output_area}})\n  handle_add_output(event, handle)\n}\n\nfunction register_renderer(events, OutputArea) {\n  function append_mime(data, metadata, element) {\n    // create a DOM node to render to\n    var toinsert = this.create_output_subarea(\n    metadata,\n    CLASS_NAME,\n    EXEC_MIME_TYPE\n    );\n    this.keyboard_manager.register_events(toinsert);\n    // Render to node\n    var props = {data: data, metadata: metadata[EXEC_MIME_TYPE]};\n    render(props, toinsert[0]);\n    element.append(toinsert);\n    return toinsert\n  }\n\n  events.on('output_added.OutputArea', handle_add_output);\n  events.on('output_updated.OutputArea', handle_update_output);\n  events.on('clear_output.CodeCell', handle_clear_output);\n  events.on('delete.Cell', handle_clear_output);\n  events.on('kernel_ready.Kernel', handle_kernel_cleanup);\n\n  OutputArea.prototype.register_mime_type(EXEC_MIME_TYPE, append_mime, {\n    safe: true,\n    index: 0\n  });\n}\n\nif (window.Jupyter !== undefined) {\n  try {\n    var events = require('base/js/events');\n    var OutputArea = require('notebook/js/outputarea').OutputArea;\n    if (OutputArea.prototype.mime_types().indexOf(EXEC_MIME_TYPE) == -1) {\n      register_renderer(events, OutputArea);\n    }\n  } catch(err) {\n  }\n}\n",
      "application/vnd.holoviews_load.v0+json": ""
     },
     "metadata": {},
     "output_type": "display_data"
    },
    {
     "data": {
      "text/html": [
       "<style>*[data-root-id],\n",
       "*[data-root-id] > * {\n",
       "  box-sizing: border-box;\n",
       "  font-family: var(--jp-ui-font-family);\n",
       "  font-size: var(--jp-ui-font-size1);\n",
       "  color: var(--vscode-editor-foreground, var(--jp-ui-font-color1));\n",
       "}\n",
       "\n",
       "/* Override VSCode background color */\n",
       ".cell-output-ipywidget-background:has(\n",
       "    > .cell-output-ipywidget-background > .lm-Widget > *[data-root-id]\n",
       "  ),\n",
       ".cell-output-ipywidget-background:has(> .lm-Widget > *[data-root-id]) {\n",
       "  background-color: transparent !important;\n",
       "}\n",
       "</style>"
      ]
     },
     "metadata": {},
     "output_type": "display_data"
    },
    {
     "data": {
      "text/html": [
       "\n",
       "<div class=\"logo-block\">\n",
       "<img src='data:image/png;base64,iVBORw0KGgoAAAANSUhEUgAAAEAAAABACAYAAACqaXHeAAAABHNCSVQICAgIfAhkiAAAAAlwSFlz\n",
       "AAAB+wAAAfsBxc2miwAAABl0RVh0U29mdHdhcmUAd3d3Lmlua3NjYXBlLm9yZ5vuPBoAAA6zSURB\n",
       "VHic7ZtpeFRVmsf/5966taWqUlUJ2UioBBJiIBAwCZtog9IOgjqACsogKtqirT2ttt069nQ/zDzt\n",
       "tI4+CrJIREFaFgWhBXpUNhHZQoKBkIUASchWla1S+3ar7r1nPkDaCAnZKoQP/D7mnPOe9/xy76n3\n",
       "nFSAW9ziFoPFNED2LLK5wcyBDObkb8ZkxuaoSYlI6ZcOKq1eWFdedqNzGHQBk9RMEwFAASkk0Xw3\n",
       "ETacDNi2vtvc7L0ROdw0AjoSotQVkKSvHQz/wRO1lScGModBFbDMaNRN1A4tUBCS3lk7BWhQkgpD\n",
       "lG4852/+7DWr1R3uHAZVQDsbh6ZPN7CyxUrCzJMRouusj0ipRwD2uKm0Zn5d2dFwzX1TCGhnmdGo\n",
       "G62Nna+isiUqhkzuKrkQaJlPEv5mFl2fvGg2t/VnzkEV8F5ioioOEWkLG86fvbpthynjdhXYZziQ\n",
       "x1hC9J2NFyi8vCTt91Fh04KGip0AaG9zuCk2wQCVyoNU3Hjezee9bq92duzzTmxsRJoy+jEZZZYo\n",
       "GTKJ6SJngdJqAfRzpze0+jHreUtPc7gpBLQnIYK6BYp/uGhw9YK688eu7v95ysgshcg9qSLMo3JC\n",
       "4jqLKQFBgdKDPoQ+Pltb8dUyQLpeDjeVgI6EgLIQFT5tEl3rn2losHVsexbZ3EyT9wE1uGdkIPcy\n",
       "BGxn8QUq1QrA5nqW5i2tLqvrrM9NK6AdkVIvL9E9bZL/oyfMVd/jqvc8LylzRBKDJSzIExwhQzuL\n",
       "QYGQj4rHfFTc8mUdu3E7yoLtbTe9gI4EqVgVkug2i5+uXGo919ixbRog+3fTbQ8qJe4ZOYNfMoTI\n",
       "OoshUNosgO60AisX15aeI2PSIp5KiFLI9ubb1vV3Qb2ltwLakUCDAkWX7/nHKRmmGIl9VgYsUhJm\n",
       "2NXjKYADtM1ygne9QQDIXlk49FBstMKx66D1v4+XuQr7vqTe0VcBHQlRWiOCbmmSYe2SqtL6q5rJ\n",
       "zsTb7lKx3FKOYC4DoqyS/B5bvLPxvD9Qtf6saxYLQGJErmDOdOMr/zo96km1nElr8bmPOBwI9COv\n",
       "HnFPRIwmkSOv9kcAS4heRsidOkpeWBgZM+UBrTFAXNYL5Vf2ii9c1trNzpYdaoVil3WIc+wdk+gQ\n",
       "noie3ecCcxt9ITcLAPWt/laGEO/9U6PmzZkenTtsSMQ8uYywJVW+grCstAvCIaAdArAsIWkRDDs/\n",
       "KzLm2YcjY1Lv0UdW73HabE9n6V66cxSzfEmuJssTpKGVp+0vHq73FwL46eOjpMpbRAnNmJFrGJNu\n",
       "Ukf9Yrz+3rghiumCKNXXWPhLYcjxGsIpoCMsIRoFITkW8AuyM8jC1+/QLx4bozCEJIq38+1rtpR6\n",
       "V/yzb8eBlRb3fo5l783N0CWolAzJHaVNzkrTzlEp2bQ2q3TC5gn6wpnoQAmwSiGh2GitnTmVMc5O\n",
       "UyfKWUKCIsU7+fZDKwqdT6DDpvkzAX4/+AMFjk0tDp5GRXLpQ2MUmhgDp5gxQT8+Y7hyPsMi8uxF\n",
       "71H0oebujHALECjFKaW9Lm68n18wXp2kVzIcABytD5iXFzg+WVXkegpAsOOYziqo0OkK76GyquC3\n",
       "ltZAzMhhqlSNmmWTE5T6e3IN05ITFLM4GdN0vtZ3ob8Jh1NAKXFbm5PtLU/eqTSlGjkNAJjdgn/N\n",
       "aedXa0tdi7+t9G0FIF49rtMSEgAs1kDLkTPO7ebm4IUWeyh1bKomXqlgMG6kJmHcSM0clYLJ8XtR\n",
       "1GTnbV3F6I5wCGikAb402npp1h1s7LQUZZSMIfALFOuL3UUrfnS8+rez7v9qcold5tilgHbO1fjK\n",
       "9ubb17u9oshxzMiUBKXWqJNxd+fqb0tLVs4lILFnK71H0Ind7uiPgACVcFJlrb0tV6DzxqqTIhUM\n",
       "CwDf1/rrVhTa33/3pGPxJYdQ2l2cbgVcQSosdx8uqnDtbGjh9SlDVSMNWhlnilfqZk42Th2ZpLpf\n",
       "xrHec5e815zrr0dfBZSwzkZfqsv+1FS1KUknUwPARVvItfKUY+cn57yP7qv07UE3p8B2uhUwLk09\n",
       "e0SCOrK+hbdYHYLjRIl71wWzv9jpEoeOHhGRrJAzyEyNiJuUqX0g2sBN5kGK6y2Blp5M3lsB9Qh4\n",
       "y2Ja6x6+i0ucmKgwMATwhSjdUu49tKrQ/pvN5d53ml2CGwCmJipmKjgmyuaXzNeL2a0AkQ01Th5j\n",
       "2DktO3Jyk8f9vcOBQHV94OK+fPumJmvQHxJoWkaKWq9Vs+yUsbq0zGT1I4RgeH2b5wef7+c7bl8F\n",
       "eKgoHVVZa8ZPEORzR6sT1BzDUAD/d9F78e2Tzv99v8D+fLVTqAKAsbGamKey1Mt9Ann4eH3gTXTz\n",
       "idWtAJ8PQWOk7NzSeQn/OTHDuEikVF1R4z8BQCy+6D1aWRfY0tTGG2OM8rRoPaeIj5ZHzJxszElN\n",
       "VM8K8JS5WOfv8mzRnQAKoEhmt8gyPM4lU9SmBK1MCQBnW4KONT86v1hZ1PbwSXPw4JWussVjtH9Y\n",
       "NCoiL9UoH/6PSu8jFrfY2t36erQHXLIEakMi1SydmzB31h3GGXFDFNPaK8Rme9B79Ixrd0WN+1ij\n",
       "NRQ/doRmuFLBkHSTOm5GruG+pFjFdAmorG4IXH1Qua6ASniclfFtDYt+oUjKipPrCQB7QBQ2lrgP\n",
       "fFzm+9XWUtcqJ3/5vDLDpJ79XHZk3u8nGZ42qlj1+ydtbxysCezrydp6ugmipNJ7WBPB5tydY0jP\n",
       "HaVNzs3QzeE4ZpTbI+ZbnSFPbVOw9vsfnVvqWnirPyCNGD08IlqtYkh2hjZ5dErEQzoNm+6ykyOt\n",
       "Lt5/PQEuSRRKo22VkydK+vvS1XEKlhCJAnsqvcVvH7f/ZU2R67eXbMEGAMiIV5oWZWiWvz5Fv2xG\n",
       "sjqNJQRvn3Rs2lji/lNP19VjAQDgD7FHhujZB9OGqYxRkZxixgRDVlqS6uEOFaJUVu0rPFzctrnF\n",
       "JqijImVp8dEKVWyUXDk92zAuMZ6bFwpBU1HrOw6AdhQgUooChb0+ItMbWJitSo5Ws3IAOGEOtL53\n",
       "0vHZih9sC4vtofZ7Qu6523V/fmGcds1TY3V36pUsBwAbSlxnVh2xLfAD/IAIMDf7XYIkNmXfpp2l\n",
       "18rkAJAy9HKFaIr/qULkeQQKy9zf1JgDB2uaeFNGijo5QsUyacNUUTOnGO42xSnv4oOwpDi1zYkc\n",
       "efUc3I5Gk6PhyTuVKaOGyLUAYPGIoY9Pu/atL/L92+4q9wbflRJ2Trpm/jPjdBtfnqB/dIThcl8A\n",
       "KG7hbRuKnb8qsQsVvVlTrwQAQMUlf3kwJI24Z4JhPMtcfng5GcH49GsrxJpGvvHIaeem2ma+KSjQ\n",
       "lIwUdYyCY8j4dE1KzijNnIP2llF2wcXNnsoapw9XxsgYAl6k+KzUXbi2yP3KR2ecf6z3BFsBICdW\n",
       "nvnIaG3eHybqX7vbpEqUMT+9OL4Qpe8VON7dXuFd39v19FoAABRVePbGGuXTszO0P7tu6lghUonE\n",
       "llRdrhArLvmKdh9u29jcFiRRkfLUxBiFNiqSU9icoZQHo5mYBI1MBgBH6wMNb+U7Pnw337H4gi1Y\n",
       "ciWs+uks3Z9fztUvfzxTm9Ne8XXkvQLHNytOOZeiD4e0PgkAIAYCYknKUNUDSXEKzdWNpnil7r4p\n",
       "xqkjTarZMtk/K8TQ6Qve78qqvXurGwIJqcOUKfUWHsm8KGvxSP68YudXq4pcj39X49uOK2X142O0\n",
       "Tz5/u/7TVybqH0rSya6ZBwD21/gubbrgWdDgEOx9WUhfBaC2ibcEBYm7a7x+ukrBMNcEZggyR0TE\n",
       "T8zUPjikQ4VosQZbTpS4vqizBKvqmvjsqnpfzaZyx9JPiz1/bfGKdgD45XB1zoIMzYbfTdS/NClB\n",
       "Gct0USiY3YL/g0LHy/uq/Ef6uo5+n0R/vyhp17Klpge763f8rMu6YU/zrn2nml+2WtH+Z+5IAAFc\n",
       "2bUTdTDOSNa9+cQY7YLsOIXhevEkCvzph7a8laecz/Un/z4/Ae04XeL3UQb57IwU9ZDr9UuKVajv\n",
       "nxp1+1UVIo/LjztZkKH59fO3G/JemqCfmaCRqbqbd90ZZ8FfjtkfAyD0J/9+C2h1hDwsSxvGjNDc\n",
       "b4zk5NfrSwiQblLHzZhg+Jf4aPlUwpDqkQqa9nimbt1/TDH8OitGMaQnj+RJS6B1fbF7SY1TqO5v\n",
       "/v0WAADl1f7zokgS7s7VT2DZ7pegUjBM7mjtiDZbcN4j0YrHH0rXpCtY0qPX0cVL0rv5jv/ZXend\n",
       "0u/EESYBAFBU4T4Qa5TflZOhTe7pmKpaP8kCVUVw1+yhXfJWvn1P3hnXi33JsTN6PnP3hHZ8Z3/h\n",
       "aLHzmkNPuPj7Bc/F/Q38CwjTpSwQXgE4Vmwry9tpfq/ZFgqFMy4AVDtCvi8rvMvOmv0N4YwbVgEA\n",
       "sPM72/KVnzfspmH7HQGCRLG2yL1+z8XwvPcdCbsAANh+xPzstgMtxeGKt+6MK3/tacfvwhWvIwMi\n",
       "oKEBtm0H7W+UVfkc/Y1V0BhoPlDr/w1w/eu1vjIgAgDg22OtX6/eYfnEz/focrZTHAFR+PSs56/7\n",
       "q32nwpjazxgwAQCwcU/T62t3WL7r6/jVRa6/byp1rei+Z98ZUAEAhEPHPc8fKnTU9nbgtnOe8h0l\n",
       "9hcGIqmODLQAHCy2Xti6v/XNRivf43f4fFvIteu854+VHnR7q9tfBlwAAGz+pnndB9vM26UebAe8\n",
       "SLHujPOTPVW+rwY+sxskAAC2HrA8t2Vvc7ffP1r9o+vwR2dcr92InIAbKKC1FZ5tB1tf+/G8p8sv\n",
       "N/9Q5zd/XR34LYCwV5JdccMEAMDBk45DH243r/X4xGvqxFa/GNpS7n6rwOwNWwHVE26oAADYurf1\n",
       "zx/utOzt+DMKYM0p17YtZZ5VNzqfsB2HewG1WXE8PoZ7gOclbTIvynZf9JV+fqZtfgs/8F/Nu5rB\n",
       "EIBmJ+8QRMmpU7EzGRsf2FzuePqYRbzh/zE26EwdrT10f6r6o8HOYzCJB9Dpff8tbnGLG8L/A/WE\n",
       "roTBs2RqAAAAAElFTkSuQmCC'\n",
       "     style='height:25px; border-radius:12px; display: inline-block; float: left; vertical-align: middle'></img>\n",
       "\n",
       "\n",
       "\n",
       "\n",
       "  <img src='data:image/png;base64,iVBORw0KGgoAAAANSUhEUgAAACAAAAAgCAYAAABzenr0AAAABHNCSVQICAgIfAhkiAAAAAlwSFlz\n",
       "AAAFMAAABTABZarKtgAAABl0RVh0U29mdHdhcmUAd3d3Lmlua3NjYXBlLm9yZ5vuPBoAAArNSURB\n",
       "VFiFnVd5VFNXGv/ee0kgGyQhbFoXIKCFYEXEDVErTucMoKUOWA/VLsNSLPQgFTOdyrHPiIp1lFIQ\n",
       "OlaPShEG3EpPcQmISCuV1bQ1CLKIULeQhJA9JO+9+UMT0x5aPfOdc895373f/e7v/t537/ddBF5Q\n",
       "JBIJl81mJwCACEVRQBCEQhAEAQCgnghCURRCkmS7Wq2+WlJSYn0Rv8jzDHAcD0EQJIVGo5mFQuGF\n",
       "jIyMu39kq1KpkOrq6gU6nS6aIAiGzWY7VVBQ0P9/AcjNzWXy+fxcOp2uiY+Przm0d6+n8dblv/Fo\n",
       "kzM4SzYfPlRePvFnjnt6ehh1dXVv2mw2nlar/byoqMj8wgBwHBchCJIZEhJSeu1yHVi7vtu02t8+\n",
       "NykQ7BMWoOUMhXQsXLv5IQAwSJJEEASxcDicoeTk5DtCoZBy9XX69Gnv3t7ebJIky3EcH3guAKlU\n",
       "GoGiaOKWLVsOvhs7/9XXPMde3/IyIFbMnaPDuD5AUdQuOf2XlD0npTExMWYAgNbWVpZcLg8xGAzB\n",
       "JEnSvby82tPT052LaTQatLy8fBtJkt/s3Lnz5h8CwHFcRKPRNu/YsePAjh072KTs0IGCxRg8RgUB\n",
       "TGpSx6cmHgMAfNqN6Xa1GvJ/D35gYAAViURkcXHxUrPZHDRv3rxv4uLiDI7xPXv2bLdYLBUFBQWD\n",
       "jj7M8ZGbm8tkMpmSrKysQiaTScXGxtpqL7dManT6tcu5mgEWWJyOhicozpk+c3NsbKzNFcBbWWEf\n",
       "1Td9/upA30i3ZJv0h8bGxiSFQmFcuHDhOACAWCy+0d3dvX3lypUtzc3N9t8AiIuLk4SEhByLiooy\n",
       "AgAcO3ZsNlPgH3Cttb35JZo+bCYXIQAA9MDiUW7sWS1KN687w6Mera2twa2trfMvXboUOS28Pyb1\n",
       "U08McRtf/sXBSmt5cc35pqamVQqFwhoZGallMpnU/fv3e7RaberVq1d/AABAn1IfQqfTNRs3blQB\n",
       "AFy+fJk7Nja2XCKRnD3dNSorusPq6NfTPR+gPiEEoLRFXO1tS2+zavv27ReftjNttyr0S1/j0rUP\n",
       "PEJQwNwQYGgAACQSyXmNRhMtk8lYAAApKSlKDMP0+fn5QU4ACIKkxMfH1zjYuHnz5uspKSlOfdX7\n",
       "u68fvOePcCzKQR4YVCgATGfa/F3pnzaHWOAXSDyaMCqH2+r8VXErP3D+snXr1tV2dXW94dATExOr\n",
       "6XT6JgAAVCKRcDEMM4WHh9sAAHJyUqNu//wDymKx7AAAVVVVPiaTKXxByrYMvBsxEMSTwPXhuL+8\n",
       "e/fu9fv371+flvbemogYNz+TnsBOFEwMFO8/KzEYDKFVVVX+AAChoaGT7u7ud48ePRro0DEMs+bl\n",
       "5bFRNpud4O3tfdGBzq5uy/5wTUPM/q2zC9atmbVqeHg4Pi0t7WxGRoZFH5rw76I7LI8HqHfwPL7d\n",
       "rfVagzw1NfW81t4ePUfsP/OrnWZ6fPSuUqFQSEkkkrOjo6OvuQR5q0ajiXLoPj4+lzgcTjwKACLH\n",
       "9SqXy2kzhBO8haGo+UA2wZW+p880DxeveGt9aHx9fT09ctlq3sC0NT9e6xsbjuZblSxl7wKtVotM\n",
       "m6PnXvlmZJBtX91CEMQsxyJsNlteXl4udugIghAajQYFAEhPTx9AEGQOimGY8y4oLt63KlJkdB4t\n",
       "P282Z/c/dPrDH04ktJ9P2tfWXP3+2o1vHzunEp6Xq0lsGt08KzUrcSGTQ3n3XeefLCs5UqnT6Rap\n",
       "VCoEACA7O/snvV4f5gJooLa2NsihoygKKEVRzquTND2OCpttGXdG1tOxwOlgzdvE9v30rV+m3W5I\n",
       "2jfJNQmLH85QUUzPNTwvkAx0+vVGhq2/VV9fT+dyuZ01NTXOXQOA3fGxevXq2waDYY5r8KIoij5b\n",
       "jzB5Cz2oKdOo0erOm+1tVuVtBMZXElNMRJR1fvvjx9iPLQ/RjpuB0Xu/Vp7YmH1864YNG3oNBkPw\n",
       "VD7mzp1rJUnSzZUBmqsBggAgGFC/n6jVA+3WoN3tu1Gg39cg2tEx1Cg3CIJHsclxnl2HRorMN8Z0\n",
       "fRW+vr7GJ36Q56Z5h9BIknzGAMJWtvdQYs0EZe3/FSwqk5tpXEMb1JoYD+n8xRdQJl/fMPEgzKhS\n",
       "L40KCD7lGzg92qIyovpb3y/msT2un2psvFpWVvYyl8vtc1nDSXFXV5c7iqLOtEyS5LNBAADfWeKm\n",
       "Ly4uuvR1++sfv51/P5sfnHm2/Iy+mBmwsaHJbpt+Q0jHSS7TZ/PSNVkNJ/973OxtemD1s91CPb12\n",
       "h9MfvZsk5meo1eqo5ORkxTNWn7HR1tY2l8PhOAsUiqIolCRJcETtv/61qzNySYK5trZ2TCgUUiwW\n",
       "S1FSUhLR+bA/kAzwXcAbHa/cFhrTXrJ/v+7IkSPu3Je4Xm5eboJv2wba5QbO5fQwxhsP679Y+nFO\n",
       "jgAAoKSkJILFYjnBGI1G0YYNGwYBnqRoiqIQlKKojurq6gUAAAKBgKQoiuGYkJWVpTCZTOKmI1Xd\n",
       "HwnDcm+cOnOMw+H0FxYWbqpvqv/r9EV+bky+O+/QoUPiqJRt9JphTLFHbKBCR87tWL9EPN9oNIZn\n",
       "ZWUpXHaMCQQCEgCgsrIyEgBuoGq1+qpOp4t2GPH5/BvFxcVLHXpgYGDD8ePH/56Xl2cCAMjMzOxP\n",
       "S0s7pWfow4RCbz/fAF9RT0+P9yeffHJySSqev+9nxLD1FaAlTR8vlJ8vxxzsFhUVLRMIBB0OvwaD\n",
       "YRlFUdfQkpISK0EQ9J6eHgYAQEZGxl2z2Rw0MjJCBwBITk5+xOVyfzpw4ECSw5lQKKQIbxtJm4EN\n",
       "8eZ7jPz0oNv+dK5FG/jq54eH+IFr/S1KabBy0UerAvI+++wzD4vFEpCWljYEACCTyVh2ux3FcXwS\n",
       "BQCw2WxVdXV1bzrQRURE1FVVVTn1zMzM/pkzZ35/9OjRd0pLS19RqVQIy4/tCwDgOcPTQvFQEQBA\n",
       "aWnpK0ERK2LbyVllN341GUJ4YDu8zD5bKyur7O+85tx9Z2fnO1ar9QjA04KkpaVFs2LFir8olcq7\n",
       "YWFhJpFINNnX16drbGyMjY6Ovg0AIBaLjcuXL5d3d3d7XbhwIW704b3F479MeD1qVfJ5Og/bvb4R\n",
       "LwaDMZabm9uwflNa/z/3HOIv5NsDEK7XS7FeevXPvYNLvm5S/GglCK5KpZorlUobXE8g5ObmMqVS\n",
       "6UG1Wu1BURSHoijOiRMnwgoLC7coFAqBo+9Fm0KhEKStmvvto3TeucFN7pVJYbytarXaQyqVHsRx\n",
       "3N15TF1BuBaljr4rV66wOzo63mAymXdzcnKuwwtIUVHRMqvVGkgQxMV7NXvyJijGvcNXB/7z5Zdf\n",
       "bicI4gSO40NTAgD4bVnuODIAT2pElUq1FEEQO4fD6QsPD++fqixHEATj8/ntjoCrqKhwS0hIsJWV\n",
       "leURBHEOx3G563pT3tn5+flBDAbjg6CgoMMpKSlK17GhoSFMJpMFPk04DJIkEQzDzCwW6+5UD5Oa\n",
       "mhrfO3fufECS5GHXnf8pAAAAHMfdURTdimGYPjExsTo0NHTyj2ynEplMxurs7HyHIAiKJMlSHMct\n",
       "U9k9N2vl5+cH0en0TRiGWX18fC65vnh+LxqNBq2oqFhgMpmi7XY7arVaj+zdu/fxn/l/4bSZl5fH\n",
       "5nK5CQAQMtXznCRJePpEbwOAZhzHX4ix/wHzzC/tu64gcwAAAABJRU5ErkJggg=='\n",
       "       style='height:15px; border-radius:12px; display: inline-block; float: left'></img>\n",
       "  \n",
       "\n",
       "\n",
       "</div>\n"
      ]
     },
     "metadata": {},
     "output_type": "display_data"
    },
    {
     "name": "stdout",
     "output_type": "stream",
     "text": [
      ":Dataset   [x,y,time]   (flux)\n",
      ":Cube_shape\t[63, 63, 15]\n"
     ]
    },
    {
     "data": {
      "application/vnd.jupyter.widget-view+json": {
       "model_id": "d4a1c36273f84cd288ae405bf14a6330",
       "version_major": 2,
       "version_minor": 0
      },
      "text/plain": [
       "BokehModel(combine_events=True, render_bundle={'docs_json': {'a7b99421-7ae5-403a-abc0-5f5eacda0c70': {'version…"
      ]
     },
     "execution_count": 190,
     "metadata": {},
     "output_type": "execute_result"
    }
   ],
   "source": [
    "plot_cubes(frame_fc_all)"
   ]
  },
  {
   "cell_type": "code",
   "execution_count": 191,
   "metadata": {},
   "outputs": [
    {
     "data": {
      "application/javascript": "(function(root) {\n  function now() {\n    return new Date();\n  }\n\n  var force = true;\n  var py_version = '3.1.1'.replace('rc', '-rc.').replace('.dev', '-dev.');\n  var is_dev = py_version.indexOf(\"+\") !== -1 || py_version.indexOf(\"-\") !== -1;\n  var reloading = false;\n  var Bokeh = root.Bokeh;\n  var bokeh_loaded = Bokeh != null && (Bokeh.version === py_version || (Bokeh.versions !== undefined && Bokeh.versions.has(py_version)));\n\n  if (typeof (root._bokeh_timeout) === \"undefined\" || force) {\n    root._bokeh_timeout = Date.now() + 5000;\n    root._bokeh_failed_load = false;\n  }\n\n  function run_callbacks() {\n    try {\n      root._bokeh_onload_callbacks.forEach(function(callback) {\n        if (callback != null)\n          callback();\n      });\n    } finally {\n      delete root._bokeh_onload_callbacks;\n    }\n    console.debug(\"Bokeh: all callbacks have finished\");\n  }\n\n  function load_libs(css_urls, js_urls, js_modules, js_exports, callback) {\n    if (css_urls == null) css_urls = [];\n    if (js_urls == null) js_urls = [];\n    if (js_modules == null) js_modules = [];\n    if (js_exports == null) js_exports = {};\n\n    root._bokeh_onload_callbacks.push(callback);\n\n    if (root._bokeh_is_loading > 0) {\n      console.debug(\"Bokeh: BokehJS is being loaded, scheduling callback at\", now());\n      return null;\n    }\n    if (js_urls.length === 0 && js_modules.length === 0 && Object.keys(js_exports).length === 0) {\n      run_callbacks();\n      return null;\n    }\n    if (!reloading) {\n      console.debug(\"Bokeh: BokehJS not loaded, scheduling load and callback at\", now());\n    }\n\n    function on_load() {\n      root._bokeh_is_loading--;\n      if (root._bokeh_is_loading === 0) {\n        console.debug(\"Bokeh: all BokehJS libraries/stylesheets loaded\");\n        run_callbacks()\n      }\n    }\n    window._bokeh_on_load = on_load\n\n    function on_error() {\n      console.error(\"failed to load \" + url);\n    }\n\n    var skip = [];\n    if (window.requirejs) {\n      window.requirejs.config({'packages': {}, 'paths': {'jspanel': 'https://cdn.jsdelivr.net/npm/jspanel4@4.12.0/dist/jspanel', 'jspanel-modal': 'https://cdn.jsdelivr.net/npm/jspanel4@4.12.0/dist/extensions/modal/jspanel.modal', 'jspanel-tooltip': 'https://cdn.jsdelivr.net/npm/jspanel4@4.12.0/dist/extensions/tooltip/jspanel.tooltip', 'jspanel-hint': 'https://cdn.jsdelivr.net/npm/jspanel4@4.12.0/dist/extensions/hint/jspanel.hint', 'jspanel-layout': 'https://cdn.jsdelivr.net/npm/jspanel4@4.12.0/dist/extensions/layout/jspanel.layout', 'jspanel-contextmenu': 'https://cdn.jsdelivr.net/npm/jspanel4@4.12.0/dist/extensions/contextmenu/jspanel.contextmenu', 'jspanel-dock': 'https://cdn.jsdelivr.net/npm/jspanel4@4.12.0/dist/extensions/dock/jspanel.dock', 'gridstack': 'https://cdn.jsdelivr.net/npm/gridstack@7.2.3/dist/gridstack-all', 'notyf': 'https://cdn.jsdelivr.net/npm/notyf@3/notyf.min'}, 'shim': {'jspanel': {'exports': 'jsPanel'}, 'gridstack': {'exports': 'GridStack'}}});\n      require([\"jspanel\"], function(jsPanel) {\n\twindow.jsPanel = jsPanel\n\ton_load()\n      })\n      require([\"jspanel-modal\"], function() {\n\ton_load()\n      })\n      require([\"jspanel-tooltip\"], function() {\n\ton_load()\n      })\n      require([\"jspanel-hint\"], function() {\n\ton_load()\n      })\n      require([\"jspanel-layout\"], function() {\n\ton_load()\n      })\n      require([\"jspanel-contextmenu\"], function() {\n\ton_load()\n      })\n      require([\"jspanel-dock\"], function() {\n\ton_load()\n      })\n      require([\"gridstack\"], function(GridStack) {\n\twindow.GridStack = GridStack\n\ton_load()\n      })\n      require([\"notyf\"], function() {\n\ton_load()\n      })\n      root._bokeh_is_loading = css_urls.length + 9;\n    } else {\n      root._bokeh_is_loading = css_urls.length + js_urls.length + js_modules.length + Object.keys(js_exports).length;\n    }\n\n    var existing_stylesheets = []\n    var links = document.getElementsByTagName('link')\n    for (var i = 0; i < links.length; i++) {\n      var link = links[i]\n      if (link.href != null) {\n\texisting_stylesheets.push(link.href)\n      }\n    }\n    for (var i = 0; i < css_urls.length; i++) {\n      var url = css_urls[i];\n      if (existing_stylesheets.indexOf(url) !== -1) {\n\ton_load()\n\tcontinue;\n      }\n      const element = document.createElement(\"link\");\n      element.onload = on_load;\n      element.onerror = on_error;\n      element.rel = \"stylesheet\";\n      element.type = \"text/css\";\n      element.href = url;\n      console.debug(\"Bokeh: injecting link tag for BokehJS stylesheet: \", url);\n      document.body.appendChild(element);\n    }    if (((window['jsPanel'] !== undefined) && (!(window['jsPanel'] instanceof HTMLElement))) || window.requirejs) {\n      var urls = ['https://cdn.holoviz.org/panel/1.2.0/dist/bundled/floatpanel/jspanel4@4.12.0/dist/jspanel.js', 'https://cdn.holoviz.org/panel/1.2.0/dist/bundled/floatpanel/jspanel4@4.12.0/dist/extensions/modal/jspanel.modal.js', 'https://cdn.holoviz.org/panel/1.2.0/dist/bundled/floatpanel/jspanel4@4.12.0/dist/extensions/tooltip/jspanel.tooltip.js', 'https://cdn.holoviz.org/panel/1.2.0/dist/bundled/floatpanel/jspanel4@4.12.0/dist/extensions/hint/jspanel.hint.js', 'https://cdn.holoviz.org/panel/1.2.0/dist/bundled/floatpanel/jspanel4@4.12.0/dist/extensions/layout/jspanel.layout.js', 'https://cdn.holoviz.org/panel/1.2.0/dist/bundled/floatpanel/jspanel4@4.12.0/dist/extensions/contextmenu/jspanel.contextmenu.js', 'https://cdn.holoviz.org/panel/1.2.0/dist/bundled/floatpanel/jspanel4@4.12.0/dist/extensions/dock/jspanel.dock.js'];\n      for (var i = 0; i < urls.length; i++) {\n        skip.push(urls[i])\n      }\n    }    if (((window['GridStack'] !== undefined) && (!(window['GridStack'] instanceof HTMLElement))) || window.requirejs) {\n      var urls = ['https://cdn.holoviz.org/panel/1.2.0/dist/bundled/gridstack/gridstack@7.2.3/dist/gridstack-all.js'];\n      for (var i = 0; i < urls.length; i++) {\n        skip.push(urls[i])\n      }\n    }    if (((window['Notyf'] !== undefined) && (!(window['Notyf'] instanceof HTMLElement))) || window.requirejs) {\n      var urls = ['https://cdn.holoviz.org/panel/1.2.0/dist/bundled/notificationarea/notyf@3/notyf.min.js'];\n      for (var i = 0; i < urls.length; i++) {\n        skip.push(urls[i])\n      }\n    }    var existing_scripts = []\n    var scripts = document.getElementsByTagName('script')\n    for (var i = 0; i < scripts.length; i++) {\n      var script = scripts[i]\n      if (script.src != null) {\n\texisting_scripts.push(script.src)\n      }\n    }\n    for (var i = 0; i < js_urls.length; i++) {\n      var url = js_urls[i];\n      if (skip.indexOf(url) !== -1 || existing_scripts.indexOf(url) !== -1) {\n\tif (!window.requirejs) {\n\t  on_load();\n\t}\n\tcontinue;\n      }\n      var element = document.createElement('script');\n      element.onload = on_load;\n      element.onerror = on_error;\n      element.async = false;\n      element.src = url;\n      console.debug(\"Bokeh: injecting script tag for BokehJS library: \", url);\n      document.head.appendChild(element);\n    }\n    for (var i = 0; i < js_modules.length; i++) {\n      var url = js_modules[i];\n      if (skip.indexOf(url) !== -1 || existing_scripts.indexOf(url) !== -1) {\n\tif (!window.requirejs) {\n\t  on_load();\n\t}\n\tcontinue;\n      }\n      var element = document.createElement('script');\n      element.onload = on_load;\n      element.onerror = on_error;\n      element.async = false;\n      element.src = url;\n      element.type = \"module\";\n      console.debug(\"Bokeh: injecting script tag for BokehJS library: \", url);\n      document.head.appendChild(element);\n    }\n    for (const name in js_exports) {\n      var url = js_exports[name];\n      if (skip.indexOf(url) >= 0 || root[name] != null) {\n\tif (!window.requirejs) {\n\t  on_load();\n\t}\n\tcontinue;\n      }\n      var element = document.createElement('script');\n      element.onerror = on_error;\n      element.async = false;\n      element.type = \"module\";\n      console.debug(\"Bokeh: injecting script tag for BokehJS library: \", url);\n      element.textContent = `\n      import ${name} from \"${url}\"\n      window.${name} = ${name}\n      window._bokeh_on_load()\n      `\n      document.head.appendChild(element);\n    }\n    if (!js_urls.length && !js_modules.length) {\n      on_load()\n    }\n  };\n\n  function inject_raw_css(css) {\n    const element = document.createElement(\"style\");\n    element.appendChild(document.createTextNode(css));\n    document.body.appendChild(element);\n  }\n\n  var js_urls = [\"https://cdn.bokeh.org/bokeh/release/bokeh-3.1.1.min.js\", \"https://cdn.bokeh.org/bokeh/release/bokeh-gl-3.1.1.min.js\", \"https://cdn.bokeh.org/bokeh/release/bokeh-widgets-3.1.1.min.js\", \"https://cdn.bokeh.org/bokeh/release/bokeh-tables-3.1.1.min.js\", \"https://cdn.holoviz.org/panel/1.2.0/dist/panel.min.js\"];\n  var js_modules = [];\n  var js_exports = {};\n  var css_urls = [];\n  var inline_js = [    function(Bokeh) {\n      Bokeh.set_log_level(\"info\");\n    },\nfunction(Bokeh) {} // ensure no trailing comma for IE\n  ];\n\n  function run_inline_js() {\n    if ((root.Bokeh !== undefined) || (force === true)) {\n      for (var i = 0; i < inline_js.length; i++) {\n        inline_js[i].call(root, root.Bokeh);\n      }\n      // Cache old bokeh versions\n      if (Bokeh != undefined && !reloading) {\n\tvar NewBokeh = root.Bokeh;\n\tif (Bokeh.versions === undefined) {\n\t  Bokeh.versions = new Map();\n\t}\n\tif (NewBokeh.version !== Bokeh.version) {\n\t  Bokeh.versions.set(NewBokeh.version, NewBokeh)\n\t}\n\troot.Bokeh = Bokeh;\n      }} else if (Date.now() < root._bokeh_timeout) {\n      setTimeout(run_inline_js, 100);\n    } else if (!root._bokeh_failed_load) {\n      console.log(\"Bokeh: BokehJS failed to load within specified timeout.\");\n      root._bokeh_failed_load = true;\n    }\n    root._bokeh_is_initializing = false\n  }\n\n  function load_or_wait() {\n    // Implement a backoff loop that tries to ensure we do not load multiple\n    // versions of Bokeh and its dependencies at the same time.\n    // In recent versions we use the root._bokeh_is_initializing flag\n    // to determine whether there is an ongoing attempt to initialize\n    // bokeh, however for backward compatibility we also try to ensure\n    // that we do not start loading a newer (Panel>=1.0 and Bokeh>3) version\n    // before older versions are fully initialized.\n    if (root._bokeh_is_initializing && Date.now() > root._bokeh_timeout) {\n      root._bokeh_is_initializing = false;\n      root._bokeh_onload_callbacks = undefined;\n      console.log(\"Bokeh: BokehJS was loaded multiple times but one version failed to initialize.\");\n      load_or_wait();\n    } else if (root._bokeh_is_initializing || (typeof root._bokeh_is_initializing === \"undefined\" && root._bokeh_onload_callbacks !== undefined)) {\n      setTimeout(load_or_wait, 100);\n    } else {\n      Bokeh = root.Bokeh;\n      bokeh_loaded = Bokeh != null && (Bokeh.version === py_version || (Bokeh.versions !== undefined && Bokeh.versions.has(py_version)));\n      root._bokeh_is_initializing = true\n      root._bokeh_onload_callbacks = []\n      if (!reloading && (!bokeh_loaded || is_dev)) {\n\troot.Bokeh = undefined;\n      }\n      load_libs(css_urls, js_urls, js_modules, js_exports, function() {\n\tconsole.debug(\"Bokeh: BokehJS plotting callback run at\", now());\n\trun_inline_js();\n      });\n    }\n  }\n  // Give older versions of the autoload script a head-start to ensure\n  // they initialize before we start loading newer version.\n  setTimeout(load_or_wait, 100)\n}(window));",
      "application/vnd.holoviews_load.v0+json": ""
     },
     "metadata": {},
     "output_type": "display_data"
    },
    {
     "data": {
      "application/javascript": "\nif ((window.PyViz === undefined) || (window.PyViz instanceof HTMLElement)) {\n  window.PyViz = {comms: {}, comm_status:{}, kernels:{}, receivers: {}, plot_index: []}\n}\n\n\n    function JupyterCommManager() {\n    }\n\n    JupyterCommManager.prototype.register_target = function(plot_id, comm_id, msg_handler) {\n      if (window.comm_manager || ((window.Jupyter !== undefined) && (Jupyter.notebook.kernel != null))) {\n        var comm_manager = window.comm_manager || Jupyter.notebook.kernel.comm_manager;\n        comm_manager.register_target(comm_id, function(comm) {\n          comm.on_msg(msg_handler);\n        });\n      } else if ((plot_id in window.PyViz.kernels) && (window.PyViz.kernels[plot_id])) {\n        window.PyViz.kernels[plot_id].registerCommTarget(comm_id, function(comm) {\n          comm.onMsg = msg_handler;\n        });\n      } else if (typeof google != 'undefined' && google.colab.kernel != null) {\n        google.colab.kernel.comms.registerTarget(comm_id, (comm) => {\n          var messages = comm.messages[Symbol.asyncIterator]();\n          function processIteratorResult(result) {\n            var message = result.value;\n            console.log(message)\n            var content = {data: message.data, comm_id};\n            var buffers = []\n            for (var buffer of message.buffers || []) {\n              buffers.push(new DataView(buffer))\n            }\n            var metadata = message.metadata || {};\n            var msg = {content, buffers, metadata}\n            msg_handler(msg);\n            return messages.next().then(processIteratorResult);\n          }\n          return messages.next().then(processIteratorResult);\n        })\n      }\n    }\n\n    JupyterCommManager.prototype.get_client_comm = function(plot_id, comm_id, msg_handler) {\n      if (comm_id in window.PyViz.comms) {\n        return window.PyViz.comms[comm_id];\n      } else if (window.comm_manager || ((window.Jupyter !== undefined) && (Jupyter.notebook.kernel != null))) {\n        var comm_manager = window.comm_manager || Jupyter.notebook.kernel.comm_manager;\n        var comm = comm_manager.new_comm(comm_id, {}, {}, {}, comm_id);\n        if (msg_handler) {\n          comm.on_msg(msg_handler);\n        }\n      } else if ((plot_id in window.PyViz.kernels) && (window.PyViz.kernels[plot_id])) {\n        var comm = window.PyViz.kernels[plot_id].connectToComm(comm_id);\n        comm.open();\n        if (msg_handler) {\n          comm.onMsg = msg_handler;\n        }\n      } else if (typeof google != 'undefined' && google.colab.kernel != null) {\n        var comm_promise = google.colab.kernel.comms.open(comm_id)\n        comm_promise.then((comm) => {\n          window.PyViz.comms[comm_id] = comm;\n          if (msg_handler) {\n            var messages = comm.messages[Symbol.asyncIterator]();\n            function processIteratorResult(result) {\n              var message = result.value;\n              var content = {data: message.data};\n              var metadata = message.metadata || {comm_id};\n              var msg = {content, metadata}\n              msg_handler(msg);\n              return messages.next().then(processIteratorResult);\n            }\n            return messages.next().then(processIteratorResult);\n          }\n        }) \n        var sendClosure = (data, metadata, buffers, disposeOnDone) => {\n          return comm_promise.then((comm) => {\n            comm.send(data, metadata, buffers, disposeOnDone);\n          });\n        };\n        var comm = {\n          send: sendClosure\n        };\n      }\n      window.PyViz.comms[comm_id] = comm;\n      return comm;\n    }\n    window.PyViz.comm_manager = new JupyterCommManager();\n    \n\n\nvar JS_MIME_TYPE = 'application/javascript';\nvar HTML_MIME_TYPE = 'text/html';\nvar EXEC_MIME_TYPE = 'application/vnd.holoviews_exec.v0+json';\nvar CLASS_NAME = 'output';\n\n/**\n * Render data to the DOM node\n */\nfunction render(props, node) {\n  var div = document.createElement(\"div\");\n  var script = document.createElement(\"script\");\n  node.appendChild(div);\n  node.appendChild(script);\n}\n\n/**\n * Handle when a new output is added\n */\nfunction handle_add_output(event, handle) {\n  var output_area = handle.output_area;\n  var output = handle.output;\n  if ((output.data == undefined) || (!output.data.hasOwnProperty(EXEC_MIME_TYPE))) {\n    return\n  }\n  var id = output.metadata[EXEC_MIME_TYPE][\"id\"];\n  var toinsert = output_area.element.find(\".\" + CLASS_NAME.split(' ')[0]);\n  if (id !== undefined) {\n    var nchildren = toinsert.length;\n    var html_node = toinsert[nchildren-1].children[0];\n    html_node.innerHTML = output.data[HTML_MIME_TYPE];\n    var scripts = [];\n    var nodelist = html_node.querySelectorAll(\"script\");\n    for (var i in nodelist) {\n      if (nodelist.hasOwnProperty(i)) {\n        scripts.push(nodelist[i])\n      }\n    }\n\n    scripts.forEach( function (oldScript) {\n      var newScript = document.createElement(\"script\");\n      var attrs = [];\n      var nodemap = oldScript.attributes;\n      for (var j in nodemap) {\n        if (nodemap.hasOwnProperty(j)) {\n          attrs.push(nodemap[j])\n        }\n      }\n      attrs.forEach(function(attr) { newScript.setAttribute(attr.name, attr.value) });\n      newScript.appendChild(document.createTextNode(oldScript.innerHTML));\n      oldScript.parentNode.replaceChild(newScript, oldScript);\n    });\n    if (JS_MIME_TYPE in output.data) {\n      toinsert[nchildren-1].children[1].textContent = output.data[JS_MIME_TYPE];\n    }\n    output_area._hv_plot_id = id;\n    if ((window.Bokeh !== undefined) && (id in Bokeh.index)) {\n      window.PyViz.plot_index[id] = Bokeh.index[id];\n    } else {\n      window.PyViz.plot_index[id] = null;\n    }\n  } else if (output.metadata[EXEC_MIME_TYPE][\"server_id\"] !== undefined) {\n    var bk_div = document.createElement(\"div\");\n    bk_div.innerHTML = output.data[HTML_MIME_TYPE];\n    var script_attrs = bk_div.children[0].attributes;\n    for (var i = 0; i < script_attrs.length; i++) {\n      toinsert[toinsert.length - 1].childNodes[1].setAttribute(script_attrs[i].name, script_attrs[i].value);\n    }\n    // store reference to server id on output_area\n    output_area._bokeh_server_id = output.metadata[EXEC_MIME_TYPE][\"server_id\"];\n  }\n}\n\n/**\n * Handle when an output is cleared or removed\n */\nfunction handle_clear_output(event, handle) {\n  var id = handle.cell.output_area._hv_plot_id;\n  var server_id = handle.cell.output_area._bokeh_server_id;\n  if (((id === undefined) || !(id in PyViz.plot_index)) && (server_id !== undefined)) { return; }\n  var comm = window.PyViz.comm_manager.get_client_comm(\"hv-extension-comm\", \"hv-extension-comm\", function () {});\n  if (server_id !== null) {\n    comm.send({event_type: 'server_delete', 'id': server_id});\n    return;\n  } else if (comm !== null) {\n    comm.send({event_type: 'delete', 'id': id});\n  }\n  delete PyViz.plot_index[id];\n  if ((window.Bokeh !== undefined) & (id in window.Bokeh.index)) {\n    var doc = window.Bokeh.index[id].model.document\n    doc.clear();\n    const i = window.Bokeh.documents.indexOf(doc);\n    if (i > -1) {\n      window.Bokeh.documents.splice(i, 1);\n    }\n  }\n}\n\n/**\n * Handle kernel restart event\n */\nfunction handle_kernel_cleanup(event, handle) {\n  delete PyViz.comms[\"hv-extension-comm\"];\n  window.PyViz.plot_index = {}\n}\n\n/**\n * Handle update_display_data messages\n */\nfunction handle_update_output(event, handle) {\n  handle_clear_output(event, {cell: {output_area: handle.output_area}})\n  handle_add_output(event, handle)\n}\n\nfunction register_renderer(events, OutputArea) {\n  function append_mime(data, metadata, element) {\n    // create a DOM node to render to\n    var toinsert = this.create_output_subarea(\n    metadata,\n    CLASS_NAME,\n    EXEC_MIME_TYPE\n    );\n    this.keyboard_manager.register_events(toinsert);\n    // Render to node\n    var props = {data: data, metadata: metadata[EXEC_MIME_TYPE]};\n    render(props, toinsert[0]);\n    element.append(toinsert);\n    return toinsert\n  }\n\n  events.on('output_added.OutputArea', handle_add_output);\n  events.on('output_updated.OutputArea', handle_update_output);\n  events.on('clear_output.CodeCell', handle_clear_output);\n  events.on('delete.Cell', handle_clear_output);\n  events.on('kernel_ready.Kernel', handle_kernel_cleanup);\n\n  OutputArea.prototype.register_mime_type(EXEC_MIME_TYPE, append_mime, {\n    safe: true,\n    index: 0\n  });\n}\n\nif (window.Jupyter !== undefined) {\n  try {\n    var events = require('base/js/events');\n    var OutputArea = require('notebook/js/outputarea').OutputArea;\n    if (OutputArea.prototype.mime_types().indexOf(EXEC_MIME_TYPE) == -1) {\n      register_renderer(events, OutputArea);\n    }\n  } catch(err) {\n  }\n}\n",
      "application/vnd.holoviews_load.v0+json": ""
     },
     "metadata": {},
     "output_type": "display_data"
    },
    {
     "data": {
      "text/html": [
       "<style>*[data-root-id],\n",
       "*[data-root-id] > * {\n",
       "  box-sizing: border-box;\n",
       "  font-family: var(--jp-ui-font-family);\n",
       "  font-size: var(--jp-ui-font-size1);\n",
       "  color: var(--vscode-editor-foreground, var(--jp-ui-font-color1));\n",
       "}\n",
       "\n",
       "/* Override VSCode background color */\n",
       ".cell-output-ipywidget-background:has(\n",
       "    > .cell-output-ipywidget-background > .lm-Widget > *[data-root-id]\n",
       "  ),\n",
       ".cell-output-ipywidget-background:has(> .lm-Widget > *[data-root-id]) {\n",
       "  background-color: transparent !important;\n",
       "}\n",
       "</style>"
      ]
     },
     "metadata": {},
     "output_type": "display_data"
    },
    {
     "data": {
      "text/html": [
       "\n",
       "<div class=\"logo-block\">\n",
       "<img src='data:image/png;base64,iVBORw0KGgoAAAANSUhEUgAAAEAAAABACAYAAACqaXHeAAAABHNCSVQICAgIfAhkiAAAAAlwSFlz\n",
       "AAAB+wAAAfsBxc2miwAAABl0RVh0U29mdHdhcmUAd3d3Lmlua3NjYXBlLm9yZ5vuPBoAAA6zSURB\n",
       "VHic7ZtpeFRVmsf/5966taWqUlUJ2UioBBJiIBAwCZtog9IOgjqACsogKtqirT2ttt069nQ/zDzt\n",
       "tI4+CrJIREFaFgWhBXpUNhHZQoKBkIUASchWla1S+3ar7r1nPkDaCAnZKoQP/D7mnPOe9/xy76n3\n",
       "nFSAW9ziFoPFNED2LLK5wcyBDObkb8ZkxuaoSYlI6ZcOKq1eWFdedqNzGHQBk9RMEwFAASkk0Xw3\n",
       "ETacDNi2vtvc7L0ROdw0AjoSotQVkKSvHQz/wRO1lScGModBFbDMaNRN1A4tUBCS3lk7BWhQkgpD\n",
       "lG4852/+7DWr1R3uHAZVQDsbh6ZPN7CyxUrCzJMRouusj0ipRwD2uKm0Zn5d2dFwzX1TCGhnmdGo\n",
       "G62Nna+isiUqhkzuKrkQaJlPEv5mFl2fvGg2t/VnzkEV8F5ioioOEWkLG86fvbpthynjdhXYZziQ\n",
       "x1hC9J2NFyi8vCTt91Fh04KGip0AaG9zuCk2wQCVyoNU3Hjezee9bq92duzzTmxsRJoy+jEZZZYo\n",
       "GTKJ6SJngdJqAfRzpze0+jHreUtPc7gpBLQnIYK6BYp/uGhw9YK688eu7v95ysgshcg9qSLMo3JC\n",
       "4jqLKQFBgdKDPoQ+Pltb8dUyQLpeDjeVgI6EgLIQFT5tEl3rn2losHVsexbZ3EyT9wE1uGdkIPcy\n",
       "BGxn8QUq1QrA5nqW5i2tLqvrrM9NK6AdkVIvL9E9bZL/oyfMVd/jqvc8LylzRBKDJSzIExwhQzuL\n",
       "QYGQj4rHfFTc8mUdu3E7yoLtbTe9gI4EqVgVkug2i5+uXGo919ixbRog+3fTbQ8qJe4ZOYNfMoTI\n",
       "OoshUNosgO60AisX15aeI2PSIp5KiFLI9ubb1vV3Qb2ltwLakUCDAkWX7/nHKRmmGIl9VgYsUhJm\n",
       "2NXjKYADtM1ygne9QQDIXlk49FBstMKx66D1v4+XuQr7vqTe0VcBHQlRWiOCbmmSYe2SqtL6q5rJ\n",
       "zsTb7lKx3FKOYC4DoqyS/B5bvLPxvD9Qtf6saxYLQGJErmDOdOMr/zo96km1nElr8bmPOBwI9COv\n",
       "HnFPRIwmkSOv9kcAS4heRsidOkpeWBgZM+UBrTFAXNYL5Vf2ii9c1trNzpYdaoVil3WIc+wdk+gQ\n",
       "noie3ecCcxt9ITcLAPWt/laGEO/9U6PmzZkenTtsSMQ8uYywJVW+grCstAvCIaAdArAsIWkRDDs/\n",
       "KzLm2YcjY1Lv0UdW73HabE9n6V66cxSzfEmuJssTpKGVp+0vHq73FwL46eOjpMpbRAnNmJFrGJNu\n",
       "Ukf9Yrz+3rghiumCKNXXWPhLYcjxGsIpoCMsIRoFITkW8AuyM8jC1+/QLx4bozCEJIq38+1rtpR6\n",
       "V/yzb8eBlRb3fo5l783N0CWolAzJHaVNzkrTzlEp2bQ2q3TC5gn6wpnoQAmwSiGh2GitnTmVMc5O\n",
       "UyfKWUKCIsU7+fZDKwqdT6DDpvkzAX4/+AMFjk0tDp5GRXLpQ2MUmhgDp5gxQT8+Y7hyPsMi8uxF\n",
       "71H0oebujHALECjFKaW9Lm68n18wXp2kVzIcABytD5iXFzg+WVXkegpAsOOYziqo0OkK76GyquC3\n",
       "ltZAzMhhqlSNmmWTE5T6e3IN05ITFLM4GdN0vtZ3ob8Jh1NAKXFbm5PtLU/eqTSlGjkNAJjdgn/N\n",
       "aedXa0tdi7+t9G0FIF49rtMSEgAs1kDLkTPO7ebm4IUWeyh1bKomXqlgMG6kJmHcSM0clYLJ8XtR\n",
       "1GTnbV3F6I5wCGikAb402npp1h1s7LQUZZSMIfALFOuL3UUrfnS8+rez7v9qcold5tilgHbO1fjK\n",
       "9ubb17u9oshxzMiUBKXWqJNxd+fqb0tLVs4lILFnK71H0Ind7uiPgACVcFJlrb0tV6DzxqqTIhUM\n",
       "CwDf1/rrVhTa33/3pGPxJYdQ2l2cbgVcQSosdx8uqnDtbGjh9SlDVSMNWhlnilfqZk42Th2ZpLpf\n",
       "xrHec5e815zrr0dfBZSwzkZfqsv+1FS1KUknUwPARVvItfKUY+cn57yP7qv07UE3p8B2uhUwLk09\n",
       "e0SCOrK+hbdYHYLjRIl71wWzv9jpEoeOHhGRrJAzyEyNiJuUqX0g2sBN5kGK6y2Blp5M3lsB9Qh4\n",
       "y2Ja6x6+i0ucmKgwMATwhSjdUu49tKrQ/pvN5d53ml2CGwCmJipmKjgmyuaXzNeL2a0AkQ01Th5j\n",
       "2DktO3Jyk8f9vcOBQHV94OK+fPumJmvQHxJoWkaKWq9Vs+yUsbq0zGT1I4RgeH2b5wef7+c7bl8F\n",
       "eKgoHVVZa8ZPEORzR6sT1BzDUAD/d9F78e2Tzv99v8D+fLVTqAKAsbGamKey1Mt9Ann4eH3gTXTz\n",
       "idWtAJ8PQWOk7NzSeQn/OTHDuEikVF1R4z8BQCy+6D1aWRfY0tTGG2OM8rRoPaeIj5ZHzJxszElN\n",
       "VM8K8JS5WOfv8mzRnQAKoEhmt8gyPM4lU9SmBK1MCQBnW4KONT86v1hZ1PbwSXPw4JWussVjtH9Y\n",
       "NCoiL9UoH/6PSu8jFrfY2t36erQHXLIEakMi1SydmzB31h3GGXFDFNPaK8Rme9B79Ixrd0WN+1ij\n",
       "NRQ/doRmuFLBkHSTOm5GruG+pFjFdAmorG4IXH1Qua6ASniclfFtDYt+oUjKipPrCQB7QBQ2lrgP\n",
       "fFzm+9XWUtcqJ3/5vDLDpJ79XHZk3u8nGZ42qlj1+ydtbxysCezrydp6ugmipNJ7WBPB5tydY0jP\n",
       "HaVNzs3QzeE4ZpTbI+ZbnSFPbVOw9vsfnVvqWnirPyCNGD08IlqtYkh2hjZ5dErEQzoNm+6ykyOt\n",
       "Lt5/PQEuSRRKo22VkydK+vvS1XEKlhCJAnsqvcVvH7f/ZU2R67eXbMEGAMiIV5oWZWiWvz5Fv2xG\n",
       "sjqNJQRvn3Rs2lji/lNP19VjAQDgD7FHhujZB9OGqYxRkZxixgRDVlqS6uEOFaJUVu0rPFzctrnF\n",
       "JqijImVp8dEKVWyUXDk92zAuMZ6bFwpBU1HrOw6AdhQgUooChb0+ItMbWJitSo5Ws3IAOGEOtL53\n",
       "0vHZih9sC4vtofZ7Qu6523V/fmGcds1TY3V36pUsBwAbSlxnVh2xLfAD/IAIMDf7XYIkNmXfpp2l\n",
       "18rkAJAy9HKFaIr/qULkeQQKy9zf1JgDB2uaeFNGijo5QsUyacNUUTOnGO42xSnv4oOwpDi1zYkc\n",
       "efUc3I5Gk6PhyTuVKaOGyLUAYPGIoY9Pu/atL/L92+4q9wbflRJ2Trpm/jPjdBtfnqB/dIThcl8A\n",
       "KG7hbRuKnb8qsQsVvVlTrwQAQMUlf3kwJI24Z4JhPMtcfng5GcH49GsrxJpGvvHIaeem2ma+KSjQ\n",
       "lIwUdYyCY8j4dE1KzijNnIP2llF2wcXNnsoapw9XxsgYAl6k+KzUXbi2yP3KR2ecf6z3BFsBICdW\n",
       "nvnIaG3eHybqX7vbpEqUMT+9OL4Qpe8VON7dXuFd39v19FoAABRVePbGGuXTszO0P7tu6lghUonE\n",
       "llRdrhArLvmKdh9u29jcFiRRkfLUxBiFNiqSU9icoZQHo5mYBI1MBgBH6wMNb+U7Pnw337H4gi1Y\n",
       "ciWs+uks3Z9fztUvfzxTm9Ne8XXkvQLHNytOOZeiD4e0PgkAIAYCYknKUNUDSXEKzdWNpnil7r4p\n",
       "xqkjTarZMtk/K8TQ6Qve78qqvXurGwIJqcOUKfUWHsm8KGvxSP68YudXq4pcj39X49uOK2X142O0\n",
       "Tz5/u/7TVybqH0rSya6ZBwD21/gubbrgWdDgEOx9WUhfBaC2ibcEBYm7a7x+ukrBMNcEZggyR0TE\n",
       "T8zUPjikQ4VosQZbTpS4vqizBKvqmvjsqnpfzaZyx9JPiz1/bfGKdgD45XB1zoIMzYbfTdS/NClB\n",
       "Gct0USiY3YL/g0LHy/uq/Ef6uo5+n0R/vyhp17Klpge763f8rMu6YU/zrn2nml+2WtH+Z+5IAAFc\n",
       "2bUTdTDOSNa9+cQY7YLsOIXhevEkCvzph7a8laecz/Un/z4/Ae04XeL3UQb57IwU9ZDr9UuKVajv\n",
       "nxp1+1UVIo/LjztZkKH59fO3G/JemqCfmaCRqbqbd90ZZ8FfjtkfAyD0J/9+C2h1hDwsSxvGjNDc\n",
       "b4zk5NfrSwiQblLHzZhg+Jf4aPlUwpDqkQqa9nimbt1/TDH8OitGMaQnj+RJS6B1fbF7SY1TqO5v\n",
       "/v0WAADl1f7zokgS7s7VT2DZ7pegUjBM7mjtiDZbcN4j0YrHH0rXpCtY0qPX0cVL0rv5jv/ZXend\n",
       "0u/EESYBAFBU4T4Qa5TflZOhTe7pmKpaP8kCVUVw1+yhXfJWvn1P3hnXi33JsTN6PnP3hHZ8Z3/h\n",
       "aLHzmkNPuPj7Bc/F/Q38CwjTpSwQXgE4Vmwry9tpfq/ZFgqFMy4AVDtCvi8rvMvOmv0N4YwbVgEA\n",
       "sPM72/KVnzfspmH7HQGCRLG2yL1+z8XwvPcdCbsAANh+xPzstgMtxeGKt+6MK3/tacfvwhWvIwMi\n",
       "oKEBtm0H7W+UVfkc/Y1V0BhoPlDr/w1w/eu1vjIgAgDg22OtX6/eYfnEz/focrZTHAFR+PSs56/7\n",
       "q32nwpjazxgwAQCwcU/T62t3WL7r6/jVRa6/byp1rei+Z98ZUAEAhEPHPc8fKnTU9nbgtnOe8h0l\n",
       "9hcGIqmODLQAHCy2Xti6v/XNRivf43f4fFvIteu854+VHnR7q9tfBlwAAGz+pnndB9vM26UebAe8\n",
       "SLHujPOTPVW+rwY+sxskAAC2HrA8t2Vvc7ffP1r9o+vwR2dcr92InIAbKKC1FZ5tB1tf+/G8p8sv\n",
       "N/9Q5zd/XR34LYCwV5JdccMEAMDBk45DH243r/X4xGvqxFa/GNpS7n6rwOwNWwHVE26oAADYurf1\n",
       "zx/utOzt+DMKYM0p17YtZZ5VNzqfsB2HewG1WXE8PoZ7gOclbTIvynZf9JV+fqZtfgs/8F/Nu5rB\n",
       "EIBmJ+8QRMmpU7EzGRsf2FzuePqYRbzh/zE26EwdrT10f6r6o8HOYzCJB9Dpff8tbnGLG8L/A/WE\n",
       "roTBs2RqAAAAAElFTkSuQmCC'\n",
       "     style='height:25px; border-radius:12px; display: inline-block; float: left; vertical-align: middle'></img>\n",
       "\n",
       "\n",
       "  <img src='data:image/png;base64,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'\n",
       "       style='height:15px; border-radius:12px; display: inline-block; float: left'></img>\n",
       "  \n",
       "\n",
       "\n",
       "\n",
       "\n",
       "</div>\n"
      ]
     },
     "metadata": {},
     "output_type": "display_data"
    },
    {
     "data": {},
     "metadata": {},
     "output_type": "display_data"
    },
    {
     "data": {
      "application/vnd.holoviews_exec.v0+json": "",
      "text/html": [
       "<div id='p5309'>\n",
       "  <div id=\"f8d6e062-3ca6-4aab-b914-5cc973d97004\" data-root-id=\"p5309\" style=\"display: contents;\"></div>\n",
       "</div>\n",
       "<script type=\"application/javascript\">(function(root) {\n",
       "  var docs_json = {\"e499b61c-9a72-4ce0-bbee-2c48f9895091\":{\"version\":\"3.1.1\",\"title\":\"Bokeh Application\",\"defs\":[{\"type\":\"model\",\"name\":\"ReactiveHTML1\"},{\"type\":\"model\",\"name\":\"FlexBox1\",\"properties\":[{\"name\":\"align_content\",\"kind\":\"Any\",\"default\":\"flex-start\"},{\"name\":\"align_items\",\"kind\":\"Any\",\"default\":\"flex-start\"},{\"name\":\"flex_direction\",\"kind\":\"Any\",\"default\":\"row\"},{\"name\":\"flex_wrap\",\"kind\":\"Any\",\"default\":\"wrap\"},{\"name\":\"justify_content\",\"kind\":\"Any\",\"default\":\"flex-start\"}]},{\"type\":\"model\",\"name\":\"FloatPanel1\",\"properties\":[{\"name\":\"config\",\"kind\":\"Any\",\"default\":{\"type\":\"map\"}},{\"name\":\"contained\",\"kind\":\"Any\",\"default\":true},{\"name\":\"position\",\"kind\":\"Any\",\"default\":\"right-top\"},{\"name\":\"offsetx\",\"kind\":\"Any\",\"default\":null},{\"name\":\"offsety\",\"kind\":\"Any\",\"default\":null},{\"name\":\"theme\",\"kind\":\"Any\",\"default\":\"primary\"},{\"name\":\"status\",\"kind\":\"Any\",\"default\":\"normalized\"}]},{\"type\":\"model\",\"name\":\"GridStack1\",\"properties\":[{\"name\":\"mode\",\"kind\":\"Any\",\"default\":\"warn\"},{\"name\":\"ncols\",\"kind\":\"Any\",\"default\":null},{\"name\":\"nrows\",\"kind\":\"Any\",\"default\":null},{\"name\":\"allow_resize\",\"kind\":\"Any\",\"default\":true},{\"name\":\"allow_drag\",\"kind\":\"Any\",\"default\":true},{\"name\":\"state\",\"kind\":\"Any\",\"default\":[]}]},{\"type\":\"model\",\"name\":\"drag1\",\"properties\":[{\"name\":\"slider_width\",\"kind\":\"Any\",\"default\":5},{\"name\":\"slider_color\",\"kind\":\"Any\",\"default\":\"black\"},{\"name\":\"value\",\"kind\":\"Any\",\"default\":50}]},{\"type\":\"model\",\"name\":\"click1\",\"properties\":[{\"name\":\"terminal_output\",\"kind\":\"Any\",\"default\":\"\"},{\"name\":\"debug_name\",\"kind\":\"Any\",\"default\":\"\"},{\"name\":\"clears\",\"kind\":\"Any\",\"default\":0}]},{\"type\":\"model\",\"name\":\"FastWrapper1\",\"properties\":[{\"name\":\"object\",\"kind\":\"Any\",\"default\":null},{\"name\":\"style\",\"kind\":\"Any\",\"default\":null}]},{\"type\":\"model\",\"name\":\"NotificationAreaBase1\",\"properties\":[{\"name\":\"position\",\"kind\":\"Any\",\"default\":\"bottom-right\"},{\"name\":\"_clear\",\"kind\":\"Any\",\"default\":0}]},{\"type\":\"model\",\"name\":\"NotificationArea1\",\"properties\":[{\"name\":\"notifications\",\"kind\":\"Any\",\"default\":[]},{\"name\":\"position\",\"kind\":\"Any\",\"default\":\"bottom-right\"},{\"name\":\"_clear\",\"kind\":\"Any\",\"default\":0},{\"name\":\"types\",\"kind\":\"Any\",\"default\":[{\"type\":\"map\",\"entries\":[[\"type\",\"warning\"],[\"background\",\"#ffc107\"],[\"icon\",{\"type\":\"map\",\"entries\":[[\"className\",\"fas fa-exclamation-triangle\"],[\"tagName\",\"i\"],[\"color\",\"white\"]]}]]},{\"type\":\"map\",\"entries\":[[\"type\",\"info\"],[\"background\",\"#007bff\"],[\"icon\",{\"type\":\"map\",\"entries\":[[\"className\",\"fas fa-info-circle\"],[\"tagName\",\"i\"],[\"color\",\"white\"]]}]]}]}]},{\"type\":\"model\",\"name\":\"Notification\",\"properties\":[{\"name\":\"background\",\"kind\":\"Any\",\"default\":null},{\"name\":\"duration\",\"kind\":\"Any\",\"default\":3000},{\"name\":\"icon\",\"kind\":\"Any\",\"default\":null},{\"name\":\"message\",\"kind\":\"Any\",\"default\":\"\"},{\"name\":\"notification_type\",\"kind\":\"Any\",\"default\":null},{\"name\":\"_destroyed\",\"kind\":\"Any\",\"default\":false}]},{\"type\":\"model\",\"name\":\"TemplateActions1\",\"properties\":[{\"name\":\"open_modal\",\"kind\":\"Any\",\"default\":0},{\"name\":\"close_modal\",\"kind\":\"Any\",\"default\":0}]},{\"type\":\"model\",\"name\":\"BootstrapTemplateActions1\",\"properties\":[{\"name\":\"open_modal\",\"kind\":\"Any\",\"default\":0},{\"name\":\"close_modal\",\"kind\":\"Any\",\"default\":0}]},{\"type\":\"model\",\"name\":\"MaterialTemplateActions1\",\"properties\":[{\"name\":\"open_modal\",\"kind\":\"Any\",\"default\":0},{\"name\":\"close_modal\",\"kind\":\"Any\",\"default\":0}]}],\"roots\":[{\"type\":\"object\",\"name\":\"Row\",\"id\":\"p5309\",\"attributes\":{\"name\":\"Row15426\",\"tags\":[\"embedded\"],\"stylesheets\":[\"\\n:host(.pn-loading.pn-arc):before, .pn-loading.pn-arc:before {\\n  background-image: url(\\\"data:image/svg+xml;base64,PHN2ZyB4bWxucz0iaHR0cDovL3d3dy53My5vcmcvMjAwMC9zdmciIHN0eWxlPSJtYXJnaW46IGF1dG87IGJhY2tncm91bmQ6IG5vbmU7IGRpc3BsYXk6IGJsb2NrOyBzaGFwZS1yZW5kZXJpbmc6IGF1dG87IiB2aWV3Qm94PSIwIDAgMTAwIDEwMCIgcHJlc2VydmVBc3BlY3RSYXRpbz0ieE1pZFlNaWQiPiAgPGNpcmNsZSBjeD0iNTAiIGN5PSI1MCIgZmlsbD0ibm9uZSIgc3Ryb2tlPSIjYzNjM2MzIiBzdHJva2Utd2lkdGg9IjEwIiByPSIzNSIgc3Ryb2tlLWRhc2hhcnJheT0iMTY0LjkzMzYxNDMxMzQ2NDE1IDU2Ljk3Nzg3MTQzNzgyMTM4Ij4gICAgPGFuaW1hdGVUcmFuc2Zvcm0gYXR0cmlidXRlTmFtZT0idHJhbnNmb3JtIiB0eXBlPSJyb3RhdGUiIHJlcGVhdENvdW50PSJpbmRlZmluaXRlIiBkdXI9IjFzIiB2YWx1ZXM9IjAgNTAgNTA7MzYwIDUwIDUwIiBrZXlUaW1lcz0iMDsxIj48L2FuaW1hdGVUcmFuc2Zvcm0+ICA8L2NpcmNsZT48L3N2Zz4=\\\");\\n  background-size: auto calc(min(50%, 400px));\\n}\",{\"type\":\"object\",\"name\":\"ImportedStyleSheet\",\"id\":\"p5312\",\"attributes\":{\"url\":\"https://cdn.holoviz.org/panel/1.2.0/dist/css/loading.css\"}},{\"type\":\"object\",\"name\":\"ImportedStyleSheet\",\"id\":\"p5450\",\"attributes\":{\"url\":\"https://cdn.holoviz.org/panel/1.2.0/dist/css/listpanel.css\"}},{\"type\":\"object\",\"name\":\"ImportedStyleSheet\",\"id\":\"p5310\",\"attributes\":{\"url\":\"https://cdn.holoviz.org/panel/1.2.0/dist/bundled/theme/default.css\"}},{\"type\":\"object\",\"name\":\"ImportedStyleSheet\",\"id\":\"p5311\",\"attributes\":{\"url\":\"https://cdn.holoviz.org/panel/1.2.0/dist/bundled/theme/native.css\"}}],\"margin\":0,\"sizing_mode\":\"stretch_width\",\"align\":\"start\",\"children\":[{\"type\":\"object\",\"name\":\"Spacer\",\"id\":\"p5313\",\"attributes\":{\"name\":\"HSpacer15436\",\"stylesheets\":[\"\\n:host(.pn-loading.pn-arc):before, .pn-loading.pn-arc:before {\\n  background-image: url(\\\"data:image/svg+xml;base64,PHN2ZyB4bWxucz0iaHR0cDovL3d3dy53My5vcmcvMjAwMC9zdmciIHN0eWxlPSJtYXJnaW46IGF1dG87IGJhY2tncm91bmQ6IG5vbmU7IGRpc3BsYXk6IGJsb2NrOyBzaGFwZS1yZW5kZXJpbmc6IGF1dG87IiB2aWV3Qm94PSIwIDAgMTAwIDEwMCIgcHJlc2VydmVBc3BlY3RSYXRpbz0ieE1pZFlNaWQiPiAgPGNpcmNsZSBjeD0iNTAiIGN5PSI1MCIgZmlsbD0ibm9uZSIgc3Ryb2tlPSIjYzNjM2MzIiBzdHJva2Utd2lkdGg9IjEwIiByPSIzNSIgc3Ryb2tlLWRhc2hhcnJheT0iMTY0LjkzMzYxNDMxMzQ2NDE1IDU2Ljk3Nzg3MTQzNzgyMTM4Ij4gICAgPGFuaW1hdGVUcmFuc2Zvcm0gYXR0cmlidXRlTmFtZT0idHJhbnNmb3JtIiB0eXBlPSJyb3RhdGUiIHJlcGVhdENvdW50PSJpbmRlZmluaXRlIiBkdXI9IjFzIiB2YWx1ZXM9IjAgNTAgNTA7MzYwIDUwIDUwIiBrZXlUaW1lcz0iMDsxIj48L2FuaW1hdGVUcmFuc2Zvcm0+ICA8L2NpcmNsZT48L3N2Zz4=\\\");\\n  background-size: auto calc(min(50%, 400px));\\n}\",{\"id\":\"p5312\"},{\"id\":\"p5310\"},{\"id\":\"p5311\"}],\"margin\":0,\"sizing_mode\":\"stretch_width\",\"align\":\"start\"}},{\"type\":\"object\",\"name\":\"GridPlot\",\"id\":\"p5412\",\"attributes\":{\"rows\":null,\"cols\":null,\"toolbar\":{\"type\":\"object\",\"name\":\"Toolbar\",\"id\":\"p5432\",\"attributes\":{\"tools\":[{\"type\":\"object\",\"name\":\"HoverTool\",\"id\":\"p5316\",\"attributes\":{\"tags\":[\"hv_created\"],\"renderers\":[{\"type\":\"object\",\"name\":\"GlyphRenderer\",\"id\":\"p5375\",\"attributes\":{\"data_source\":{\"type\":\"object\",\"name\":\"ColumnDataSource\",\"id\":\"p5362\",\"attributes\":{\"selected\":{\"type\":\"object\",\"name\":\"Selection\",\"id\":\"p5364\",\"attributes\":{\"indices\":[],\"line_indices\":[]}},\"selection_policy\":{\"type\":\"object\",\"name\":\"UnionRenderers\",\"id\":\"p5363\"},\"data\":{\"type\":\"map\",\"entries\":[[\"x\",[-0.5]],[\"y\",[-0.5]],[\"dw\",[63.0]],[\"dh\",[63.0]],[\"image\",[{\"type\":\"ndarray\",\"array\":{\"type\":\"bytes\",\"data\":\"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\"},\"shape\":[63,63],\"dtype\":\"float64\",\"order\":\"little\"}]]]}}},\"view\":{\"type\":\"object\",\"name\":\"CDSView\",\"id\":\"p5376\",\"attributes\":{\"filter\":{\"type\":\"object\",\"name\":\"AllIndices\",\"id\":\"p5377\"}}},\"glyph\":{\"type\":\"object\",\"name\":\"Image\",\"id\":\"p5369\",\"attributes\":{\"tags\":[\"apply_ranges\"],\"x\":{\"type\":\"field\",\"field\":\"x\"},\"y\":{\"type\":\"field\",\"field\":\"y\"},\"dw\":{\"type\":\"field\",\"field\":\"dw\"},\"dh\":{\"type\":\"field\",\"field\":\"dh\"},\"image\":{\"type\":\"field\",\"field\":\"image\"},\"color_mapper\":{\"type\":\"object\",\"name\":\"LinearColorMapper\",\"id\":\"p5361\",\"attributes\":{\"palette\":[\"#440154\",\"#440255\",\"#440357\",\"#450558\",\"#45065a\",\"#45085b\",\"#46095c\",\"#460b5e\",\"#460c5f\",\"#460e61\",\"#470f62\",\"#471163\",\"#471265\",\"#471466\",\"#471567\",\"#471669\",\"#47186a\",\"#48196b\",\"#481a6c\",\"#481c6e\",\"#481d6f\",\"#481e70\",\"#482071\",\"#482172\",\"#482273\",\"#482374\",\"#472575\",\"#472676\",\"#472777\",\"#472878\",\"#472a79\",\"#472b7a\",\"#472c7b\",\"#462d7c\",\"#462f7c\",\"#46307d\",\"#46317e\",\"#45327f\",\"#45347f\",\"#453580\",\"#453681\",\"#443781\",\"#443982\",\"#433a83\",\"#433b83\",\"#433c84\",\"#423d84\",\"#423e85\",\"#424085\",\"#414186\",\"#414286\",\"#404387\",\"#404487\",\"#3f4587\",\"#3f4788\",\"#3e4888\",\"#3e4989\",\"#3d4a89\",\"#3d4b89\",\"#3d4c89\",\"#3c4d8a\",\"#3c4e8a\",\"#3b508a\",\"#3b518a\",\"#3a528b\",\"#3a538b\",\"#39548b\",\"#39558b\",\"#38568b\",\"#38578c\",\"#37588c\",\"#37598c\",\"#365a8c\",\"#365b8c\",\"#355c8c\",\"#355d8c\",\"#345e8d\",\"#345f8d\",\"#33608d\",\"#33618d\",\"#32628d\",\"#32638d\",\"#31648d\",\"#31658d\",\"#31668d\",\"#30678d\",\"#30688d\",\"#2f698d\",\"#2f6a8d\",\"#2e6b8e\",\"#2e6c8e\",\"#2e6d8e\",\"#2d6e8e\",\"#2d6f8e\",\"#2c708e\",\"#2c718e\",\"#2c728e\",\"#2b738e\",\"#2b748e\",\"#2a758e\",\"#2a768e\",\"#2a778e\",\"#29788e\",\"#29798e\",\"#287a8e\",\"#287a8e\",\"#287b8e\",\"#277c8e\",\"#277d8e\",\"#277e8e\",\"#267f8e\",\"#26808e\",\"#26818e\",\"#25828e\",\"#25838d\",\"#24848d\",\"#24858d\",\"#24868d\",\"#23878d\",\"#23888d\",\"#23898d\",\"#22898d\",\"#228a8d\",\"#228b8d\",\"#218c8d\",\"#218d8c\",\"#218e8c\",\"#208f8c\",\"#20908c\",\"#20918c\",\"#1f928c\",\"#1f938b\",\"#1f948b\",\"#1f958b\",\"#1f968b\",\"#1e978a\",\"#1e988a\",\"#1e998a\",\"#1e998a\",\"#1e9a89\",\"#1e9b89\",\"#1e9c89\",\"#1e9d88\",\"#1e9e88\",\"#1e9f88\",\"#1ea087\",\"#1fa187\",\"#1fa286\",\"#1fa386\",\"#20a485\",\"#20a585\",\"#21a685\",\"#21a784\",\"#22a784\",\"#23a883\",\"#23a982\",\"#24aa82\",\"#25ab81\",\"#26ac81\",\"#27ad80\",\"#28ae7f\",\"#29af7f\",\"#2ab07e\",\"#2bb17d\",\"#2cb17d\",\"#2eb27c\",\"#2fb37b\",\"#30b47a\",\"#32b57a\",\"#33b679\",\"#35b778\",\"#36b877\",\"#38b976\",\"#39b976\",\"#3bba75\",\"#3dbb74\",\"#3ebc73\",\"#40bd72\",\"#42be71\",\"#44be70\",\"#45bf6f\",\"#47c06e\",\"#49c16d\",\"#4bc26c\",\"#4dc26b\",\"#4fc369\",\"#51c468\",\"#53c567\",\"#55c666\",\"#57c665\",\"#59c764\",\"#5bc862\",\"#5ec961\",\"#60c960\",\"#62ca5f\",\"#64cb5d\",\"#67cc5c\",\"#69cc5b\",\"#6bcd59\",\"#6dce58\",\"#70ce56\",\"#72cf55\",\"#74d054\",\"#77d052\",\"#79d151\",\"#7cd24f\",\"#7ed24e\",\"#81d34c\",\"#83d34b\",\"#86d449\",\"#88d547\",\"#8bd546\",\"#8dd644\",\"#90d643\",\"#92d741\",\"#95d73f\",\"#97d83e\",\"#9ad83c\",\"#9dd93a\",\"#9fd938\",\"#a2da37\",\"#a5da35\",\"#a7db33\",\"#aadb32\",\"#addc30\",\"#afdc2e\",\"#b2dd2c\",\"#b5dd2b\",\"#b7dd29\",\"#bade27\",\"#bdde26\",\"#bfdf24\",\"#c2df22\",\"#c5df21\",\"#c7e01f\",\"#cae01e\",\"#cde01d\",\"#cfe11c\",\"#d2e11b\",\"#d4e11a\",\"#d7e219\",\"#dae218\",\"#dce218\",\"#dfe318\",\"#e1e318\",\"#e4e318\",\"#e7e419\",\"#e9e419\",\"#ece41a\",\"#eee51b\",\"#f1e51c\",\"#f3e51e\",\"#f6e61f\",\"#f8e621\",\"#fae622\",\"#fde724\"],\"nan_color\":\"rgba(0, 0, 0, 0)\",\"low\":-0.34518447258582713,\"high\":0.42546261472194513}}}},\"selection_glyph\":{\"type\":\"object\",\"name\":\"Image\",\"id\":\"p5381\",\"attributes\":{\"tags\":[\"apply_ranges\"],\"x\":{\"type\":\"field\",\"field\":\"x\"},\"y\":{\"type\":\"field\",\"field\":\"y\"},\"dw\":{\"type\":\"field\",\"field\":\"dw\"},\"dh\":{\"type\":\"field\",\"field\":\"dh\"},\"global_alpha\":{\"type\":\"value\",\"value\":1.0},\"image\":{\"type\":\"field\",\"field\":\"image\"},\"color_mapper\":{\"id\":\"p5361\"}}},\"nonselection_glyph\":{\"type\":\"object\",\"name\":\"Image\",\"id\":\"p5371\",\"attributes\":{\"tags\":[\"apply_ranges\"],\"x\":{\"type\":\"field\",\"field\":\"x\"},\"y\":{\"type\":\"field\",\"field\":\"y\"},\"dw\":{\"type\":\"field\",\"field\":\"dw\"},\"dh\":{\"type\":\"field\",\"field\":\"dh\"},\"global_alpha\":{\"type\":\"value\",\"value\":0.1},\"image\":{\"type\":\"field\",\"field\":\"image\"},\"color_mapper\":{\"id\":\"p5361\"}}},\"muted_glyph\":{\"type\":\"object\",\"name\":\"Image\",\"id\":\"p5373\",\"attributes\":{\"tags\":[\"apply_ranges\"],\"x\":{\"type\":\"field\",\"field\":\"x\"},\"y\":{\"type\":\"field\",\"field\":\"y\"},\"dw\":{\"type\":\"field\",\"field\":\"dw\"},\"dh\":{\"type\":\"field\",\"field\":\"dh\"},\"global_alpha\":{\"type\":\"value\",\"value\":0.2},\"image\":{\"type\":\"field\",\"field\":\"image\"},\"color_mapper\":{\"id\":\"p5361\"}}}}}],\"tooltips\":[[\"x\",\"$x\"],[\"y\",\"$y\"],[\"z\",\"@image\"]]}},{\"type\":\"object\",\"name\":\"SaveTool\",\"id\":\"p5431\"},{\"type\":\"object\",\"name\":\"PanTool\",\"id\":\"p5348\"},{\"type\":\"object\",\"name\":\"WheelZoomTool\",\"id\":\"p5349\"},{\"type\":\"object\",\"name\":\"BoxZoomTool\",\"id\":\"p5350\",\"attributes\":{\"overlay\":{\"type\":\"object\",\"name\":\"BoxAnnotation\",\"id\":\"p5351\",\"attributes\":{\"syncable\":false,\"level\":\"overlay\",\"visible\":false,\"left_units\":\"canvas\",\"right_units\":\"canvas\",\"bottom_units\":\"canvas\",\"top_units\":\"canvas\",\"line_color\":\"black\",\"line_alpha\":1.0,\"line_width\":2,\"line_dash\":[4,4],\"fill_color\":\"lightgrey\",\"fill_alpha\":0.5}}}},{\"type\":\"object\",\"name\":\"ResetTool\",\"id\":\"p5352\"}]}},\"children\":[[{\"type\":\"object\",\"name\":\"Figure\",\"id\":\"p5317\",\"attributes\":{\"width\":400,\"height\":400,\"sizing_mode\":\"fixed\",\"align\":\"start\",\"x_range\":{\"type\":\"object\",\"name\":\"Range1d\",\"id\":\"p5314\",\"attributes\":{\"tags\":[[[\"x\",\"x\",null]]],\"start\":-0.5,\"end\":62.5,\"reset_start\":-0.5,\"reset_end\":62.5}},\"y_range\":{\"type\":\"object\",\"name\":\"Range1d\",\"id\":\"p5315\",\"attributes\":{\"tags\":[[[\"y\",\"y\",null]]],\"start\":-0.5,\"end\":62.5,\"reset_start\":-0.5,\"reset_end\":62.5}},\"x_scale\":{\"type\":\"object\",\"name\":\"LinearScale\",\"id\":\"p5329\"},\"y_scale\":{\"type\":\"object\",\"name\":\"LinearScale\",\"id\":\"p5331\"},\"title\":{\"type\":\"object\",\"name\":\"Title\",\"id\":\"p5320\",\"attributes\":{\"text_color\":\"black\",\"text_font_size\":\"12pt\"}},\"renderers\":[{\"id\":\"p5375\"}],\"toolbar\":{\"type\":\"object\",\"name\":\"Toolbar\",\"id\":\"p5322\",\"attributes\":{\"tools\":[{\"id\":\"p5316\"},{\"type\":\"object\",\"name\":\"SaveTool\",\"id\":\"p5347\"},{\"id\":\"p5348\"},{\"id\":\"p5349\"},{\"id\":\"p5350\"},{\"id\":\"p5352\"}],\"active_drag\":{\"id\":\"p5348\"},\"active_scroll\":{\"id\":\"p5349\"}}},\"toolbar_location\":null,\"left\":[{\"type\":\"object\",\"name\":\"LinearAxis\",\"id\":\"p5340\",\"attributes\":{\"ticker\":{\"type\":\"object\",\"name\":\"BasicTicker\",\"id\":\"p5342\",\"attributes\":{\"mantissas\":[1,2,5]}},\"formatter\":{\"type\":\"object\",\"name\":\"BasicTickFormatter\",\"id\":\"p5343\"},\"axis_label\":\"y\",\"major_label_policy\":{\"type\":\"object\",\"name\":\"AllLabels\",\"id\":\"p5341\"}}}],\"right\":[{\"type\":\"object\",\"name\":\"ColorBar\",\"id\":\"p5379\",\"attributes\":{\"location\":[0,0],\"width\":15,\"ticker\":{\"type\":\"object\",\"name\":\"BasicTicker\",\"id\":\"p5378\",\"attributes\":{\"mantissas\":[1,2,5]}},\"major_label_policy\":{\"type\":\"object\",\"name\":\"NoOverlap\",\"id\":\"p5380\"},\"label_standoff\":8,\"major_tick_line_color\":\"black\",\"bar_line_color\":\"black\",\"color_mapper\":{\"id\":\"p5361\"}}}],\"below\":[{\"type\":\"object\",\"name\":\"LinearAxis\",\"id\":\"p5333\",\"attributes\":{\"ticker\":{\"type\":\"object\",\"name\":\"BasicTicker\",\"id\":\"p5335\",\"attributes\":{\"mantissas\":[1,2,5]}},\"formatter\":{\"type\":\"object\",\"name\":\"BasicTickFormatter\",\"id\":\"p5336\"},\"axis_label\":\"x\",\"major_label_policy\":{\"type\":\"object\",\"name\":\"AllLabels\",\"id\":\"p5334\"}}}],\"center\":[{\"type\":\"object\",\"name\":\"Grid\",\"id\":\"p5339\",\"attributes\":{\"axis\":{\"id\":\"p5333\"},\"grid_line_color\":null}},{\"type\":\"object\",\"name\":\"Grid\",\"id\":\"p5346\",\"attributes\":{\"dimension\":1,\"axis\":{\"id\":\"p5340\"},\"grid_line_color\":null}}],\"min_border_top\":10,\"min_border_bottom\":10,\"min_border_left\":10,\"min_border_right\":10,\"output_backend\":\"webgl\"}},0,0]]}},{\"type\":\"object\",\"name\":\"Spacer\",\"id\":\"p5448\",\"attributes\":{\"name\":\"HSpacer15439\",\"stylesheets\":[\"\\n:host(.pn-loading.pn-arc):before, .pn-loading.pn-arc:before {\\n  background-image: url(\\\"data:image/svg+xml;base64,PHN2ZyB4bWxucz0iaHR0cDovL3d3dy53My5vcmcvMjAwMC9zdmciIHN0eWxlPSJtYXJnaW46IGF1dG87IGJhY2tncm91bmQ6IG5vbmU7IGRpc3BsYXk6IGJsb2NrOyBzaGFwZS1yZW5kZXJpbmc6IGF1dG87IiB2aWV3Qm94PSIwIDAgMTAwIDEwMCIgcHJlc2VydmVBc3BlY3RSYXRpbz0ieE1pZFlNaWQiPiAgPGNpcmNsZSBjeD0iNTAiIGN5PSI1MCIgZmlsbD0ibm9uZSIgc3Ryb2tlPSIjYzNjM2MzIiBzdHJva2Utd2lkdGg9IjEwIiByPSIzNSIgc3Ryb2tlLWRhc2hhcnJheT0iMTY0LjkzMzYxNDMxMzQ2NDE1IDU2Ljk3Nzg3MTQzNzgyMTM4Ij4gICAgPGFuaW1hdGVUcmFuc2Zvcm0gYXR0cmlidXRlTmFtZT0idHJhbnNmb3JtIiB0eXBlPSJyb3RhdGUiIHJlcGVhdENvdW50PSJpbmRlZmluaXRlIiBkdXI9IjFzIiB2YWx1ZXM9IjAgNTAgNTA7MzYwIDUwIDUwIiBrZXlUaW1lcz0iMDsxIj48L2FuaW1hdGVUcmFuc2Zvcm0+ICA8L2NpcmNsZT48L3N2Zz4=\\\");\\n  background-size: auto calc(min(50%, 400px));\\n}\",{\"id\":\"p5312\"},{\"id\":\"p5310\"},{\"id\":\"p5311\"}],\"margin\":0,\"sizing_mode\":\"stretch_width\",\"align\":\"start\"}}]}}],\"callbacks\":{\"type\":\"map\"}}};\n",
       "  var render_items = [{\"docid\":\"e499b61c-9a72-4ce0-bbee-2c48f9895091\",\"roots\":{\"p5309\":\"f8d6e062-3ca6-4aab-b914-5cc973d97004\"},\"root_ids\":[\"p5309\"]}];\n",
       "  var docs = Object.values(docs_json)\n",
       "  if (!docs) {\n",
       "    return\n",
       "  }\n",
       "  const py_version = docs[0].version.replace('rc', '-rc.').replace('.dev', '-dev.')\n",
       "  const is_dev = py_version.indexOf(\"+\") !== -1 || py_version.indexOf(\"-\") !== -1\n",
       "  function embed_document(root) {\n",
       "    var Bokeh = get_bokeh(root)\n",
       "    Bokeh.embed.embed_items_notebook(docs_json, render_items);\n",
       "    for (const render_item of render_items) {\n",
       "      for (const root_id of render_item.root_ids) {\n",
       "\tconst id_el = document.getElementById(root_id)\n",
       "\tif (id_el.children.length && (id_el.children[0].className === 'bk-root')) {\n",
       "\t  const root_el = id_el.children[0]\n",
       "\t  root_el.id = root_el.id + '-rendered'\n",
       "\t}\n",
       "      }\n",
       "    }\n",
       "  }\n",
       "  function get_bokeh(root) {\n",
       "    if (root.Bokeh === undefined) {\n",
       "      return null\n",
       "    } else if (root.Bokeh.version !== py_version && !is_dev) {\n",
       "      if (root.Bokeh.versions === undefined || !root.Bokeh.versions.has(py_version)) {\n",
       "\treturn null\n",
       "      }\n",
       "      return root.Bokeh.versions.get(py_version);\n",
       "    } else if (root.Bokeh.version === py_version) {\n",
       "      return root.Bokeh\n",
       "    }\n",
       "    return null\n",
       "  }\n",
       "  function is_loaded(root) {\n",
       "    var Bokeh = get_bokeh(root)\n",
       "    return (Bokeh != null && Bokeh.Panel !== undefined)\n",
       "  }\n",
       "  if (is_loaded(root)) {\n",
       "    embed_document(root);\n",
       "  } else {\n",
       "    var attempts = 0;\n",
       "    var timer = setInterval(function(root) {\n",
       "      if (is_loaded(root)) {\n",
       "        clearInterval(timer);\n",
       "        embed_document(root);\n",
       "      } else if (document.readyState == \"complete\") {\n",
       "        attempts++;\n",
       "        if (attempts > 200) {\n",
       "          clearInterval(timer);\n",
       "\t  var Bokeh = get_bokeh(root)\n",
       "\t  if (Bokeh == null || Bokeh.Panel == null) {\n",
       "            console.warn(\"Panel: ERROR: Unable to run Panel code because Bokeh or Panel library is missing\");\n",
       "\t  } else {\n",
       "\t    console.warn(\"Panel: WARNING: Attempting to render but not all required libraries could be resolved.\")\n",
       "\t    embed_document(root)\n",
       "\t  }\n",
       "        }\n",
       "      }\n",
       "    }, 25, root)\n",
       "  }\n",
       "})(window);</script>"
      ],
      "text/plain": [
       ":Layout\n",
       "   .Image.I :Image   [x,y]   (z)"
      ]
     },
     "execution_count": 191,
     "metadata": {
      "application/vnd.holoviews_exec.v0+json": {
       "id": "p5309"
      }
     },
     "output_type": "execute_result"
    }
   ],
   "source": [
    "plot_frames(frame_nofc, backend=\"bokeh\")"
   ]
  },
  {
   "cell_type": "code",
   "execution_count": 192,
   "metadata": {},
   "outputs": [
    {
     "data": {
      "application/javascript": "(function(root) {\n  function now() {\n    return new Date();\n  }\n\n  var force = true;\n  var py_version = '3.1.1'.replace('rc', '-rc.').replace('.dev', '-dev.');\n  var is_dev = py_version.indexOf(\"+\") !== -1 || py_version.indexOf(\"-\") !== -1;\n  var reloading = false;\n  var Bokeh = root.Bokeh;\n  var bokeh_loaded = Bokeh != null && (Bokeh.version === py_version || (Bokeh.versions !== undefined && Bokeh.versions.has(py_version)));\n\n  if (typeof (root._bokeh_timeout) === \"undefined\" || force) {\n    root._bokeh_timeout = Date.now() + 5000;\n    root._bokeh_failed_load = false;\n  }\n\n  function run_callbacks() {\n    try {\n      root._bokeh_onload_callbacks.forEach(function(callback) {\n        if (callback != null)\n          callback();\n      });\n    } finally {\n      delete root._bokeh_onload_callbacks;\n    }\n    console.debug(\"Bokeh: all callbacks have finished\");\n  }\n\n  function load_libs(css_urls, js_urls, js_modules, js_exports, callback) {\n    if (css_urls == null) css_urls = [];\n    if (js_urls == null) js_urls = [];\n    if (js_modules == null) js_modules = [];\n    if (js_exports == null) js_exports = {};\n\n    root._bokeh_onload_callbacks.push(callback);\n\n    if (root._bokeh_is_loading > 0) {\n      console.debug(\"Bokeh: BokehJS is being loaded, scheduling callback at\", now());\n      return null;\n    }\n    if (js_urls.length === 0 && js_modules.length === 0 && Object.keys(js_exports).length === 0) {\n      run_callbacks();\n      return null;\n    }\n    if (!reloading) {\n      console.debug(\"Bokeh: BokehJS not loaded, scheduling load and callback at\", now());\n    }\n\n    function on_load() {\n      root._bokeh_is_loading--;\n      if (root._bokeh_is_loading === 0) {\n        console.debug(\"Bokeh: all BokehJS libraries/stylesheets loaded\");\n        run_callbacks()\n      }\n    }\n    window._bokeh_on_load = on_load\n\n    function on_error() {\n      console.error(\"failed to load \" + url);\n    }\n\n    var skip = [];\n    if (window.requirejs) {\n      window.requirejs.config({'packages': {}, 'paths': {'jspanel': 'https://cdn.jsdelivr.net/npm/jspanel4@4.12.0/dist/jspanel', 'jspanel-modal': 'https://cdn.jsdelivr.net/npm/jspanel4@4.12.0/dist/extensions/modal/jspanel.modal', 'jspanel-tooltip': 'https://cdn.jsdelivr.net/npm/jspanel4@4.12.0/dist/extensions/tooltip/jspanel.tooltip', 'jspanel-hint': 'https://cdn.jsdelivr.net/npm/jspanel4@4.12.0/dist/extensions/hint/jspanel.hint', 'jspanel-layout': 'https://cdn.jsdelivr.net/npm/jspanel4@4.12.0/dist/extensions/layout/jspanel.layout', 'jspanel-contextmenu': 'https://cdn.jsdelivr.net/npm/jspanel4@4.12.0/dist/extensions/contextmenu/jspanel.contextmenu', 'jspanel-dock': 'https://cdn.jsdelivr.net/npm/jspanel4@4.12.0/dist/extensions/dock/jspanel.dock', 'gridstack': 'https://cdn.jsdelivr.net/npm/gridstack@7.2.3/dist/gridstack-all', 'notyf': 'https://cdn.jsdelivr.net/npm/notyf@3/notyf.min'}, 'shim': {'jspanel': {'exports': 'jsPanel'}, 'gridstack': {'exports': 'GridStack'}}});\n      require([\"jspanel\"], function(jsPanel) {\n\twindow.jsPanel = jsPanel\n\ton_load()\n      })\n      require([\"jspanel-modal\"], function() {\n\ton_load()\n      })\n      require([\"jspanel-tooltip\"], function() {\n\ton_load()\n      })\n      require([\"jspanel-hint\"], function() {\n\ton_load()\n      })\n      require([\"jspanel-layout\"], function() {\n\ton_load()\n      })\n      require([\"jspanel-contextmenu\"], function() {\n\ton_load()\n      })\n      require([\"jspanel-dock\"], function() {\n\ton_load()\n      })\n      require([\"gridstack\"], function(GridStack) {\n\twindow.GridStack = GridStack\n\ton_load()\n      })\n      require([\"notyf\"], function() {\n\ton_load()\n      })\n      root._bokeh_is_loading = css_urls.length + 9;\n    } else {\n      root._bokeh_is_loading = css_urls.length + js_urls.length + js_modules.length + Object.keys(js_exports).length;\n    }\n\n    var existing_stylesheets = []\n    var links = document.getElementsByTagName('link')\n    for (var i = 0; i < links.length; i++) {\n      var link = links[i]\n      if (link.href != null) {\n\texisting_stylesheets.push(link.href)\n      }\n    }\n    for (var i = 0; i < css_urls.length; i++) {\n      var url = css_urls[i];\n      if (existing_stylesheets.indexOf(url) !== -1) {\n\ton_load()\n\tcontinue;\n      }\n      const element = document.createElement(\"link\");\n      element.onload = on_load;\n      element.onerror = on_error;\n      element.rel = \"stylesheet\";\n      element.type = \"text/css\";\n      element.href = url;\n      console.debug(\"Bokeh: injecting link tag for BokehJS stylesheet: \", url);\n      document.body.appendChild(element);\n    }    if (((window['jsPanel'] !== undefined) && (!(window['jsPanel'] instanceof HTMLElement))) || window.requirejs) {\n      var urls = ['https://cdn.holoviz.org/panel/1.2.0/dist/bundled/floatpanel/jspanel4@4.12.0/dist/jspanel.js', 'https://cdn.holoviz.org/panel/1.2.0/dist/bundled/floatpanel/jspanel4@4.12.0/dist/extensions/modal/jspanel.modal.js', 'https://cdn.holoviz.org/panel/1.2.0/dist/bundled/floatpanel/jspanel4@4.12.0/dist/extensions/tooltip/jspanel.tooltip.js', 'https://cdn.holoviz.org/panel/1.2.0/dist/bundled/floatpanel/jspanel4@4.12.0/dist/extensions/hint/jspanel.hint.js', 'https://cdn.holoviz.org/panel/1.2.0/dist/bundled/floatpanel/jspanel4@4.12.0/dist/extensions/layout/jspanel.layout.js', 'https://cdn.holoviz.org/panel/1.2.0/dist/bundled/floatpanel/jspanel4@4.12.0/dist/extensions/contextmenu/jspanel.contextmenu.js', 'https://cdn.holoviz.org/panel/1.2.0/dist/bundled/floatpanel/jspanel4@4.12.0/dist/extensions/dock/jspanel.dock.js'];\n      for (var i = 0; i < urls.length; i++) {\n        skip.push(urls[i])\n      }\n    }    if (((window['GridStack'] !== undefined) && (!(window['GridStack'] instanceof HTMLElement))) || window.requirejs) {\n      var urls = ['https://cdn.holoviz.org/panel/1.2.0/dist/bundled/gridstack/gridstack@7.2.3/dist/gridstack-all.js'];\n      for (var i = 0; i < urls.length; i++) {\n        skip.push(urls[i])\n      }\n    }    if (((window['Notyf'] !== undefined) && (!(window['Notyf'] instanceof HTMLElement))) || window.requirejs) {\n      var urls = ['https://cdn.holoviz.org/panel/1.2.0/dist/bundled/notificationarea/notyf@3/notyf.min.js'];\n      for (var i = 0; i < urls.length; i++) {\n        skip.push(urls[i])\n      }\n    }    var existing_scripts = []\n    var scripts = document.getElementsByTagName('script')\n    for (var i = 0; i < scripts.length; i++) {\n      var script = scripts[i]\n      if (script.src != null) {\n\texisting_scripts.push(script.src)\n      }\n    }\n    for (var i = 0; i < js_urls.length; i++) {\n      var url = js_urls[i];\n      if (skip.indexOf(url) !== -1 || existing_scripts.indexOf(url) !== -1) {\n\tif (!window.requirejs) {\n\t  on_load();\n\t}\n\tcontinue;\n      }\n      var element = document.createElement('script');\n      element.onload = on_load;\n      element.onerror = on_error;\n      element.async = false;\n      element.src = url;\n      console.debug(\"Bokeh: injecting script tag for BokehJS library: \", url);\n      document.head.appendChild(element);\n    }\n    for (var i = 0; i < js_modules.length; i++) {\n      var url = js_modules[i];\n      if (skip.indexOf(url) !== -1 || existing_scripts.indexOf(url) !== -1) {\n\tif (!window.requirejs) {\n\t  on_load();\n\t}\n\tcontinue;\n      }\n      var element = document.createElement('script');\n      element.onload = on_load;\n      element.onerror = on_error;\n      element.async = false;\n      element.src = url;\n      element.type = \"module\";\n      console.debug(\"Bokeh: injecting script tag for BokehJS library: \", url);\n      document.head.appendChild(element);\n    }\n    for (const name in js_exports) {\n      var url = js_exports[name];\n      if (skip.indexOf(url) >= 0 || root[name] != null) {\n\tif (!window.requirejs) {\n\t  on_load();\n\t}\n\tcontinue;\n      }\n      var element = document.createElement('script');\n      element.onerror = on_error;\n      element.async = false;\n      element.type = \"module\";\n      console.debug(\"Bokeh: injecting script tag for BokehJS library: \", url);\n      element.textContent = `\n      import ${name} from \"${url}\"\n      window.${name} = ${name}\n      window._bokeh_on_load()\n      `\n      document.head.appendChild(element);\n    }\n    if (!js_urls.length && !js_modules.length) {\n      on_load()\n    }\n  };\n\n  function inject_raw_css(css) {\n    const element = document.createElement(\"style\");\n    element.appendChild(document.createTextNode(css));\n    document.body.appendChild(element);\n  }\n\n  var js_urls = [\"https://cdn.bokeh.org/bokeh/release/bokeh-3.1.1.min.js\", \"https://cdn.bokeh.org/bokeh/release/bokeh-gl-3.1.1.min.js\", \"https://cdn.bokeh.org/bokeh/release/bokeh-widgets-3.1.1.min.js\", \"https://cdn.bokeh.org/bokeh/release/bokeh-tables-3.1.1.min.js\", \"https://cdn.holoviz.org/panel/1.2.0/dist/panel.min.js\"];\n  var js_modules = [];\n  var js_exports = {};\n  var css_urls = [];\n  var inline_js = [    function(Bokeh) {\n      Bokeh.set_log_level(\"info\");\n    },\nfunction(Bokeh) {} // ensure no trailing comma for IE\n  ];\n\n  function run_inline_js() {\n    if ((root.Bokeh !== undefined) || (force === true)) {\n      for (var i = 0; i < inline_js.length; i++) {\n        inline_js[i].call(root, root.Bokeh);\n      }\n      // Cache old bokeh versions\n      if (Bokeh != undefined && !reloading) {\n\tvar NewBokeh = root.Bokeh;\n\tif (Bokeh.versions === undefined) {\n\t  Bokeh.versions = new Map();\n\t}\n\tif (NewBokeh.version !== Bokeh.version) {\n\t  Bokeh.versions.set(NewBokeh.version, NewBokeh)\n\t}\n\troot.Bokeh = Bokeh;\n      }} else if (Date.now() < root._bokeh_timeout) {\n      setTimeout(run_inline_js, 100);\n    } else if (!root._bokeh_failed_load) {\n      console.log(\"Bokeh: BokehJS failed to load within specified timeout.\");\n      root._bokeh_failed_load = true;\n    }\n    root._bokeh_is_initializing = false\n  }\n\n  function load_or_wait() {\n    // Implement a backoff loop that tries to ensure we do not load multiple\n    // versions of Bokeh and its dependencies at the same time.\n    // In recent versions we use the root._bokeh_is_initializing flag\n    // to determine whether there is an ongoing attempt to initialize\n    // bokeh, however for backward compatibility we also try to ensure\n    // that we do not start loading a newer (Panel>=1.0 and Bokeh>3) version\n    // before older versions are fully initialized.\n    if (root._bokeh_is_initializing && Date.now() > root._bokeh_timeout) {\n      root._bokeh_is_initializing = false;\n      root._bokeh_onload_callbacks = undefined;\n      console.log(\"Bokeh: BokehJS was loaded multiple times but one version failed to initialize.\");\n      load_or_wait();\n    } else if (root._bokeh_is_initializing || (typeof root._bokeh_is_initializing === \"undefined\" && root._bokeh_onload_callbacks !== undefined)) {\n      setTimeout(load_or_wait, 100);\n    } else {\n      Bokeh = root.Bokeh;\n      bokeh_loaded = Bokeh != null && (Bokeh.version === py_version || (Bokeh.versions !== undefined && Bokeh.versions.has(py_version)));\n      root._bokeh_is_initializing = true\n      root._bokeh_onload_callbacks = []\n      if (!reloading && (!bokeh_loaded || is_dev)) {\n\troot.Bokeh = undefined;\n      }\n      load_libs(css_urls, js_urls, js_modules, js_exports, function() {\n\tconsole.debug(\"Bokeh: BokehJS plotting callback run at\", now());\n\trun_inline_js();\n      });\n    }\n  }\n  // Give older versions of the autoload script a head-start to ensure\n  // they initialize before we start loading newer version.\n  setTimeout(load_or_wait, 100)\n}(window));",
      "application/vnd.holoviews_load.v0+json": ""
     },
     "metadata": {},
     "output_type": "display_data"
    },
    {
     "data": {
      "application/javascript": "\nif ((window.PyViz === undefined) || (window.PyViz instanceof HTMLElement)) {\n  window.PyViz = {comms: {}, comm_status:{}, kernels:{}, receivers: {}, plot_index: []}\n}\n\n\n    function JupyterCommManager() {\n    }\n\n    JupyterCommManager.prototype.register_target = function(plot_id, comm_id, msg_handler) {\n      if (window.comm_manager || ((window.Jupyter !== undefined) && (Jupyter.notebook.kernel != null))) {\n        var comm_manager = window.comm_manager || Jupyter.notebook.kernel.comm_manager;\n        comm_manager.register_target(comm_id, function(comm) {\n          comm.on_msg(msg_handler);\n        });\n      } else if ((plot_id in window.PyViz.kernels) && (window.PyViz.kernels[plot_id])) {\n        window.PyViz.kernels[plot_id].registerCommTarget(comm_id, function(comm) {\n          comm.onMsg = msg_handler;\n        });\n      } else if (typeof google != 'undefined' && google.colab.kernel != null) {\n        google.colab.kernel.comms.registerTarget(comm_id, (comm) => {\n          var messages = comm.messages[Symbol.asyncIterator]();\n          function processIteratorResult(result) {\n            var message = result.value;\n            console.log(message)\n            var content = {data: message.data, comm_id};\n            var buffers = []\n            for (var buffer of message.buffers || []) {\n              buffers.push(new DataView(buffer))\n            }\n            var metadata = message.metadata || {};\n            var msg = {content, buffers, metadata}\n            msg_handler(msg);\n            return messages.next().then(processIteratorResult);\n          }\n          return messages.next().then(processIteratorResult);\n        })\n      }\n    }\n\n    JupyterCommManager.prototype.get_client_comm = function(plot_id, comm_id, msg_handler) {\n      if (comm_id in window.PyViz.comms) {\n        return window.PyViz.comms[comm_id];\n      } else if (window.comm_manager || ((window.Jupyter !== undefined) && (Jupyter.notebook.kernel != null))) {\n        var comm_manager = window.comm_manager || Jupyter.notebook.kernel.comm_manager;\n        var comm = comm_manager.new_comm(comm_id, {}, {}, {}, comm_id);\n        if (msg_handler) {\n          comm.on_msg(msg_handler);\n        }\n      } else if ((plot_id in window.PyViz.kernels) && (window.PyViz.kernels[plot_id])) {\n        var comm = window.PyViz.kernels[plot_id].connectToComm(comm_id);\n        comm.open();\n        if (msg_handler) {\n          comm.onMsg = msg_handler;\n        }\n      } else if (typeof google != 'undefined' && google.colab.kernel != null) {\n        var comm_promise = google.colab.kernel.comms.open(comm_id)\n        comm_promise.then((comm) => {\n          window.PyViz.comms[comm_id] = comm;\n          if (msg_handler) {\n            var messages = comm.messages[Symbol.asyncIterator]();\n            function processIteratorResult(result) {\n              var message = result.value;\n              var content = {data: message.data};\n              var metadata = message.metadata || {comm_id};\n              var msg = {content, metadata}\n              msg_handler(msg);\n              return messages.next().then(processIteratorResult);\n            }\n            return messages.next().then(processIteratorResult);\n          }\n        }) \n        var sendClosure = (data, metadata, buffers, disposeOnDone) => {\n          return comm_promise.then((comm) => {\n            comm.send(data, metadata, buffers, disposeOnDone);\n          });\n        };\n        var comm = {\n          send: sendClosure\n        };\n      }\n      window.PyViz.comms[comm_id] = comm;\n      return comm;\n    }\n    window.PyViz.comm_manager = new JupyterCommManager();\n    \n\n\nvar JS_MIME_TYPE = 'application/javascript';\nvar HTML_MIME_TYPE = 'text/html';\nvar EXEC_MIME_TYPE = 'application/vnd.holoviews_exec.v0+json';\nvar CLASS_NAME = 'output';\n\n/**\n * Render data to the DOM node\n */\nfunction render(props, node) {\n  var div = document.createElement(\"div\");\n  var script = document.createElement(\"script\");\n  node.appendChild(div);\n  node.appendChild(script);\n}\n\n/**\n * Handle when a new output is added\n */\nfunction handle_add_output(event, handle) {\n  var output_area = handle.output_area;\n  var output = handle.output;\n  if ((output.data == undefined) || (!output.data.hasOwnProperty(EXEC_MIME_TYPE))) {\n    return\n  }\n  var id = output.metadata[EXEC_MIME_TYPE][\"id\"];\n  var toinsert = output_area.element.find(\".\" + CLASS_NAME.split(' ')[0]);\n  if (id !== undefined) {\n    var nchildren = toinsert.length;\n    var html_node = toinsert[nchildren-1].children[0];\n    html_node.innerHTML = output.data[HTML_MIME_TYPE];\n    var scripts = [];\n    var nodelist = html_node.querySelectorAll(\"script\");\n    for (var i in nodelist) {\n      if (nodelist.hasOwnProperty(i)) {\n        scripts.push(nodelist[i])\n      }\n    }\n\n    scripts.forEach( function (oldScript) {\n      var newScript = document.createElement(\"script\");\n      var attrs = [];\n      var nodemap = oldScript.attributes;\n      for (var j in nodemap) {\n        if (nodemap.hasOwnProperty(j)) {\n          attrs.push(nodemap[j])\n        }\n      }\n      attrs.forEach(function(attr) { newScript.setAttribute(attr.name, attr.value) });\n      newScript.appendChild(document.createTextNode(oldScript.innerHTML));\n      oldScript.parentNode.replaceChild(newScript, oldScript);\n    });\n    if (JS_MIME_TYPE in output.data) {\n      toinsert[nchildren-1].children[1].textContent = output.data[JS_MIME_TYPE];\n    }\n    output_area._hv_plot_id = id;\n    if ((window.Bokeh !== undefined) && (id in Bokeh.index)) {\n      window.PyViz.plot_index[id] = Bokeh.index[id];\n    } else {\n      window.PyViz.plot_index[id] = null;\n    }\n  } else if (output.metadata[EXEC_MIME_TYPE][\"server_id\"] !== undefined) {\n    var bk_div = document.createElement(\"div\");\n    bk_div.innerHTML = output.data[HTML_MIME_TYPE];\n    var script_attrs = bk_div.children[0].attributes;\n    for (var i = 0; i < script_attrs.length; i++) {\n      toinsert[toinsert.length - 1].childNodes[1].setAttribute(script_attrs[i].name, script_attrs[i].value);\n    }\n    // store reference to server id on output_area\n    output_area._bokeh_server_id = output.metadata[EXEC_MIME_TYPE][\"server_id\"];\n  }\n}\n\n/**\n * Handle when an output is cleared or removed\n */\nfunction handle_clear_output(event, handle) {\n  var id = handle.cell.output_area._hv_plot_id;\n  var server_id = handle.cell.output_area._bokeh_server_id;\n  if (((id === undefined) || !(id in PyViz.plot_index)) && (server_id !== undefined)) { return; }\n  var comm = window.PyViz.comm_manager.get_client_comm(\"hv-extension-comm\", \"hv-extension-comm\", function () {});\n  if (server_id !== null) {\n    comm.send({event_type: 'server_delete', 'id': server_id});\n    return;\n  } else if (comm !== null) {\n    comm.send({event_type: 'delete', 'id': id});\n  }\n  delete PyViz.plot_index[id];\n  if ((window.Bokeh !== undefined) & (id in window.Bokeh.index)) {\n    var doc = window.Bokeh.index[id].model.document\n    doc.clear();\n    const i = window.Bokeh.documents.indexOf(doc);\n    if (i > -1) {\n      window.Bokeh.documents.splice(i, 1);\n    }\n  }\n}\n\n/**\n * Handle kernel restart event\n */\nfunction handle_kernel_cleanup(event, handle) {\n  delete PyViz.comms[\"hv-extension-comm\"];\n  window.PyViz.plot_index = {}\n}\n\n/**\n * Handle update_display_data messages\n */\nfunction handle_update_output(event, handle) {\n  handle_clear_output(event, {cell: {output_area: handle.output_area}})\n  handle_add_output(event, handle)\n}\n\nfunction register_renderer(events, OutputArea) {\n  function append_mime(data, metadata, element) {\n    // create a DOM node to render to\n    var toinsert = this.create_output_subarea(\n    metadata,\n    CLASS_NAME,\n    EXEC_MIME_TYPE\n    );\n    this.keyboard_manager.register_events(toinsert);\n    // Render to node\n    var props = {data: data, metadata: metadata[EXEC_MIME_TYPE]};\n    render(props, toinsert[0]);\n    element.append(toinsert);\n    return toinsert\n  }\n\n  events.on('output_added.OutputArea', handle_add_output);\n  events.on('output_updated.OutputArea', handle_update_output);\n  events.on('clear_output.CodeCell', handle_clear_output);\n  events.on('delete.Cell', handle_clear_output);\n  events.on('kernel_ready.Kernel', handle_kernel_cleanup);\n\n  OutputArea.prototype.register_mime_type(EXEC_MIME_TYPE, append_mime, {\n    safe: true,\n    index: 0\n  });\n}\n\nif (window.Jupyter !== undefined) {\n  try {\n    var events = require('base/js/events');\n    var OutputArea = require('notebook/js/outputarea').OutputArea;\n    if (OutputArea.prototype.mime_types().indexOf(EXEC_MIME_TYPE) == -1) {\n      register_renderer(events, OutputArea);\n    }\n  } catch(err) {\n  }\n}\n",
      "application/vnd.holoviews_load.v0+json": ""
     },
     "metadata": {},
     "output_type": "display_data"
    },
    {
     "data": {
      "text/html": [
       "<style>*[data-root-id],\n",
       "*[data-root-id] > * {\n",
       "  box-sizing: border-box;\n",
       "  font-family: var(--jp-ui-font-family);\n",
       "  font-size: var(--jp-ui-font-size1);\n",
       "  color: var(--vscode-editor-foreground, var(--jp-ui-font-color1));\n",
       "}\n",
       "\n",
       "/* Override VSCode background color */\n",
       ".cell-output-ipywidget-background:has(\n",
       "    > .cell-output-ipywidget-background > .lm-Widget > *[data-root-id]\n",
       "  ),\n",
       ".cell-output-ipywidget-background:has(> .lm-Widget > *[data-root-id]) {\n",
       "  background-color: transparent !important;\n",
       "}\n",
       "</style>"
      ]
     },
     "metadata": {},
     "output_type": "display_data"
    },
    {
     "data": {
      "text/html": [
       "\n",
       "<div class=\"logo-block\">\n",
       "<img src='data:image/png;base64,iVBORw0KGgoAAAANSUhEUgAAAEAAAABACAYAAACqaXHeAAAABHNCSVQICAgIfAhkiAAAAAlwSFlz\n",
       "AAAB+wAAAfsBxc2miwAAABl0RVh0U29mdHdhcmUAd3d3Lmlua3NjYXBlLm9yZ5vuPBoAAA6zSURB\n",
       "VHic7ZtpeFRVmsf/5966taWqUlUJ2UioBBJiIBAwCZtog9IOgjqACsogKtqirT2ttt069nQ/zDzt\n",
       "tI4+CrJIREFaFgWhBXpUNhHZQoKBkIUASchWla1S+3ar7r1nPkDaCAnZKoQP/D7mnPOe9/xy76n3\n",
       "nFSAW9ziFoPFNED2LLK5wcyBDObkb8ZkxuaoSYlI6ZcOKq1eWFdedqNzGHQBk9RMEwFAASkk0Xw3\n",
       "ETacDNi2vtvc7L0ROdw0AjoSotQVkKSvHQz/wRO1lScGModBFbDMaNRN1A4tUBCS3lk7BWhQkgpD\n",
       "lG4852/+7DWr1R3uHAZVQDsbh6ZPN7CyxUrCzJMRouusj0ipRwD2uKm0Zn5d2dFwzX1TCGhnmdGo\n",
       "G62Nna+isiUqhkzuKrkQaJlPEv5mFl2fvGg2t/VnzkEV8F5ioioOEWkLG86fvbpthynjdhXYZziQ\n",
       "x1hC9J2NFyi8vCTt91Fh04KGip0AaG9zuCk2wQCVyoNU3Hjezee9bq92duzzTmxsRJoy+jEZZZYo\n",
       "GTKJ6SJngdJqAfRzpze0+jHreUtPc7gpBLQnIYK6BYp/uGhw9YK688eu7v95ysgshcg9qSLMo3JC\n",
       "4jqLKQFBgdKDPoQ+Pltb8dUyQLpeDjeVgI6EgLIQFT5tEl3rn2losHVsexbZ3EyT9wE1uGdkIPcy\n",
       "BGxn8QUq1QrA5nqW5i2tLqvrrM9NK6AdkVIvL9E9bZL/oyfMVd/jqvc8LylzRBKDJSzIExwhQzuL\n",
       "QYGQj4rHfFTc8mUdu3E7yoLtbTe9gI4EqVgVkug2i5+uXGo919ixbRog+3fTbQ8qJe4ZOYNfMoTI\n",
       "OoshUNosgO60AisX15aeI2PSIp5KiFLI9ubb1vV3Qb2ltwLakUCDAkWX7/nHKRmmGIl9VgYsUhJm\n",
       "2NXjKYADtM1ygne9QQDIXlk49FBstMKx66D1v4+XuQr7vqTe0VcBHQlRWiOCbmmSYe2SqtL6q5rJ\n",
       "zsTb7lKx3FKOYC4DoqyS/B5bvLPxvD9Qtf6saxYLQGJErmDOdOMr/zo96km1nElr8bmPOBwI9COv\n",
       "HnFPRIwmkSOv9kcAS4heRsidOkpeWBgZM+UBrTFAXNYL5Vf2ii9c1trNzpYdaoVil3WIc+wdk+gQ\n",
       "noie3ecCcxt9ITcLAPWt/laGEO/9U6PmzZkenTtsSMQ8uYywJVW+grCstAvCIaAdArAsIWkRDDs/\n",
       "KzLm2YcjY1Lv0UdW73HabE9n6V66cxSzfEmuJssTpKGVp+0vHq73FwL46eOjpMpbRAnNmJFrGJNu\n",
       "Ukf9Yrz+3rghiumCKNXXWPhLYcjxGsIpoCMsIRoFITkW8AuyM8jC1+/QLx4bozCEJIq38+1rtpR6\n",
       "V/yzb8eBlRb3fo5l783N0CWolAzJHaVNzkrTzlEp2bQ2q3TC5gn6wpnoQAmwSiGh2GitnTmVMc5O\n",
       "UyfKWUKCIsU7+fZDKwqdT6DDpvkzAX4/+AMFjk0tDp5GRXLpQ2MUmhgDp5gxQT8+Y7hyPsMi8uxF\n",
       "71H0oebujHALECjFKaW9Lm68n18wXp2kVzIcABytD5iXFzg+WVXkegpAsOOYziqo0OkK76GyquC3\n",
       "ltZAzMhhqlSNmmWTE5T6e3IN05ITFLM4GdN0vtZ3ob8Jh1NAKXFbm5PtLU/eqTSlGjkNAJjdgn/N\n",
       "aedXa0tdi7+t9G0FIF49rtMSEgAs1kDLkTPO7ebm4IUWeyh1bKomXqlgMG6kJmHcSM0clYLJ8XtR\n",
       "1GTnbV3F6I5wCGikAb402npp1h1s7LQUZZSMIfALFOuL3UUrfnS8+rez7v9qcold5tilgHbO1fjK\n",
       "9ubb17u9oshxzMiUBKXWqJNxd+fqb0tLVs4lILFnK71H0Ind7uiPgACVcFJlrb0tV6DzxqqTIhUM\n",
       "CwDf1/rrVhTa33/3pGPxJYdQ2l2cbgVcQSosdx8uqnDtbGjh9SlDVSMNWhlnilfqZk42Th2ZpLpf\n",
       "xrHec5e815zrr0dfBZSwzkZfqsv+1FS1KUknUwPARVvItfKUY+cn57yP7qv07UE3p8B2uhUwLk09\n",
       "e0SCOrK+hbdYHYLjRIl71wWzv9jpEoeOHhGRrJAzyEyNiJuUqX0g2sBN5kGK6y2Blp5M3lsB9Qh4\n",
       "y2Ja6x6+i0ucmKgwMATwhSjdUu49tKrQ/pvN5d53ml2CGwCmJipmKjgmyuaXzNeL2a0AkQ01Th5j\n",
       "2DktO3Jyk8f9vcOBQHV94OK+fPumJmvQHxJoWkaKWq9Vs+yUsbq0zGT1I4RgeH2b5wef7+c7bl8F\n",
       "eKgoHVVZa8ZPEORzR6sT1BzDUAD/d9F78e2Tzv99v8D+fLVTqAKAsbGamKey1Mt9Ann4eH3gTXTz\n",
       "idWtAJ8PQWOk7NzSeQn/OTHDuEikVF1R4z8BQCy+6D1aWRfY0tTGG2OM8rRoPaeIj5ZHzJxszElN\n",
       "VM8K8JS5WOfv8mzRnQAKoEhmt8gyPM4lU9SmBK1MCQBnW4KONT86v1hZ1PbwSXPw4JWussVjtH9Y\n",
       "NCoiL9UoH/6PSu8jFrfY2t36erQHXLIEakMi1SydmzB31h3GGXFDFNPaK8Rme9B79Ixrd0WN+1ij\n",
       "NRQ/doRmuFLBkHSTOm5GruG+pFjFdAmorG4IXH1Qua6ASniclfFtDYt+oUjKipPrCQB7QBQ2lrgP\n",
       "fFzm+9XWUtcqJ3/5vDLDpJ79XHZk3u8nGZ42qlj1+ydtbxysCezrydp6ugmipNJ7WBPB5tydY0jP\n",
       "HaVNzs3QzeE4ZpTbI+ZbnSFPbVOw9vsfnVvqWnirPyCNGD08IlqtYkh2hjZ5dErEQzoNm+6ykyOt\n",
       "Lt5/PQEuSRRKo22VkydK+vvS1XEKlhCJAnsqvcVvH7f/ZU2R67eXbMEGAMiIV5oWZWiWvz5Fv2xG\n",
       "sjqNJQRvn3Rs2lji/lNP19VjAQDgD7FHhujZB9OGqYxRkZxixgRDVlqS6uEOFaJUVu0rPFzctrnF\n",
       "JqijImVp8dEKVWyUXDk92zAuMZ6bFwpBU1HrOw6AdhQgUooChb0+ItMbWJitSo5Ws3IAOGEOtL53\n",
       "0vHZih9sC4vtofZ7Qu6523V/fmGcds1TY3V36pUsBwAbSlxnVh2xLfAD/IAIMDf7XYIkNmXfpp2l\n",
       "18rkAJAy9HKFaIr/qULkeQQKy9zf1JgDB2uaeFNGijo5QsUyacNUUTOnGO42xSnv4oOwpDi1zYkc\n",
       "efUc3I5Gk6PhyTuVKaOGyLUAYPGIoY9Pu/atL/L92+4q9wbflRJ2Trpm/jPjdBtfnqB/dIThcl8A\n",
       "KG7hbRuKnb8qsQsVvVlTrwQAQMUlf3kwJI24Z4JhPMtcfng5GcH49GsrxJpGvvHIaeem2ma+KSjQ\n",
       "lIwUdYyCY8j4dE1KzijNnIP2llF2wcXNnsoapw9XxsgYAl6k+KzUXbi2yP3KR2ecf6z3BFsBICdW\n",
       "nvnIaG3eHybqX7vbpEqUMT+9OL4Qpe8VON7dXuFd39v19FoAABRVePbGGuXTszO0P7tu6lghUonE\n",
       "llRdrhArLvmKdh9u29jcFiRRkfLUxBiFNiqSU9icoZQHo5mYBI1MBgBH6wMNb+U7Pnw337H4gi1Y\n",
       "ciWs+uks3Z9fztUvfzxTm9Ne8XXkvQLHNytOOZeiD4e0PgkAIAYCYknKUNUDSXEKzdWNpnil7r4p\n",
       "xqkjTarZMtk/K8TQ6Qve78qqvXurGwIJqcOUKfUWHsm8KGvxSP68YudXq4pcj39X49uOK2X142O0\n",
       "Tz5/u/7TVybqH0rSya6ZBwD21/gubbrgWdDgEOx9WUhfBaC2ibcEBYm7a7x+ukrBMNcEZggyR0TE\n",
       "T8zUPjikQ4VosQZbTpS4vqizBKvqmvjsqnpfzaZyx9JPiz1/bfGKdgD45XB1zoIMzYbfTdS/NClB\n",
       "Gct0USiY3YL/g0LHy/uq/Ef6uo5+n0R/vyhp17Klpge763f8rMu6YU/zrn2nml+2WtH+Z+5IAAFc\n",
       "2bUTdTDOSNa9+cQY7YLsOIXhevEkCvzph7a8laecz/Un/z4/Ae04XeL3UQb57IwU9ZDr9UuKVajv\n",
       "nxp1+1UVIo/LjztZkKH59fO3G/JemqCfmaCRqbqbd90ZZ8FfjtkfAyD0J/9+C2h1hDwsSxvGjNDc\n",
       "b4zk5NfrSwiQblLHzZhg+Jf4aPlUwpDqkQqa9nimbt1/TDH8OitGMaQnj+RJS6B1fbF7SY1TqO5v\n",
       "/v0WAADl1f7zokgS7s7VT2DZ7pegUjBM7mjtiDZbcN4j0YrHH0rXpCtY0qPX0cVL0rv5jv/ZXend\n",
       "0u/EESYBAFBU4T4Qa5TflZOhTe7pmKpaP8kCVUVw1+yhXfJWvn1P3hnXi33JsTN6PnP3hHZ8Z3/h\n",
       "aLHzmkNPuPj7Bc/F/Q38CwjTpSwQXgE4Vmwry9tpfq/ZFgqFMy4AVDtCvi8rvMvOmv0N4YwbVgEA\n",
       "sPM72/KVnzfspmH7HQGCRLG2yL1+z8XwvPcdCbsAANh+xPzstgMtxeGKt+6MK3/tacfvwhWvIwMi\n",
       "oKEBtm0H7W+UVfkc/Y1V0BhoPlDr/w1w/eu1vjIgAgDg22OtX6/eYfnEz/focrZTHAFR+PSs56/7\n",
       "q32nwpjazxgwAQCwcU/T62t3WL7r6/jVRa6/byp1rei+Z98ZUAEAhEPHPc8fKnTU9nbgtnOe8h0l\n",
       "9hcGIqmODLQAHCy2Xti6v/XNRivf43f4fFvIteu854+VHnR7q9tfBlwAAGz+pnndB9vM26UebAe8\n",
       "SLHujPOTPVW+rwY+sxskAAC2HrA8t2Vvc7ffP1r9o+vwR2dcr92InIAbKKC1FZ5tB1tf+/G8p8sv\n",
       "N/9Q5zd/XR34LYCwV5JdccMEAMDBk45DH243r/X4xGvqxFa/GNpS7n6rwOwNWwHVE26oAADYurf1\n",
       "zx/utOzt+DMKYM0p17YtZZ5VNzqfsB2HewG1WXE8PoZ7gOclbTIvynZf9JV+fqZtfgs/8F/Nu5rB\n",
       "EIBmJ+8QRMmpU7EzGRsf2FzuePqYRbzh/zE26EwdrT10f6r6o8HOYzCJB9Dpff8tbnGLG8L/A/WE\n",
       "roTBs2RqAAAAAElFTkSuQmCC'\n",
       "     style='height:25px; border-radius:12px; display: inline-block; float: left; vertical-align: middle'></img>\n",
       "\n",
       "\n",
       "\n",
       "\n",
       "  <img src='data:image/png;base64,iVBORw0KGgoAAAANSUhEUgAAACAAAAAgCAYAAABzenr0AAAABHNCSVQICAgIfAhkiAAAAAlwSFlz\n",
       "AAAFMAAABTABZarKtgAAABl0RVh0U29mdHdhcmUAd3d3Lmlua3NjYXBlLm9yZ5vuPBoAAArNSURB\n",
       "VFiFnVd5VFNXGv/ee0kgGyQhbFoXIKCFYEXEDVErTucMoKUOWA/VLsNSLPQgFTOdyrHPiIp1lFIQ\n",
       "OlaPShEG3EpPcQmISCuV1bQ1CLKIULeQhJA9JO+9+UMT0x5aPfOdc895373f/e7v/t537/ddBF5Q\n",
       "JBIJl81mJwCACEVRQBCEQhAEAQCgnghCURRCkmS7Wq2+WlJSYn0Rv8jzDHAcD0EQJIVGo5mFQuGF\n",
       "jIyMu39kq1KpkOrq6gU6nS6aIAiGzWY7VVBQ0P9/AcjNzWXy+fxcOp2uiY+Przm0d6+n8dblv/Fo\n",
       "kzM4SzYfPlRePvFnjnt6ehh1dXVv2mw2nlar/byoqMj8wgBwHBchCJIZEhJSeu1yHVi7vtu02t8+\n",
       "NykQ7BMWoOUMhXQsXLv5IQAwSJJEEASxcDicoeTk5DtCoZBy9XX69Gnv3t7ebJIky3EcH3guAKlU\n",
       "GoGiaOKWLVsOvhs7/9XXPMde3/IyIFbMnaPDuD5AUdQuOf2XlD0npTExMWYAgNbWVpZcLg8xGAzB\n",
       "JEnSvby82tPT052LaTQatLy8fBtJkt/s3Lnz5h8CwHFcRKPRNu/YsePAjh072KTs0IGCxRg8RgUB\n",
       "TGpSx6cmHgMAfNqN6Xa1GvJ/D35gYAAViURkcXHxUrPZHDRv3rxv4uLiDI7xPXv2bLdYLBUFBQWD\n",
       "jj7M8ZGbm8tkMpmSrKysQiaTScXGxtpqL7dManT6tcu5mgEWWJyOhicozpk+c3NsbKzNFcBbWWEf\n",
       "1Td9/upA30i3ZJv0h8bGxiSFQmFcuHDhOACAWCy+0d3dvX3lypUtzc3N9t8AiIuLk4SEhByLiooy\n",
       "AgAcO3ZsNlPgH3Cttb35JZo+bCYXIQAA9MDiUW7sWS1KN687w6Mera2twa2trfMvXboUOS28Pyb1\n",
       "U08McRtf/sXBSmt5cc35pqamVQqFwhoZGallMpnU/fv3e7RaberVq1d/AABAn1IfQqfTNRs3blQB\n",
       "AFy+fJk7Nja2XCKRnD3dNSorusPq6NfTPR+gPiEEoLRFXO1tS2+zavv27ReftjNttyr0S1/j0rUP\n",
       "PEJQwNwQYGgAACQSyXmNRhMtk8lYAAApKSlKDMP0+fn5QU4ACIKkxMfH1zjYuHnz5uspKSlOfdX7\n",
       "u68fvOePcCzKQR4YVCgATGfa/F3pnzaHWOAXSDyaMCqH2+r8VXErP3D+snXr1tV2dXW94dATExOr\n",
       "6XT6JgAAVCKRcDEMM4WHh9sAAHJyUqNu//wDymKx7AAAVVVVPiaTKXxByrYMvBsxEMSTwPXhuL+8\n",
       "e/fu9fv371+flvbemogYNz+TnsBOFEwMFO8/KzEYDKFVVVX+AAChoaGT7u7ud48ePRro0DEMs+bl\n",
       "5bFRNpud4O3tfdGBzq5uy/5wTUPM/q2zC9atmbVqeHg4Pi0t7WxGRoZFH5rw76I7LI8HqHfwPL7d\n",
       "rfVagzw1NfW81t4ePUfsP/OrnWZ6fPSuUqFQSEkkkrOjo6OvuQR5q0ajiXLoPj4+lzgcTjwKACLH\n",
       "9SqXy2kzhBO8haGo+UA2wZW+p880DxeveGt9aHx9fT09ctlq3sC0NT9e6xsbjuZblSxl7wKtVotM\n",
       "m6PnXvlmZJBtX91CEMQsxyJsNlteXl4udugIghAajQYFAEhPTx9AEGQOimGY8y4oLt63KlJkdB4t\n",
       "P282Z/c/dPrDH04ktJ9P2tfWXP3+2o1vHzunEp6Xq0lsGt08KzUrcSGTQ3n3XeefLCs5UqnT6Rap\n",
       "VCoEACA7O/snvV4f5gJooLa2NsihoygKKEVRzquTND2OCpttGXdG1tOxwOlgzdvE9v30rV+m3W5I\n",
       "2jfJNQmLH85QUUzPNTwvkAx0+vVGhq2/VV9fT+dyuZ01NTXOXQOA3fGxevXq2waDYY5r8KIoij5b\n",
       "jzB5Cz2oKdOo0erOm+1tVuVtBMZXElNMRJR1fvvjx9iPLQ/RjpuB0Xu/Vp7YmH1864YNG3oNBkPw\n",
       "VD7mzp1rJUnSzZUBmqsBggAgGFC/n6jVA+3WoN3tu1Gg39cg2tEx1Cg3CIJHsclxnl2HRorMN8Z0\n",
       "fRW+vr7GJ36Q56Z5h9BIknzGAMJWtvdQYs0EZe3/FSwqk5tpXEMb1JoYD+n8xRdQJl/fMPEgzKhS\n",
       "L40KCD7lGzg92qIyovpb3y/msT2un2psvFpWVvYyl8vtc1nDSXFXV5c7iqLOtEyS5LNBAADfWeKm\n",
       "Ly4uuvR1++sfv51/P5sfnHm2/Iy+mBmwsaHJbpt+Q0jHSS7TZ/PSNVkNJ/973OxtemD1s91CPb12\n",
       "h9MfvZsk5meo1eqo5ORkxTNWn7HR1tY2l8PhOAsUiqIolCRJcETtv/61qzNySYK5trZ2TCgUUiwW\n",
       "S1FSUhLR+bA/kAzwXcAbHa/cFhrTXrJ/v+7IkSPu3Je4Xm5eboJv2wba5QbO5fQwxhsP679Y+nFO\n",
       "jgAAoKSkJILFYjnBGI1G0YYNGwYBnqRoiqIQlKKojurq6gUAAAKBgKQoiuGYkJWVpTCZTOKmI1Xd\n",
       "HwnDcm+cOnOMw+H0FxYWbqpvqv/r9EV+bky+O+/QoUPiqJRt9JphTLFHbKBCR87tWL9EPN9oNIZn\n",
       "ZWUpXHaMCQQCEgCgsrIyEgBuoGq1+qpOp4t2GPH5/BvFxcVLHXpgYGDD8ePH/56Xl2cCAMjMzOxP\n",
       "S0s7pWfow4RCbz/fAF9RT0+P9yeffHJySSqev+9nxLD1FaAlTR8vlJ8vxxzsFhUVLRMIBB0OvwaD\n",
       "YRlFUdfQkpISK0EQ9J6eHgYAQEZGxl2z2Rw0MjJCBwBITk5+xOVyfzpw4ECSw5lQKKQIbxtJm4EN\n",
       "8eZ7jPz0oNv+dK5FG/jq54eH+IFr/S1KabBy0UerAvI+++wzD4vFEpCWljYEACCTyVh2ux3FcXwS\n",
       "BQCw2WxVdXV1bzrQRURE1FVVVTn1zMzM/pkzZ35/9OjRd0pLS19RqVQIy4/tCwDgOcPTQvFQEQBA\n",
       "aWnpK0ERK2LbyVllN341GUJ4YDu8zD5bKyur7O+85tx9Z2fnO1ar9QjA04KkpaVFs2LFir8olcq7\n",
       "YWFhJpFINNnX16drbGyMjY6Ovg0AIBaLjcuXL5d3d3d7XbhwIW704b3F479MeD1qVfJ5Og/bvb4R\n",
       "LwaDMZabm9uwflNa/z/3HOIv5NsDEK7XS7FeevXPvYNLvm5S/GglCK5KpZorlUobXE8g5ObmMqVS\n",
       "6UG1Wu1BURSHoijOiRMnwgoLC7coFAqBo+9Fm0KhEKStmvvto3TeucFN7pVJYbytarXaQyqVHsRx\n",
       "3N15TF1BuBaljr4rV66wOzo63mAymXdzcnKuwwtIUVHRMqvVGkgQxMV7NXvyJijGvcNXB/7z5Zdf\n",
       "bicI4gSO40NTAgD4bVnuODIAT2pElUq1FEEQO4fD6QsPD++fqixHEATj8/ntjoCrqKhwS0hIsJWV\n",
       "leURBHEOx3G563pT3tn5+flBDAbjg6CgoMMpKSlK17GhoSFMJpMFPk04DJIkEQzDzCwW6+5UD5Oa\n",
       "mhrfO3fufECS5GHXnf8pAAAAHMfdURTdimGYPjExsTo0NHTyj2ynEplMxurs7HyHIAiKJMlSHMct\n",
       "U9k9N2vl5+cH0en0TRiGWX18fC65vnh+LxqNBq2oqFhgMpmi7XY7arVaj+zdu/fxn/l/4bSZl5fH\n",
       "5nK5CQAQMtXznCRJePpEbwOAZhzHX4ix/wHzzC/tu64gcwAAAABJRU5ErkJggg=='\n",
       "       style='height:15px; border-radius:12px; display: inline-block; float: left'></img>\n",
       "  \n",
       "\n",
       "\n",
       "</div>\n"
      ]
     },
     "metadata": {},
     "output_type": "display_data"
    },
    {
     "name": "stdout",
     "output_type": "stream",
     "text": [
      ":Dataset   [x,y,time,lambda]   (flux)\n",
      ":Cube_shape\t[63, 63, 30, 15]\n"
     ]
    },
    {
     "data": {
      "application/vnd.jupyter.widget-view+json": {
       "model_id": "8ea58956ecc14519be7cda8be6712525",
       "version_major": 2,
       "version_minor": 0
      },
      "text/plain": [
       "BokehModel(combine_events=True, render_bundle={'docs_json': {'72ae7cfb-bac8-4396-9c9d-50a8720060dd': {'version…"
      ]
     },
     "execution_count": 192,
     "metadata": {},
     "output_type": "execute_result"
    }
   ],
   "source": [
    "plot_cubes(fc_map_all)"
   ]
  },
  {
   "cell_type": "code",
   "execution_count": null,
   "metadata": {},
   "outputs": [],
   "source": []
  }
 ],
 "metadata": {
  "kernelspec": {
   "display_name": "astro",
   "language": "python",
   "name": "python3"
  },
  "language_info": {
   "codemirror_mode": {
    "name": "ipython",
    "version": 3
   },
   "file_extension": ".py",
   "mimetype": "text/x-python",
   "name": "python",
   "nbconvert_exporter": "python",
   "pygments_lexer": "ipython3",
   "version": "3.9.16"
  },
  "orig_nbformat": 4
 },
 "nbformat": 4,
 "nbformat_minor": 2
}
